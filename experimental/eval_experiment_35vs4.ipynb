{
 "cells": [
  {
   "cell_type": "code",
   "execution_count": 1,
   "id": "c191c675-ff1b-4ff1-b37b-de31cf8ca354",
   "metadata": {},
   "outputs": [
    {
     "name": "stdout",
     "output_type": "stream",
     "text": [
      "The autoreload extension is already loaded. To reload it, use:\n",
      "  %reload_ext autoreload\n"
     ]
    }
   ],
   "source": [
    "%load_ext autoreload \n",
    "%autoreload 2\n",
    "\n",
    "import sys\n",
    "sys.path.append('../')\n",
    "\n",
    "from dotenv import load_dotenv, find_dotenv\n",
    "_ = load_dotenv(find_dotenv(), override=True)"
   ]
  },
  {
   "cell_type": "code",
   "execution_count": 4,
   "id": "bd5ea2ba-43d6-4a14-aed3-a4be1c1bf1cb",
   "metadata": {},
   "outputs": [],
   "source": [
    "from tqdm import tqdm\n",
    "from warnings import filterwarnings\n",
    "filterwarnings('ignore')\n",
    "\n",
    "from src.database.weaviate_interface_v4 import WeaviateWCS\n",
    "from src.database.database_utils import get_weaviate_client\n",
    "from src.preprocessor.preprocessing import FileIO\n",
    "from src.reranker import ReRanker\n",
    "from src.evaluation.llm_evaluation import AnswerCorrectnessMetric, EvalResponse, CustomAzureOpenAI, CustomAnthropic\n",
    "from src.llm.llm_interface import LLM\n",
    "from src.llm.llm_utils import load_azure_openai\n",
    "from src.llm.prompt_templates import (huberman_system_message, question_answering_prompt_series,\n",
    "                                      create_context_blocks, generate_prompt_series)\n",
    "from deepeval.test_case import LLMTestCase\n",
    "from deepeval.models import DeepEvalBaseLLM\n",
    "from deepeval import evaluate\n",
    "\n",
    "import aiometer\n",
    "import nest_asyncio\n",
    "import asyncio \n",
    "nest_asyncio.apply()"
   ]
  },
  {
   "cell_type": "markdown",
   "id": "976cec42-7bfe-44eb-bdf9-8ea9df2c5961",
   "metadata": {},
   "source": [
    "### Load Data"
   ]
  },
  {
   "cell_type": "code",
   "execution_count": 5,
   "id": "db4e5095-e559-4858-93db-c4f1ce22a614",
   "metadata": {},
   "outputs": [],
   "source": [
    "data_path = '../data/golden_datasets/golden_256.json'\n",
    "data = FileIO().load_json(data_path)\n",
    "queries = list(data['queries'].values())"
   ]
  },
  {
   "cell_type": "markdown",
   "id": "5a507c92-439a-4a0b-bf51-7451be4d46b3",
   "metadata": {},
   "source": [
    "### Set Components"
   ]
  },
  {
   "cell_type": "code",
   "execution_count": 6,
   "id": "95d8c2c3-0a9a-4dbe-813b-1135491cd565",
   "metadata": {},
   "outputs": [
    {
     "data": {
      "text/plain": [
       "{'cohere': ['command-r', 'command-r-plus'],\n",
       " 'anthropic': ['claude-3-haiku-20240307',\n",
       "  'claude-3-sonnet-2024022',\n",
       "  'claude-3-opus-20240229'],\n",
       " 'openai': ['gpt-4-turbo-preview',\n",
       "  'gpt-4-0125-preview',\n",
       "  'gpt-4-1106-preview',\n",
       "  'gpt-4',\n",
       "  'gpt-4-0613',\n",
       "  'gpt-3.5-turbo',\n",
       "  'gpt-3.5-turbo-1106',\n",
       "  'gpt-3.5-turbo-0125']}"
      ]
     },
     "execution_count": 6,
     "metadata": {},
     "output_type": "execute_result"
    }
   ],
   "source": [
    "LLM.valid_models"
   ]
  },
  {
   "cell_type": "code",
   "execution_count": 7,
   "id": "17120ee3-7221-43f9-886a-edc729645028",
   "metadata": {},
   "outputs": [],
   "source": [
    "client = get_weaviate_client()\n",
    "collection_name = 'Huberman_minilm_256'\n",
    "reranker= ReRanker()\n",
    "llm = load_azure_openai()\n",
    "eval_gpt4 = 'gpt-4-0125-preview'\n",
    "\n",
    "turbo_eval_model = CustomAzureOpenAI('gpt-35-turbo')\n",
    "azure_eval_model = CustomAzureOpenAI('gpt-4')\n",
    "anthro_eval_model = CustomAnthropic(model='claude-3-sonnet-20240229')"
   ]
  },
  {
   "cell_type": "markdown",
   "id": "fe354294-c5fc-41bc-8591-8aa93a8dffec",
   "metadata": {},
   "source": [
    "### Define TestCase acquisition functions"
   ]
  },
  {
   "cell_type": "code",
   "execution_count": 8,
   "id": "0b162baf-4dbf-42b7-a4b7-b007b0b4757e",
   "metadata": {},
   "outputs": [],
   "source": [
    "async def aget_actual_outputs(user_messages: list[str]):\n",
    "    tasks = [llm.achat_completion(huberman_system_message, user_message, temperature=1.0) for user_message in user_messages]\n",
    "    responses = await asyncio.gather(*tasks)\n",
    "    return responses"
   ]
  },
  {
   "cell_type": "code",
   "execution_count": 9,
   "id": "219b4163-f476-4e58-81b9-064cce240881",
   "metadata": {},
   "outputs": [],
   "source": [
    "async def acreate_test_cases( queries: list[str],\n",
    "                              client: WeaviateWCS,\n",
    "                              collection_name: str,\n",
    "                              llm: LLM,\n",
    "                              ) -> list[LLMTestCase]:\n",
    "    '''\n",
    "    Creates a list of LLM Test Cases based on query retrievals. \n",
    "    '''\n",
    "    results = [client.hybrid_search(query, collection_name, limit=200) for query in tqdm(queries, 'QUERIES')]\n",
    "    reranked = [reranker.rerank(result, queries[i], top_k=3) for i, result in enumerate(tqdm(results, 'RERANKING'))]\n",
    "    user_messages = [generate_prompt_series(queries[i], rerank, 1) for i, rerank in enumerate(reranked)]\n",
    "    actual_outputs = await aget_actual_outputs(user_messages)\n",
    "    retrieval_contexts = [create_context_blocks(rerank) for rerank in reranked]\n",
    "    test_cases = [LLMTestCase(input=input, actual_output=output, retrieval_context=context) \\\n",
    "                  for input, output, context in list(zip(queries, actual_outputs, retrieval_contexts))]\n",
    "    return test_cases"
   ]
  },
  {
   "cell_type": "markdown",
   "id": "6ab10428-1ec8-4a4c-bc01-b5ee6eabf5c3",
   "metadata": {},
   "source": [
    "### Get Test Cases"
   ]
  },
  {
   "cell_type": "code",
   "execution_count": 79,
   "id": "cc1796e3-fe41-4bdf-a504-b161c30fde76",
   "metadata": {},
   "outputs": [],
   "source": [
    "fake_queries = ['Who is the Grand High Poo-baa', 'Is Samuel L. Jackson a Christian, and if so which denomination', \"What is Andy Huberman's middle name\"]\n",
    "fridman = ['Who is Lex Fridman']"
   ]
  },
  {
   "cell_type": "code",
   "execution_count": 13,
   "id": "d203ec8d-9664-45e7-8888-cb2d6ef79400",
   "metadata": {},
   "outputs": [
    {
     "name": "stderr",
     "output_type": "stream",
     "text": [
      "QUERIES: 100%|██████████████████████████████████████████████████████████████████████████████████████████████████████████████████████████| 3/3 [00:02<00:00,  1.38it/s]\n",
      "RERANKING: 100%|████████████████████████████████████████████████████████████████████████████████████████████████████████████████████████| 3/3 [00:00<00:00,  4.53it/s]\n"
     ]
    }
   ],
   "source": [
    "fake_test_cases = await acreate_test_cases(fake_queries, client, collection_name, llm)"
   ]
  },
  {
   "cell_type": "code",
   "execution_count": 80,
   "id": "25176173-b303-4964-89e7-575fd6726dba",
   "metadata": {},
   "outputs": [
    {
     "name": "stderr",
     "output_type": "stream",
     "text": [
      "QUERIES: 100%|█████████████████████████████████████████████████████████████████████████████████████████████████████████████████| 1/1 [00:00<00:00,  1.20it/s]\n",
      "RERANKING: 100%|███████████████████████████████████████████████████████████████████████████████████████████████████████████████| 1/1 [00:00<00:00,  4.24it/s]\n"
     ]
    }
   ],
   "source": [
    "test_cases = await acreate_test_cases(fridman, client, collection_name, llm)"
   ]
  },
  {
   "cell_type": "code",
   "execution_count": 81,
   "id": "b6c23c1e-95cf-42a8-b7e3-30077fd690c4",
   "metadata": {},
   "outputs": [
    {
     "data": {
      "text/plain": [
       "'Lex Fridman is an expert in electrical and computer engineering, artificial intelligence, and robotics. He hosts the Lex Fridman podcast, which covers a wide range of topics including technology, science, sports such as Brazilian Jiu-Jitsu, and mental health. He is known for engaging with various guests, spanning from scientists and engineers to comedians and friends, showcasing a diverse range of subjects and perspectives on his podcast. Additionally, Lex Fridman has been described as a thought leader who seeks to share the human experience and broaden knowledge for the benefit of all.'"
      ]
     },
     "execution_count": 81,
     "metadata": {},
     "output_type": "execute_result"
    }
   ],
   "source": [
    "test_cases[0].actual_output"
   ]
  },
  {
   "cell_type": "code",
   "execution_count": 12,
   "id": "1f296578-67e3-4a4b-aa5f-55edf53c1038",
   "metadata": {},
   "outputs": [],
   "source": [
    "#convert to list of dicts\n",
    "test_case_list = [test_case.__dict__ for test_case in test_cases]"
   ]
  },
  {
   "cell_type": "code",
   "execution_count": 13,
   "id": "ecd70c50-36a7-4b0c-9074-25ed64062016",
   "metadata": {},
   "outputs": [
    {
     "name": "stderr",
     "output_type": "stream",
     "text": [
      "\u001b[32m2024-05-01 00:28:06.071\u001b[0m | \u001b[1mINFO    \u001b[0m | \u001b[36msrc.preprocessor.preprocessing\u001b[0m:\u001b[36msave_as_json\u001b[0m:\u001b[36m111\u001b[0m - \u001b[1mData saved as json file here: ../data/test_cases_50_256.json\u001b[0m\n"
     ]
    }
   ],
   "source": [
    "# #save results to disk\n",
    "FileIO.save_as_json('../data/test_cases_50_256.json', test_case_list)\n",
    "# test_cases = FileIO.load_json('../data/test_cases_256.json')\n",
    "# test_cases = [LLMTestCase(input=tc['input'], actual_output=tc['actual_output'], retrieval_context=tc['retrieval_context'])\n",
    "#               for tc in test_cases]"
   ]
  },
  {
   "cell_type": "markdown",
   "id": "15989cb1-44e4-4b8f-8a9a-56ad3ed78eae",
   "metadata": {},
   "source": [
    "### Launch Testing"
   ]
  },
  {
   "cell_type": "code",
   "execution_count": 17,
   "id": "b541a81b-8c7a-4abe-b253-3a6558489ff1",
   "metadata": {},
   "outputs": [],
   "source": [
    "from src.evaluation.llm_evaluation import load_eval_response"
   ]
  },
  {
   "cell_type": "code",
   "execution_count": 55,
   "id": "fc5137c9-7c87-490c-b15f-9a93ed74ea9e",
   "metadata": {},
   "outputs": [],
   "source": [
    "async def asingle_eval_call(test_case: LLMTestCase,\n",
    "                            model: str | DeepEvalBaseLLM,\n",
    "                            metric: AnswerCorrectnessMetric,\n",
    "                            return_context_data: bool=True\n",
    "                            ) -> EvalResponse:\n",
    "    if metric == AnswerCorrectnessMetric:\n",
    "        metric = AnswerCorrectnessMetric(model)\n",
    "    await metric.a_measure(test_case)\n",
    "    response = load_eval_response(metric, test_case, return_context_data)\n",
    "    return response"
   ]
  },
  {
   "cell_type": "code",
   "execution_count": 57,
   "id": "5e9b2bb8-4094-4833-8196-8ed858ca8cc0",
   "metadata": {},
   "outputs": [],
   "source": [
    "async def asystem_evaluation(test_cases: list[LLMTestCase],\n",
    "                             model: DeepEvalBaseLLM,\n",
    "                             metric: AnswerCorrectnessMetric,\n",
    "                             return_context_data: bool=True\n",
    "                             ):\n",
    "    tasks = [asingle_eval_call(case, model, metric, return_context_data) for case in test_cases]\n",
    "    responses = await asyncio.gather(*tasks)\n",
    "    return responses"
   ]
  },
  {
   "cell_type": "code",
   "execution_count": 58,
   "id": "c723bed1-3f85-490b-87ad-69096e3dc9cd",
   "metadata": {
    "collapsed": true,
    "jupyter": {
     "outputs_hidden": true
    },
    "scrolled": true
   },
   "outputs": [
    {
     "data": {
      "application/vnd.jupyter.widget-view+json": {
       "model_id": "",
       "version_major": 2,
       "version_minor": 0
      },
      "text/plain": [
       "Output()"
      ]
     },
     "metadata": {},
     "output_type": "display_data"
    },
    {
     "data": {
      "application/vnd.jupyter.widget-view+json": {
       "model_id": "",
       "version_major": 2,
       "version_minor": 0
      },
      "text/plain": [
       "Output()"
      ]
     },
     "metadata": {},
     "output_type": "display_data"
    },
    {
     "data": {
      "application/vnd.jupyter.widget-view+json": {
       "model_id": "",
       "version_major": 2,
       "version_minor": 0
      },
      "text/plain": [
       "Output()"
      ]
     },
     "metadata": {},
     "output_type": "display_data"
    },
    {
     "data": {
      "application/vnd.jupyter.widget-view+json": {
       "model_id": "",
       "version_major": 2,
       "version_minor": 0
      },
      "text/plain": [
       "Output()"
      ]
     },
     "metadata": {},
     "output_type": "display_data"
    },
    {
     "data": {
      "application/vnd.jupyter.widget-view+json": {
       "model_id": "",
       "version_major": 2,
       "version_minor": 0
      },
      "text/plain": [
       "Output()"
      ]
     },
     "metadata": {},
     "output_type": "display_data"
    },
    {
     "data": {
      "application/vnd.jupyter.widget-view+json": {
       "model_id": "",
       "version_major": 2,
       "version_minor": 0
      },
      "text/plain": [
       "Output()"
      ]
     },
     "metadata": {},
     "output_type": "display_data"
    },
    {
     "data": {
      "application/vnd.jupyter.widget-view+json": {
       "model_id": "",
       "version_major": 2,
       "version_minor": 0
      },
      "text/plain": [
       "Output()"
      ]
     },
     "metadata": {},
     "output_type": "display_data"
    },
    {
     "data": {
      "application/vnd.jupyter.widget-view+json": {
       "model_id": "",
       "version_major": 2,
       "version_minor": 0
      },
      "text/plain": [
       "Output()"
      ]
     },
     "metadata": {},
     "output_type": "display_data"
    },
    {
     "data": {
      "application/vnd.jupyter.widget-view+json": {
       "model_id": "",
       "version_major": 2,
       "version_minor": 0
      },
      "text/plain": [
       "Output()"
      ]
     },
     "metadata": {},
     "output_type": "display_data"
    },
    {
     "data": {
      "application/vnd.jupyter.widget-view+json": {
       "model_id": "",
       "version_major": 2,
       "version_minor": 0
      },
      "text/plain": [
       "Output()"
      ]
     },
     "metadata": {},
     "output_type": "display_data"
    },
    {
     "data": {
      "application/vnd.jupyter.widget-view+json": {
       "model_id": "",
       "version_major": 2,
       "version_minor": 0
      },
      "text/plain": [
       "Output()"
      ]
     },
     "metadata": {},
     "output_type": "display_data"
    },
    {
     "data": {
      "application/vnd.jupyter.widget-view+json": {
       "model_id": "",
       "version_major": 2,
       "version_minor": 0
      },
      "text/plain": [
       "Output()"
      ]
     },
     "metadata": {},
     "output_type": "display_data"
    },
    {
     "data": {
      "application/vnd.jupyter.widget-view+json": {
       "model_id": "",
       "version_major": 2,
       "version_minor": 0
      },
      "text/plain": [
       "Output()"
      ]
     },
     "metadata": {},
     "output_type": "display_data"
    },
    {
     "data": {
      "application/vnd.jupyter.widget-view+json": {
       "model_id": "",
       "version_major": 2,
       "version_minor": 0
      },
      "text/plain": [
       "Output()"
      ]
     },
     "metadata": {},
     "output_type": "display_data"
    },
    {
     "data": {
      "application/vnd.jupyter.widget-view+json": {
       "model_id": "",
       "version_major": 2,
       "version_minor": 0
      },
      "text/plain": [
       "Output()"
      ]
     },
     "metadata": {},
     "output_type": "display_data"
    },
    {
     "data": {
      "application/vnd.jupyter.widget-view+json": {
       "model_id": "",
       "version_major": 2,
       "version_minor": 0
      },
      "text/plain": [
       "Output()"
      ]
     },
     "metadata": {},
     "output_type": "display_data"
    },
    {
     "data": {
      "application/vnd.jupyter.widget-view+json": {
       "model_id": "",
       "version_major": 2,
       "version_minor": 0
      },
      "text/plain": [
       "Output()"
      ]
     },
     "metadata": {},
     "output_type": "display_data"
    },
    {
     "data": {
      "application/vnd.jupyter.widget-view+json": {
       "model_id": "",
       "version_major": 2,
       "version_minor": 0
      },
      "text/plain": [
       "Output()"
      ]
     },
     "metadata": {},
     "output_type": "display_data"
    },
    {
     "data": {
      "application/vnd.jupyter.widget-view+json": {
       "model_id": "",
       "version_major": 2,
       "version_minor": 0
      },
      "text/plain": [
       "Output()"
      ]
     },
     "metadata": {},
     "output_type": "display_data"
    },
    {
     "data": {
      "text/html": [
       "<pre style=\"white-space:pre;overflow-x:auto;line-height:normal;font-family:Menlo,'DejaVu Sans Mono',consolas,'Courier New',monospace\"></pre>\n"
      ],
      "text/plain": []
     },
     "metadata": {},
     "output_type": "display_data"
    },
    {
     "data": {
      "text/html": [
       "<pre style=\"white-space:pre;overflow-x:auto;line-height:normal;font-family:Menlo,'DejaVu Sans Mono',consolas,'Courier New',monospace\">\n",
       "</pre>\n"
      ],
      "text/plain": [
       "\n"
      ]
     },
     "metadata": {},
     "output_type": "display_data"
    },
    {
     "data": {
      "text/html": [
       "<pre style=\"white-space:pre;overflow-x:auto;line-height:normal;font-family:Menlo,'DejaVu Sans Mono',consolas,'Courier New',monospace\"></pre>\n"
      ],
      "text/plain": []
     },
     "metadata": {},
     "output_type": "display_data"
    },
    {
     "data": {
      "text/html": [
       "<pre style=\"white-space:pre;overflow-x:auto;line-height:normal;font-family:Menlo,'DejaVu Sans Mono',consolas,'Courier New',monospace\">\n",
       "</pre>\n"
      ],
      "text/plain": [
       "\n"
      ]
     },
     "metadata": {},
     "output_type": "display_data"
    },
    {
     "data": {
      "text/html": [
       "<pre style=\"white-space:pre;overflow-x:auto;line-height:normal;font-family:Menlo,'DejaVu Sans Mono',consolas,'Courier New',monospace\"></pre>\n"
      ],
      "text/plain": []
     },
     "metadata": {},
     "output_type": "display_data"
    },
    {
     "data": {
      "text/html": [
       "<pre style=\"white-space:pre;overflow-x:auto;line-height:normal;font-family:Menlo,'DejaVu Sans Mono',consolas,'Courier New',monospace\">\n",
       "</pre>\n"
      ],
      "text/plain": [
       "\n"
      ]
     },
     "metadata": {},
     "output_type": "display_data"
    },
    {
     "data": {
      "text/html": [
       "<pre style=\"white-space:pre;overflow-x:auto;line-height:normal;font-family:Menlo,'DejaVu Sans Mono',consolas,'Courier New',monospace\"></pre>\n"
      ],
      "text/plain": []
     },
     "metadata": {},
     "output_type": "display_data"
    },
    {
     "data": {
      "text/html": [
       "<pre style=\"white-space:pre;overflow-x:auto;line-height:normal;font-family:Menlo,'DejaVu Sans Mono',consolas,'Courier New',monospace\">\n",
       "</pre>\n"
      ],
      "text/plain": [
       "\n"
      ]
     },
     "metadata": {},
     "output_type": "display_data"
    },
    {
     "data": {
      "text/html": [
       "<pre style=\"white-space:pre;overflow-x:auto;line-height:normal;font-family:Menlo,'DejaVu Sans Mono',consolas,'Courier New',monospace\"></pre>\n"
      ],
      "text/plain": []
     },
     "metadata": {},
     "output_type": "display_data"
    },
    {
     "data": {
      "text/html": [
       "<pre style=\"white-space:pre;overflow-x:auto;line-height:normal;font-family:Menlo,'DejaVu Sans Mono',consolas,'Courier New',monospace\">\n",
       "</pre>\n"
      ],
      "text/plain": [
       "\n"
      ]
     },
     "metadata": {},
     "output_type": "display_data"
    },
    {
     "data": {
      "text/html": [
       "<pre style=\"white-space:pre;overflow-x:auto;line-height:normal;font-family:Menlo,'DejaVu Sans Mono',consolas,'Courier New',monospace\"></pre>\n"
      ],
      "text/plain": []
     },
     "metadata": {},
     "output_type": "display_data"
    },
    {
     "data": {
      "text/html": [
       "<pre style=\"white-space:pre;overflow-x:auto;line-height:normal;font-family:Menlo,'DejaVu Sans Mono',consolas,'Courier New',monospace\">\n",
       "</pre>\n"
      ],
      "text/plain": [
       "\n"
      ]
     },
     "metadata": {},
     "output_type": "display_data"
    },
    {
     "data": {
      "text/html": [
       "<pre style=\"white-space:pre;overflow-x:auto;line-height:normal;font-family:Menlo,'DejaVu Sans Mono',consolas,'Courier New',monospace\"></pre>\n"
      ],
      "text/plain": []
     },
     "metadata": {},
     "output_type": "display_data"
    },
    {
     "data": {
      "text/html": [
       "<pre style=\"white-space:pre;overflow-x:auto;line-height:normal;font-family:Menlo,'DejaVu Sans Mono',consolas,'Courier New',monospace\">\n",
       "</pre>\n"
      ],
      "text/plain": [
       "\n"
      ]
     },
     "metadata": {},
     "output_type": "display_data"
    },
    {
     "data": {
      "text/html": [
       "<pre style=\"white-space:pre;overflow-x:auto;line-height:normal;font-family:Menlo,'DejaVu Sans Mono',consolas,'Courier New',monospace\"></pre>\n"
      ],
      "text/plain": []
     },
     "metadata": {},
     "output_type": "display_data"
    },
    {
     "data": {
      "text/html": [
       "<pre style=\"white-space:pre;overflow-x:auto;line-height:normal;font-family:Menlo,'DejaVu Sans Mono',consolas,'Courier New',monospace\">\n",
       "</pre>\n"
      ],
      "text/plain": [
       "\n"
      ]
     },
     "metadata": {},
     "output_type": "display_data"
    },
    {
     "data": {
      "text/html": [
       "<pre style=\"white-space:pre;overflow-x:auto;line-height:normal;font-family:Menlo,'DejaVu Sans Mono',consolas,'Courier New',monospace\"></pre>\n"
      ],
      "text/plain": []
     },
     "metadata": {},
     "output_type": "display_data"
    },
    {
     "data": {
      "text/html": [
       "<pre style=\"white-space:pre;overflow-x:auto;line-height:normal;font-family:Menlo,'DejaVu Sans Mono',consolas,'Courier New',monospace\">\n",
       "</pre>\n"
      ],
      "text/plain": [
       "\n"
      ]
     },
     "metadata": {},
     "output_type": "display_data"
    },
    {
     "data": {
      "text/html": [
       "<pre style=\"white-space:pre;overflow-x:auto;line-height:normal;font-family:Menlo,'DejaVu Sans Mono',consolas,'Courier New',monospace\"></pre>\n"
      ],
      "text/plain": []
     },
     "metadata": {},
     "output_type": "display_data"
    },
    {
     "data": {
      "text/html": [
       "<pre style=\"white-space:pre;overflow-x:auto;line-height:normal;font-family:Menlo,'DejaVu Sans Mono',consolas,'Courier New',monospace\">\n",
       "</pre>\n"
      ],
      "text/plain": [
       "\n"
      ]
     },
     "metadata": {},
     "output_type": "display_data"
    },
    {
     "data": {
      "text/html": [
       "<pre style=\"white-space:pre;overflow-x:auto;line-height:normal;font-family:Menlo,'DejaVu Sans Mono',consolas,'Courier New',monospace\"></pre>\n"
      ],
      "text/plain": []
     },
     "metadata": {},
     "output_type": "display_data"
    },
    {
     "data": {
      "text/html": [
       "<pre style=\"white-space:pre;overflow-x:auto;line-height:normal;font-family:Menlo,'DejaVu Sans Mono',consolas,'Courier New',monospace\">\n",
       "</pre>\n"
      ],
      "text/plain": [
       "\n"
      ]
     },
     "metadata": {},
     "output_type": "display_data"
    },
    {
     "data": {
      "text/html": [
       "<pre style=\"white-space:pre;overflow-x:auto;line-height:normal;font-family:Menlo,'DejaVu Sans Mono',consolas,'Courier New',monospace\"></pre>\n"
      ],
      "text/plain": []
     },
     "metadata": {},
     "output_type": "display_data"
    },
    {
     "data": {
      "text/html": [
       "<pre style=\"white-space:pre;overflow-x:auto;line-height:normal;font-family:Menlo,'DejaVu Sans Mono',consolas,'Courier New',monospace\">\n",
       "</pre>\n"
      ],
      "text/plain": [
       "\n"
      ]
     },
     "metadata": {},
     "output_type": "display_data"
    },
    {
     "data": {
      "text/html": [
       "<pre style=\"white-space:pre;overflow-x:auto;line-height:normal;font-family:Menlo,'DejaVu Sans Mono',consolas,'Courier New',monospace\"></pre>\n"
      ],
      "text/plain": []
     },
     "metadata": {},
     "output_type": "display_data"
    },
    {
     "data": {
      "text/html": [
       "<pre style=\"white-space:pre;overflow-x:auto;line-height:normal;font-family:Menlo,'DejaVu Sans Mono',consolas,'Courier New',monospace\">\n",
       "</pre>\n"
      ],
      "text/plain": [
       "\n"
      ]
     },
     "metadata": {},
     "output_type": "display_data"
    },
    {
     "data": {
      "text/html": [
       "<pre style=\"white-space:pre;overflow-x:auto;line-height:normal;font-family:Menlo,'DejaVu Sans Mono',consolas,'Courier New',monospace\"></pre>\n"
      ],
      "text/plain": []
     },
     "metadata": {},
     "output_type": "display_data"
    },
    {
     "data": {
      "text/html": [
       "<pre style=\"white-space:pre;overflow-x:auto;line-height:normal;font-family:Menlo,'DejaVu Sans Mono',consolas,'Courier New',monospace\">\n",
       "</pre>\n"
      ],
      "text/plain": [
       "\n"
      ]
     },
     "metadata": {},
     "output_type": "display_data"
    },
    {
     "data": {
      "text/html": [
       "<pre style=\"white-space:pre;overflow-x:auto;line-height:normal;font-family:Menlo,'DejaVu Sans Mono',consolas,'Courier New',monospace\"></pre>\n"
      ],
      "text/plain": []
     },
     "metadata": {},
     "output_type": "display_data"
    },
    {
     "data": {
      "text/html": [
       "<pre style=\"white-space:pre;overflow-x:auto;line-height:normal;font-family:Menlo,'DejaVu Sans Mono',consolas,'Courier New',monospace\"></pre>\n"
      ],
      "text/plain": []
     },
     "metadata": {},
     "output_type": "display_data"
    },
    {
     "data": {
      "text/html": [
       "<pre style=\"white-space:pre;overflow-x:auto;line-height:normal;font-family:Menlo,'DejaVu Sans Mono',consolas,'Courier New',monospace\">\n",
       "</pre>\n"
      ],
      "text/plain": [
       "\n"
      ]
     },
     "metadata": {},
     "output_type": "display_data"
    },
    {
     "data": {
      "text/html": [
       "<pre style=\"white-space:pre;overflow-x:auto;line-height:normal;font-family:Menlo,'DejaVu Sans Mono',consolas,'Courier New',monospace\"></pre>\n"
      ],
      "text/plain": []
     },
     "metadata": {},
     "output_type": "display_data"
    },
    {
     "data": {
      "text/html": [
       "<pre style=\"white-space:pre;overflow-x:auto;line-height:normal;font-family:Menlo,'DejaVu Sans Mono',consolas,'Courier New',monospace\">\n",
       "</pre>\n"
      ],
      "text/plain": [
       "\n"
      ]
     },
     "metadata": {},
     "output_type": "display_data"
    },
    {
     "data": {
      "text/html": [
       "<pre style=\"white-space:pre;overflow-x:auto;line-height:normal;font-family:Menlo,'DejaVu Sans Mono',consolas,'Courier New',monospace\"></pre>\n"
      ],
      "text/plain": []
     },
     "metadata": {},
     "output_type": "display_data"
    },
    {
     "data": {
      "text/html": [
       "<pre style=\"white-space:pre;overflow-x:auto;line-height:normal;font-family:Menlo,'DejaVu Sans Mono',consolas,'Courier New',monospace\">\n",
       "</pre>\n"
      ],
      "text/plain": [
       "\n"
      ]
     },
     "metadata": {},
     "output_type": "display_data"
    },
    {
     "data": {
      "text/html": [
       "<pre style=\"white-space:pre;overflow-x:auto;line-height:normal;font-family:Menlo,'DejaVu Sans Mono',consolas,'Courier New',monospace\"></pre>\n"
      ],
      "text/plain": []
     },
     "metadata": {},
     "output_type": "display_data"
    },
    {
     "data": {
      "text/html": [
       "<pre style=\"white-space:pre;overflow-x:auto;line-height:normal;font-family:Menlo,'DejaVu Sans Mono',consolas,'Courier New',monospace\">\n",
       "</pre>\n"
      ],
      "text/plain": [
       "\n"
      ]
     },
     "metadata": {},
     "output_type": "display_data"
    },
    {
     "data": {
      "text/html": [
       "<pre style=\"white-space:pre;overflow-x:auto;line-height:normal;font-family:Menlo,'DejaVu Sans Mono',consolas,'Courier New',monospace\"></pre>\n"
      ],
      "text/plain": []
     },
     "metadata": {},
     "output_type": "display_data"
    },
    {
     "data": {
      "text/html": [
       "<pre style=\"white-space:pre;overflow-x:auto;line-height:normal;font-family:Menlo,'DejaVu Sans Mono',consolas,'Courier New',monospace\">\n",
       "</pre>\n"
      ],
      "text/plain": [
       "\n"
      ]
     },
     "metadata": {},
     "output_type": "display_data"
    },
    {
     "data": {
      "text/html": [
       "<pre style=\"white-space:pre;overflow-x:auto;line-height:normal;font-family:Menlo,'DejaVu Sans Mono',consolas,'Courier New',monospace\"></pre>\n"
      ],
      "text/plain": []
     },
     "metadata": {},
     "output_type": "display_data"
    },
    {
     "data": {
      "text/html": [
       "<pre style=\"white-space:pre;overflow-x:auto;line-height:normal;font-family:Menlo,'DejaVu Sans Mono',consolas,'Courier New',monospace\">\n",
       "</pre>\n"
      ],
      "text/plain": [
       "\n"
      ]
     },
     "metadata": {},
     "output_type": "display_data"
    },
    {
     "data": {
      "text/html": [
       "<pre style=\"white-space:pre;overflow-x:auto;line-height:normal;font-family:Menlo,'DejaVu Sans Mono',consolas,'Courier New',monospace\"></pre>\n"
      ],
      "text/plain": []
     },
     "metadata": {},
     "output_type": "display_data"
    },
    {
     "data": {
      "text/html": [
       "<pre style=\"white-space:pre;overflow-x:auto;line-height:normal;font-family:Menlo,'DejaVu Sans Mono',consolas,'Courier New',monospace\">\n",
       "</pre>\n"
      ],
      "text/plain": [
       "\n"
      ]
     },
     "metadata": {},
     "output_type": "display_data"
    },
    {
     "data": {
      "text/html": [
       "<pre style=\"white-space:pre;overflow-x:auto;line-height:normal;font-family:Menlo,'DejaVu Sans Mono',consolas,'Courier New',monospace\"></pre>\n"
      ],
      "text/plain": []
     },
     "metadata": {},
     "output_type": "display_data"
    },
    {
     "data": {
      "text/html": [
       "<pre style=\"white-space:pre;overflow-x:auto;line-height:normal;font-family:Menlo,'DejaVu Sans Mono',consolas,'Courier New',monospace\">\n",
       "</pre>\n"
      ],
      "text/plain": [
       "\n"
      ]
     },
     "metadata": {},
     "output_type": "display_data"
    }
   ],
   "source": [
    "azure_evaluations_extra25 = await asystem_evaluation(test_cases, azure_eval_model, AnswerCorrectnessMetric)"
   ]
  },
  {
   "cell_type": "code",
   "execution_count": 23,
   "id": "05efc737-f722-4e59-aab9-b2d62f165d34",
   "metadata": {
    "collapsed": true,
    "jupyter": {
     "outputs_hidden": true
    }
   },
   "outputs": [
    {
     "data": {
      "application/vnd.jupyter.widget-view+json": {
       "model_id": "221a198ff69644a3830e00c094fb8ad9",
       "version_major": 2,
       "version_minor": 0
      },
      "text/plain": [
       "Output()"
      ]
     },
     "metadata": {},
     "output_type": "display_data"
    },
    {
     "name": "stdout",
     "output_type": "stream",
     "text": [
      "Event loop is already running. Applying nest_asyncio patch to allow async execution...\n"
     ]
    },
    {
     "data": {
      "text/html": [
       "<pre style=\"white-space:pre;overflow-x:auto;line-height:normal;font-family:Menlo,'DejaVu Sans Mono',consolas,'Courier New',monospace\"></pre>\n"
      ],
      "text/plain": []
     },
     "metadata": {},
     "output_type": "display_data"
    },
    {
     "data": {
      "text/html": [
       "<pre style=\"white-space:pre;overflow-x:auto;line-height:normal;font-family:Menlo,'DejaVu Sans Mono',consolas,'Courier New',monospace\">\n",
       "</pre>\n"
      ],
      "text/plain": [
       "\n"
      ]
     },
     "metadata": {},
     "output_type": "display_data"
    },
    {
     "data": {
      "application/vnd.jupyter.widget-view+json": {
       "model_id": "32d507d64e404c6189f3359783278a63",
       "version_major": 2,
       "version_minor": 0
      },
      "text/plain": [
       "Output()"
      ]
     },
     "metadata": {},
     "output_type": "display_data"
    },
    {
     "data": {
      "text/html": [
       "<pre style=\"white-space:pre;overflow-x:auto;line-height:normal;font-family:Menlo,'DejaVu Sans Mono',consolas,'Courier New',monospace\"></pre>\n"
      ],
      "text/plain": []
     },
     "metadata": {},
     "output_type": "display_data"
    },
    {
     "data": {
      "text/html": [
       "<pre style=\"white-space:pre;overflow-x:auto;line-height:normal;font-family:Menlo,'DejaVu Sans Mono',consolas,'Courier New',monospace\">\n",
       "</pre>\n"
      ],
      "text/plain": [
       "\n"
      ]
     },
     "metadata": {},
     "output_type": "display_data"
    },
    {
     "data": {
      "application/vnd.jupyter.widget-view+json": {
       "model_id": "f4e347c4c99b4881a072a1980547c033",
       "version_major": 2,
       "version_minor": 0
      },
      "text/plain": [
       "Output()"
      ]
     },
     "metadata": {},
     "output_type": "display_data"
    },
    {
     "data": {
      "text/html": [
       "<pre style=\"white-space:pre;overflow-x:auto;line-height:normal;font-family:Menlo,'DejaVu Sans Mono',consolas,'Courier New',monospace\"></pre>\n"
      ],
      "text/plain": []
     },
     "metadata": {},
     "output_type": "display_data"
    },
    {
     "data": {
      "text/html": [
       "<pre style=\"white-space:pre;overflow-x:auto;line-height:normal;font-family:Menlo,'DejaVu Sans Mono',consolas,'Courier New',monospace\">\n",
       "</pre>\n"
      ],
      "text/plain": [
       "\n"
      ]
     },
     "metadata": {},
     "output_type": "display_data"
    },
    {
     "data": {
      "application/vnd.jupyter.widget-view+json": {
       "model_id": "271ba2e9641643b098619833e973bfdb",
       "version_major": 2,
       "version_minor": 0
      },
      "text/plain": [
       "Output()"
      ]
     },
     "metadata": {},
     "output_type": "display_data"
    },
    {
     "data": {
      "text/html": [
       "<pre style=\"white-space:pre;overflow-x:auto;line-height:normal;font-family:Menlo,'DejaVu Sans Mono',consolas,'Courier New',monospace\"></pre>\n"
      ],
      "text/plain": []
     },
     "metadata": {},
     "output_type": "display_data"
    },
    {
     "data": {
      "text/html": [
       "<pre style=\"white-space:pre;overflow-x:auto;line-height:normal;font-family:Menlo,'DejaVu Sans Mono',consolas,'Courier New',monospace\">\n",
       "</pre>\n"
      ],
      "text/plain": [
       "\n"
      ]
     },
     "metadata": {},
     "output_type": "display_data"
    },
    {
     "data": {
      "application/vnd.jupyter.widget-view+json": {
       "model_id": "322c3a432c1e419ebef9e8e3377a5fe0",
       "version_major": 2,
       "version_minor": 0
      },
      "text/plain": [
       "Output()"
      ]
     },
     "metadata": {},
     "output_type": "display_data"
    },
    {
     "data": {
      "text/html": [
       "<pre style=\"white-space:pre;overflow-x:auto;line-height:normal;font-family:Menlo,'DejaVu Sans Mono',consolas,'Courier New',monospace\"></pre>\n"
      ],
      "text/plain": []
     },
     "metadata": {},
     "output_type": "display_data"
    },
    {
     "data": {
      "text/html": [
       "<pre style=\"white-space:pre;overflow-x:auto;line-height:normal;font-family:Menlo,'DejaVu Sans Mono',consolas,'Courier New',monospace\">\n",
       "</pre>\n"
      ],
      "text/plain": [
       "\n"
      ]
     },
     "metadata": {},
     "output_type": "display_data"
    },
    {
     "data": {
      "application/vnd.jupyter.widget-view+json": {
       "model_id": "8eb326703657458ab02a2d62e2dcb7b1",
       "version_major": 2,
       "version_minor": 0
      },
      "text/plain": [
       "Output()"
      ]
     },
     "metadata": {},
     "output_type": "display_data"
    },
    {
     "data": {
      "text/html": [
       "<pre style=\"white-space:pre;overflow-x:auto;line-height:normal;font-family:Menlo,'DejaVu Sans Mono',consolas,'Courier New',monospace\"></pre>\n"
      ],
      "text/plain": []
     },
     "metadata": {},
     "output_type": "display_data"
    },
    {
     "data": {
      "text/html": [
       "<pre style=\"white-space:pre;overflow-x:auto;line-height:normal;font-family:Menlo,'DejaVu Sans Mono',consolas,'Courier New',monospace\">\n",
       "</pre>\n"
      ],
      "text/plain": [
       "\n"
      ]
     },
     "metadata": {},
     "output_type": "display_data"
    },
    {
     "data": {
      "application/vnd.jupyter.widget-view+json": {
       "model_id": "4acc30ca98794c0a8c781632eea89f8c",
       "version_major": 2,
       "version_minor": 0
      },
      "text/plain": [
       "Output()"
      ]
     },
     "metadata": {},
     "output_type": "display_data"
    },
    {
     "data": {
      "text/html": [
       "<pre style=\"white-space:pre;overflow-x:auto;line-height:normal;font-family:Menlo,'DejaVu Sans Mono',consolas,'Courier New',monospace\"></pre>\n"
      ],
      "text/plain": []
     },
     "metadata": {},
     "output_type": "display_data"
    },
    {
     "data": {
      "text/html": [
       "<pre style=\"white-space:pre;overflow-x:auto;line-height:normal;font-family:Menlo,'DejaVu Sans Mono',consolas,'Courier New',monospace\">\n",
       "</pre>\n"
      ],
      "text/plain": [
       "\n"
      ]
     },
     "metadata": {},
     "output_type": "display_data"
    },
    {
     "data": {
      "application/vnd.jupyter.widget-view+json": {
       "model_id": "3084b079c5a745a28eb36e705648d1b9",
       "version_major": 2,
       "version_minor": 0
      },
      "text/plain": [
       "Output()"
      ]
     },
     "metadata": {},
     "output_type": "display_data"
    },
    {
     "data": {
      "text/html": [
       "<pre style=\"white-space:pre;overflow-x:auto;line-height:normal;font-family:Menlo,'DejaVu Sans Mono',consolas,'Courier New',monospace\"></pre>\n"
      ],
      "text/plain": []
     },
     "metadata": {},
     "output_type": "display_data"
    },
    {
     "data": {
      "text/html": [
       "<pre style=\"white-space:pre;overflow-x:auto;line-height:normal;font-family:Menlo,'DejaVu Sans Mono',consolas,'Courier New',monospace\">\n",
       "</pre>\n"
      ],
      "text/plain": [
       "\n"
      ]
     },
     "metadata": {},
     "output_type": "display_data"
    },
    {
     "data": {
      "application/vnd.jupyter.widget-view+json": {
       "model_id": "c9fa1e87f1dc4604abbbd5fa2fdda4d9",
       "version_major": 2,
       "version_minor": 0
      },
      "text/plain": [
       "Output()"
      ]
     },
     "metadata": {},
     "output_type": "display_data"
    },
    {
     "data": {
      "text/html": [
       "<pre style=\"white-space:pre;overflow-x:auto;line-height:normal;font-family:Menlo,'DejaVu Sans Mono',consolas,'Courier New',monospace\"></pre>\n"
      ],
      "text/plain": []
     },
     "metadata": {},
     "output_type": "display_data"
    },
    {
     "data": {
      "text/html": [
       "<pre style=\"white-space:pre;overflow-x:auto;line-height:normal;font-family:Menlo,'DejaVu Sans Mono',consolas,'Courier New',monospace\">\n",
       "</pre>\n"
      ],
      "text/plain": [
       "\n"
      ]
     },
     "metadata": {},
     "output_type": "display_data"
    },
    {
     "data": {
      "application/vnd.jupyter.widget-view+json": {
       "model_id": "4756763d79e84d69b06a09ac068bef3b",
       "version_major": 2,
       "version_minor": 0
      },
      "text/plain": [
       "Output()"
      ]
     },
     "metadata": {},
     "output_type": "display_data"
    },
    {
     "data": {
      "text/html": [
       "<pre style=\"white-space:pre;overflow-x:auto;line-height:normal;font-family:Menlo,'DejaVu Sans Mono',consolas,'Courier New',monospace\"></pre>\n"
      ],
      "text/plain": []
     },
     "metadata": {},
     "output_type": "display_data"
    },
    {
     "data": {
      "text/html": [
       "<pre style=\"white-space:pre;overflow-x:auto;line-height:normal;font-family:Menlo,'DejaVu Sans Mono',consolas,'Courier New',monospace\">\n",
       "</pre>\n"
      ],
      "text/plain": [
       "\n"
      ]
     },
     "metadata": {},
     "output_type": "display_data"
    },
    {
     "data": {
      "application/vnd.jupyter.widget-view+json": {
       "model_id": "e1a6567c999a4b1794750b940aa396f1",
       "version_major": 2,
       "version_minor": 0
      },
      "text/plain": [
       "Output()"
      ]
     },
     "metadata": {},
     "output_type": "display_data"
    },
    {
     "data": {
      "text/html": [
       "<pre style=\"white-space:pre;overflow-x:auto;line-height:normal;font-family:Menlo,'DejaVu Sans Mono',consolas,'Courier New',monospace\"></pre>\n"
      ],
      "text/plain": []
     },
     "metadata": {},
     "output_type": "display_data"
    },
    {
     "data": {
      "text/html": [
       "<pre style=\"white-space:pre;overflow-x:auto;line-height:normal;font-family:Menlo,'DejaVu Sans Mono',consolas,'Courier New',monospace\">\n",
       "</pre>\n"
      ],
      "text/plain": [
       "\n"
      ]
     },
     "metadata": {},
     "output_type": "display_data"
    },
    {
     "data": {
      "application/vnd.jupyter.widget-view+json": {
       "model_id": "2f92edcde01740dfbf4467479061202f",
       "version_major": 2,
       "version_minor": 0
      },
      "text/plain": [
       "Output()"
      ]
     },
     "metadata": {},
     "output_type": "display_data"
    },
    {
     "data": {
      "text/html": [
       "<pre style=\"white-space:pre;overflow-x:auto;line-height:normal;font-family:Menlo,'DejaVu Sans Mono',consolas,'Courier New',monospace\"></pre>\n"
      ],
      "text/plain": []
     },
     "metadata": {},
     "output_type": "display_data"
    },
    {
     "data": {
      "text/html": [
       "<pre style=\"white-space:pre;overflow-x:auto;line-height:normal;font-family:Menlo,'DejaVu Sans Mono',consolas,'Courier New',monospace\">\n",
       "</pre>\n"
      ],
      "text/plain": [
       "\n"
      ]
     },
     "metadata": {},
     "output_type": "display_data"
    },
    {
     "data": {
      "application/vnd.jupyter.widget-view+json": {
       "model_id": "3f82969248914110ab85f69ba8a7260c",
       "version_major": 2,
       "version_minor": 0
      },
      "text/plain": [
       "Output()"
      ]
     },
     "metadata": {},
     "output_type": "display_data"
    },
    {
     "data": {
      "text/html": [
       "<pre style=\"white-space:pre;overflow-x:auto;line-height:normal;font-family:Menlo,'DejaVu Sans Mono',consolas,'Courier New',monospace\"></pre>\n"
      ],
      "text/plain": []
     },
     "metadata": {},
     "output_type": "display_data"
    },
    {
     "data": {
      "text/html": [
       "<pre style=\"white-space:pre;overflow-x:auto;line-height:normal;font-family:Menlo,'DejaVu Sans Mono',consolas,'Courier New',monospace\">\n",
       "</pre>\n"
      ],
      "text/plain": [
       "\n"
      ]
     },
     "metadata": {},
     "output_type": "display_data"
    },
    {
     "data": {
      "application/vnd.jupyter.widget-view+json": {
       "model_id": "25468265efaf4754819acb248b89139c",
       "version_major": 2,
       "version_minor": 0
      },
      "text/plain": [
       "Output()"
      ]
     },
     "metadata": {},
     "output_type": "display_data"
    },
    {
     "data": {
      "text/html": [
       "<pre style=\"white-space:pre;overflow-x:auto;line-height:normal;font-family:Menlo,'DejaVu Sans Mono',consolas,'Courier New',monospace\"></pre>\n"
      ],
      "text/plain": []
     },
     "metadata": {},
     "output_type": "display_data"
    },
    {
     "data": {
      "text/html": [
       "<pre style=\"white-space:pre;overflow-x:auto;line-height:normal;font-family:Menlo,'DejaVu Sans Mono',consolas,'Courier New',monospace\">\n",
       "</pre>\n"
      ],
      "text/plain": [
       "\n"
      ]
     },
     "metadata": {},
     "output_type": "display_data"
    },
    {
     "data": {
      "application/vnd.jupyter.widget-view+json": {
       "model_id": "a3595b646a4948108ac8d50f9c0799d3",
       "version_major": 2,
       "version_minor": 0
      },
      "text/plain": [
       "Output()"
      ]
     },
     "metadata": {},
     "output_type": "display_data"
    },
    {
     "data": {
      "text/html": [
       "<pre style=\"white-space:pre;overflow-x:auto;line-height:normal;font-family:Menlo,'DejaVu Sans Mono',consolas,'Courier New',monospace\"></pre>\n"
      ],
      "text/plain": []
     },
     "metadata": {},
     "output_type": "display_data"
    },
    {
     "data": {
      "text/html": [
       "<pre style=\"white-space:pre;overflow-x:auto;line-height:normal;font-family:Menlo,'DejaVu Sans Mono',consolas,'Courier New',monospace\">\n",
       "</pre>\n"
      ],
      "text/plain": [
       "\n"
      ]
     },
     "metadata": {},
     "output_type": "display_data"
    },
    {
     "data": {
      "application/vnd.jupyter.widget-view+json": {
       "model_id": "6d83643e49d148e28dbd47aaf4a19b81",
       "version_major": 2,
       "version_minor": 0
      },
      "text/plain": [
       "Output()"
      ]
     },
     "metadata": {},
     "output_type": "display_data"
    },
    {
     "data": {
      "text/html": [
       "<pre style=\"white-space:pre;overflow-x:auto;line-height:normal;font-family:Menlo,'DejaVu Sans Mono',consolas,'Courier New',monospace\"></pre>\n"
      ],
      "text/plain": []
     },
     "metadata": {},
     "output_type": "display_data"
    },
    {
     "data": {
      "text/html": [
       "<pre style=\"white-space:pre;overflow-x:auto;line-height:normal;font-family:Menlo,'DejaVu Sans Mono',consolas,'Courier New',monospace\">\n",
       "</pre>\n"
      ],
      "text/plain": [
       "\n"
      ]
     },
     "metadata": {},
     "output_type": "display_data"
    },
    {
     "data": {
      "application/vnd.jupyter.widget-view+json": {
       "model_id": "93f79b20807c4245a980763cd7bb876e",
       "version_major": 2,
       "version_minor": 0
      },
      "text/plain": [
       "Output()"
      ]
     },
     "metadata": {},
     "output_type": "display_data"
    },
    {
     "data": {
      "text/html": [
       "<pre style=\"white-space:pre;overflow-x:auto;line-height:normal;font-family:Menlo,'DejaVu Sans Mono',consolas,'Courier New',monospace\"></pre>\n"
      ],
      "text/plain": []
     },
     "metadata": {},
     "output_type": "display_data"
    },
    {
     "data": {
      "text/html": [
       "<pre style=\"white-space:pre;overflow-x:auto;line-height:normal;font-family:Menlo,'DejaVu Sans Mono',consolas,'Courier New',monospace\">\n",
       "</pre>\n"
      ],
      "text/plain": [
       "\n"
      ]
     },
     "metadata": {},
     "output_type": "display_data"
    },
    {
     "data": {
      "application/vnd.jupyter.widget-view+json": {
       "model_id": "9e0e25640ce5470ab38b4a5fd71fef86",
       "version_major": 2,
       "version_minor": 0
      },
      "text/plain": [
       "Output()"
      ]
     },
     "metadata": {},
     "output_type": "display_data"
    },
    {
     "data": {
      "text/html": [
       "<pre style=\"white-space:pre;overflow-x:auto;line-height:normal;font-family:Menlo,'DejaVu Sans Mono',consolas,'Courier New',monospace\"></pre>\n"
      ],
      "text/plain": []
     },
     "metadata": {},
     "output_type": "display_data"
    },
    {
     "data": {
      "text/html": [
       "<pre style=\"white-space:pre;overflow-x:auto;line-height:normal;font-family:Menlo,'DejaVu Sans Mono',consolas,'Courier New',monospace\">\n",
       "</pre>\n"
      ],
      "text/plain": [
       "\n"
      ]
     },
     "metadata": {},
     "output_type": "display_data"
    },
    {
     "data": {
      "application/vnd.jupyter.widget-view+json": {
       "model_id": "13920c70b4044f0d8e2f76748abb112e",
       "version_major": 2,
       "version_minor": 0
      },
      "text/plain": [
       "Output()"
      ]
     },
     "metadata": {},
     "output_type": "display_data"
    },
    {
     "data": {
      "text/html": [
       "<pre style=\"white-space:pre;overflow-x:auto;line-height:normal;font-family:Menlo,'DejaVu Sans Mono',consolas,'Courier New',monospace\"></pre>\n"
      ],
      "text/plain": []
     },
     "metadata": {},
     "output_type": "display_data"
    },
    {
     "data": {
      "text/html": [
       "<pre style=\"white-space:pre;overflow-x:auto;line-height:normal;font-family:Menlo,'DejaVu Sans Mono',consolas,'Courier New',monospace\">\n",
       "</pre>\n"
      ],
      "text/plain": [
       "\n"
      ]
     },
     "metadata": {},
     "output_type": "display_data"
    },
    {
     "data": {
      "application/vnd.jupyter.widget-view+json": {
       "model_id": "1a6430af04cb46f58a7e7921435ab25d",
       "version_major": 2,
       "version_minor": 0
      },
      "text/plain": [
       "Output()"
      ]
     },
     "metadata": {},
     "output_type": "display_data"
    },
    {
     "data": {
      "text/html": [
       "<pre style=\"white-space:pre;overflow-x:auto;line-height:normal;font-family:Menlo,'DejaVu Sans Mono',consolas,'Courier New',monospace\"></pre>\n"
      ],
      "text/plain": []
     },
     "metadata": {},
     "output_type": "display_data"
    },
    {
     "data": {
      "text/html": [
       "<pre style=\"white-space:pre;overflow-x:auto;line-height:normal;font-family:Menlo,'DejaVu Sans Mono',consolas,'Courier New',monospace\">\n",
       "</pre>\n"
      ],
      "text/plain": [
       "\n"
      ]
     },
     "metadata": {},
     "output_type": "display_data"
    },
    {
     "data": {
      "application/vnd.jupyter.widget-view+json": {
       "model_id": "bb22cd8035ad43339e90b120f90b68ff",
       "version_major": 2,
       "version_minor": 0
      },
      "text/plain": [
       "Output()"
      ]
     },
     "metadata": {},
     "output_type": "display_data"
    },
    {
     "data": {
      "text/html": [
       "<pre style=\"white-space:pre;overflow-x:auto;line-height:normal;font-family:Menlo,'DejaVu Sans Mono',consolas,'Courier New',monospace\"></pre>\n"
      ],
      "text/plain": []
     },
     "metadata": {},
     "output_type": "display_data"
    },
    {
     "data": {
      "text/html": [
       "<pre style=\"white-space:pre;overflow-x:auto;line-height:normal;font-family:Menlo,'DejaVu Sans Mono',consolas,'Courier New',monospace\">\n",
       "</pre>\n"
      ],
      "text/plain": [
       "\n"
      ]
     },
     "metadata": {},
     "output_type": "display_data"
    },
    {
     "data": {
      "application/vnd.jupyter.widget-view+json": {
       "model_id": "ce30161f0c5f42db819f4718668f2dea",
       "version_major": 2,
       "version_minor": 0
      },
      "text/plain": [
       "Output()"
      ]
     },
     "metadata": {},
     "output_type": "display_data"
    },
    {
     "data": {
      "text/html": [
       "<pre style=\"white-space:pre;overflow-x:auto;line-height:normal;font-family:Menlo,'DejaVu Sans Mono',consolas,'Courier New',monospace\"></pre>\n"
      ],
      "text/plain": []
     },
     "metadata": {},
     "output_type": "display_data"
    },
    {
     "data": {
      "text/html": [
       "<pre style=\"white-space:pre;overflow-x:auto;line-height:normal;font-family:Menlo,'DejaVu Sans Mono',consolas,'Courier New',monospace\">\n",
       "</pre>\n"
      ],
      "text/plain": [
       "\n"
      ]
     },
     "metadata": {},
     "output_type": "display_data"
    },
    {
     "data": {
      "application/vnd.jupyter.widget-view+json": {
       "model_id": "0ba538d7687348e294b4bda4d99ac8ac",
       "version_major": 2,
       "version_minor": 0
      },
      "text/plain": [
       "Output()"
      ]
     },
     "metadata": {},
     "output_type": "display_data"
    },
    {
     "data": {
      "text/html": [
       "<pre style=\"white-space:pre;overflow-x:auto;line-height:normal;font-family:Menlo,'DejaVu Sans Mono',consolas,'Courier New',monospace\"></pre>\n"
      ],
      "text/plain": []
     },
     "metadata": {},
     "output_type": "display_data"
    },
    {
     "data": {
      "text/html": [
       "<pre style=\"white-space:pre;overflow-x:auto;line-height:normal;font-family:Menlo,'DejaVu Sans Mono',consolas,'Courier New',monospace\">\n",
       "</pre>\n"
      ],
      "text/plain": [
       "\n"
      ]
     },
     "metadata": {},
     "output_type": "display_data"
    },
    {
     "data": {
      "application/vnd.jupyter.widget-view+json": {
       "model_id": "99e4bd3930ec4f679954aa199b22350c",
       "version_major": 2,
       "version_minor": 0
      },
      "text/plain": [
       "Output()"
      ]
     },
     "metadata": {},
     "output_type": "display_data"
    },
    {
     "data": {
      "text/html": [
       "<pre style=\"white-space:pre;overflow-x:auto;line-height:normal;font-family:Menlo,'DejaVu Sans Mono',consolas,'Courier New',monospace\"></pre>\n"
      ],
      "text/plain": []
     },
     "metadata": {},
     "output_type": "display_data"
    },
    {
     "data": {
      "text/html": [
       "<pre style=\"white-space:pre;overflow-x:auto;line-height:normal;font-family:Menlo,'DejaVu Sans Mono',consolas,'Courier New',monospace\">\n",
       "</pre>\n"
      ],
      "text/plain": [
       "\n"
      ]
     },
     "metadata": {},
     "output_type": "display_data"
    },
    {
     "data": {
      "application/vnd.jupyter.widget-view+json": {
       "model_id": "9a61f0017dfd417083046f79cc3e230b",
       "version_major": 2,
       "version_minor": 0
      },
      "text/plain": [
       "Output()"
      ]
     },
     "metadata": {},
     "output_type": "display_data"
    },
    {
     "data": {
      "text/html": [
       "<pre style=\"white-space:pre;overflow-x:auto;line-height:normal;font-family:Menlo,'DejaVu Sans Mono',consolas,'Courier New',monospace\"></pre>\n"
      ],
      "text/plain": []
     },
     "metadata": {},
     "output_type": "display_data"
    },
    {
     "data": {
      "text/html": [
       "<pre style=\"white-space:pre;overflow-x:auto;line-height:normal;font-family:Menlo,'DejaVu Sans Mono',consolas,'Courier New',monospace\">\n",
       "</pre>\n"
      ],
      "text/plain": [
       "\n"
      ]
     },
     "metadata": {},
     "output_type": "display_data"
    },
    {
     "data": {
      "text/html": [
       "<pre style=\"white-space:pre;overflow-x:auto;line-height:normal;font-family:Menlo,'DejaVu Sans Mono',consolas,'Courier New',monospace\">✅ Tests finished! Run <span style=\"color: #008000; text-decoration-color: #008000\">\"deepeval login\"</span> to view evaluation results on the web.\n",
       "</pre>\n"
      ],
      "text/plain": [
       "✅ Tests finished! Run \u001b[32m\"deepeval login\"\u001b[0m to view evaluation results on the web.\n"
      ]
     },
     "metadata": {},
     "output_type": "display_data"
    },
    {
     "name": "stdout",
     "output_type": "stream",
     "text": [
      "CPU times: user 6.44 s, sys: 572 ms, total: 7.01 s\n",
      "Wall time: 3min 7s\n"
     ]
    }
   ],
   "source": [
    "%%time\n",
    "azure_evaluations_first25 = evaluate(test_cases[:25], [acm], print_results=False)"
   ]
  },
  {
   "cell_type": "code",
   "execution_count": 124,
   "id": "acd9f458-ee90-4462-ad39-f13b7a119c02",
   "metadata": {},
   "outputs": [],
   "source": [
    "# cost = [eval.metrics[0].evaluation_cost for eval in azure_evaluations]\n",
    "# sum(cost)"
   ]
  },
  {
   "cell_type": "code",
   "execution_count": 59,
   "id": "f4cdecc5-7533-43a5-bcb7-1f5884031630",
   "metadata": {},
   "outputs": [
    {
     "data": {
      "text/plain": [
       "0.8360000000000001"
      ]
     },
     "execution_count": 59,
     "metadata": {},
     "output_type": "execute_result"
    }
   ],
   "source": [
    "scores = [eval.score for eval in azure_evaluations_extra25]\n",
    "sum(scores)/len(scores)"
   ]
  },
  {
   "cell_type": "code",
   "execution_count": 34,
   "id": "2e207d00-a61e-44d6-9ffc-5609f5ff65aa",
   "metadata": {},
   "outputs": [],
   "source": [
    "goldens_first25 = [eval for eval in azure_evaluations_first25 if eval.metrics[0].score >= 0.9]"
   ]
  },
  {
   "cell_type": "code",
   "execution_count": 52,
   "id": "103cef62-cdd2-46c7-b4b9-ba5f3d3632e2",
   "metadata": {},
   "outputs": [],
   "source": [
    "goldens_last25 = [eval for eval in azure_evaluations_last25 if eval.score >= 0.9]"
   ]
  },
  {
   "cell_type": "code",
   "execution_count": 62,
   "id": "d73fb9fd-82cc-450d-843b-c130d99c5b5a",
   "metadata": {},
   "outputs": [],
   "source": [
    "goldens_extra25 = [eval for eval in azure_evaluations_extra25 if eval.score >= 0.9][:5]"
   ]
  },
  {
   "cell_type": "code",
   "execution_count": 63,
   "id": "2512e337-015a-43d2-80d1-90ad1392380f",
   "metadata": {},
   "outputs": [
    {
     "data": {
      "text/plain": [
       "(7, 13, 5)"
      ]
     },
     "execution_count": 63,
     "metadata": {},
     "output_type": "execute_result"
    }
   ],
   "source": [
    "len(goldens_first25), len(goldens_last25), len(goldens_extra25)"
   ]
  },
  {
   "cell_type": "code",
   "execution_count": 65,
   "id": "4c4a8990-5f6b-4370-922f-fe31339d129d",
   "metadata": {},
   "outputs": [],
   "source": [
    "goldens_first25.extend(goldens_extra25)"
   ]
  },
  {
   "cell_type": "code",
   "execution_count": 70,
   "id": "c7930178-a024-4d4b-9df6-9c76c342a991",
   "metadata": {},
   "outputs": [],
   "source": [
    "golden_dicts = [eval.__dict__ for eval in goldens_first25]"
   ]
  },
  {
   "cell_type": "code",
   "execution_count": 72,
   "id": "881c89b7-1fa4-40f8-a298-a9ffa339dd47",
   "metadata": {},
   "outputs": [],
   "source": [
    "golden_dicts = [{k:v for k,v in d.items() if k in ['input', 'actual_output', 'retrieval_context']} for d in golden_dicts]"
   ]
  },
  {
   "cell_type": "code",
   "execution_count": 77,
   "id": "fe0c8e98-be5e-4316-b14a-037f767b6524",
   "metadata": {},
   "outputs": [
    {
     "name": "stderr",
     "output_type": "stream",
     "text": [
      "Bad pipe message: %s [b'\\x01+W\\x0bP\\x8c\\xfbjP\\x1f0\\xdeWG\\x0b\\x0c\\x12\\xd9 Bj\\xfd\\xbc\\x88\\xb3\\x95\\xda\\xcdS_\\x12IZ\\xd2\\xb3 8k/A\\x7f\\xeegc\\xb2\\xcf\\xd5<A7\\x15\\x00\\x08\\x13\\x02\\x13\\x03\\x13\\x01\\x00\\xff\\x01\\x00\\x00\\x8f\\x00\\x00\\x00\\x0e\\x00\\x0c\\x00\\x00\\t127.0.0.1\\x00\\x0b\\x00\\x04\\x03\\x00\\x01\\x02\\x00\\n\\x00\\x0c\\x00\\n\\x00\\x1d\\x00\\x17\\x00\\x1e\\x00\\x19\\x00\\x18\\x00#\\x00\\x00\\x00\\x16\\x00\\x00\\x00\\x17\\x00\\x00\\x00\\r\\x00\\x1e\\x00\\x1c\\x04\\x03\\x05\\x03\\x06\\x03\\x08\\x07\\x08\\x08\\x08\\t\\x08\\n\\x08\\x0b\\x08\\x04\\x08\\x05\\x08\\x06\\x04\\x01\\x05\\x01\\x06\\x01\\x00+\\x00\\x03\\x02\\x03\\x04\\x00-\\x00\\x02\\x01\\x01\\x003\\x00&\\x00$\\x00\\x1d\\x00 @\\x9fx\\x7f\\x08\\x9c%\\xba\\xa8\\xacH\\x10K2t\\xd8\\xe5\\xd1[\\x0e']\n",
      "Bad pipe message: %s [b'\\xb9\\x1c\\xc0\\xb7\\xfa6{H\\x00']\n",
      "Bad pipe message: %s [b'\"\\xbf==*\\xcf\\xab\\x9d\\xb4)TN\\xb3\\x18\\xd6\\xd0\\xe7\\\\\\x00\\x00>\\xc0']\n",
      "Bad pipe message: %s [b'\\n\\x009\\x008\\x007\\x006\\xc0\\x0f\\xc0\\x05\\x005\\xc0\\x13\\xc0\\t']\n",
      "Bad pipe message: %s [b'6nL\\x95fX\\x83\\xf0\\xfc\\xd2/\\xf4\\xb5\\x9dN\\x0c=\\x8d\\x00\\x00\\xa2\\xc0\\x14\\xc0\\n\\x009\\x008\\x007\\x006\\x00\\x88\\x00\\x87\\x00\\x86\\x00\\x85\\xc0\\x19\\x00:\\x00\\x89\\xc0\\x0f\\xc0\\x05\\x005\\x00\\x84\\xc0\\x13\\xc0\\t\\x003\\x002\\x001\\x000\\x00\\x9a\\x00\\x99\\x00\\x98\\x00\\x97\\x00E\\x00D\\x00C\\x00B\\xc0\\x18\\x004\\x00\\x9b\\x00F\\xc0\\x0e\\xc0\\x04\\x00/\\x00\\x96\\x00A\\x00\\x07\\xc0\\x11\\xc0\\x07\\xc0\\x16\\x00\\x18\\xc0\\x0c\\xc0\\x02\\x00\\x05\\x00\\x04\\xc0\\x12\\xc0\\x08\\x00\\x16\\x00\\x13\\x00\\x10\\x00\\r\\xc0\\x17\\x00\\x1b\\xc0\\r\\xc0\\x03\\x00\\n\\x00\\x15\\x00\\x12\\x00\\x0f\\x00\\x0c\\x00\\x1a\\x00\\t\\x00\\x14\\x00\\x11\\x00\\x19\\x00\\x08\\x00\\x06\\x00\\x17\\x00\\x03\\xc0\\x10\\xc0\\x06\\xc0\\x15\\xc0\\x0b\\xc0\\x01\\x00\\x02\\x00\\x01\\x00\\xff\\x02\\x01\\x00\\x00C\\x00\\x00\\x00\\x0e\\x00\\x0c\\x00\\x00\\t127.0.0.1\\x00\\x0b\\x00\\x04\\x03\\x00', b'']\n",
      "Bad pipe message: %s [b'Xn\\x9b\\xd5>z\\x8dB\\xcfb@\\xce\\x8a\\x88\\xc9\\x8b\\xc8E\\x00\\x00\\xa2\\xc0\\x14\\xc0\\n\\x009\\x008\\x007\\x006\\x00\\x88\\x00\\x87\\x00\\x86\\x00\\x85\\xc0\\x19\\x00:\\x00\\x89\\xc0\\x0f\\xc0\\x05\\x005\\x00\\x84\\xc0\\x13\\xc0\\t\\x003\\x002\\x001\\x000\\x00\\x9a\\x00\\x99\\x00\\x98\\x00\\x97\\x00E\\x00D\\x00C\\x00B\\xc0\\x18\\x004\\x00\\x9b\\x00F\\xc0\\x0e\\xc0\\x04\\x00/\\x00\\x96\\x00A\\x00\\x07\\xc0\\x11\\xc0\\x07\\xc0\\x16\\x00\\x18\\xc0\\x0c\\xc0\\x02\\x00\\x05\\x00\\x04\\xc0\\x12\\xc0\\x08\\x00\\x16\\x00\\x13\\x00\\x10\\x00\\r\\xc0\\x17\\x00\\x1b\\xc0\\r\\xc0\\x03\\x00\\n\\x00\\x15\\x00\\x12\\x00\\x0f\\x00\\x0c\\x00\\x1a\\x00\\t\\x00\\x14\\x00\\x11\\x00\\x19\\x00\\x08']\n",
      "Bad pipe message: %s [b\"\\xfb\\xe3kq\\xcd\\xa0RE\\x15.\\xb6x\\xc3&\\xc4\\xa0\\n\\xcc\\x00\\x00\\x86\\xc00\\xc0,\\xc0(\\xc0$\\xc0\\x14\\xc0\\n\\x00\\xa5\\x00\\xa3\\x00\\xa1\\x00\\x9f\\x00k\\x00j\\x00i\\x00h\\x009\\x008\\x007\\x006\\xc02\\xc0.\\xc0*\\xc0&\\xc0\\x0f\\xc0\\x05\\x00\\x9d\\x00=\\x005\\xc0/\\xc0+\\xc0'\\xc0#\\xc0\\x13\\xc0\\t\\x00\\xa4\\x00\\xa2\\x00\\xa0\\x00\\x9e\\x00g\\x00@\\x00?\\x00>\\x003\\x002\\x001\\x000\\xc01\\xc0-\\xc0)\\xc0%\\xc0\\x0e\\xc0\\x04\\x00\\x9c\\x00<\\x00/\\x00\\x9a\\x00\\x99\\x00\\x98\\x00\\x97\\x00\\x96\\x00\\x07\\xc0\\x11\\xc0\\x07\\xc0\\x0c\\xc0\\x02\\x00\\x05\\x00\\x04\\x00\\xff\\x02\\x01\\x00\\x00g\\x00\\x00\\x00\\x0e\\x00\\x0c\\x00\\x00\\t127.0.0.1\\x00\\x0b\\x00\\x04\\x03\\x00\\x01\\x02\\x00\\n\\x00\\x1c\\x00\\x1a\\x00\\x17\\x00\\x19\\x00\\x1c\\x00\\x1b\\x00\\x18\\x00\\x1a\\x00\\x16\\x00\\x0e\\x00\\r\\x00\\x0b\\x00\", b'\\t\\x00\\n\\x00#\\x00\\x00\\x00\\r\\x00 ']\n"
     ]
    }
   ],
   "source": [
    "import json\n",
    "with open('../data/golden_datasets/llm_eval_testcases_initial.json', 'w') as f:\n",
    "    json.dump(golden_dicts, f)"
   ]
  },
  {
   "cell_type": "code",
   "execution_count": 127,
   "id": "b09097bc-9549-4f0a-b8cf-082a9db39ef2",
   "metadata": {},
   "outputs": [],
   "source": [
    "something = []\n",
    "for eval in azure_evaluations:\n",
    "    adict = eval.__dict__\n",
    "    metrics = adict['metrics'][0].__dict__\n",
    "    adict['metrics'] = metrics\n",
    "    something.append(adict)"
   ]
  },
  {
   "cell_type": "code",
   "execution_count": 128,
   "id": "9a1382a0-c068-4303-b673-431a53964598",
   "metadata": {},
   "outputs": [],
   "source": [
    "for d in something:\n",
    "    del d['metrics']['evaluation_params']"
   ]
  },
  {
   "cell_type": "code",
   "execution_count": 129,
   "id": "1c02f68b-ea87-40b6-9a07-3c47047482a1",
   "metadata": {},
   "outputs": [
    {
     "name": "stderr",
     "output_type": "stream",
     "text": [
      "\u001b[32m2024-04-30 04:20:03.722\u001b[0m | \u001b[1mINFO    \u001b[0m | \u001b[36msrc.preprocessor.preprocessing\u001b[0m:\u001b[36msave_as_json\u001b[0m:\u001b[36m111\u001b[0m - \u001b[1mData saved as json file here: ./azure_eval_results25.json\u001b[0m\n"
     ]
    }
   ],
   "source": [
    "FileIO.save_as_json('./azure_eval_results25.json', something,overwrite=True)"
   ]
  },
  {
   "cell_type": "code",
   "execution_count": 134,
   "id": "bee6feef-5419-40aa-be76-df4988ff5340",
   "metadata": {
    "collapsed": true,
    "jupyter": {
     "outputs_hidden": true
    }
   },
   "outputs": [
    {
     "data": {
      "text/html": [
       "<pre style=\"white-space:pre;overflow-x:auto;line-height:normal;font-family:Menlo,'DejaVu Sans Mono',consolas,'Courier New',monospace\"><span style=\"font-weight: bold\">{</span>\n",
       "    <span style=\"color: #008000; text-decoration-color: #008000\">'name'</span>: <span style=\"color: #008000; text-decoration-color: #008000\">'AnswerCorrectness'</span>,\n",
       "    <span style=\"color: #008000; text-decoration-color: #008000\">'criteria'</span>: <span style=\"color: #800080; text-decoration-color: #800080; font-style: italic\">None</span>,\n",
       "    <span style=\"color: #008000; text-decoration-color: #008000\">'using_native_model'</span>: <span style=\"color: #ff0000; text-decoration-color: #ff0000; font-style: italic\">False</span>,\n",
       "    <span style=\"color: #008000; text-decoration-color: #008000\">'evaluation_model'</span>: <span style=\"color: #008000; text-decoration-color: #008000\">'gpt-4'</span>,\n",
       "    <span style=\"color: #008000; text-decoration-color: #008000\">'evaluation_steps'</span>: <span style=\"font-weight: bold\">[</span>\n",
       "        <span style=\"color: #008000; text-decoration-color: #008000\">'Compare the actual output with the retrieval context to verify factual accuracy.'</span>,\n",
       "        <span style=\"color: #008000; text-decoration-color: #008000\">'Assess if the actual output effectively addresses the specific information requirement stated in the </span>\n",
       "<span style=\"color: #008000; text-decoration-color: #008000\">input.'</span>,\n",
       "        <span style=\"color: #008000; text-decoration-color: #008000\">'Determine the comprehensiveness of the actual output in addressing all key aspects mentioned in the </span>\n",
       "<span style=\"color: #008000; text-decoration-color: #008000\">input.'</span>,\n",
       "        <span style=\"color: #008000; text-decoration-color: #008000\">'Score the actual output between 0 and 10, based on the accuracy and comprehensiveness of the information </span>\n",
       "<span style=\"color: #008000; text-decoration-color: #008000\">provided, with 10 being exactly correct and 0 being completely incorrect.'</span>,\n",
       "        <span style=\"color: #008000; text-decoration-color: #008000\">'If there is not enough information in the retrieval context to correctly answer the input, and the actual </span>\n",
       "<span style=\"color: #008000; text-decoration-color: #008000\">output indicates that the input cannot be answered with the provided context, then return a score of 10.'</span>\n",
       "    <span style=\"font-weight: bold\">]</span>,\n",
       "    <span style=\"color: #008000; text-decoration-color: #008000\">'_threshold'</span>: <span style=\"color: #008080; text-decoration-color: #008080; font-weight: bold\">0.5</span>,\n",
       "    <span style=\"color: #008000; text-decoration-color: #008000\">'strict_mode'</span>: <span style=\"color: #ff0000; text-decoration-color: #ff0000; font-style: italic\">False</span>,\n",
       "    <span style=\"color: #008000; text-decoration-color: #008000\">'async_mode'</span>: <span style=\"color: #00ff00; text-decoration-color: #00ff00; font-style: italic\">True</span>,\n",
       "    <span style=\"color: #008000; text-decoration-color: #008000\">'evaluation_cost'</span>: <span style=\"color: #800080; text-decoration-color: #800080; font-style: italic\">None</span>,\n",
       "    <span style=\"color: #008000; text-decoration-color: #008000\">'reason'</span>: <span style=\"color: #008000; text-decoration-color: #008000\">\"The actual output reflects relevant portions of the retrieval context, providing factual data </span>\n",
       "<span style=\"color: #008000; text-decoration-color: #008000\">regarding the prevalence of Adderall and Ritalin use among young people without an ADHD diagnosis. However, the </span>\n",
       "<span style=\"color: #008000; text-decoration-color: #008000\">output may slightly overstate the figures from the context by including the word 'upwards,' implying certainty of a</span>\n",
       "<span style=\"color: #008000; text-decoration-color: #008000\">minimum, and integrating the 80% statistic without clear attribution to a reputable survey, which could affect the </span>\n",
       "<span style=\"color: #008000; text-decoration-color: #008000\">perceived accuracy of the information. This results in a score that reflects high accuracy and comprehensiveness, </span>\n",
       "<span style=\"color: #008000; text-decoration-color: #008000\">but not perfection due to potential overemphasis and lack of clear source attribution for the 80% figure.\"</span>,\n",
       "    <span style=\"color: #008000; text-decoration-color: #008000\">'score'</span>: <span style=\"color: #008080; text-decoration-color: #008080; font-weight: bold\">0.8</span>,\n",
       "    <span style=\"color: #008000; text-decoration-color: #008000\">'success'</span>: <span style=\"color: #00ff00; text-decoration-color: #00ff00; font-style: italic\">True</span>\n",
       "<span style=\"font-weight: bold\">}</span>\n",
       "</pre>\n"
      ],
      "text/plain": [
       "\u001b[1m{\u001b[0m\n",
       "    \u001b[32m'name'\u001b[0m: \u001b[32m'AnswerCorrectness'\u001b[0m,\n",
       "    \u001b[32m'criteria'\u001b[0m: \u001b[3;35mNone\u001b[0m,\n",
       "    \u001b[32m'using_native_model'\u001b[0m: \u001b[3;91mFalse\u001b[0m,\n",
       "    \u001b[32m'evaluation_model'\u001b[0m: \u001b[32m'gpt-4'\u001b[0m,\n",
       "    \u001b[32m'evaluation_steps'\u001b[0m: \u001b[1m[\u001b[0m\n",
       "        \u001b[32m'Compare the actual output with the retrieval context to verify factual accuracy.'\u001b[0m,\n",
       "        \u001b[32m'Assess if the actual output effectively addresses the specific information requirement stated in the \u001b[0m\n",
       "\u001b[32minput.'\u001b[0m,\n",
       "        \u001b[32m'Determine the comprehensiveness of the actual output in addressing all key aspects mentioned in the \u001b[0m\n",
       "\u001b[32minput.'\u001b[0m,\n",
       "        \u001b[32m'Score the actual output between 0 and 10, based on the accuracy and comprehensiveness of the information \u001b[0m\n",
       "\u001b[32mprovided, with 10 being exactly correct and 0 being completely incorrect.'\u001b[0m,\n",
       "        \u001b[32m'If there is not enough information in the retrieval context to correctly answer the input, and the actual \u001b[0m\n",
       "\u001b[32moutput indicates that the input cannot be answered with the provided context, then return a score of 10.'\u001b[0m\n",
       "    \u001b[1m]\u001b[0m,\n",
       "    \u001b[32m'_threshold'\u001b[0m: \u001b[1;36m0.5\u001b[0m,\n",
       "    \u001b[32m'strict_mode'\u001b[0m: \u001b[3;91mFalse\u001b[0m,\n",
       "    \u001b[32m'async_mode'\u001b[0m: \u001b[3;92mTrue\u001b[0m,\n",
       "    \u001b[32m'evaluation_cost'\u001b[0m: \u001b[3;35mNone\u001b[0m,\n",
       "    \u001b[32m'reason'\u001b[0m: \u001b[32m\"The actual output reflects relevant portions of the retrieval context, providing factual data \u001b[0m\n",
       "\u001b[32mregarding the prevalence of Adderall and Ritalin use among young people without an ADHD diagnosis. However, the \u001b[0m\n",
       "\u001b[32moutput may slightly overstate the figures from the context by including the word 'upwards,' implying certainty of a\u001b[0m\n",
       "\u001b[32mminimum, and integrating the 80% statistic without clear attribution to a reputable survey, which could affect the \u001b[0m\n",
       "\u001b[32mperceived accuracy of the information. This results in a score that reflects high accuracy and comprehensiveness, \u001b[0m\n",
       "\u001b[32mbut not perfection due to potential overemphasis and lack of clear source attribution for the 80% figure.\"\u001b[0m,\n",
       "    \u001b[32m'score'\u001b[0m: \u001b[1;36m0.8\u001b[0m,\n",
       "    \u001b[32m'success'\u001b[0m: \u001b[3;92mTrue\u001b[0m\n",
       "\u001b[1m}\u001b[0m\n"
      ]
     },
     "metadata": {},
     "output_type": "display_data"
    },
    {
     "data": {
      "text/html": [
       "<pre style=\"white-space:pre;overflow-x:auto;line-height:normal;font-family:Menlo,'DejaVu Sans Mono',consolas,'Courier New',monospace\">How prevalent is the use of Adderall and Ritalin without diagnosis of ADHD among young people?\n",
       "</pre>\n"
      ],
      "text/plain": [
       "How prevalent is the use of Adderall and Ritalin without diagnosis of ADHD among young people?\n"
      ]
     },
     "metadata": {},
     "output_type": "display_data"
    },
    {
     "data": {
      "text/html": [
       "<pre style=\"white-space:pre;overflow-x:auto;line-height:normal;font-family:Menlo,'DejaVu Sans Mono',consolas,'Courier New',monospace\">The use of Adderall and Ritalin without a diagnosis of ADHD is prevalent among young people. According to the \n",
       "transcripts, it is mentioned that <span style=\"color: #008000; text-decoration-color: #008000\">\"in upwards of 25% of young people are taking things like Adderall despite not </span>\n",
       "<span style=\"color: #008000; text-decoration-color: #008000\">having a clinical diagnosis of ADHD.\"</span> Additionally, it's stated that <span style=\"color: #008000; text-decoration-color: #008000\">\"as high as 80% of college age young adults </span>\n",
       "<span style=\"color: #008000; text-decoration-color: #008000\">have used one or several of prescription drugs such as Adderall, Ritalin, Vyvanse, or similar at some point and are</span>\n",
       "<span style=\"color: #008000; text-decoration-color: #008000\">doing so without a prescription.\"</span> This indicates a significant prevalence of off-prescription use of these \n",
       "medications among young individuals.\n",
       "</pre>\n"
      ],
      "text/plain": [
       "The use of Adderall and Ritalin without a diagnosis of ADHD is prevalent among young people. According to the \n",
       "transcripts, it is mentioned that \u001b[32m\"in upwards of 25% of young people are taking things like Adderall despite not \u001b[0m\n",
       "\u001b[32mhaving a clinical diagnosis of ADHD.\"\u001b[0m Additionally, it's stated that \u001b[32m\"as high as 80% of college age young adults \u001b[0m\n",
       "\u001b[32mhave used one or several of prescription drugs such as Adderall, Ritalin, Vyvanse, or similar at some point and are\u001b[0m\n",
       "\u001b[32mdoing so without a prescription.\"\u001b[0m This indicates a significant prevalence of off-prescription use of these \n",
       "medications among young individuals.\n"
      ]
     },
     "metadata": {},
     "output_type": "display_data"
    },
    {
     "data": {
      "text/html": [
       "<pre style=\"white-space:pre;overflow-x:auto;line-height:normal;font-family:Menlo,'DejaVu Sans Mono',consolas,'Courier New',monospace\"><span style=\"font-weight: bold\">[</span>\n",
       "    <span style=\"color: #008000; text-decoration-color: #008000\">'\\nShow Summary: In episode 37 of the Huberman Lab podcast, Andrew Huberman discusses ADHD and methods for </span>\n",
       "<span style=\"color: #008000; text-decoration-color: #008000\">improving focus, both for those with ADHD and those without. He emphasizes that focus and the ability to ignore </span>\n",
       "<span style=\"color: #008000; text-decoration-color: #008000\">distractions are two distinct abilities, and both can be enhanced through various interventions. Huberman cautions </span>\n",
       "<span style=\"color: #008000; text-decoration-color: #008000\">against self-diagnosing ADHD, as many people may experience symptoms without meeting the full clinical criteria. He</span>\n",
       "<span style=\"color: #008000; text-decoration-color: #008000\">explores the genetic components of ADHD, its independence from intelligence, and the tendency for people with ADHD </span>\n",
       "<span style=\"color: #008000; text-decoration-color: #008000\">to have hyperfocus on subjects of intense interest.\\n\\nHuberman delves into the role of dopamine in attention and </span>\n",
       "<span style=\"color: #008000; text-decoration-color: #008000\">motivation, its impact on specific brain circuits, and the \"low dopamine hypothesis\" of ADHD. He also discusses the</span>\n",
       "<span style=\"color: #008000; text-decoration-color: #008000\">use of stimulant medications like Ritalin and Adderall, which are chemically similar to street drugs but can be </span>\n",
       "<span style=\"color: #008000; text-decoration-color: #008000\">beneficial for ADHD when used responsibly under medical supervision.\\n\\nDietary interventions, particularly the </span>\n",
       "<span style=\"color: #008000; text-decoration-color: #008000\">reduction of simple sugars and the implementation of an oligoantigenic\\nShow Guest: Andrew Huberman\\nTranscript: I </span>\n",
       "<span style=\"color: #008000; text-decoration-color: #008000\">just want to emphasize how these drugs work, some of the things that they do to enhance cognition and focus that </span>\n",
       "<span style=\"color: #008000; text-decoration-color: #008000\">actually serve the brain well in certain individuals and how they can be very detrimental in other individuals. I </span>\n",
       "<span style=\"color: #008000; text-decoration-color: #008000\">sort of blew right past it, but the fact that in upwards of 25% of young people are taking things like Adderall </span>\n",
       "<span style=\"color: #008000; text-decoration-color: #008000\">despite not having a clinical diagnosis of ADHD. Well, that\\'s a ridiculously high number. A few years ago, it was </span>\n",
       "<span style=\"color: #008000; text-decoration-color: #008000\">estimated that Adderall use and Ritalin use without diagnosis of ADHD was second in incident only to cannabis. But </span>\n",
       "<span style=\"color: #008000; text-decoration-color: #008000\">actually now the consumption of Adderall without prescription is higher than the consumption of cannabis in that </span>\n",
       "<span style=\"color: #008000; text-decoration-color: #008000\">age group. So what that means is that there\\'s a lot of stimulant use in that age group. And there are a lot of </span>\n",
       "<span style=\"color: #008000; text-decoration-color: #008000\">adults also using and abusing stimulants in order to gain focus. Now we could have a whole discussion about whether</span>\n",
       "<span style=\"color: #008000; text-decoration-color: #008000\">or not life is becoming more demanding, whether or not the need for focus is excessive, and that\\'s why people are </span>\n",
       "<span style=\"color: #008000; text-decoration-color: #008000\">doing that. Frankly, it\\'s an interesting discussion, but it\\'s not one that would deliver us to any </span>\n",
       "<span style=\"color: #008000; text-decoration-color: #008000\">answers.\\n------------------------\\n'</span>,\n",
       "    <span style=\"color: #008000; text-decoration-color: #008000\">'\\nShow Summary: The Huberman Lab Podcast episode \"Adderall, Stimulants &amp; Modafinil for ADHD: Short- &amp; </span>\n",
       "<span style=\"color: #008000; text-decoration-color: #008000\">Long-Term Effects\" hosted by Andrew Huberman, a professor at Stanford School of Medicine, provides a comprehensive </span>\n",
       "<span style=\"color: #008000; text-decoration-color: #008000\">look at stimulants used to treat ADHD. The discussion covers the mechanisms of action of common ADHD medications </span>\n",
       "<span style=\"color: #008000; text-decoration-color: #008000\">like Adderall, Ritalin, Vyvanse, and non-stimulant options such as modafinil. Huberman addresses concerns about </span>\n",
       "<span style=\"color: #008000; text-decoration-color: #008000\">these drugs\\' potential for addiction, psychotic symptoms, and long-term effects on brain function and physical </span>\n",
       "<span style=\"color: #008000; text-decoration-color: #008000\">health, including the impact on height and hormonal health. He also acknowledges the widespread off-prescription </span>\n",
       "<span style=\"color: #008000; text-decoration-color: #008000\">use of these medications among college students. The episode dives into the neurobiology of ADHD, explaining how </span>\n",
       "<span style=\"color: #008000; text-decoration-color: #008000\">these medications can paradoxically reduce hyperactivity by enhancing the prefrontal cortex\\'s ability to regulate </span>\n",
       "<span style=\"color: #008000; text-decoration-color: #008000\">attention and suppress distractions. Huberman emphasizes the importance of proper diagnosis and treatment, </span>\n",
       "<span style=\"color: #008000; text-decoration-color: #008000\">including the potential benefits of medication-induced neuro\\nShow Guest: Andrew Huberman\\nTranscript: And of </span>\n",
       "<span style=\"color: #008000; text-decoration-color: #008000\">course, I will talk about the scientific literature surrounding the most frequently asked question about these </span>\n",
       "<span style=\"color: #008000; text-decoration-color: #008000\">compounds, which is what are the long-term consequences of taking any of them in childhood or in adulthood? Now, </span>\n",
       "<span style=\"color: #008000; text-decoration-color: #008000\">today\\'s discussion centers around the use of these compounds both for childhood and for adult ADHD. But of course,</span>\n",
       "<span style=\"color: #008000; text-decoration-color: #008000\">I\\'d be remiss if I didn\\'t acknowledge that there are a tremendous number of people that use these prescription </span>\n",
       "<span style=\"color: #008000; text-decoration-color: #008000\">drugs without a prescription in order to improve their ability to focus and indeed also use them recreationally. In</span>\n",
       "<span style=\"color: #008000; text-decoration-color: #008000\">fact, some surveys reveal that as high as 80% of college age young adults have used one or several of prescription </span>\n",
       "<span style=\"color: #008000; text-decoration-color: #008000\">drugs such as Adderall, Ritalin, Vyvanse, or similar at some point and are doing so without a prescription. So they</span>\n",
       "<span style=\"color: #008000; text-decoration-color: #008000\">are either obtaining those drugs from those that do have prescriptions for them for ADHD, or they are obtaining </span>\n",
       "<span style=\"color: #008000; text-decoration-color: #008000\">them through black market sources, which of course carries an additional and very serious risk related to the </span>\n",
       "<span style=\"color: #008000; text-decoration-color: #008000\">so-called fentanyl crisis that is as high as 75% of black market drugs nowadays of various kinds, but certainly </span>\n",
       "<span style=\"color: #008000; text-decoration-color: #008000\">including the sorts of drugs we\\'re going to talk about today are contaminated with fentanyl and therefore are very</span>\n",
       "<span style=\"color: #008000; text-decoration-color: #008000\">deadly.\\n------------------------\\n'</span>,\n",
       "    <span style=\"color: #008000; text-decoration-color: #008000\">'\\nShow Summary: In episode 37 of the Huberman Lab podcast, Andrew Huberman discusses ADHD and methods for </span>\n",
       "<span style=\"color: #008000; text-decoration-color: #008000\">improving focus, both for those with ADHD and those without. He emphasizes that focus and the ability to ignore </span>\n",
       "<span style=\"color: #008000; text-decoration-color: #008000\">distractions are two distinct abilities, and both can be enhanced through various interventions. Huberman cautions </span>\n",
       "<span style=\"color: #008000; text-decoration-color: #008000\">against self-diagnosing ADHD, as many people may experience symptoms without meeting the full clinical criteria. He</span>\n",
       "<span style=\"color: #008000; text-decoration-color: #008000\">explores the genetic components of ADHD, its independence from intelligence, and the tendency for people with ADHD </span>\n",
       "<span style=\"color: #008000; text-decoration-color: #008000\">to have hyperfocus on subjects of intense interest.\\n\\nHuberman delves into the role of dopamine in attention and </span>\n",
       "<span style=\"color: #008000; text-decoration-color: #008000\">motivation, its impact on specific brain circuits, and the \"low dopamine hypothesis\" of ADHD. He also discusses the</span>\n",
       "<span style=\"color: #008000; text-decoration-color: #008000\">use of stimulant medications like Ritalin and Adderall, which are chemically similar to street drugs but can be </span>\n",
       "<span style=\"color: #008000; text-decoration-color: #008000\">beneficial for ADHD when used responsibly under medical supervision.\\n\\nDietary interventions, particularly the </span>\n",
       "<span style=\"color: #008000; text-decoration-color: #008000\">reduction of simple sugars and the implementation of an oligoantigenic\\nShow Guest: Andrew Huberman\\nTranscript: I </span>\n",
       "<span style=\"color: #008000; text-decoration-color: #008000\">also want to acknowledge that many people out there, many, many people out there are taking these drugs, even </span>\n",
       "<span style=\"color: #008000; text-decoration-color: #008000\">though they have not been clinically diagnosed with ADHD. And when I say these drugs, I\\'m specifically referring </span>\n",
       "<span style=\"color: #008000; text-decoration-color: #008000\">to Ritalin and Adderall and Modafinil, but more typically it\\'s Adderall, okay? People using cocaine and </span>\n",
       "<span style=\"color: #008000; text-decoration-color: #008000\">amphetamine for recreational purposes, that\\'s a completely different beast. And it is indeed a beast. And it\\'s </span>\n",
       "<span style=\"color: #008000; text-decoration-color: #008000\">something that I strongly discourage. However, I\\'m aware that up to 25% of college students and perhaps as many as</span>\n",
       "<span style=\"color: #008000; text-decoration-color: #008000\">35% of all individuals between the ages of 17 and 30 are taking Adderall on a regular or semi-regular basis in </span>\n",
       "<span style=\"color: #008000; text-decoration-color: #008000\">order to work, in order to study, and in order to function and focus in their daily life, even though they have not</span>\n",
       "<span style=\"color: #008000; text-decoration-color: #008000\">been diagnosed with ADHD. There\\'s a whole black market for this. They\\'re getting it from people with </span>\n",
       "<span style=\"color: #008000; text-decoration-color: #008000\">prescriptions. I\\'m not here to pass judgment.\\n------------------------\\n'</span>\n",
       "<span style=\"font-weight: bold\">]</span>\n",
       "</pre>\n"
      ],
      "text/plain": [
       "\u001b[1m[\u001b[0m\n",
       "    \u001b[32m'\\nShow Summary: In episode 37 of the Huberman Lab podcast, Andrew Huberman discusses ADHD and methods for \u001b[0m\n",
       "\u001b[32mimproving focus, both for those with ADHD and those without. He emphasizes that focus and the ability to ignore \u001b[0m\n",
       "\u001b[32mdistractions are two distinct abilities, and both can be enhanced through various interventions. Huberman cautions \u001b[0m\n",
       "\u001b[32magainst self-diagnosing ADHD, as many people may experience symptoms without meeting the full clinical criteria. He\u001b[0m\n",
       "\u001b[32mexplores the genetic components of ADHD, its independence from intelligence, and the tendency for people with ADHD \u001b[0m\n",
       "\u001b[32mto have hyperfocus on subjects of intense interest.\\n\\nHuberman delves into the role of dopamine in attention and \u001b[0m\n",
       "\u001b[32mmotivation, its impact on specific brain circuits, and the \"low dopamine hypothesis\" of ADHD. He also discusses the\u001b[0m\n",
       "\u001b[32muse of stimulant medications like Ritalin and Adderall, which are chemically similar to street drugs but can be \u001b[0m\n",
       "\u001b[32mbeneficial for ADHD when used responsibly under medical supervision.\\n\\nDietary interventions, particularly the \u001b[0m\n",
       "\u001b[32mreduction of simple sugars and the implementation of an oligoantigenic\\nShow Guest: Andrew Huberman\\nTranscript: I \u001b[0m\n",
       "\u001b[32mjust want to emphasize how these drugs work, some of the things that they do to enhance cognition and focus that \u001b[0m\n",
       "\u001b[32mactually serve the brain well in certain individuals and how they can be very detrimental in other individuals. I \u001b[0m\n",
       "\u001b[32msort of blew right past it, but the fact that in upwards of 25% of young people are taking things like Adderall \u001b[0m\n",
       "\u001b[32mdespite not having a clinical diagnosis of ADHD. Well, that\\'s a ridiculously high number. A few years ago, it was \u001b[0m\n",
       "\u001b[32mestimated that Adderall use and Ritalin use without diagnosis of ADHD was second in incident only to cannabis. But \u001b[0m\n",
       "\u001b[32mactually now the consumption of Adderall without prescription is higher than the consumption of cannabis in that \u001b[0m\n",
       "\u001b[32mage group. So what that means is that there\\'s a lot of stimulant use in that age group. And there are a lot of \u001b[0m\n",
       "\u001b[32madults also using and abusing stimulants in order to gain focus. Now we could have a whole discussion about whether\u001b[0m\n",
       "\u001b[32mor not life is becoming more demanding, whether or not the need for focus is excessive, and that\\'s why people are \u001b[0m\n",
       "\u001b[32mdoing that. Frankly, it\\'s an interesting discussion, but it\\'s not one that would deliver us to any \u001b[0m\n",
       "\u001b[32manswers.\\n------------------------\\n'\u001b[0m,\n",
       "    \u001b[32m'\\nShow Summary: The Huberman Lab Podcast episode \"Adderall, Stimulants & Modafinil for ADHD: Short- & \u001b[0m\n",
       "\u001b[32mLong-Term Effects\" hosted by Andrew Huberman, a professor at Stanford School of Medicine, provides a comprehensive \u001b[0m\n",
       "\u001b[32mlook at stimulants used to treat ADHD. The discussion covers the mechanisms of action of common ADHD medications \u001b[0m\n",
       "\u001b[32mlike Adderall, Ritalin, Vyvanse, and non-stimulant options such as modafinil. Huberman addresses concerns about \u001b[0m\n",
       "\u001b[32mthese drugs\\' potential for addiction, psychotic symptoms, and long-term effects on brain function and physical \u001b[0m\n",
       "\u001b[32mhealth, including the impact on height and hormonal health. He also acknowledges the widespread off-prescription \u001b[0m\n",
       "\u001b[32muse of these medications among college students. The episode dives into the neurobiology of ADHD, explaining how \u001b[0m\n",
       "\u001b[32mthese medications can paradoxically reduce hyperactivity by enhancing the prefrontal cortex\\'s ability to regulate \u001b[0m\n",
       "\u001b[32mattention and suppress distractions. Huberman emphasizes the importance of proper diagnosis and treatment, \u001b[0m\n",
       "\u001b[32mincluding the potential benefits of medication-induced neuro\\nShow Guest: Andrew Huberman\\nTranscript: And of \u001b[0m\n",
       "\u001b[32mcourse, I will talk about the scientific literature surrounding the most frequently asked question about these \u001b[0m\n",
       "\u001b[32mcompounds, which is what are the long-term consequences of taking any of them in childhood or in adulthood? Now, \u001b[0m\n",
       "\u001b[32mtoday\\'s discussion centers around the use of these compounds both for childhood and for adult ADHD. But of course,\u001b[0m\n",
       "\u001b[32mI\\'d be remiss if I didn\\'t acknowledge that there are a tremendous number of people that use these prescription \u001b[0m\n",
       "\u001b[32mdrugs without a prescription in order to improve their ability to focus and indeed also use them recreationally. In\u001b[0m\n",
       "\u001b[32mfact, some surveys reveal that as high as 80% of college age young adults have used one or several of prescription \u001b[0m\n",
       "\u001b[32mdrugs such as Adderall, Ritalin, Vyvanse, or similar at some point and are doing so without a prescription. So they\u001b[0m\n",
       "\u001b[32mare either obtaining those drugs from those that do have prescriptions for them for ADHD, or they are obtaining \u001b[0m\n",
       "\u001b[32mthem through black market sources, which of course carries an additional and very serious risk related to the \u001b[0m\n",
       "\u001b[32mso-called fentanyl crisis that is as high as 75% of black market drugs nowadays of various kinds, but certainly \u001b[0m\n",
       "\u001b[32mincluding the sorts of drugs we\\'re going to talk about today are contaminated with fentanyl and therefore are very\u001b[0m\n",
       "\u001b[32mdeadly.\\n------------------------\\n'\u001b[0m,\n",
       "    \u001b[32m'\\nShow Summary: In episode 37 of the Huberman Lab podcast, Andrew Huberman discusses ADHD and methods for \u001b[0m\n",
       "\u001b[32mimproving focus, both for those with ADHD and those without. He emphasizes that focus and the ability to ignore \u001b[0m\n",
       "\u001b[32mdistractions are two distinct abilities, and both can be enhanced through various interventions. Huberman cautions \u001b[0m\n",
       "\u001b[32magainst self-diagnosing ADHD, as many people may experience symptoms without meeting the full clinical criteria. He\u001b[0m\n",
       "\u001b[32mexplores the genetic components of ADHD, its independence from intelligence, and the tendency for people with ADHD \u001b[0m\n",
       "\u001b[32mto have hyperfocus on subjects of intense interest.\\n\\nHuberman delves into the role of dopamine in attention and \u001b[0m\n",
       "\u001b[32mmotivation, its impact on specific brain circuits, and the \"low dopamine hypothesis\" of ADHD. He also discusses the\u001b[0m\n",
       "\u001b[32muse of stimulant medications like Ritalin and Adderall, which are chemically similar to street drugs but can be \u001b[0m\n",
       "\u001b[32mbeneficial for ADHD when used responsibly under medical supervision.\\n\\nDietary interventions, particularly the \u001b[0m\n",
       "\u001b[32mreduction of simple sugars and the implementation of an oligoantigenic\\nShow Guest: Andrew Huberman\\nTranscript: I \u001b[0m\n",
       "\u001b[32malso want to acknowledge that many people out there, many, many people out there are taking these drugs, even \u001b[0m\n",
       "\u001b[32mthough they have not been clinically diagnosed with ADHD. And when I say these drugs, I\\'m specifically referring \u001b[0m\n",
       "\u001b[32mto Ritalin and Adderall and Modafinil, but more typically it\\'s Adderall, okay? People using cocaine and \u001b[0m\n",
       "\u001b[32mamphetamine for recreational purposes, that\\'s a completely different beast. And it is indeed a beast. And it\\'s \u001b[0m\n",
       "\u001b[32msomething that I strongly discourage. However, I\\'m aware that up to 25% of college students and perhaps as many as\u001b[0m\n",
       "\u001b[32m35% of all individuals between the ages of 17 and 30 are taking Adderall on a regular or semi-regular basis in \u001b[0m\n",
       "\u001b[32morder to work, in order to study, and in order to function and focus in their daily life, even though they have not\u001b[0m\n",
       "\u001b[32mbeen diagnosed with ADHD. There\\'s a whole black market for this. They\\'re getting it from people with \u001b[0m\n",
       "\u001b[32mprescriptions. I\\'m not here to pass judgment.\\n------------------------\\n'\u001b[0m\n",
       "\u001b[1m]\u001b[0m\n"
      ]
     },
     "metadata": {},
     "output_type": "display_data"
    },
    {
     "data": {
      "text/html": [
       "<pre style=\"white-space:pre;overflow-x:auto;line-height:normal;font-family:Menlo,'DejaVu Sans Mono',consolas,'Courier New',monospace\">\n",
       "\n",
       "</pre>\n"
      ],
      "text/plain": [
       "\n",
       "\n"
      ]
     },
     "metadata": {},
     "output_type": "display_data"
    },
    {
     "data": {
      "text/html": [
       "<pre style=\"white-space:pre;overflow-x:auto;line-height:normal;font-family:Menlo,'DejaVu Sans Mono',consolas,'Courier New',monospace\">****************************************************************************************************\n",
       "</pre>\n"
      ],
      "text/plain": [
       "****************************************************************************************************\n"
      ]
     },
     "metadata": {},
     "output_type": "display_data"
    },
    {
     "data": {
      "text/html": [
       "<pre style=\"white-space:pre;overflow-x:auto;line-height:normal;font-family:Menlo,'DejaVu Sans Mono',consolas,'Courier New',monospace\">\n",
       "\n",
       "</pre>\n"
      ],
      "text/plain": [
       "\n",
       "\n"
      ]
     },
     "metadata": {},
     "output_type": "display_data"
    },
    {
     "data": {
      "text/html": [
       "<pre style=\"white-space:pre;overflow-x:auto;line-height:normal;font-family:Menlo,'DejaVu Sans Mono',consolas,'Courier New',monospace\"><span style=\"font-weight: bold\">{</span>\n",
       "    <span style=\"color: #008000; text-decoration-color: #008000\">'name'</span>: <span style=\"color: #008000; text-decoration-color: #008000\">'AnswerCorrectness'</span>,\n",
       "    <span style=\"color: #008000; text-decoration-color: #008000\">'criteria'</span>: <span style=\"color: #800080; text-decoration-color: #800080; font-style: italic\">None</span>,\n",
       "    <span style=\"color: #008000; text-decoration-color: #008000\">'using_native_model'</span>: <span style=\"color: #ff0000; text-decoration-color: #ff0000; font-style: italic\">False</span>,\n",
       "    <span style=\"color: #008000; text-decoration-color: #008000\">'evaluation_model'</span>: <span style=\"color: #008000; text-decoration-color: #008000\">'gpt-4'</span>,\n",
       "    <span style=\"color: #008000; text-decoration-color: #008000\">'evaluation_steps'</span>: <span style=\"font-weight: bold\">[</span>\n",
       "        <span style=\"color: #008000; text-decoration-color: #008000\">'Compare the actual output with the retrieval context to verify factual accuracy.'</span>,\n",
       "        <span style=\"color: #008000; text-decoration-color: #008000\">'Assess if the actual output effectively addresses the specific information requirement stated in the </span>\n",
       "<span style=\"color: #008000; text-decoration-color: #008000\">input.'</span>,\n",
       "        <span style=\"color: #008000; text-decoration-color: #008000\">'Determine the comprehensiveness of the actual output in addressing all key aspects mentioned in the </span>\n",
       "<span style=\"color: #008000; text-decoration-color: #008000\">input.'</span>,\n",
       "        <span style=\"color: #008000; text-decoration-color: #008000\">'Score the actual output between 0 and 10, based on the accuracy and comprehensiveness of the information </span>\n",
       "<span style=\"color: #008000; text-decoration-color: #008000\">provided, with 10 being exactly correct and 0 being completely incorrect.'</span>,\n",
       "        <span style=\"color: #008000; text-decoration-color: #008000\">'If there is not enough information in the retrieval context to correctly answer the input, and the actual </span>\n",
       "<span style=\"color: #008000; text-decoration-color: #008000\">output indicates that the input cannot be answered with the provided context, then return a score of 10.'</span>\n",
       "    <span style=\"font-weight: bold\">]</span>,\n",
       "    <span style=\"color: #008000; text-decoration-color: #008000\">'_threshold'</span>: <span style=\"color: #008080; text-decoration-color: #008080; font-weight: bold\">0.5</span>,\n",
       "    <span style=\"color: #008000; text-decoration-color: #008000\">'strict_mode'</span>: <span style=\"color: #ff0000; text-decoration-color: #ff0000; font-style: italic\">False</span>,\n",
       "    <span style=\"color: #008000; text-decoration-color: #008000\">'async_mode'</span>: <span style=\"color: #00ff00; text-decoration-color: #00ff00; font-style: italic\">True</span>,\n",
       "    <span style=\"color: #008000; text-decoration-color: #008000\">'evaluation_cost'</span>: <span style=\"color: #800080; text-decoration-color: #800080; font-style: italic\">None</span>,\n",
       "    <span style=\"color: #008000; text-decoration-color: #008000\">'reason'</span>: <span style=\"color: #008000; text-decoration-color: #008000\">'The actual output correctly summarizes key information provided by the retrieval context, such as </span>\n",
       "<span style=\"color: #008000; text-decoration-color: #008000\">the reasons for off-prescription use of Adderall among college-age young adults and the connection to the need for </span>\n",
       "<span style=\"color: #008000; text-decoration-color: #008000\">improved focus and cognitive enhancement, which aligns with the context discussing the non-prescription use for </span>\n",
       "<span style=\"color: #008000; text-decoration-color: #008000\">concentration and study purposes. It captures the essence of the Huberman Lab podcast discussions about the </span>\n",
       "<span style=\"color: #008000; text-decoration-color: #008000\">popularity of Adderall relative to cannabis. However, it does not fully explore all aspects of the question, such </span>\n",
       "<span style=\"color: #008000; text-decoration-color: #008000\">as the comparative aspect with cannabis and the specific age groups involved. The response could have provided a </span>\n",
       "<span style=\"color: #008000; text-decoration-color: #008000\">more direct comparison between Adderall and cannabis consumption trends to be completely comprehensive.'</span>,\n",
       "    <span style=\"color: #008000; text-decoration-color: #008000\">'score'</span>: <span style=\"color: #008080; text-decoration-color: #008080; font-weight: bold\">0.8</span>,\n",
       "    <span style=\"color: #008000; text-decoration-color: #008000\">'success'</span>: <span style=\"color: #00ff00; text-decoration-color: #00ff00; font-style: italic\">True</span>\n",
       "<span style=\"font-weight: bold\">}</span>\n",
       "</pre>\n"
      ],
      "text/plain": [
       "\u001b[1m{\u001b[0m\n",
       "    \u001b[32m'name'\u001b[0m: \u001b[32m'AnswerCorrectness'\u001b[0m,\n",
       "    \u001b[32m'criteria'\u001b[0m: \u001b[3;35mNone\u001b[0m,\n",
       "    \u001b[32m'using_native_model'\u001b[0m: \u001b[3;91mFalse\u001b[0m,\n",
       "    \u001b[32m'evaluation_model'\u001b[0m: \u001b[32m'gpt-4'\u001b[0m,\n",
       "    \u001b[32m'evaluation_steps'\u001b[0m: \u001b[1m[\u001b[0m\n",
       "        \u001b[32m'Compare the actual output with the retrieval context to verify factual accuracy.'\u001b[0m,\n",
       "        \u001b[32m'Assess if the actual output effectively addresses the specific information requirement stated in the \u001b[0m\n",
       "\u001b[32minput.'\u001b[0m,\n",
       "        \u001b[32m'Determine the comprehensiveness of the actual output in addressing all key aspects mentioned in the \u001b[0m\n",
       "\u001b[32minput.'\u001b[0m,\n",
       "        \u001b[32m'Score the actual output between 0 and 10, based on the accuracy and comprehensiveness of the information \u001b[0m\n",
       "\u001b[32mprovided, with 10 being exactly correct and 0 being completely incorrect.'\u001b[0m,\n",
       "        \u001b[32m'If there is not enough information in the retrieval context to correctly answer the input, and the actual \u001b[0m\n",
       "\u001b[32moutput indicates that the input cannot be answered with the provided context, then return a score of 10.'\u001b[0m\n",
       "    \u001b[1m]\u001b[0m,\n",
       "    \u001b[32m'_threshold'\u001b[0m: \u001b[1;36m0.5\u001b[0m,\n",
       "    \u001b[32m'strict_mode'\u001b[0m: \u001b[3;91mFalse\u001b[0m,\n",
       "    \u001b[32m'async_mode'\u001b[0m: \u001b[3;92mTrue\u001b[0m,\n",
       "    \u001b[32m'evaluation_cost'\u001b[0m: \u001b[3;35mNone\u001b[0m,\n",
       "    \u001b[32m'reason'\u001b[0m: \u001b[32m'The actual output correctly summarizes key information provided by the retrieval context, such as \u001b[0m\n",
       "\u001b[32mthe reasons for off-prescription use of Adderall among college-age young adults and the connection to the need for \u001b[0m\n",
       "\u001b[32mimproved focus and cognitive enhancement, which aligns with the context discussing the non-prescription use for \u001b[0m\n",
       "\u001b[32mconcentration and study purposes. It captures the essence of the Huberman Lab podcast discussions about the \u001b[0m\n",
       "\u001b[32mpopularity of Adderall relative to cannabis. However, it does not fully explore all aspects of the question, such \u001b[0m\n",
       "\u001b[32mas the comparative aspect with cannabis and the specific age groups involved. The response could have provided a \u001b[0m\n",
       "\u001b[32mmore direct comparison between Adderall and cannabis consumption trends to be completely comprehensive.'\u001b[0m,\n",
       "    \u001b[32m'score'\u001b[0m: \u001b[1;36m0.8\u001b[0m,\n",
       "    \u001b[32m'success'\u001b[0m: \u001b[3;92mTrue\u001b[0m\n",
       "\u001b[1m}\u001b[0m\n"
      ]
     },
     "metadata": {},
     "output_type": "display_data"
    },
    {
     "data": {
      "text/html": [
       "<pre style=\"white-space:pre;overflow-x:auto;line-height:normal;font-family:Menlo,'DejaVu Sans Mono',consolas,'Courier New',monospace\">Why is there an increasing consumption of Adderall without prescription compared to cannabis in certain age groups?\n",
       "</pre>\n"
      ],
      "text/plain": [
       "Why is there an increasing consumption of Adderall without prescription compared to cannabis in certain age groups?\n"
      ]
     },
     "metadata": {},
     "output_type": "display_data"
    },
    {
     "data": {
      "text/html": [
       "<pre style=\"white-space:pre;overflow-x:auto;line-height:normal;font-family:Menlo,'DejaVu Sans Mono',consolas,'Courier New',monospace\">The increasing consumption of Adderall without prescription compared to cannabis in certain age groups is \n",
       "attributed to the perceived need for enhanced focus and cognition. There is a high demand for focus, and many \n",
       "individuals, including young adults and college students, are using and abusing stimulants like Adderall in order \n",
       "to gain focus and concentration for studying, work, or recreational purposes. Additionally, it is acknowledged that\n",
       "there is a widespread off-prescription use of these medications among college students, with surveys indicating \n",
       "that a high percentage of college-age young adults have used prescription drugs such as Adderall, Ritalin, Vyvanse,\n",
       "or similar at some point without a prescription. This points to the desire for cognitive enhancement and academic \n",
       "or work performance as driving factors behind the increasing consumption of Adderall without prescription.\n",
       "</pre>\n"
      ],
      "text/plain": [
       "The increasing consumption of Adderall without prescription compared to cannabis in certain age groups is \n",
       "attributed to the perceived need for enhanced focus and cognition. There is a high demand for focus, and many \n",
       "individuals, including young adults and college students, are using and abusing stimulants like Adderall in order \n",
       "to gain focus and concentration for studying, work, or recreational purposes. Additionally, it is acknowledged that\n",
       "there is a widespread off-prescription use of these medications among college students, with surveys indicating \n",
       "that a high percentage of college-age young adults have used prescription drugs such as Adderall, Ritalin, Vyvanse,\n",
       "or similar at some point without a prescription. This points to the desire for cognitive enhancement and academic \n",
       "or work performance as driving factors behind the increasing consumption of Adderall without prescription.\n"
      ]
     },
     "metadata": {},
     "output_type": "display_data"
    },
    {
     "data": {
      "text/html": [
       "<pre style=\"white-space:pre;overflow-x:auto;line-height:normal;font-family:Menlo,'DejaVu Sans Mono',consolas,'Courier New',monospace\"><span style=\"font-weight: bold\">[</span>\n",
       "    <span style=\"color: #008000; text-decoration-color: #008000\">'\\nShow Summary: In episode 37 of the Huberman Lab podcast, Andrew Huberman discusses ADHD and methods for </span>\n",
       "<span style=\"color: #008000; text-decoration-color: #008000\">improving focus, both for those with ADHD and those without. He emphasizes that focus and the ability to ignore </span>\n",
       "<span style=\"color: #008000; text-decoration-color: #008000\">distractions are two distinct abilities, and both can be enhanced through various interventions. Huberman cautions </span>\n",
       "<span style=\"color: #008000; text-decoration-color: #008000\">against self-diagnosing ADHD, as many people may experience symptoms without meeting the full clinical criteria. He</span>\n",
       "<span style=\"color: #008000; text-decoration-color: #008000\">explores the genetic components of ADHD, its independence from intelligence, and the tendency for people with ADHD </span>\n",
       "<span style=\"color: #008000; text-decoration-color: #008000\">to have hyperfocus on subjects of intense interest.\\n\\nHuberman delves into the role of dopamine in attention and </span>\n",
       "<span style=\"color: #008000; text-decoration-color: #008000\">motivation, its impact on specific brain circuits, and the \"low dopamine hypothesis\" of ADHD. He also discusses the</span>\n",
       "<span style=\"color: #008000; text-decoration-color: #008000\">use of stimulant medications like Ritalin and Adderall, which are chemically similar to street drugs but can be </span>\n",
       "<span style=\"color: #008000; text-decoration-color: #008000\">beneficial for ADHD when used responsibly under medical supervision.\\n\\nDietary interventions, particularly the </span>\n",
       "<span style=\"color: #008000; text-decoration-color: #008000\">reduction of simple sugars and the implementation of an oligoantigenic\\nShow Guest: Andrew Huberman\\nTranscript: I </span>\n",
       "<span style=\"color: #008000; text-decoration-color: #008000\">just want to emphasize how these drugs work, some of the things that they do to enhance cognition and focus that </span>\n",
       "<span style=\"color: #008000; text-decoration-color: #008000\">actually serve the brain well in certain individuals and how they can be very detrimental in other individuals. I </span>\n",
       "<span style=\"color: #008000; text-decoration-color: #008000\">sort of blew right past it, but the fact that in upwards of 25% of young people are taking things like Adderall </span>\n",
       "<span style=\"color: #008000; text-decoration-color: #008000\">despite not having a clinical diagnosis of ADHD. Well, that\\'s a ridiculously high number. A few years ago, it was </span>\n",
       "<span style=\"color: #008000; text-decoration-color: #008000\">estimated that Adderall use and Ritalin use without diagnosis of ADHD was second in incident only to cannabis. But </span>\n",
       "<span style=\"color: #008000; text-decoration-color: #008000\">actually now the consumption of Adderall without prescription is higher than the consumption of cannabis in that </span>\n",
       "<span style=\"color: #008000; text-decoration-color: #008000\">age group. So what that means is that there\\'s a lot of stimulant use in that age group. And there are a lot of </span>\n",
       "<span style=\"color: #008000; text-decoration-color: #008000\">adults also using and abusing stimulants in order to gain focus. Now we could have a whole discussion about whether</span>\n",
       "<span style=\"color: #008000; text-decoration-color: #008000\">or not life is becoming more demanding, whether or not the need for focus is excessive, and that\\'s why people are </span>\n",
       "<span style=\"color: #008000; text-decoration-color: #008000\">doing that. Frankly, it\\'s an interesting discussion, but it\\'s not one that would deliver us to any </span>\n",
       "<span style=\"color: #008000; text-decoration-color: #008000\">answers.\\n------------------------\\n'</span>,\n",
       "    <span style=\"color: #008000; text-decoration-color: #008000\">'\\nShow Summary: The Huberman Lab Podcast episode \"Adderall, Stimulants &amp; Modafinil for ADHD: Short- &amp; </span>\n",
       "<span style=\"color: #008000; text-decoration-color: #008000\">Long-Term Effects\" hosted by Andrew Huberman, a professor at Stanford School of Medicine, provides a comprehensive </span>\n",
       "<span style=\"color: #008000; text-decoration-color: #008000\">look at stimulants used to treat ADHD. The discussion covers the mechanisms of action of common ADHD medications </span>\n",
       "<span style=\"color: #008000; text-decoration-color: #008000\">like Adderall, Ritalin, Vyvanse, and non-stimulant options such as modafinil. Huberman addresses concerns about </span>\n",
       "<span style=\"color: #008000; text-decoration-color: #008000\">these drugs\\' potential for addiction, psychotic symptoms, and long-term effects on brain function and physical </span>\n",
       "<span style=\"color: #008000; text-decoration-color: #008000\">health, including the impact on height and hormonal health. He also acknowledges the widespread off-prescription </span>\n",
       "<span style=\"color: #008000; text-decoration-color: #008000\">use of these medications among college students. The episode dives into the neurobiology of ADHD, explaining how </span>\n",
       "<span style=\"color: #008000; text-decoration-color: #008000\">these medications can paradoxically reduce hyperactivity by enhancing the prefrontal cortex\\'s ability to regulate </span>\n",
       "<span style=\"color: #008000; text-decoration-color: #008000\">attention and suppress distractions. Huberman emphasizes the importance of proper diagnosis and treatment, </span>\n",
       "<span style=\"color: #008000; text-decoration-color: #008000\">including the potential benefits of medication-induced neuro\\nShow Guest: Andrew Huberman\\nTranscript: But suffice </span>\n",
       "<span style=\"color: #008000; text-decoration-color: #008000\">to say that Adderall is such an effective sympathomimetic, that is it can increase dopamine to such a great extent,</span>\n",
       "<span style=\"color: #008000; text-decoration-color: #008000\">especially compared to other treatments for ADHD, because of its ability to increase dopamine release and </span>\n",
       "<span style=\"color: #008000; text-decoration-color: #008000\">transmission and therefore action, as well as noradrenergic release and transmission and action down there in the </span>\n",
       "<span style=\"color: #008000; text-decoration-color: #008000\">synapse. And it\\'s worth pointing out that most of the effect of Adderall is an increasing dopamine as opposed to </span>\n",
       "<span style=\"color: #008000; text-decoration-color: #008000\">norepinephrine. It does increase norepinephrine, but its major effects, or we should say the major effects that </span>\n",
       "<span style=\"color: #008000; text-decoration-color: #008000\">have made it such an attractive drug to so many people, both for the treatment of ADHD and for people to take </span>\n",
       "<span style=\"color: #008000; text-decoration-color: #008000\">recreationally or off prescription or for sake of studying or work simply because they want to focus more and </span>\n",
       "<span style=\"color: #008000; text-decoration-color: #008000\">longer is because of its ability to increase dopamine to such a great extent. I\\'d like to take a quick break and </span>\n",
       "<span style=\"color: #008000; text-decoration-color: #008000\">acknowledge one of our sponsors, Athletic Greens. Athletic Greens, now called AG1, is a vitamin mineral probiotic </span>\n",
       "<span style=\"color: #008000; text-decoration-color: #008000\">drink that covers all of your foundational nutritional needs. I\\'ve been taking Athletic Greens since 2012, so I\\'m</span>\n",
       "<span style=\"color: #008000; text-decoration-color: #008000\">delighted that they\\'re sponsoring the podcast.\\n------------------------\\n'</span>,\n",
       "    <span style=\"color: #008000; text-decoration-color: #008000\">'\\nShow Summary: The Huberman Lab Podcast episode \"Adderall, Stimulants &amp; Modafinil for ADHD: Short- &amp; </span>\n",
       "<span style=\"color: #008000; text-decoration-color: #008000\">Long-Term Effects\" hosted by Andrew Huberman, a professor at Stanford School of Medicine, provides a comprehensive </span>\n",
       "<span style=\"color: #008000; text-decoration-color: #008000\">look at stimulants used to treat ADHD. The discussion covers the mechanisms of action of common ADHD medications </span>\n",
       "<span style=\"color: #008000; text-decoration-color: #008000\">like Adderall, Ritalin, Vyvanse, and non-stimulant options such as modafinil. Huberman addresses concerns about </span>\n",
       "<span style=\"color: #008000; text-decoration-color: #008000\">these drugs\\' potential for addiction, psychotic symptoms, and long-term effects on brain function and physical </span>\n",
       "<span style=\"color: #008000; text-decoration-color: #008000\">health, including the impact on height and hormonal health. He also acknowledges the widespread off-prescription </span>\n",
       "<span style=\"color: #008000; text-decoration-color: #008000\">use of these medications among college students. The episode dives into the neurobiology of ADHD, explaining how </span>\n",
       "<span style=\"color: #008000; text-decoration-color: #008000\">these medications can paradoxically reduce hyperactivity by enhancing the prefrontal cortex\\'s ability to regulate </span>\n",
       "<span style=\"color: #008000; text-decoration-color: #008000\">attention and suppress distractions. Huberman emphasizes the importance of proper diagnosis and treatment, </span>\n",
       "<span style=\"color: #008000; text-decoration-color: #008000\">including the potential benefits of medication-induced neuro\\nShow Guest: Andrew Huberman\\nTranscript: And of </span>\n",
       "<span style=\"color: #008000; text-decoration-color: #008000\">course, I will talk about the scientific literature surrounding the most frequently asked question about these </span>\n",
       "<span style=\"color: #008000; text-decoration-color: #008000\">compounds, which is what are the long-term consequences of taking any of them in childhood or in adulthood? Now, </span>\n",
       "<span style=\"color: #008000; text-decoration-color: #008000\">today\\'s discussion centers around the use of these compounds both for childhood and for adult ADHD. But of course,</span>\n",
       "<span style=\"color: #008000; text-decoration-color: #008000\">I\\'d be remiss if I didn\\'t acknowledge that there are a tremendous number of people that use these prescription </span>\n",
       "<span style=\"color: #008000; text-decoration-color: #008000\">drugs without a prescription in order to improve their ability to focus and indeed also use them recreationally. In</span>\n",
       "<span style=\"color: #008000; text-decoration-color: #008000\">fact, some surveys reveal that as high as 80% of college age young adults have used one or several of prescription </span>\n",
       "<span style=\"color: #008000; text-decoration-color: #008000\">drugs such as Adderall, Ritalin, Vyvanse, or similar at some point and are doing so without a prescription. So they</span>\n",
       "<span style=\"color: #008000; text-decoration-color: #008000\">are either obtaining those drugs from those that do have prescriptions for them for ADHD, or they are obtaining </span>\n",
       "<span style=\"color: #008000; text-decoration-color: #008000\">them through black market sources, which of course carries an additional and very serious risk related to the </span>\n",
       "<span style=\"color: #008000; text-decoration-color: #008000\">so-called fentanyl crisis that is as high as 75% of black market drugs nowadays of various kinds, but certainly </span>\n",
       "<span style=\"color: #008000; text-decoration-color: #008000\">including the sorts of drugs we\\'re going to talk about today are contaminated with fentanyl and therefore are very</span>\n",
       "<span style=\"color: #008000; text-decoration-color: #008000\">deadly.\\n------------------------\\n'</span>\n",
       "<span style=\"font-weight: bold\">]</span>\n",
       "</pre>\n"
      ],
      "text/plain": [
       "\u001b[1m[\u001b[0m\n",
       "    \u001b[32m'\\nShow Summary: In episode 37 of the Huberman Lab podcast, Andrew Huberman discusses ADHD and methods for \u001b[0m\n",
       "\u001b[32mimproving focus, both for those with ADHD and those without. He emphasizes that focus and the ability to ignore \u001b[0m\n",
       "\u001b[32mdistractions are two distinct abilities, and both can be enhanced through various interventions. Huberman cautions \u001b[0m\n",
       "\u001b[32magainst self-diagnosing ADHD, as many people may experience symptoms without meeting the full clinical criteria. He\u001b[0m\n",
       "\u001b[32mexplores the genetic components of ADHD, its independence from intelligence, and the tendency for people with ADHD \u001b[0m\n",
       "\u001b[32mto have hyperfocus on subjects of intense interest.\\n\\nHuberman delves into the role of dopamine in attention and \u001b[0m\n",
       "\u001b[32mmotivation, its impact on specific brain circuits, and the \"low dopamine hypothesis\" of ADHD. He also discusses the\u001b[0m\n",
       "\u001b[32muse of stimulant medications like Ritalin and Adderall, which are chemically similar to street drugs but can be \u001b[0m\n",
       "\u001b[32mbeneficial for ADHD when used responsibly under medical supervision.\\n\\nDietary interventions, particularly the \u001b[0m\n",
       "\u001b[32mreduction of simple sugars and the implementation of an oligoantigenic\\nShow Guest: Andrew Huberman\\nTranscript: I \u001b[0m\n",
       "\u001b[32mjust want to emphasize how these drugs work, some of the things that they do to enhance cognition and focus that \u001b[0m\n",
       "\u001b[32mactually serve the brain well in certain individuals and how they can be very detrimental in other individuals. I \u001b[0m\n",
       "\u001b[32msort of blew right past it, but the fact that in upwards of 25% of young people are taking things like Adderall \u001b[0m\n",
       "\u001b[32mdespite not having a clinical diagnosis of ADHD. Well, that\\'s a ridiculously high number. A few years ago, it was \u001b[0m\n",
       "\u001b[32mestimated that Adderall use and Ritalin use without diagnosis of ADHD was second in incident only to cannabis. But \u001b[0m\n",
       "\u001b[32mactually now the consumption of Adderall without prescription is higher than the consumption of cannabis in that \u001b[0m\n",
       "\u001b[32mage group. So what that means is that there\\'s a lot of stimulant use in that age group. And there are a lot of \u001b[0m\n",
       "\u001b[32madults also using and abusing stimulants in order to gain focus. Now we could have a whole discussion about whether\u001b[0m\n",
       "\u001b[32mor not life is becoming more demanding, whether or not the need for focus is excessive, and that\\'s why people are \u001b[0m\n",
       "\u001b[32mdoing that. Frankly, it\\'s an interesting discussion, but it\\'s not one that would deliver us to any \u001b[0m\n",
       "\u001b[32manswers.\\n------------------------\\n'\u001b[0m,\n",
       "    \u001b[32m'\\nShow Summary: The Huberman Lab Podcast episode \"Adderall, Stimulants & Modafinil for ADHD: Short- & \u001b[0m\n",
       "\u001b[32mLong-Term Effects\" hosted by Andrew Huberman, a professor at Stanford School of Medicine, provides a comprehensive \u001b[0m\n",
       "\u001b[32mlook at stimulants used to treat ADHD. The discussion covers the mechanisms of action of common ADHD medications \u001b[0m\n",
       "\u001b[32mlike Adderall, Ritalin, Vyvanse, and non-stimulant options such as modafinil. Huberman addresses concerns about \u001b[0m\n",
       "\u001b[32mthese drugs\\' potential for addiction, psychotic symptoms, and long-term effects on brain function and physical \u001b[0m\n",
       "\u001b[32mhealth, including the impact on height and hormonal health. He also acknowledges the widespread off-prescription \u001b[0m\n",
       "\u001b[32muse of these medications among college students. The episode dives into the neurobiology of ADHD, explaining how \u001b[0m\n",
       "\u001b[32mthese medications can paradoxically reduce hyperactivity by enhancing the prefrontal cortex\\'s ability to regulate \u001b[0m\n",
       "\u001b[32mattention and suppress distractions. Huberman emphasizes the importance of proper diagnosis and treatment, \u001b[0m\n",
       "\u001b[32mincluding the potential benefits of medication-induced neuro\\nShow Guest: Andrew Huberman\\nTranscript: But suffice \u001b[0m\n",
       "\u001b[32mto say that Adderall is such an effective sympathomimetic, that is it can increase dopamine to such a great extent,\u001b[0m\n",
       "\u001b[32mespecially compared to other treatments for ADHD, because of its ability to increase dopamine release and \u001b[0m\n",
       "\u001b[32mtransmission and therefore action, as well as noradrenergic release and transmission and action down there in the \u001b[0m\n",
       "\u001b[32msynapse. And it\\'s worth pointing out that most of the effect of Adderall is an increasing dopamine as opposed to \u001b[0m\n",
       "\u001b[32mnorepinephrine. It does increase norepinephrine, but its major effects, or we should say the major effects that \u001b[0m\n",
       "\u001b[32mhave made it such an attractive drug to so many people, both for the treatment of ADHD and for people to take \u001b[0m\n",
       "\u001b[32mrecreationally or off prescription or for sake of studying or work simply because they want to focus more and \u001b[0m\n",
       "\u001b[32mlonger is because of its ability to increase dopamine to such a great extent. I\\'d like to take a quick break and \u001b[0m\n",
       "\u001b[32macknowledge one of our sponsors, Athletic Greens. Athletic Greens, now called AG1, is a vitamin mineral probiotic \u001b[0m\n",
       "\u001b[32mdrink that covers all of your foundational nutritional needs. I\\'ve been taking Athletic Greens since 2012, so I\\'m\u001b[0m\n",
       "\u001b[32mdelighted that they\\'re sponsoring the podcast.\\n------------------------\\n'\u001b[0m,\n",
       "    \u001b[32m'\\nShow Summary: The Huberman Lab Podcast episode \"Adderall, Stimulants & Modafinil for ADHD: Short- & \u001b[0m\n",
       "\u001b[32mLong-Term Effects\" hosted by Andrew Huberman, a professor at Stanford School of Medicine, provides a comprehensive \u001b[0m\n",
       "\u001b[32mlook at stimulants used to treat ADHD. The discussion covers the mechanisms of action of common ADHD medications \u001b[0m\n",
       "\u001b[32mlike Adderall, Ritalin, Vyvanse, and non-stimulant options such as modafinil. Huberman addresses concerns about \u001b[0m\n",
       "\u001b[32mthese drugs\\' potential for addiction, psychotic symptoms, and long-term effects on brain function and physical \u001b[0m\n",
       "\u001b[32mhealth, including the impact on height and hormonal health. He also acknowledges the widespread off-prescription \u001b[0m\n",
       "\u001b[32muse of these medications among college students. The episode dives into the neurobiology of ADHD, explaining how \u001b[0m\n",
       "\u001b[32mthese medications can paradoxically reduce hyperactivity by enhancing the prefrontal cortex\\'s ability to regulate \u001b[0m\n",
       "\u001b[32mattention and suppress distractions. Huberman emphasizes the importance of proper diagnosis and treatment, \u001b[0m\n",
       "\u001b[32mincluding the potential benefits of medication-induced neuro\\nShow Guest: Andrew Huberman\\nTranscript: And of \u001b[0m\n",
       "\u001b[32mcourse, I will talk about the scientific literature surrounding the most frequently asked question about these \u001b[0m\n",
       "\u001b[32mcompounds, which is what are the long-term consequences of taking any of them in childhood or in adulthood? Now, \u001b[0m\n",
       "\u001b[32mtoday\\'s discussion centers around the use of these compounds both for childhood and for adult ADHD. But of course,\u001b[0m\n",
       "\u001b[32mI\\'d be remiss if I didn\\'t acknowledge that there are a tremendous number of people that use these prescription \u001b[0m\n",
       "\u001b[32mdrugs without a prescription in order to improve their ability to focus and indeed also use them recreationally. In\u001b[0m\n",
       "\u001b[32mfact, some surveys reveal that as high as 80% of college age young adults have used one or several of prescription \u001b[0m\n",
       "\u001b[32mdrugs such as Adderall, Ritalin, Vyvanse, or similar at some point and are doing so without a prescription. So they\u001b[0m\n",
       "\u001b[32mare either obtaining those drugs from those that do have prescriptions for them for ADHD, or they are obtaining \u001b[0m\n",
       "\u001b[32mthem through black market sources, which of course carries an additional and very serious risk related to the \u001b[0m\n",
       "\u001b[32mso-called fentanyl crisis that is as high as 75% of black market drugs nowadays of various kinds, but certainly \u001b[0m\n",
       "\u001b[32mincluding the sorts of drugs we\\'re going to talk about today are contaminated with fentanyl and therefore are very\u001b[0m\n",
       "\u001b[32mdeadly.\\n------------------------\\n'\u001b[0m\n",
       "\u001b[1m]\u001b[0m\n"
      ]
     },
     "metadata": {},
     "output_type": "display_data"
    },
    {
     "data": {
      "text/html": [
       "<pre style=\"white-space:pre;overflow-x:auto;line-height:normal;font-family:Menlo,'DejaVu Sans Mono',consolas,'Courier New',monospace\">\n",
       "\n",
       "</pre>\n"
      ],
      "text/plain": [
       "\n",
       "\n"
      ]
     },
     "metadata": {},
     "output_type": "display_data"
    },
    {
     "data": {
      "text/html": [
       "<pre style=\"white-space:pre;overflow-x:auto;line-height:normal;font-family:Menlo,'DejaVu Sans Mono',consolas,'Courier New',monospace\">****************************************************************************************************\n",
       "</pre>\n"
      ],
      "text/plain": [
       "****************************************************************************************************\n"
      ]
     },
     "metadata": {},
     "output_type": "display_data"
    },
    {
     "data": {
      "text/html": [
       "<pre style=\"white-space:pre;overflow-x:auto;line-height:normal;font-family:Menlo,'DejaVu Sans Mono',consolas,'Courier New',monospace\">\n",
       "\n",
       "</pre>\n"
      ],
      "text/plain": [
       "\n",
       "\n"
      ]
     },
     "metadata": {},
     "output_type": "display_data"
    },
    {
     "data": {
      "text/html": [
       "<pre style=\"white-space:pre;overflow-x:auto;line-height:normal;font-family:Menlo,'DejaVu Sans Mono',consolas,'Courier New',monospace\"><span style=\"font-weight: bold\">{</span>\n",
       "    <span style=\"color: #008000; text-decoration-color: #008000\">'name'</span>: <span style=\"color: #008000; text-decoration-color: #008000\">'AnswerCorrectness'</span>,\n",
       "    <span style=\"color: #008000; text-decoration-color: #008000\">'criteria'</span>: <span style=\"color: #800080; text-decoration-color: #800080; font-style: italic\">None</span>,\n",
       "    <span style=\"color: #008000; text-decoration-color: #008000\">'using_native_model'</span>: <span style=\"color: #ff0000; text-decoration-color: #ff0000; font-style: italic\">False</span>,\n",
       "    <span style=\"color: #008000; text-decoration-color: #008000\">'evaluation_model'</span>: <span style=\"color: #008000; text-decoration-color: #008000\">'gpt-4'</span>,\n",
       "    <span style=\"color: #008000; text-decoration-color: #008000\">'evaluation_steps'</span>: <span style=\"font-weight: bold\">[</span>\n",
       "        <span style=\"color: #008000; text-decoration-color: #008000\">'Compare the actual output with the retrieval context to verify factual accuracy.'</span>,\n",
       "        <span style=\"color: #008000; text-decoration-color: #008000\">'Assess if the actual output effectively addresses the specific information requirement stated in the </span>\n",
       "<span style=\"color: #008000; text-decoration-color: #008000\">input.'</span>,\n",
       "        <span style=\"color: #008000; text-decoration-color: #008000\">'Determine the comprehensiveness of the actual output in addressing all key aspects mentioned in the </span>\n",
       "<span style=\"color: #008000; text-decoration-color: #008000\">input.'</span>,\n",
       "        <span style=\"color: #008000; text-decoration-color: #008000\">'Score the actual output between 0 and 10, based on the accuracy and comprehensiveness of the information </span>\n",
       "<span style=\"color: #008000; text-decoration-color: #008000\">provided, with 10 being exactly correct and 0 being completely incorrect.'</span>,\n",
       "        <span style=\"color: #008000; text-decoration-color: #008000\">'If there is not enough information in the retrieval context to correctly answer the input, and the actual </span>\n",
       "<span style=\"color: #008000; text-decoration-color: #008000\">output indicates that the input cannot be answered with the provided context, then return a score of 10.'</span>\n",
       "    <span style=\"font-weight: bold\">]</span>,\n",
       "    <span style=\"color: #008000; text-decoration-color: #008000\">'_threshold'</span>: <span style=\"color: #008080; text-decoration-color: #008080; font-weight: bold\">0.5</span>,\n",
       "    <span style=\"color: #008000; text-decoration-color: #008000\">'strict_mode'</span>: <span style=\"color: #ff0000; text-decoration-color: #ff0000; font-style: italic\">False</span>,\n",
       "    <span style=\"color: #008000; text-decoration-color: #008000\">'async_mode'</span>: <span style=\"color: #00ff00; text-decoration-color: #00ff00; font-style: italic\">True</span>,\n",
       "    <span style=\"color: #008000; text-decoration-color: #008000\">'evaluation_cost'</span>: <span style=\"color: #800080; text-decoration-color: #800080; font-style: italic\">None</span>,\n",
       "    <span style=\"color: #008000; text-decoration-color: #008000\">'reason'</span>: <span style=\"color: #008000; text-decoration-color: #008000\">'The actual output aligns with the retrieval context, mentioning the combination of a substance </span>\n",
       "<span style=\"color: #008000; text-decoration-color: #008000\">(KANA, likely ketamine) and a gratitude practice as discussed by Dr. Andrew Huberman. It cites the potential use of</span>\n",
       "<span style=\"color: #008000; text-decoration-color: #008000\">this combination to enhance serotonergic transmission, which corresponds to the information given in the </span>\n",
       "<span style=\"color: #008000; text-decoration-color: #008000\">transcripts. However, the score is not perfect because the output does not mention other possible substances such </span>\n",
       "<span style=\"color: #008000; text-decoration-color: #008000\">as MDMA or psilocybin, which are referenced in the retrieval context and also relate to serotonergic transmission. </span>\n",
       "<span style=\"color: #008000; text-decoration-color: #008000\">The completeness could be slightly improved by incorporating information from all relevant parts of the provided </span>\n",
       "<span style=\"color: #008000; text-decoration-color: #008000\">transcripts.'</span>,\n",
       "    <span style=\"color: #008000; text-decoration-color: #008000\">'score'</span>: <span style=\"color: #008080; text-decoration-color: #008080; font-weight: bold\">0.8</span>,\n",
       "    <span style=\"color: #008000; text-decoration-color: #008000\">'success'</span>: <span style=\"color: #00ff00; text-decoration-color: #00ff00; font-style: italic\">True</span>\n",
       "<span style=\"font-weight: bold\">}</span>\n",
       "</pre>\n"
      ],
      "text/plain": [
       "\u001b[1m{\u001b[0m\n",
       "    \u001b[32m'name'\u001b[0m: \u001b[32m'AnswerCorrectness'\u001b[0m,\n",
       "    \u001b[32m'criteria'\u001b[0m: \u001b[3;35mNone\u001b[0m,\n",
       "    \u001b[32m'using_native_model'\u001b[0m: \u001b[3;91mFalse\u001b[0m,\n",
       "    \u001b[32m'evaluation_model'\u001b[0m: \u001b[32m'gpt-4'\u001b[0m,\n",
       "    \u001b[32m'evaluation_steps'\u001b[0m: \u001b[1m[\u001b[0m\n",
       "        \u001b[32m'Compare the actual output with the retrieval context to verify factual accuracy.'\u001b[0m,\n",
       "        \u001b[32m'Assess if the actual output effectively addresses the specific information requirement stated in the \u001b[0m\n",
       "\u001b[32minput.'\u001b[0m,\n",
       "        \u001b[32m'Determine the comprehensiveness of the actual output in addressing all key aspects mentioned in the \u001b[0m\n",
       "\u001b[32minput.'\u001b[0m,\n",
       "        \u001b[32m'Score the actual output between 0 and 10, based on the accuracy and comprehensiveness of the information \u001b[0m\n",
       "\u001b[32mprovided, with 10 being exactly correct and 0 being completely incorrect.'\u001b[0m,\n",
       "        \u001b[32m'If there is not enough information in the retrieval context to correctly answer the input, and the actual \u001b[0m\n",
       "\u001b[32moutput indicates that the input cannot be answered with the provided context, then return a score of 10.'\u001b[0m\n",
       "    \u001b[1m]\u001b[0m,\n",
       "    \u001b[32m'_threshold'\u001b[0m: \u001b[1;36m0.5\u001b[0m,\n",
       "    \u001b[32m'strict_mode'\u001b[0m: \u001b[3;91mFalse\u001b[0m,\n",
       "    \u001b[32m'async_mode'\u001b[0m: \u001b[3;92mTrue\u001b[0m,\n",
       "    \u001b[32m'evaluation_cost'\u001b[0m: \u001b[3;35mNone\u001b[0m,\n",
       "    \u001b[32m'reason'\u001b[0m: \u001b[32m'The actual output aligns with the retrieval context, mentioning the combination of a substance \u001b[0m\n",
       "\u001b[32m(\u001b[0m\u001b[32mKANA, likely ketamine\u001b[0m\u001b[32m)\u001b[0m\u001b[32m and a gratitude practice as discussed by Dr. Andrew Huberman. It cites the potential use of\u001b[0m\n",
       "\u001b[32mthis combination to enhance serotonergic transmission, which corresponds to the information given in the \u001b[0m\n",
       "\u001b[32mtranscripts. However, the score is not perfect because the output does not mention other possible substances such \u001b[0m\n",
       "\u001b[32mas MDMA or psilocybin, which are referenced in the retrieval context and also relate to serotonergic transmission. \u001b[0m\n",
       "\u001b[32mThe completeness could be slightly improved by incorporating information from all relevant parts of the provided \u001b[0m\n",
       "\u001b[32mtranscripts.'\u001b[0m,\n",
       "    \u001b[32m'score'\u001b[0m: \u001b[1;36m0.8\u001b[0m,\n",
       "    \u001b[32m'success'\u001b[0m: \u001b[3;92mTrue\u001b[0m\n",
       "\u001b[1m}\u001b[0m\n"
      ]
     },
     "metadata": {},
     "output_type": "display_data"
    },
    {
     "data": {
      "text/html": [
       "<pre style=\"white-space:pre;overflow-x:auto;line-height:normal;font-family:Menlo,'DejaVu Sans Mono',consolas,'Courier New',monospace\">What substance and practice combination might enhance serotonergic transmission in the brain in the future?\n",
       "</pre>\n"
      ],
      "text/plain": [
       "What substance and practice combination might enhance serotonergic transmission in the brain in the future?\n"
      ]
     },
     "metadata": {},
     "output_type": "display_data"
    },
    {
     "data": {
      "text/html": [
       "<pre style=\"white-space:pre;overflow-x:auto;line-height:normal;font-family:Menlo,'DejaVu Sans Mono',consolas,'Courier New',monospace\">The substance and practice combination that might enhance serotonergic transmission in the brain in the future, \n",
       "according to the transcripts, involves the combination of KANA <span style=\"font-weight: bold\">(</span>likely referring to ketamine<span style=\"font-weight: bold\">)</span> with a gratitude \n",
       "practice. Dr. Andrew Huberman, in the first transcript, discusses the potential future of enhancing serotonergic \n",
       "transmission in the brain by using something like KANA <span style=\"font-weight: bold\">(</span>ketamine<span style=\"font-weight: bold\">)</span> combined with a gratitude practice. He also \n",
       "mentions the possibility of combining this with some sort of non-invasive device to stimulate the prefrontal cortex\n",
       "at the same time. Therefore, the potential combination to enhance serotonergic transmission in the brain in the \n",
       "future involves ketamine and a gratitude practice.\n",
       "</pre>\n"
      ],
      "text/plain": [
       "The substance and practice combination that might enhance serotonergic transmission in the brain in the future, \n",
       "according to the transcripts, involves the combination of KANA \u001b[1m(\u001b[0mlikely referring to ketamine\u001b[1m)\u001b[0m with a gratitude \n",
       "practice. Dr. Andrew Huberman, in the first transcript, discusses the potential future of enhancing serotonergic \n",
       "transmission in the brain by using something like KANA \u001b[1m(\u001b[0mketamine\u001b[1m)\u001b[0m combined with a gratitude practice. He also \n",
       "mentions the possibility of combining this with some sort of non-invasive device to stimulate the prefrontal cortex\n",
       "at the same time. Therefore, the potential combination to enhance serotonergic transmission in the brain in the \n",
       "future involves ketamine and a gratitude practice.\n"
      ]
     },
     "metadata": {},
     "output_type": "display_data"
    },
    {
     "data": {
      "text/html": [
       "<pre style=\"white-space:pre;overflow-x:auto;line-height:normal;font-family:Menlo,'DejaVu Sans Mono',consolas,'Courier New',monospace\"><span style=\"font-weight: bold\">[</span>\n",
       "    <span style=\"color: #008000; text-decoration-color: #008000\">'\\nShow Summary: In episode 47 of the Huberman Lab podcast, Dr. Andrew Huberman discusses the science of </span>\n",
       "<span style=\"color: #008000; text-decoration-color: #008000\">gratitude and its profound impact on mental and physical health. He debunks the common misconception that an </span>\n",
       "<span style=\"color: #008000; text-decoration-color: #008000\">effective gratitude practice merely involves listing things one is thankful for. Instead, he highlights </span>\n",
       "<span style=\"color: #008000; text-decoration-color: #008000\">neuroimaging and physiological data that suggest a different approach is necessary. Huberman emphasizes that </span>\n",
       "<span style=\"color: #008000; text-decoration-color: #008000\">receiving gratitude can significantly activate neural circuits associated with health benefits. He also explores </span>\n",
       "<span style=\"color: #008000; text-decoration-color: #008000\">the concept of \"theory of mind\" and its relation to pro-social behaviors. The episode delves into how narrative </span>\n",
       "<span style=\"color: #008000; text-decoration-color: #008000\">stories of gratitude can synchronize physiological responses, such as heart rate, among listeners. Huberman also </span>\n",
       "<span style=\"color: #008000; text-decoration-color: #008000\">explains how gratitude practices can reshape neural circuits, reducing anxiety and increasing motivation. </span>\n",
       "<span style=\"color: #008000; text-decoration-color: #008000\">Additionally, he touches on neurochemical aspects, specifically serotonin\\'s role in enhancing pro-social behaviors</span>\n",
       "<span style=\"color: #008000; text-decoration-color: #008000\">and how certain supplements might influence gratitude practices. Lastly, Huberman suggests a practical gratitude </span>\n",
       "<span style=\"color: #008000; text-decoration-color: #008000\">practice framework, including frequency and timing, to harness these benefits.\\nShow Guest: Andrew </span>\n",
       "<span style=\"color: #008000; text-decoration-color: #008000\">Huberman\\nTranscript: Taking a substance that increases a neurochemical in your brain will likely, provided it\\'s </span>\n",
       "<span style=\"color: #008000; text-decoration-color: #008000\">the right substance and it\\'s the right practice, will likely enhance the amplitude or the intensity of that </span>\n",
       "<span style=\"color: #008000; text-decoration-color: #008000\">practice and make it a more potent form of inducing neuroplasticity, meaning it will create longer lasting or more </span>\n",
       "<span style=\"color: #008000; text-decoration-color: #008000\">robust brain changes than if one hadn\\'t increased their chemistry in this way, this way of taking something. But </span>\n",
       "<span style=\"color: #008000; text-decoration-color: #008000\">that doesn\\'t necessarily mean that you couldn\\'t get to the very same place without it by simply doing a slightly </span>\n",
       "<span style=\"color: #008000; text-decoration-color: #008000\">longer gratitude practice or putting a little bit more mental effort into it. That said, I think the future of </span>\n",
       "<span style=\"color: #008000; text-decoration-color: #008000\">neuroplasticity really resides in not just one approach, not just neurochemistry and taking substances to increase </span>\n",
       "<span style=\"color: #008000; text-decoration-color: #008000\">neuroplasticity, not just behavioral practices to try and increase neuroplasticity, not just brain machine </span>\n",
       "<span style=\"color: #008000; text-decoration-color: #008000\">interfaces or devices to increase neuroplasticity, but rather the convergence of multiple tools. So you could </span>\n",
       "<span style=\"color: #008000; text-decoration-color: #008000\">imagine enhancing serotonergic transmission, as we say in the brain, using something like KANA combined with a </span>\n",
       "<span style=\"color: #008000; text-decoration-color: #008000\">gratitude practice in the not too distant future. This will probably also be combined with some sort of </span>\n",
       "<span style=\"color: #008000; text-decoration-color: #008000\">non-invasive device to stimulate the prefrontal cortex at the same time.\\n------------------------\\n'</span>,\n",
       "    <span style=\"color: #008000; text-decoration-color: #008000\">'\\nShow Summary: In the episode titled \"Dr. Karl Deisseroth: Understanding &amp; Healing the Mind\" of the Huberman </span>\n",
       "<span style=\"color: #008000; text-decoration-color: #008000\">Lab podcast, Dr. Andrew Huberman interviews Dr. Karl Deisseroth, a psychiatrist and neuroscientist at Stanford </span>\n",
       "<span style=\"color: #008000; text-decoration-color: #008000\">School of Medicine. They discuss the groundbreaking work of Dr. Deisseroth\\'s lab in developing optogenetics, a </span>\n",
       "<span style=\"color: #008000; text-decoration-color: #008000\">technique using light to control neurons, which has transformative potential for understanding and treating </span>\n",
       "<span style=\"color: #008000; text-decoration-color: #008000\">psychiatric disorders. They explore the implications of this technology for conditions like depression, OCD, </span>\n",
       "<span style=\"color: #008000; text-decoration-color: #008000\">autism, and blindness. Additionally, they delve into the future of psychiatric treatment, the challenges of </span>\n",
       "<span style=\"color: #008000; text-decoration-color: #008000\">specificity in medication, and the potential for non-invasive treatments informed by optogenetic research. Dr. </span>\n",
       "<span style=\"color: #008000; text-decoration-color: #008000\">Deisseroth also shares insights on the art and science of psychiatry, the importance of understanding patients\\' </span>\n",
       "<span style=\"color: #008000; text-decoration-color: #008000\">experiences, and the potential for brain-machine interfaces in mental health treatment.\\nShow Guest: Dr. Karl </span>\n",
       "<span style=\"color: #008000; text-decoration-color: #008000\">Deisseroth\\nTranscript: Are these opening up new paths or representations of paths into the future? MDMA, ecstasy, </span>\n",
       "<span style=\"color: #008000; text-decoration-color: #008000\">is a unique compound in that it leads to big increases in brain levels of dopamine and serotonin simultaneously. </span>\n",
       "<span style=\"color: #008000; text-decoration-color: #008000\">And I realize that the neuromodulators like dopamine and serotonin often work in concert, not alone, the way </span>\n",
       "<span style=\"color: #008000; text-decoration-color: #008000\">they\\'re commonly described in the more general popular discussions. However, it is a unique compound and it\\'s </span>\n",
       "<span style=\"color: #008000; text-decoration-color: #008000\">different than the serotonergic compounds like LSD and psilocybin. And there are now data still emerging that it </span>\n",
       "<span style=\"color: #008000; text-decoration-color: #008000\">might be, and in some cases can be useful for the treatment of trauma, PTSD and similar things. Why would that </span>\n",
       "<span style=\"color: #008000; text-decoration-color: #008000\">work? And a larger question, perhaps the more important question is psychedelics, MDMA, LSD, all those compounds, </span>\n",
       "<span style=\"color: #008000; text-decoration-color: #008000\">in my mind, there are two components. There\\'s the experience you have while you\\'re on them. And then there\\'s the</span>\n",
       "<span style=\"color: #008000; text-decoration-color: #008000\">effect they have after. People are generating variations of these compounds that are non-hallucinatory </span>\n",
       "<span style=\"color: #008000; text-decoration-color: #008000\">variations.\\n------------------------\\n'</span>,\n",
       "    <span style=\"color: #008000; text-decoration-color: #008000\">\"\\nShow Summary: In the Huberman Lab Podcast episode 103, Andrew Huberman discusses the neural mechanisms and </span>\n",
       "<span style=\"color: #008000; text-decoration-color: #008000\">processes that underlie creativity. He explains that creativity is not just an abstract concept but is rooted in </span>\n",
       "<span style=\"color: #008000; text-decoration-color: #008000\">specific neural circuits that can be activated in a particular sequence to foster creative thinking. Huberman </span>\n",
       "<span style=\"color: #008000; text-decoration-color: #008000\">emphasizes that everyone has the capacity for creativity as it stems from a subset of neural structures in the </span>\n",
       "<span style=\"color: #008000; text-decoration-color: #008000\">brain. He outlines that creativity involves both divergent thinking, which is generating a wide range of ideas from</span>\n",
       "<span style=\"color: #008000; text-decoration-color: #008000\">a single starting point, and convergent thinking, which is narrowing down those ideas to find the most useful and </span>\n",
       "<span style=\"color: #008000; text-decoration-color: #008000\">novel ones.\\n\\nHuberman delves into the role of dopamine in creativity, highlighting two key pathways: the </span>\n",
       "<span style=\"color: #008000; text-decoration-color: #008000\">nigrostriatal pathway, which is associated with divergent thinking and movement, and the mesocortical pathway, </span>\n",
       "<span style=\"color: #008000; text-decoration-color: #008000\">which is associated with convergent thinking, motivation, and emotion. He suggests that open monitoring meditations</span>\n",
       "<span style=\"color: #008000; text-decoration-color: #008000\">can help enhance divergent thinking by allowing for the free flow of thoughts without judgment,\\nShow Guest: Andrew</span>\n",
       "<span style=\"color: #008000; text-decoration-color: #008000\">Huberman\\nTranscript: Now, there are forms of pharmacology that can shift brain neurotransmitters and </span>\n",
       "<span style=\"color: #008000; text-decoration-color: #008000\">neuromodulators in ways that favor creativity. And this is certainly a topic that we will go into in more depth in </span>\n",
       "<span style=\"color: #008000; text-decoration-color: #008000\">a future episode, but there's an exciting study that was performed just this last year, looking at the role of </span>\n",
       "<span style=\"color: #008000; text-decoration-color: #008000\">serotonin, another neuromodulator, in divergent and convergent thinking. And it turns out that serotonin underlies </span>\n",
       "<span style=\"color: #008000; text-decoration-color: #008000\">a lot of the brain activity that's responsible for both divergent and for convergent thinking. And there's one </span>\n",
       "<span style=\"color: #008000; text-decoration-color: #008000\">particular form of pharmacology, which can enhance activation of the serotonergic pathways associated with the </span>\n",
       "<span style=\"color: #008000; text-decoration-color: #008000\">so-called 5-HT, that's serotonin, 5-HT, that's the abbreviation, 5-HT2A receptor, serotonin 2A receptor in </span>\n",
       "<span style=\"color: #008000; text-decoration-color: #008000\">particular brain areas in ways that favor both divergent and convergent thinking. And the pharmacologic agent in </span>\n",
       "<span style=\"color: #008000; text-decoration-color: #008000\">that case turns out to be very low dose, or as some of you may have heard of it referred to as micro dosing of </span>\n",
       "<span style=\"color: #008000; text-decoration-color: #008000\">psilocybin.\\n------------------------\\n\"</span>\n",
       "<span style=\"font-weight: bold\">]</span>\n",
       "</pre>\n"
      ],
      "text/plain": [
       "\u001b[1m[\u001b[0m\n",
       "    \u001b[32m'\\nShow Summary: In episode 47 of the Huberman Lab podcast, Dr. Andrew Huberman discusses the science of \u001b[0m\n",
       "\u001b[32mgratitude and its profound impact on mental and physical health. He debunks the common misconception that an \u001b[0m\n",
       "\u001b[32meffective gratitude practice merely involves listing things one is thankful for. Instead, he highlights \u001b[0m\n",
       "\u001b[32mneuroimaging and physiological data that suggest a different approach is necessary. Huberman emphasizes that \u001b[0m\n",
       "\u001b[32mreceiving gratitude can significantly activate neural circuits associated with health benefits. He also explores \u001b[0m\n",
       "\u001b[32mthe concept of \"theory of mind\" and its relation to pro-social behaviors. The episode delves into how narrative \u001b[0m\n",
       "\u001b[32mstories of gratitude can synchronize physiological responses, such as heart rate, among listeners. Huberman also \u001b[0m\n",
       "\u001b[32mexplains how gratitude practices can reshape neural circuits, reducing anxiety and increasing motivation. \u001b[0m\n",
       "\u001b[32mAdditionally, he touches on neurochemical aspects, specifically serotonin\\'s role in enhancing pro-social behaviors\u001b[0m\n",
       "\u001b[32mand how certain supplements might influence gratitude practices. Lastly, Huberman suggests a practical gratitude \u001b[0m\n",
       "\u001b[32mpractice framework, including frequency and timing, to harness these benefits.\\nShow Guest: Andrew \u001b[0m\n",
       "\u001b[32mHuberman\\nTranscript: Taking a substance that increases a neurochemical in your brain will likely, provided it\\'s \u001b[0m\n",
       "\u001b[32mthe right substance and it\\'s the right practice, will likely enhance the amplitude or the intensity of that \u001b[0m\n",
       "\u001b[32mpractice and make it a more potent form of inducing neuroplasticity, meaning it will create longer lasting or more \u001b[0m\n",
       "\u001b[32mrobust brain changes than if one hadn\\'t increased their chemistry in this way, this way of taking something. But \u001b[0m\n",
       "\u001b[32mthat doesn\\'t necessarily mean that you couldn\\'t get to the very same place without it by simply doing a slightly \u001b[0m\n",
       "\u001b[32mlonger gratitude practice or putting a little bit more mental effort into it. That said, I think the future of \u001b[0m\n",
       "\u001b[32mneuroplasticity really resides in not just one approach, not just neurochemistry and taking substances to increase \u001b[0m\n",
       "\u001b[32mneuroplasticity, not just behavioral practices to try and increase neuroplasticity, not just brain machine \u001b[0m\n",
       "\u001b[32minterfaces or devices to increase neuroplasticity, but rather the convergence of multiple tools. So you could \u001b[0m\n",
       "\u001b[32mimagine enhancing serotonergic transmission, as we say in the brain, using something like KANA combined with a \u001b[0m\n",
       "\u001b[32mgratitude practice in the not too distant future. This will probably also be combined with some sort of \u001b[0m\n",
       "\u001b[32mnon-invasive device to stimulate the prefrontal cortex at the same time.\\n------------------------\\n'\u001b[0m,\n",
       "    \u001b[32m'\\nShow Summary: In the episode titled \"Dr. Karl Deisseroth: Understanding & Healing the Mind\" of the Huberman \u001b[0m\n",
       "\u001b[32mLab podcast, Dr. Andrew Huberman interviews Dr. Karl Deisseroth, a psychiatrist and neuroscientist at Stanford \u001b[0m\n",
       "\u001b[32mSchool of Medicine. They discuss the groundbreaking work of Dr. Deisseroth\\'s lab in developing optogenetics, a \u001b[0m\n",
       "\u001b[32mtechnique using light to control neurons, which has transformative potential for understanding and treating \u001b[0m\n",
       "\u001b[32mpsychiatric disorders. They explore the implications of this technology for conditions like depression, OCD, \u001b[0m\n",
       "\u001b[32mautism, and blindness. Additionally, they delve into the future of psychiatric treatment, the challenges of \u001b[0m\n",
       "\u001b[32mspecificity in medication, and the potential for non-invasive treatments informed by optogenetic research. Dr. \u001b[0m\n",
       "\u001b[32mDeisseroth also shares insights on the art and science of psychiatry, the importance of understanding patients\\' \u001b[0m\n",
       "\u001b[32mexperiences, and the potential for brain-machine interfaces in mental health treatment.\\nShow Guest: Dr. Karl \u001b[0m\n",
       "\u001b[32mDeisseroth\\nTranscript: Are these opening up new paths or representations of paths into the future? MDMA, ecstasy, \u001b[0m\n",
       "\u001b[32mis a unique compound in that it leads to big increases in brain levels of dopamine and serotonin simultaneously. \u001b[0m\n",
       "\u001b[32mAnd I realize that the neuromodulators like dopamine and serotonin often work in concert, not alone, the way \u001b[0m\n",
       "\u001b[32mthey\\'re commonly described in the more general popular discussions. However, it is a unique compound and it\\'s \u001b[0m\n",
       "\u001b[32mdifferent than the serotonergic compounds like LSD and psilocybin. And there are now data still emerging that it \u001b[0m\n",
       "\u001b[32mmight be, and in some cases can be useful for the treatment of trauma, PTSD and similar things. Why would that \u001b[0m\n",
       "\u001b[32mwork? And a larger question, perhaps the more important question is psychedelics, MDMA, LSD, all those compounds, \u001b[0m\n",
       "\u001b[32min my mind, there are two components. There\\'s the experience you have while you\\'re on them. And then there\\'s the\u001b[0m\n",
       "\u001b[32meffect they have after. People are generating variations of these compounds that are non-hallucinatory \u001b[0m\n",
       "\u001b[32mvariations.\\n------------------------\\n'\u001b[0m,\n",
       "    \u001b[32m\"\\nShow Summary: In the Huberman Lab Podcast episode 103, Andrew Huberman discusses the neural mechanisms and \u001b[0m\n",
       "\u001b[32mprocesses that underlie creativity. He explains that creativity is not just an abstract concept but is rooted in \u001b[0m\n",
       "\u001b[32mspecific neural circuits that can be activated in a particular sequence to foster creative thinking. Huberman \u001b[0m\n",
       "\u001b[32memphasizes that everyone has the capacity for creativity as it stems from a subset of neural structures in the \u001b[0m\n",
       "\u001b[32mbrain. He outlines that creativity involves both divergent thinking, which is generating a wide range of ideas from\u001b[0m\n",
       "\u001b[32ma single starting point, and convergent thinking, which is narrowing down those ideas to find the most useful and \u001b[0m\n",
       "\u001b[32mnovel ones.\\n\\nHuberman delves into the role of dopamine in creativity, highlighting two key pathways: the \u001b[0m\n",
       "\u001b[32mnigrostriatal pathway, which is associated with divergent thinking and movement, and the mesocortical pathway, \u001b[0m\n",
       "\u001b[32mwhich is associated with convergent thinking, motivation, and emotion. He suggests that open monitoring meditations\u001b[0m\n",
       "\u001b[32mcan help enhance divergent thinking by allowing for the free flow of thoughts without judgment,\\nShow Guest: Andrew\u001b[0m\n",
       "\u001b[32mHuberman\\nTranscript: Now, there are forms of pharmacology that can shift brain neurotransmitters and \u001b[0m\n",
       "\u001b[32mneuromodulators in ways that favor creativity. And this is certainly a topic that we will go into in more depth in \u001b[0m\n",
       "\u001b[32ma future episode, but there's an exciting study that was performed just this last year, looking at the role of \u001b[0m\n",
       "\u001b[32mserotonin, another neuromodulator, in divergent and convergent thinking. And it turns out that serotonin underlies \u001b[0m\n",
       "\u001b[32ma lot of the brain activity that's responsible for both divergent and for convergent thinking. And there's one \u001b[0m\n",
       "\u001b[32mparticular form of pharmacology, which can enhance activation of the serotonergic pathways associated with the \u001b[0m\n",
       "\u001b[32mso-called 5-HT, that's serotonin, 5-HT, that's the abbreviation, 5-HT2A receptor, serotonin 2A receptor in \u001b[0m\n",
       "\u001b[32mparticular brain areas in ways that favor both divergent and convergent thinking. And the pharmacologic agent in \u001b[0m\n",
       "\u001b[32mthat case turns out to be very low dose, or as some of you may have heard of it referred to as micro dosing of \u001b[0m\n",
       "\u001b[32mpsilocybin.\\n------------------------\\n\"\u001b[0m\n",
       "\u001b[1m]\u001b[0m\n"
      ]
     },
     "metadata": {},
     "output_type": "display_data"
    },
    {
     "data": {
      "text/html": [
       "<pre style=\"white-space:pre;overflow-x:auto;line-height:normal;font-family:Menlo,'DejaVu Sans Mono',consolas,'Courier New',monospace\">\n",
       "\n",
       "</pre>\n"
      ],
      "text/plain": [
       "\n",
       "\n"
      ]
     },
     "metadata": {},
     "output_type": "display_data"
    },
    {
     "data": {
      "text/html": [
       "<pre style=\"white-space:pre;overflow-x:auto;line-height:normal;font-family:Menlo,'DejaVu Sans Mono',consolas,'Courier New',monospace\">****************************************************************************************************\n",
       "</pre>\n"
      ],
      "text/plain": [
       "****************************************************************************************************\n"
      ]
     },
     "metadata": {},
     "output_type": "display_data"
    },
    {
     "data": {
      "text/html": [
       "<pre style=\"white-space:pre;overflow-x:auto;line-height:normal;font-family:Menlo,'DejaVu Sans Mono',consolas,'Courier New',monospace\">\n",
       "\n",
       "</pre>\n"
      ],
      "text/plain": [
       "\n",
       "\n"
      ]
     },
     "metadata": {},
     "output_type": "display_data"
    },
    {
     "data": {
      "text/html": [
       "<pre style=\"white-space:pre;overflow-x:auto;line-height:normal;font-family:Menlo,'DejaVu Sans Mono',consolas,'Courier New',monospace\"><span style=\"font-weight: bold\">{</span>\n",
       "    <span style=\"color: #008000; text-decoration-color: #008000\">'name'</span>: <span style=\"color: #008000; text-decoration-color: #008000\">'AnswerCorrectness'</span>,\n",
       "    <span style=\"color: #008000; text-decoration-color: #008000\">'criteria'</span>: <span style=\"color: #800080; text-decoration-color: #800080; font-style: italic\">None</span>,\n",
       "    <span style=\"color: #008000; text-decoration-color: #008000\">'using_native_model'</span>: <span style=\"color: #ff0000; text-decoration-color: #ff0000; font-style: italic\">False</span>,\n",
       "    <span style=\"color: #008000; text-decoration-color: #008000\">'evaluation_model'</span>: <span style=\"color: #008000; text-decoration-color: #008000\">'gpt-4'</span>,\n",
       "    <span style=\"color: #008000; text-decoration-color: #008000\">'evaluation_steps'</span>: <span style=\"font-weight: bold\">[</span>\n",
       "        <span style=\"color: #008000; text-decoration-color: #008000\">'Compare the actual output with the retrieval context to verify factual accuracy.'</span>,\n",
       "        <span style=\"color: #008000; text-decoration-color: #008000\">'Assess if the actual output effectively addresses the specific information requirement stated in the </span>\n",
       "<span style=\"color: #008000; text-decoration-color: #008000\">input.'</span>,\n",
       "        <span style=\"color: #008000; text-decoration-color: #008000\">'Determine the comprehensiveness of the actual output in addressing all key aspects mentioned in the </span>\n",
       "<span style=\"color: #008000; text-decoration-color: #008000\">input.'</span>,\n",
       "        <span style=\"color: #008000; text-decoration-color: #008000\">'Score the actual output between 0 and 10, based on the accuracy and comprehensiveness of the information </span>\n",
       "<span style=\"color: #008000; text-decoration-color: #008000\">provided, with 10 being exactly correct and 0 being completely incorrect.'</span>,\n",
       "        <span style=\"color: #008000; text-decoration-color: #008000\">'If there is not enough information in the retrieval context to correctly answer the input, and the actual </span>\n",
       "<span style=\"color: #008000; text-decoration-color: #008000\">output indicates that the input cannot be answered with the provided context, then return a score of 10.'</span>\n",
       "    <span style=\"font-weight: bold\">]</span>,\n",
       "    <span style=\"color: #008000; text-decoration-color: #008000\">'_threshold'</span>: <span style=\"color: #008080; text-decoration-color: #008080; font-weight: bold\">0.5</span>,\n",
       "    <span style=\"color: #008000; text-decoration-color: #008000\">'strict_mode'</span>: <span style=\"color: #ff0000; text-decoration-color: #ff0000; font-style: italic\">False</span>,\n",
       "    <span style=\"color: #008000; text-decoration-color: #008000\">'async_mode'</span>: <span style=\"color: #00ff00; text-decoration-color: #00ff00; font-style: italic\">True</span>,\n",
       "    <span style=\"color: #008000; text-decoration-color: #008000\">'evaluation_cost'</span>: <span style=\"color: #800080; text-decoration-color: #800080; font-style: italic\">None</span>,\n",
       "    <span style=\"color: #008000; text-decoration-color: #008000\">'reason'</span>: <span style=\"color: #008000; text-decoration-color: #008000\">\"The actual output accurately reflects the retrieval context provided by Dr. Oded Rechavi's </span>\n",
       "<span style=\"color: #008000; text-decoration-color: #008000\">discussion on the role of MOTEC genes in genetic inheritance, particularly in timing the duration of inheritance. </span>\n",
       "<span style=\"color: #008000; text-decoration-color: #008000\">It is relevant and sufficiently detailed, indicating that MOTEC genes prevent the indefinite transmission of </span>\n",
       "<span style=\"color: #008000; text-decoration-color: #008000\">inherited traits by acting like a clock. The output, while thorough, does not capture the entire complexity of </span>\n",
       "<span style=\"color: #008000; text-decoration-color: #008000\">epigenetic inheritance debates or the comparison with environmental influences as mentioned in the context, which </span>\n",
       "<span style=\"color: #008000; text-decoration-color: #008000\">would have provided a more exhaustive understanding.\"</span>,\n",
       "    <span style=\"color: #008000; text-decoration-color: #008000\">'score'</span>: <span style=\"color: #008080; text-decoration-color: #008080; font-weight: bold\">0.8</span>,\n",
       "    <span style=\"color: #008000; text-decoration-color: #008000\">'success'</span>: <span style=\"color: #00ff00; text-decoration-color: #00ff00; font-style: italic\">True</span>\n",
       "<span style=\"font-weight: bold\">}</span>\n",
       "</pre>\n"
      ],
      "text/plain": [
       "\u001b[1m{\u001b[0m\n",
       "    \u001b[32m'name'\u001b[0m: \u001b[32m'AnswerCorrectness'\u001b[0m,\n",
       "    \u001b[32m'criteria'\u001b[0m: \u001b[3;35mNone\u001b[0m,\n",
       "    \u001b[32m'using_native_model'\u001b[0m: \u001b[3;91mFalse\u001b[0m,\n",
       "    \u001b[32m'evaluation_model'\u001b[0m: \u001b[32m'gpt-4'\u001b[0m,\n",
       "    \u001b[32m'evaluation_steps'\u001b[0m: \u001b[1m[\u001b[0m\n",
       "        \u001b[32m'Compare the actual output with the retrieval context to verify factual accuracy.'\u001b[0m,\n",
       "        \u001b[32m'Assess if the actual output effectively addresses the specific information requirement stated in the \u001b[0m\n",
       "\u001b[32minput.'\u001b[0m,\n",
       "        \u001b[32m'Determine the comprehensiveness of the actual output in addressing all key aspects mentioned in the \u001b[0m\n",
       "\u001b[32minput.'\u001b[0m,\n",
       "        \u001b[32m'Score the actual output between 0 and 10, based on the accuracy and comprehensiveness of the information \u001b[0m\n",
       "\u001b[32mprovided, with 10 being exactly correct and 0 being completely incorrect.'\u001b[0m,\n",
       "        \u001b[32m'If there is not enough information in the retrieval context to correctly answer the input, and the actual \u001b[0m\n",
       "\u001b[32moutput indicates that the input cannot be answered with the provided context, then return a score of 10.'\u001b[0m\n",
       "    \u001b[1m]\u001b[0m,\n",
       "    \u001b[32m'_threshold'\u001b[0m: \u001b[1;36m0.5\u001b[0m,\n",
       "    \u001b[32m'strict_mode'\u001b[0m: \u001b[3;91mFalse\u001b[0m,\n",
       "    \u001b[32m'async_mode'\u001b[0m: \u001b[3;92mTrue\u001b[0m,\n",
       "    \u001b[32m'evaluation_cost'\u001b[0m: \u001b[3;35mNone\u001b[0m,\n",
       "    \u001b[32m'reason'\u001b[0m: \u001b[32m\"The actual output accurately reflects the retrieval context provided by Dr. Oded Rechavi's \u001b[0m\n",
       "\u001b[32mdiscussion on the role of MOTEC genes in genetic inheritance, particularly in timing the duration of inheritance. \u001b[0m\n",
       "\u001b[32mIt is relevant and sufficiently detailed, indicating that MOTEC genes prevent the indefinite transmission of \u001b[0m\n",
       "\u001b[32minherited traits by acting like a clock. The output, while thorough, does not capture the entire complexity of \u001b[0m\n",
       "\u001b[32mepigenetic inheritance debates or the comparison with environmental influences as mentioned in the context, which \u001b[0m\n",
       "\u001b[32mwould have provided a more exhaustive understanding.\"\u001b[0m,\n",
       "    \u001b[32m'score'\u001b[0m: \u001b[1;36m0.8\u001b[0m,\n",
       "    \u001b[32m'success'\u001b[0m: \u001b[3;92mTrue\u001b[0m\n",
       "\u001b[1m}\u001b[0m\n"
      ]
     },
     "metadata": {},
     "output_type": "display_data"
    },
    {
     "data": {
      "text/html": [
       "<pre style=\"white-space:pre;overflow-x:auto;line-height:normal;font-family:Menlo,'DejaVu Sans Mono',consolas,'Courier New',monospace\">What is the role of MOTEC genes in determining the duration of inheritance for specific traits?\n",
       "</pre>\n"
      ],
      "text/plain": [
       "What is the role of MOTEC genes in determining the duration of inheritance for specific traits?\n"
      ]
     },
     "metadata": {},
     "output_type": "display_data"
    },
    {
     "data": {
      "text/html": [
       "<pre style=\"white-space:pre;overflow-x:auto;line-height:normal;font-family:Menlo,'DejaVu Sans Mono',consolas,'Courier New',monospace\">The MOTEC genes play a role in determining the duration of inheritance for specific traits. Dr. Oded Rechavi \n",
       "explains that they have identified genes, such as MOTEC genes, that regulate how long an effect of inheritance \n",
       "lasts. These genes function as a sort of clock that times the duration of the inheritance. When these genes are \n",
       "disrupted or mutated, the effect of inheritance can transmit stably for hundreds of generations, indicating that \n",
       "their role is to stop the inheritance from lasting forever. This regulation is important to ensure that inherited \n",
       "traits are still relevant to the environment of the parents and do not persist indefinitely. Therefore, MOTEC genes\n",
       "are involved in controlling the duration of inheritance for specific traits, ensuring that they are not passed down\n",
       "indefinitely.\n",
       "</pre>\n"
      ],
      "text/plain": [
       "The MOTEC genes play a role in determining the duration of inheritance for specific traits. Dr. Oded Rechavi \n",
       "explains that they have identified genes, such as MOTEC genes, that regulate how long an effect of inheritance \n",
       "lasts. These genes function as a sort of clock that times the duration of the inheritance. When these genes are \n",
       "disrupted or mutated, the effect of inheritance can transmit stably for hundreds of generations, indicating that \n",
       "their role is to stop the inheritance from lasting forever. This regulation is important to ensure that inherited \n",
       "traits are still relevant to the environment of the parents and do not persist indefinitely. Therefore, MOTEC genes\n",
       "are involved in controlling the duration of inheritance for specific traits, ensuring that they are not passed down\n",
       "indefinitely.\n"
      ]
     },
     "metadata": {},
     "output_type": "display_data"
    },
    {
     "data": {
      "text/html": [
       "<pre style=\"white-space:pre;overflow-x:auto;line-height:normal;font-family:Menlo,'DejaVu Sans Mono',consolas,'Courier New',monospace\"><span style=\"font-weight: bold\">[</span>\n",
       "    <span style=\"color: #008000; text-decoration-color: #008000\">\"\\nShow Summary: In this episode, Dr. Andrew Huberman discusses with Dr. Oded Rechavi the fascinating concept </span>\n",
       "<span style=\"color: #008000; text-decoration-color: #008000\">of genetic inheritance and the impact of parental experiences on future generations. Dr. Rechavi explains that </span>\n",
       "<span style=\"color: #008000; text-decoration-color: #008000\">while traditional genetic inheritance is well understood, recent evidence suggests that acquired traits and even </span>\n",
       "<span style=\"color: #008000; text-decoration-color: #008000\">memories can be passed down through epigenetic mechanisms. This means that experiences can modify our genes in ways</span>\n",
       "<span style=\"color: #008000; text-decoration-color: #008000\">that affect our offspring and even multiple generations down the line.\\n\\nDr. Rechavi provides an accessible </span>\n",
       "<span style=\"color: #008000; text-decoration-color: #008000\">overview of genetics, epigenetics, and the mechanisms by which certain experiences can lead to genetic </span>\n",
       "<span style=\"color: #008000; text-decoration-color: #008000\">modifications. He emphasizes the importance of RNA in potentially mediating these transgenerational effects. The </span>\n",
       "<span style=\"color: #008000; text-decoration-color: #008000\">conversation also touches on the complexities of distinguishing between genetic and environmental influences on </span>\n",
       "<span style=\"color: #008000; text-decoration-color: #008000\">traits and the ongoing debates in the scientific community regarding the extent of epigenetic inheritance in </span>\n",
       "<span style=\"color: #008000; text-decoration-color: #008000\">humans.\\n\\nThe episode delves into the significance of model organisms like C. elegans (nematodes) in studying </span>\n",
       "<span style=\"color: #008000; text-decoration-color: #008000\">these genetic phenomena. Dr. Rech\\nShow Guest: Dr. Oded Rechavi\\nTranscript: We later also identify genes that </span>\n",
       "<span style=\"color: #008000; text-decoration-color: #008000\">regulate for how long an effect would last. Otherwise, if in the beginning we ask how does it stop after one </span>\n",
       "<span style=\"color: #008000; text-decoration-color: #008000\">generation, now we have to ask why doesn't it last forever? And it doesn't. Typically, we see that the responses </span>\n",
       "<span style=\"color: #008000; text-decoration-color: #008000\">last not only with the viral resistance, but also with other traits for a few generations, three to five </span>\n",
       "<span style=\"color: #008000; text-decoration-color: #008000\">generations. We found genes that function as a sort of a clock that times the duration of the inheritance. What </span>\n",
       "<span style=\"color: #008000; text-decoration-color: #008000\">sorts of genes are those? So we call these genes MOTEC genes. MOTEC, I don't know how is your Hebrew, but MOTEC, it</span>\n",
       "<span style=\"color: #008000; text-decoration-color: #008000\">means sweetheart in Hebrew. But the acronym is Modified Transgenerational Epigenetic Kinetics. There are different </span>\n",
       "<span style=\"color: #008000; text-decoration-color: #008000\">types of genes like that. And for some of them, if you mutate, if you disrupt their function, now the effect would </span>\n",
       "<span style=\"color: #008000; text-decoration-color: #008000\">transmit stably for hundreds of generations. It would never stop. Because their role is to stop the inheritance </span>\n",
       "<span style=\"color: #008000; text-decoration-color: #008000\">from just, you don't want to carry over something forever, otherwise it will no longer fit the environment of the </span>\n",
       "<span style=\"color: #008000; text-decoration-color: #008000\">parents, and you'll be prepared for the wrong things. So this is important.\\n------------------------\\n\"</span>,\n",
       "    <span style=\"color: #008000; text-decoration-color: #008000\">\"\\nShow Summary: In this episode, Dr. Andrew Huberman discusses with Dr. Oded Rechavi the fascinating concept </span>\n",
       "<span style=\"color: #008000; text-decoration-color: #008000\">of genetic inheritance and the impact of parental experiences on future generations. Dr. Rechavi explains that </span>\n",
       "<span style=\"color: #008000; text-decoration-color: #008000\">while traditional genetic inheritance is well understood, recent evidence suggests that acquired traits and even </span>\n",
       "<span style=\"color: #008000; text-decoration-color: #008000\">memories can be passed down through epigenetic mechanisms. This means that experiences can modify our genes in ways</span>\n",
       "<span style=\"color: #008000; text-decoration-color: #008000\">that affect our offspring and even multiple generations down the line.\\n\\nDr. Rechavi provides an accessible </span>\n",
       "<span style=\"color: #008000; text-decoration-color: #008000\">overview of genetics, epigenetics, and the mechanisms by which certain experiences can lead to genetic </span>\n",
       "<span style=\"color: #008000; text-decoration-color: #008000\">modifications. He emphasizes the importance of RNA in potentially mediating these transgenerational effects. The </span>\n",
       "<span style=\"color: #008000; text-decoration-color: #008000\">conversation also touches on the complexities of distinguishing between genetic and environmental influences on </span>\n",
       "<span style=\"color: #008000; text-decoration-color: #008000\">traits and the ongoing debates in the scientific community regarding the extent of epigenetic inheritance in </span>\n",
       "<span style=\"color: #008000; text-decoration-color: #008000\">humans.\\n\\nThe episode delves into the significance of model organisms like C. elegans (nematodes) in studying </span>\n",
       "<span style=\"color: #008000; text-decoration-color: #008000\">these genetic phenomena. Dr. Rech\\nShow Guest: Dr. Oded Rechavi\\nTranscript: What type of genes are they? One gene </span>\n",
       "<span style=\"color: #008000; text-decoration-color: #008000\">that we studied it's called metu it's actually a gene that functions in methylation of the of the proteins that </span>\n",
       "<span style=\"color: #008000; text-decoration-color: #008000\">condense the dna so this is and there are but when there are other genes that affect also production of smaller ns </span>\n",
       "<span style=\"color: #008000; text-decoration-color: #008000\">is there some mechanism that controls the duration of passage in a way that logically links up with the lifespan of</span>\n",
       "<span style=\"color: #008000; text-decoration-color: #008000\">the organism? So for instance, I knew my grandparents, met them. I did not ever meet my great grandparents. And I </span>\n",
       "<span style=\"color: #008000; text-decoration-color: #008000\">certainly didn't meet my great, great grandparents. I could imagine that my great, great grandparents or my great </span>\n",
       "<span style=\"color: #008000; text-decoration-color: #008000\">grandparents experienced certain things that were passed into their children and uh perhaps into their children but</span>\n",
       "<span style=\"color: #008000; text-decoration-color: #008000\">it seems reasonable given that humans live somewhere between zero and uh a hundred years typically what now 80 </span>\n",
       "<span style=\"color: #008000; text-decoration-color: #008000\">years is that the typical lifespan more or less okay that the if i were going to design the system, and again, I </span>\n",
       "<span style=\"color: #008000; text-decoration-color: #008000\">was not consulted at the design phase, I would want an adaptive trait to be passed for two </span>\n",
       "<span style=\"color: #008000; text-decoration-color: #008000\">generations.\\n------------------------\\n\"</span>,\n",
       "    <span style=\"color: #008000; text-decoration-color: #008000\">\"\\nShow Summary: In this episode, Dr. Andrew Huberman discusses with Dr. Oded Rechavi the fascinating concept </span>\n",
       "<span style=\"color: #008000; text-decoration-color: #008000\">of genetic inheritance and the impact of parental experiences on future generations. Dr. Rechavi explains that </span>\n",
       "<span style=\"color: #008000; text-decoration-color: #008000\">while traditional genetic inheritance is well understood, recent evidence suggests that acquired traits and even </span>\n",
       "<span style=\"color: #008000; text-decoration-color: #008000\">memories can be passed down through epigenetic mechanisms. This means that experiences can modify our genes in ways</span>\n",
       "<span style=\"color: #008000; text-decoration-color: #008000\">that affect our offspring and even multiple generations down the line.\\n\\nDr. Rechavi provides an accessible </span>\n",
       "<span style=\"color: #008000; text-decoration-color: #008000\">overview of genetics, epigenetics, and the mechanisms by which certain experiences can lead to genetic </span>\n",
       "<span style=\"color: #008000; text-decoration-color: #008000\">modifications. He emphasizes the importance of RNA in potentially mediating these transgenerational effects. The </span>\n",
       "<span style=\"color: #008000; text-decoration-color: #008000\">conversation also touches on the complexities of distinguishing between genetic and environmental influences on </span>\n",
       "<span style=\"color: #008000; text-decoration-color: #008000\">traits and the ongoing debates in the scientific community regarding the extent of epigenetic inheritance in </span>\n",
       "<span style=\"color: #008000; text-decoration-color: #008000\">humans.\\n\\nThe episode delves into the significance of model organisms like C. elegans (nematodes) in studying </span>\n",
       "<span style=\"color: #008000; text-decoration-color: #008000\">these genetic phenomena. Dr. Rech\\nShow Guest: Dr. Oded Rechavi\\nTranscript: How specific can it be? Does it make </span>\n",
       "<span style=\"color: #008000; text-decoration-color: #008000\">sense for it to be specific? And in the case of C. elegans, the response can be very specific through this </span>\n",
       "<span style=\"color: #008000; text-decoration-color: #008000\">inheritance of RNAs, which are just sequence specific. They downregulate, they control one particular gene. In </span>\n",
       "<span style=\"color: #008000; text-decoration-color: #008000\">other cases, it could be a very general response. And it's very interesting to think about it when we talk about </span>\n",
       "<span style=\"color: #008000; text-decoration-color: #008000\">inheritance of memories, which is the most interesting thing we could imagine. Can brain activity of some sort </span>\n",
       "<span style=\"color: #008000; text-decoration-color: #008000\">transmit, at least in these worms? I said, Noah, I said this disclaimer multiple times in members we don't know, </span>\n",
       "<span style=\"color: #008000; text-decoration-color: #008000\">times will tell. In worms we know a lot. So can worms transmit brain activity to, do they have the specificity to </span>\n",
       "<span style=\"color: #008000; text-decoration-color: #008000\">do it? Okay. Before I'll say that, I'll just say that we over the years learned a lot about the mechanisms that </span>\n",
       "<span style=\"color: #008000; text-decoration-color: #008000\">shuttle the RNAs between generations. We know about genes that are needed just for that. About worms, it would be </span>\n",
       "<span style=\"color: #008000; text-decoration-color: #008000\">perfectly okay, but just don't have the capacity to transfer the RNAs to the next generations. We know about genes </span>\n",
       "<span style=\"color: #008000; text-decoration-color: #008000\">that will make the responses longer or shorter.\\n------------------------\\n\"</span>\n",
       "<span style=\"font-weight: bold\">]</span>\n",
       "</pre>\n"
      ],
      "text/plain": [
       "\u001b[1m[\u001b[0m\n",
       "    \u001b[32m\"\\nShow Summary: In this episode, Dr. Andrew Huberman discusses with Dr. Oded Rechavi the fascinating concept \u001b[0m\n",
       "\u001b[32mof genetic inheritance and the impact of parental experiences on future generations. Dr. Rechavi explains that \u001b[0m\n",
       "\u001b[32mwhile traditional genetic inheritance is well understood, recent evidence suggests that acquired traits and even \u001b[0m\n",
       "\u001b[32mmemories can be passed down through epigenetic mechanisms. This means that experiences can modify our genes in ways\u001b[0m\n",
       "\u001b[32mthat affect our offspring and even multiple generations down the line.\\n\\nDr. Rechavi provides an accessible \u001b[0m\n",
       "\u001b[32moverview of genetics, epigenetics, and the mechanisms by which certain experiences can lead to genetic \u001b[0m\n",
       "\u001b[32mmodifications. He emphasizes the importance of RNA in potentially mediating these transgenerational effects. The \u001b[0m\n",
       "\u001b[32mconversation also touches on the complexities of distinguishing between genetic and environmental influences on \u001b[0m\n",
       "\u001b[32mtraits and the ongoing debates in the scientific community regarding the extent of epigenetic inheritance in \u001b[0m\n",
       "\u001b[32mhumans.\\n\\nThe episode delves into the significance of model organisms like C. elegans \u001b[0m\u001b[32m(\u001b[0m\u001b[32mnematodes\u001b[0m\u001b[32m)\u001b[0m\u001b[32m in studying \u001b[0m\n",
       "\u001b[32mthese genetic phenomena. Dr. Rech\\nShow Guest: Dr. Oded Rechavi\\nTranscript: We later also identify genes that \u001b[0m\n",
       "\u001b[32mregulate for how long an effect would last. Otherwise, if in the beginning we ask how does it stop after one \u001b[0m\n",
       "\u001b[32mgeneration, now we have to ask why doesn't it last forever? And it doesn't. Typically, we see that the responses \u001b[0m\n",
       "\u001b[32mlast not only with the viral resistance, but also with other traits for a few generations, three to five \u001b[0m\n",
       "\u001b[32mgenerations. We found genes that function as a sort of a clock that times the duration of the inheritance. What \u001b[0m\n",
       "\u001b[32msorts of genes are those? So we call these genes MOTEC genes. MOTEC, I don't know how is your Hebrew, but MOTEC, it\u001b[0m\n",
       "\u001b[32mmeans sweetheart in Hebrew. But the acronym is Modified Transgenerational Epigenetic Kinetics. There are different \u001b[0m\n",
       "\u001b[32mtypes of genes like that. And for some of them, if you mutate, if you disrupt their function, now the effect would \u001b[0m\n",
       "\u001b[32mtransmit stably for hundreds of generations. It would never stop. Because their role is to stop the inheritance \u001b[0m\n",
       "\u001b[32mfrom just, you don't want to carry over something forever, otherwise it will no longer fit the environment of the \u001b[0m\n",
       "\u001b[32mparents, and you'll be prepared for the wrong things. So this is important.\\n------------------------\\n\"\u001b[0m,\n",
       "    \u001b[32m\"\\nShow Summary: In this episode, Dr. Andrew Huberman discusses with Dr. Oded Rechavi the fascinating concept \u001b[0m\n",
       "\u001b[32mof genetic inheritance and the impact of parental experiences on future generations. Dr. Rechavi explains that \u001b[0m\n",
       "\u001b[32mwhile traditional genetic inheritance is well understood, recent evidence suggests that acquired traits and even \u001b[0m\n",
       "\u001b[32mmemories can be passed down through epigenetic mechanisms. This means that experiences can modify our genes in ways\u001b[0m\n",
       "\u001b[32mthat affect our offspring and even multiple generations down the line.\\n\\nDr. Rechavi provides an accessible \u001b[0m\n",
       "\u001b[32moverview of genetics, epigenetics, and the mechanisms by which certain experiences can lead to genetic \u001b[0m\n",
       "\u001b[32mmodifications. He emphasizes the importance of RNA in potentially mediating these transgenerational effects. The \u001b[0m\n",
       "\u001b[32mconversation also touches on the complexities of distinguishing between genetic and environmental influences on \u001b[0m\n",
       "\u001b[32mtraits and the ongoing debates in the scientific community regarding the extent of epigenetic inheritance in \u001b[0m\n",
       "\u001b[32mhumans.\\n\\nThe episode delves into the significance of model organisms like C. elegans \u001b[0m\u001b[32m(\u001b[0m\u001b[32mnematodes\u001b[0m\u001b[32m)\u001b[0m\u001b[32m in studying \u001b[0m\n",
       "\u001b[32mthese genetic phenomena. Dr. Rech\\nShow Guest: Dr. Oded Rechavi\\nTranscript: What type of genes are they? One gene \u001b[0m\n",
       "\u001b[32mthat we studied it's called metu it's actually a gene that functions in methylation of the of the proteins that \u001b[0m\n",
       "\u001b[32mcondense the dna so this is and there are but when there are other genes that affect also production of smaller ns \u001b[0m\n",
       "\u001b[32mis there some mechanism that controls the duration of passage in a way that logically links up with the lifespan of\u001b[0m\n",
       "\u001b[32mthe organism? So for instance, I knew my grandparents, met them. I did not ever meet my great grandparents. And I \u001b[0m\n",
       "\u001b[32mcertainly didn't meet my great, great grandparents. I could imagine that my great, great grandparents or my great \u001b[0m\n",
       "\u001b[32mgrandparents experienced certain things that were passed into their children and uh perhaps into their children but\u001b[0m\n",
       "\u001b[32mit seems reasonable given that humans live somewhere between zero and uh a hundred years typically what now 80 \u001b[0m\n",
       "\u001b[32myears is that the typical lifespan more or less okay that the if i were going to design the system, and again, I \u001b[0m\n",
       "\u001b[32mwas not consulted at the design phase, I would want an adaptive trait to be passed for two \u001b[0m\n",
       "\u001b[32mgenerations.\\n------------------------\\n\"\u001b[0m,\n",
       "    \u001b[32m\"\\nShow Summary: In this episode, Dr. Andrew Huberman discusses with Dr. Oded Rechavi the fascinating concept \u001b[0m\n",
       "\u001b[32mof genetic inheritance and the impact of parental experiences on future generations. Dr. Rechavi explains that \u001b[0m\n",
       "\u001b[32mwhile traditional genetic inheritance is well understood, recent evidence suggests that acquired traits and even \u001b[0m\n",
       "\u001b[32mmemories can be passed down through epigenetic mechanisms. This means that experiences can modify our genes in ways\u001b[0m\n",
       "\u001b[32mthat affect our offspring and even multiple generations down the line.\\n\\nDr. Rechavi provides an accessible \u001b[0m\n",
       "\u001b[32moverview of genetics, epigenetics, and the mechanisms by which certain experiences can lead to genetic \u001b[0m\n",
       "\u001b[32mmodifications. He emphasizes the importance of RNA in potentially mediating these transgenerational effects. The \u001b[0m\n",
       "\u001b[32mconversation also touches on the complexities of distinguishing between genetic and environmental influences on \u001b[0m\n",
       "\u001b[32mtraits and the ongoing debates in the scientific community regarding the extent of epigenetic inheritance in \u001b[0m\n",
       "\u001b[32mhumans.\\n\\nThe episode delves into the significance of model organisms like C. elegans \u001b[0m\u001b[32m(\u001b[0m\u001b[32mnematodes\u001b[0m\u001b[32m)\u001b[0m\u001b[32m in studying \u001b[0m\n",
       "\u001b[32mthese genetic phenomena. Dr. Rech\\nShow Guest: Dr. Oded Rechavi\\nTranscript: How specific can it be? Does it make \u001b[0m\n",
       "\u001b[32msense for it to be specific? And in the case of C. elegans, the response can be very specific through this \u001b[0m\n",
       "\u001b[32minheritance of RNAs, which are just sequence specific. They downregulate, they control one particular gene. In \u001b[0m\n",
       "\u001b[32mother cases, it could be a very general response. And it's very interesting to think about it when we talk about \u001b[0m\n",
       "\u001b[32minheritance of memories, which is the most interesting thing we could imagine. Can brain activity of some sort \u001b[0m\n",
       "\u001b[32mtransmit, at least in these worms? I said, Noah, I said this disclaimer multiple times in members we don't know, \u001b[0m\n",
       "\u001b[32mtimes will tell. In worms we know a lot. So can worms transmit brain activity to, do they have the specificity to \u001b[0m\n",
       "\u001b[32mdo it? Okay. Before I'll say that, I'll just say that we over the years learned a lot about the mechanisms that \u001b[0m\n",
       "\u001b[32mshuttle the RNAs between generations. We know about genes that are needed just for that. About worms, it would be \u001b[0m\n",
       "\u001b[32mperfectly okay, but just don't have the capacity to transfer the RNAs to the next generations. We know about genes \u001b[0m\n",
       "\u001b[32mthat will make the responses longer or shorter.\\n------------------------\\n\"\u001b[0m\n",
       "\u001b[1m]\u001b[0m\n"
      ]
     },
     "metadata": {},
     "output_type": "display_data"
    },
    {
     "data": {
      "text/html": [
       "<pre style=\"white-space:pre;overflow-x:auto;line-height:normal;font-family:Menlo,'DejaVu Sans Mono',consolas,'Courier New',monospace\">\n",
       "\n",
       "</pre>\n"
      ],
      "text/plain": [
       "\n",
       "\n"
      ]
     },
     "metadata": {},
     "output_type": "display_data"
    },
    {
     "data": {
      "text/html": [
       "<pre style=\"white-space:pre;overflow-x:auto;line-height:normal;font-family:Menlo,'DejaVu Sans Mono',consolas,'Courier New',monospace\">****************************************************************************************************\n",
       "</pre>\n"
      ],
      "text/plain": [
       "****************************************************************************************************\n"
      ]
     },
     "metadata": {},
     "output_type": "display_data"
    },
    {
     "data": {
      "text/html": [
       "<pre style=\"white-space:pre;overflow-x:auto;line-height:normal;font-family:Menlo,'DejaVu Sans Mono',consolas,'Courier New',monospace\">\n",
       "\n",
       "</pre>\n"
      ],
      "text/plain": [
       "\n",
       "\n"
      ]
     },
     "metadata": {},
     "output_type": "display_data"
    },
    {
     "data": {
      "text/html": [
       "<pre style=\"white-space:pre;overflow-x:auto;line-height:normal;font-family:Menlo,'DejaVu Sans Mono',consolas,'Courier New',monospace\"><span style=\"font-weight: bold\">{</span>\n",
       "    <span style=\"color: #008000; text-decoration-color: #008000\">'name'</span>: <span style=\"color: #008000; text-decoration-color: #008000\">'AnswerCorrectness'</span>,\n",
       "    <span style=\"color: #008000; text-decoration-color: #008000\">'criteria'</span>: <span style=\"color: #800080; text-decoration-color: #800080; font-style: italic\">None</span>,\n",
       "    <span style=\"color: #008000; text-decoration-color: #008000\">'using_native_model'</span>: <span style=\"color: #ff0000; text-decoration-color: #ff0000; font-style: italic\">False</span>,\n",
       "    <span style=\"color: #008000; text-decoration-color: #008000\">'evaluation_model'</span>: <span style=\"color: #008000; text-decoration-color: #008000\">'gpt-4'</span>,\n",
       "    <span style=\"color: #008000; text-decoration-color: #008000\">'evaluation_steps'</span>: <span style=\"font-weight: bold\">[</span>\n",
       "        <span style=\"color: #008000; text-decoration-color: #008000\">'Compare the actual output with the retrieval context to verify factual accuracy.'</span>,\n",
       "        <span style=\"color: #008000; text-decoration-color: #008000\">'Assess if the actual output effectively addresses the specific information requirement stated in the </span>\n",
       "<span style=\"color: #008000; text-decoration-color: #008000\">input.'</span>,\n",
       "        <span style=\"color: #008000; text-decoration-color: #008000\">'Determine the comprehensiveness of the actual output in addressing all key aspects mentioned in the </span>\n",
       "<span style=\"color: #008000; text-decoration-color: #008000\">input.'</span>,\n",
       "        <span style=\"color: #008000; text-decoration-color: #008000\">'Score the actual output between 0 and 10, based on the accuracy and comprehensiveness of the information </span>\n",
       "<span style=\"color: #008000; text-decoration-color: #008000\">provided, with 10 being exactly correct and 0 being completely incorrect.'</span>,\n",
       "        <span style=\"color: #008000; text-decoration-color: #008000\">'If there is not enough information in the retrieval context to correctly answer the input, and the actual </span>\n",
       "<span style=\"color: #008000; text-decoration-color: #008000\">output indicates that the input cannot be answered with the provided context, then return a score of 10.'</span>\n",
       "    <span style=\"font-weight: bold\">]</span>,\n",
       "    <span style=\"color: #008000; text-decoration-color: #008000\">'_threshold'</span>: <span style=\"color: #008080; text-decoration-color: #008080; font-weight: bold\">0.5</span>,\n",
       "    <span style=\"color: #008000; text-decoration-color: #008000\">'strict_mode'</span>: <span style=\"color: #ff0000; text-decoration-color: #ff0000; font-style: italic\">False</span>,\n",
       "    <span style=\"color: #008000; text-decoration-color: #008000\">'async_mode'</span>: <span style=\"color: #00ff00; text-decoration-color: #00ff00; font-style: italic\">True</span>,\n",
       "    <span style=\"color: #008000; text-decoration-color: #008000\">'evaluation_cost'</span>: <span style=\"color: #800080; text-decoration-color: #800080; font-style: italic\">None</span>,\n",
       "    <span style=\"color: #008000; text-decoration-color: #008000\">'reason'</span>: <span style=\"color: #008000; text-decoration-color: #008000\">'The actual output accurately reflects the key points that were discussed in the retrieval context, </span>\n",
       "<span style=\"color: #008000; text-decoration-color: #008000\">including the neural firing patterns, the benefits of combining mental training with physical practice, and the </span>\n",
       "<span style=\"color: #008000; text-decoration-color: #008000\">effectiveness of mental visualization when structured properly. However, the actual output could have included more</span>\n",
       "<span style=\"color: #008000; text-decoration-color: #008000\">specific details about the structure required for maximum effectiveness (brief, specific, repeated sessions) as </span>\n",
       "<span style=\"color: #008000; text-decoration-color: #008000\">discussed in the retrieval context, as well as mentioning the importance of neuroplasticity and individual </span>\n",
       "<span style=\"color: #008000; text-decoration-color: #008000\">differences, which were also highlighted in the source material.'</span>,\n",
       "    <span style=\"color: #008000; text-decoration-color: #008000\">'score'</span>: <span style=\"color: #008080; text-decoration-color: #008080; font-weight: bold\">0.8</span>,\n",
       "    <span style=\"color: #008000; text-decoration-color: #008000\">'success'</span>: <span style=\"color: #00ff00; text-decoration-color: #00ff00; font-style: italic\">True</span>\n",
       "<span style=\"font-weight: bold\">}</span>\n",
       "</pre>\n"
      ],
      "text/plain": [
       "\u001b[1m{\u001b[0m\n",
       "    \u001b[32m'name'\u001b[0m: \u001b[32m'AnswerCorrectness'\u001b[0m,\n",
       "    \u001b[32m'criteria'\u001b[0m: \u001b[3;35mNone\u001b[0m,\n",
       "    \u001b[32m'using_native_model'\u001b[0m: \u001b[3;91mFalse\u001b[0m,\n",
       "    \u001b[32m'evaluation_model'\u001b[0m: \u001b[32m'gpt-4'\u001b[0m,\n",
       "    \u001b[32m'evaluation_steps'\u001b[0m: \u001b[1m[\u001b[0m\n",
       "        \u001b[32m'Compare the actual output with the retrieval context to verify factual accuracy.'\u001b[0m,\n",
       "        \u001b[32m'Assess if the actual output effectively addresses the specific information requirement stated in the \u001b[0m\n",
       "\u001b[32minput.'\u001b[0m,\n",
       "        \u001b[32m'Determine the comprehensiveness of the actual output in addressing all key aspects mentioned in the \u001b[0m\n",
       "\u001b[32minput.'\u001b[0m,\n",
       "        \u001b[32m'Score the actual output between 0 and 10, based on the accuracy and comprehensiveness of the information \u001b[0m\n",
       "\u001b[32mprovided, with 10 being exactly correct and 0 being completely incorrect.'\u001b[0m,\n",
       "        \u001b[32m'If there is not enough information in the retrieval context to correctly answer the input, and the actual \u001b[0m\n",
       "\u001b[32moutput indicates that the input cannot be answered with the provided context, then return a score of 10.'\u001b[0m\n",
       "    \u001b[1m]\u001b[0m,\n",
       "    \u001b[32m'_threshold'\u001b[0m: \u001b[1;36m0.5\u001b[0m,\n",
       "    \u001b[32m'strict_mode'\u001b[0m: \u001b[3;91mFalse\u001b[0m,\n",
       "    \u001b[32m'async_mode'\u001b[0m: \u001b[3;92mTrue\u001b[0m,\n",
       "    \u001b[32m'evaluation_cost'\u001b[0m: \u001b[3;35mNone\u001b[0m,\n",
       "    \u001b[32m'reason'\u001b[0m: \u001b[32m'The actual output accurately reflects the key points that were discussed in the retrieval context, \u001b[0m\n",
       "\u001b[32mincluding the neural firing patterns, the benefits of combining mental training with physical practice, and the \u001b[0m\n",
       "\u001b[32meffectiveness of mental visualization when structured properly. However, the actual output could have included more\u001b[0m\n",
       "\u001b[32mspecific details about the structure required for maximum effectiveness \u001b[0m\u001b[32m(\u001b[0m\u001b[32mbrief, specific, repeated sessions\u001b[0m\u001b[32m)\u001b[0m\u001b[32m as \u001b[0m\n",
       "\u001b[32mdiscussed in the retrieval context, as well as mentioning the importance of neuroplasticity and individual \u001b[0m\n",
       "\u001b[32mdifferences, which were also highlighted in the source material.'\u001b[0m,\n",
       "    \u001b[32m'score'\u001b[0m: \u001b[1;36m0.8\u001b[0m,\n",
       "    \u001b[32m'success'\u001b[0m: \u001b[3;92mTrue\u001b[0m\n",
       "\u001b[1m}\u001b[0m\n"
      ]
     },
     "metadata": {},
     "output_type": "display_data"
    },
    {
     "data": {
      "text/html": [
       "<pre style=\"white-space:pre;overflow-x:auto;line-height:normal;font-family:Menlo,'DejaVu Sans Mono',consolas,'Courier New',monospace\">How does performing mental training and visualization repeatedly lead to improvements in real-world performance of \n",
       "cognitive and physical tasks?\n",
       "</pre>\n"
      ],
      "text/plain": [
       "How does performing mental training and visualization repeatedly lead to improvements in real-world performance of \n",
       "cognitive and physical tasks?\n"
      ]
     },
     "metadata": {},
     "output_type": "display_data"
    },
    {
     "data": {
      "text/html": [
       "<pre style=\"white-space:pre;overflow-x:auto;line-height:normal;font-family:Menlo,'DejaVu Sans Mono',consolas,'Courier New',monospace\">Performing mental training and visualization repeatedly leads to improvements in real-world performance of \n",
       "cognitive and physical tasks because it recaptures the same patterns of neural firing in the exact same ways as \n",
       "real-world behavior and thinking. While mental training and visualization are not as effective as real-world \n",
       "behavior and thinking, they serve as a powerful complement that can enhance learning when combined with actual \n",
       "experience. This means that the combination of imagined and real-world experiences, real motor movements, real \n",
       "perceptual experiences combined with motor movements, combined with what you imagine in your mind's eye, gives the \n",
       "most depth and flexibility over mental visualization. Furthermore, by performing the exact same or very similar \n",
       "mental and physical tasks in the real world, mental training and visualization can be far more effective, leading \n",
       "to improvements in real-world performance.\n",
       "</pre>\n"
      ],
      "text/plain": [
       "Performing mental training and visualization repeatedly leads to improvements in real-world performance of \n",
       "cognitive and physical tasks because it recaptures the same patterns of neural firing in the exact same ways as \n",
       "real-world behavior and thinking. While mental training and visualization are not as effective as real-world \n",
       "behavior and thinking, they serve as a powerful complement that can enhance learning when combined with actual \n",
       "experience. This means that the combination of imagined and real-world experiences, real motor movements, real \n",
       "perceptual experiences combined with motor movements, combined with what you imagine in your mind's eye, gives the \n",
       "most depth and flexibility over mental visualization. Furthermore, by performing the exact same or very similar \n",
       "mental and physical tasks in the real world, mental training and visualization can be far more effective, leading \n",
       "to improvements in real-world performance.\n"
      ]
     },
     "metadata": {},
     "output_type": "display_data"
    },
    {
     "data": {
      "text/html": [
       "<pre style=\"white-space:pre;overflow-x:auto;line-height:normal;font-family:Menlo,'DejaVu Sans Mono',consolas,'Courier New',monospace\"><span style=\"font-weight: bold\">[</span>\n",
       "    <span style=\"color: #008000; text-decoration-color: #008000\">\"\\nShow Summary: The Huberman Lab Podcast episode with Andrew Huberman discusses the science behind mental </span>\n",
       "<span style=\"color: #008000; text-decoration-color: #008000\">training and visualization techniques and their impact on learning and performance across various domains. The </span>\n",
       "<span style=\"color: #008000; text-decoration-color: #008000\">podcast emphasizes that mental training and visualization, when done correctly, can significantly improve the </span>\n",
       "<span style=\"color: #008000; text-decoration-color: #008000\">acquisition and retention of skills, be it cognitive tasks, musical abilities, or motor skills in sports. Huberman </span>\n",
       "<span style=\"color: #008000; text-decoration-color: #008000\">highlights the importance of neuroplasticity, the brain's ability to adapt and change through experience, as the </span>\n",
       "<span style=\"color: #008000; text-decoration-color: #008000\">underlying mechanism that supports the benefits of mental training.\\n\\nTo maximize the effectiveness of mental </span>\n",
       "<span style=\"color: #008000; text-decoration-color: #008000\">training and visualization, it must be structured in brief, specific, and repeated sessions that mirror the actual </span>\n",
       "<span style=\"color: #008000; text-decoration-color: #008000\">physical or cognitive tasks being trained. While mental training is not a replacement for physical practice, it </span>\n",
       "<span style=\"color: #008000; text-decoration-color: #008000\">serves as a powerful complement that can enhance learning when combined with actual experience. The podcast also </span>\n",
       "<span style=\"color: #008000; text-decoration-color: #008000\">explores individual differences in visualization capabilities and provides insights into how people with conditions</span>\n",
       "<span style=\"color: #008000; text-decoration-color: #008000\">like autism or synesthesia might experience mental imagery and visualization differently. Finally, Huberman </span>\n",
       "<span style=\"color: #008000; text-decoration-color: #008000\">outlines practical strategies for incorporating\\nShow Guest: Andrew Huberman\\nTranscript: I wouldn't obsess over </span>\n",
       "<span style=\"color: #008000; text-decoration-color: #008000\">whether or not you got 30 repetitions in and then your mind drifted or whether or not you could do the full 50 to </span>\n",
       "<span style=\"color: #008000; text-decoration-color: #008000\">75 or whether or not even in your mind's eye, you made some errors. What's been shown over and over again in this </span>\n",
       "<span style=\"color: #008000; text-decoration-color: #008000\">literature is that performing mental training and visualization repeatedly and in a very restricted way that makes </span>\n",
       "<span style=\"color: #008000; text-decoration-color: #008000\">it easier to perform those trials over and over and over again, and with a high degree of accuracy, almost always, </span>\n",
       "<span style=\"color: #008000; text-decoration-color: #008000\">really we can fairly say in essentially every study where it's been explored has led to improvements in real world </span>\n",
       "<span style=\"color: #008000; text-decoration-color: #008000\">performance of both cognitive and or physical tasks. So if you're trying to learn anything at all, I do encourage </span>\n",
       "<span style=\"color: #008000; text-decoration-color: #008000\">you to explore motor training and visualization because basically all the studies out there, in fact, I couldn't </span>\n",
       "<span style=\"color: #008000; text-decoration-color: #008000\">find one exception where some degree of improvement wasn't observed when people use motor training and </span>\n",
       "<span style=\"color: #008000; text-decoration-color: #008000\">visualization on a consistent basis, even just the three to five times per week, these simple repeats over and </span>\n",
       "<span style=\"color: #008000; text-decoration-color: #008000\">over. So I don't want to overcomplicate or make it sound like mental training and visualization has to be performed</span>\n",
       "<span style=\"color: #008000; text-decoration-color: #008000\">in a very precise way or that it has to be done perfectly each and every time. Quite to the </span>\n",
       "<span style=\"color: #008000; text-decoration-color: #008000\">contrary.\\n------------------------\\n\"</span>,\n",
       "    <span style=\"color: #008000; text-decoration-color: #008000\">\"\\nShow Summary: The Huberman Lab Podcast episode with Andrew Huberman discusses the science behind mental </span>\n",
       "<span style=\"color: #008000; text-decoration-color: #008000\">training and visualization techniques and their impact on learning and performance across various domains. The </span>\n",
       "<span style=\"color: #008000; text-decoration-color: #008000\">podcast emphasizes that mental training and visualization, when done correctly, can significantly improve the </span>\n",
       "<span style=\"color: #008000; text-decoration-color: #008000\">acquisition and retention of skills, be it cognitive tasks, musical abilities, or motor skills in sports. Huberman </span>\n",
       "<span style=\"color: #008000; text-decoration-color: #008000\">highlights the importance of neuroplasticity, the brain's ability to adapt and change through experience, as the </span>\n",
       "<span style=\"color: #008000; text-decoration-color: #008000\">underlying mechanism that supports the benefits of mental training.\\n\\nTo maximize the effectiveness of mental </span>\n",
       "<span style=\"color: #008000; text-decoration-color: #008000\">training and visualization, it must be structured in brief, specific, and repeated sessions that mirror the actual </span>\n",
       "<span style=\"color: #008000; text-decoration-color: #008000\">physical or cognitive tasks being trained. While mental training is not a replacement for physical practice, it </span>\n",
       "<span style=\"color: #008000; text-decoration-color: #008000\">serves as a powerful complement that can enhance learning when combined with actual experience. The podcast also </span>\n",
       "<span style=\"color: #008000; text-decoration-color: #008000\">explores individual differences in visualization capabilities and provides insights into how people with conditions</span>\n",
       "<span style=\"color: #008000; text-decoration-color: #008000\">like autism or synesthesia might experience mental imagery and visualization differently. Finally, Huberman </span>\n",
       "<span style=\"color: #008000; text-decoration-color: #008000\">outlines practical strategies for incorporating\\nShow Guest: Andrew Huberman\\nTranscript: So when you've heard that</span>\n",
       "<span style=\"color: #008000; text-decoration-color: #008000\">when we imagine something, it's identical in terms of our brain's experience of it and our body's experience of it </span>\n",
       "<span style=\"color: #008000; text-decoration-color: #008000\">as when we actually experience something, that is true at the neural level. However, when it comes to learning and </span>\n",
       "<span style=\"color: #008000; text-decoration-color: #008000\">improving performance in the cognitive or physical domain, they are not equivalent. So this is the second principle</span>\n",
       "<span style=\"color: #008000; text-decoration-color: #008000\">of mental training and visualization. As you recall, the first principle of mental training and visualization was </span>\n",
       "<span style=\"color: #008000; text-decoration-color: #008000\">that in order to make it effective, it needs to be very brief and very simple and repeated over and over again. The</span>\n",
       "<span style=\"color: #008000; text-decoration-color: #008000\">second principle of mental training and visualization is that while yes, mental training and visualization </span>\n",
       "<span style=\"color: #008000; text-decoration-color: #008000\">recaptures the same patterns of neural firing in the exact same ways as real world behavior and thinking, it is not</span>\n",
       "<span style=\"color: #008000; text-decoration-color: #008000\">as effective as real world behavior and thinking. In other words, if you want to learn something, the ideal </span>\n",
       "<span style=\"color: #008000; text-decoration-color: #008000\">situation is to combine real training in the physical world with mental training. And I'll talk about exactly how </span>\n",
       "<span style=\"color: #008000; text-decoration-color: #008000\">to do that and in what ratios a little bit later.\\n------------------------\\n\"</span>,\n",
       "    <span style=\"color: #008000; text-decoration-color: #008000\">\"\\nShow Summary: The Huberman Lab Podcast episode with Andrew Huberman discusses the science behind mental </span>\n",
       "<span style=\"color: #008000; text-decoration-color: #008000\">training and visualization techniques and their impact on learning and performance across various domains. The </span>\n",
       "<span style=\"color: #008000; text-decoration-color: #008000\">podcast emphasizes that mental training and visualization, when done correctly, can significantly improve the </span>\n",
       "<span style=\"color: #008000; text-decoration-color: #008000\">acquisition and retention of skills, be it cognitive tasks, musical abilities, or motor skills in sports. Huberman </span>\n",
       "<span style=\"color: #008000; text-decoration-color: #008000\">highlights the importance of neuroplasticity, the brain's ability to adapt and change through experience, as the </span>\n",
       "<span style=\"color: #008000; text-decoration-color: #008000\">underlying mechanism that supports the benefits of mental training.\\n\\nTo maximize the effectiveness of mental </span>\n",
       "<span style=\"color: #008000; text-decoration-color: #008000\">training and visualization, it must be structured in brief, specific, and repeated sessions that mirror the actual </span>\n",
       "<span style=\"color: #008000; text-decoration-color: #008000\">physical or cognitive tasks being trained. While mental training is not a replacement for physical practice, it </span>\n",
       "<span style=\"color: #008000; text-decoration-color: #008000\">serves as a powerful complement that can enhance learning when combined with actual experience. The podcast also </span>\n",
       "<span style=\"color: #008000; text-decoration-color: #008000\">explores individual differences in visualization capabilities and provides insights into how people with conditions</span>\n",
       "<span style=\"color: #008000; text-decoration-color: #008000\">like autism or synesthesia might experience mental imagery and visualization differently. Finally, Huberman </span>\n",
       "<span style=\"color: #008000; text-decoration-color: #008000\">outlines practical strategies for incorporating\\nShow Guest: Andrew Huberman\\nTranscript: So what that illustrates </span>\n",
       "<span style=\"color: #008000; text-decoration-color: #008000\">is that it's the combination of imagined and real world experiences, real motor movements, real perceptual </span>\n",
       "<span style=\"color: #008000; text-decoration-color: #008000\">experiences combined with motor movements, combined with what you imagine in your mind's eye that really gives you </span>\n",
       "<span style=\"color: #008000; text-decoration-color: #008000\">the most depth and flexibility over your mental visualization. And in doing so, we can really stamp down a third </span>\n",
       "<span style=\"color: #008000; text-decoration-color: #008000\">principle of mental training and visualization, which is that your mental training and visualization will be far </span>\n",
       "<span style=\"color: #008000; text-decoration-color: #008000\">more effective if you are performing the exact same or very similar mental and physical tasks in the real world. </span>\n",
       "<span style=\"color: #008000; text-decoration-color: #008000\">Okay, so first principle is mental training and visualization needs to be simple and brief and repeated. Second is </span>\n",
       "<span style=\"color: #008000; text-decoration-color: #008000\">that mental training and visualization is not a replacement for real world motor training or cognitive training. </span>\n",
       "<span style=\"color: #008000; text-decoration-color: #008000\">It's an augment. It's an addition that can really help. And the third principle of mental training and </span>\n",
       "<span style=\"color: #008000; text-decoration-color: #008000\">visualization is that you need to combine mental training and visualization with real world behaviors and </span>\n",
       "<span style=\"color: #008000; text-decoration-color: #008000\">experiences that are very, very similar. Now as a brief, but I think really relevant aside, one of the things that </span>\n",
       "<span style=\"color: #008000; text-decoration-color: #008000\">also makes mental training and visualization more effective is when we assign cognitive labels to what's going on </span>\n",
       "<span style=\"color: #008000; text-decoration-color: #008000\">when we visualize.\\n------------------------\\n\"</span>\n",
       "<span style=\"font-weight: bold\">]</span>\n",
       "</pre>\n"
      ],
      "text/plain": [
       "\u001b[1m[\u001b[0m\n",
       "    \u001b[32m\"\\nShow Summary: The Huberman Lab Podcast episode with Andrew Huberman discusses the science behind mental \u001b[0m\n",
       "\u001b[32mtraining and visualization techniques and their impact on learning and performance across various domains. The \u001b[0m\n",
       "\u001b[32mpodcast emphasizes that mental training and visualization, when done correctly, can significantly improve the \u001b[0m\n",
       "\u001b[32macquisition and retention of skills, be it cognitive tasks, musical abilities, or motor skills in sports. Huberman \u001b[0m\n",
       "\u001b[32mhighlights the importance of neuroplasticity, the brain's ability to adapt and change through experience, as the \u001b[0m\n",
       "\u001b[32munderlying mechanism that supports the benefits of mental training.\\n\\nTo maximize the effectiveness of mental \u001b[0m\n",
       "\u001b[32mtraining and visualization, it must be structured in brief, specific, and repeated sessions that mirror the actual \u001b[0m\n",
       "\u001b[32mphysical or cognitive tasks being trained. While mental training is not a replacement for physical practice, it \u001b[0m\n",
       "\u001b[32mserves as a powerful complement that can enhance learning when combined with actual experience. The podcast also \u001b[0m\n",
       "\u001b[32mexplores individual differences in visualization capabilities and provides insights into how people with conditions\u001b[0m\n",
       "\u001b[32mlike autism or synesthesia might experience mental imagery and visualization differently. Finally, Huberman \u001b[0m\n",
       "\u001b[32moutlines practical strategies for incorporating\\nShow Guest: Andrew Huberman\\nTranscript: I wouldn't obsess over \u001b[0m\n",
       "\u001b[32mwhether or not you got 30 repetitions in and then your mind drifted or whether or not you could do the full 50 to \u001b[0m\n",
       "\u001b[32m75 or whether or not even in your mind's eye, you made some errors. What's been shown over and over again in this \u001b[0m\n",
       "\u001b[32mliterature is that performing mental training and visualization repeatedly and in a very restricted way that makes \u001b[0m\n",
       "\u001b[32mit easier to perform those trials over and over and over again, and with a high degree of accuracy, almost always, \u001b[0m\n",
       "\u001b[32mreally we can fairly say in essentially every study where it's been explored has led to improvements in real world \u001b[0m\n",
       "\u001b[32mperformance of both cognitive and or physical tasks. So if you're trying to learn anything at all, I do encourage \u001b[0m\n",
       "\u001b[32myou to explore motor training and visualization because basically all the studies out there, in fact, I couldn't \u001b[0m\n",
       "\u001b[32mfind one exception where some degree of improvement wasn't observed when people use motor training and \u001b[0m\n",
       "\u001b[32mvisualization on a consistent basis, even just the three to five times per week, these simple repeats over and \u001b[0m\n",
       "\u001b[32mover. So I don't want to overcomplicate or make it sound like mental training and visualization has to be performed\u001b[0m\n",
       "\u001b[32min a very precise way or that it has to be done perfectly each and every time. Quite to the \u001b[0m\n",
       "\u001b[32mcontrary.\\n------------------------\\n\"\u001b[0m,\n",
       "    \u001b[32m\"\\nShow Summary: The Huberman Lab Podcast episode with Andrew Huberman discusses the science behind mental \u001b[0m\n",
       "\u001b[32mtraining and visualization techniques and their impact on learning and performance across various domains. The \u001b[0m\n",
       "\u001b[32mpodcast emphasizes that mental training and visualization, when done correctly, can significantly improve the \u001b[0m\n",
       "\u001b[32macquisition and retention of skills, be it cognitive tasks, musical abilities, or motor skills in sports. Huberman \u001b[0m\n",
       "\u001b[32mhighlights the importance of neuroplasticity, the brain's ability to adapt and change through experience, as the \u001b[0m\n",
       "\u001b[32munderlying mechanism that supports the benefits of mental training.\\n\\nTo maximize the effectiveness of mental \u001b[0m\n",
       "\u001b[32mtraining and visualization, it must be structured in brief, specific, and repeated sessions that mirror the actual \u001b[0m\n",
       "\u001b[32mphysical or cognitive tasks being trained. While mental training is not a replacement for physical practice, it \u001b[0m\n",
       "\u001b[32mserves as a powerful complement that can enhance learning when combined with actual experience. The podcast also \u001b[0m\n",
       "\u001b[32mexplores individual differences in visualization capabilities and provides insights into how people with conditions\u001b[0m\n",
       "\u001b[32mlike autism or synesthesia might experience mental imagery and visualization differently. Finally, Huberman \u001b[0m\n",
       "\u001b[32moutlines practical strategies for incorporating\\nShow Guest: Andrew Huberman\\nTranscript: So when you've heard that\u001b[0m\n",
       "\u001b[32mwhen we imagine something, it's identical in terms of our brain's experience of it and our body's experience of it \u001b[0m\n",
       "\u001b[32mas when we actually experience something, that is true at the neural level. However, when it comes to learning and \u001b[0m\n",
       "\u001b[32mimproving performance in the cognitive or physical domain, they are not equivalent. So this is the second principle\u001b[0m\n",
       "\u001b[32mof mental training and visualization. As you recall, the first principle of mental training and visualization was \u001b[0m\n",
       "\u001b[32mthat in order to make it effective, it needs to be very brief and very simple and repeated over and over again. The\u001b[0m\n",
       "\u001b[32msecond principle of mental training and visualization is that while yes, mental training and visualization \u001b[0m\n",
       "\u001b[32mrecaptures the same patterns of neural firing in the exact same ways as real world behavior and thinking, it is not\u001b[0m\n",
       "\u001b[32mas effective as real world behavior and thinking. In other words, if you want to learn something, the ideal \u001b[0m\n",
       "\u001b[32msituation is to combine real training in the physical world with mental training. And I'll talk about exactly how \u001b[0m\n",
       "\u001b[32mto do that and in what ratios a little bit later.\\n------------------------\\n\"\u001b[0m,\n",
       "    \u001b[32m\"\\nShow Summary: The Huberman Lab Podcast episode with Andrew Huberman discusses the science behind mental \u001b[0m\n",
       "\u001b[32mtraining and visualization techniques and their impact on learning and performance across various domains. The \u001b[0m\n",
       "\u001b[32mpodcast emphasizes that mental training and visualization, when done correctly, can significantly improve the \u001b[0m\n",
       "\u001b[32macquisition and retention of skills, be it cognitive tasks, musical abilities, or motor skills in sports. Huberman \u001b[0m\n",
       "\u001b[32mhighlights the importance of neuroplasticity, the brain's ability to adapt and change through experience, as the \u001b[0m\n",
       "\u001b[32munderlying mechanism that supports the benefits of mental training.\\n\\nTo maximize the effectiveness of mental \u001b[0m\n",
       "\u001b[32mtraining and visualization, it must be structured in brief, specific, and repeated sessions that mirror the actual \u001b[0m\n",
       "\u001b[32mphysical or cognitive tasks being trained. While mental training is not a replacement for physical practice, it \u001b[0m\n",
       "\u001b[32mserves as a powerful complement that can enhance learning when combined with actual experience. The podcast also \u001b[0m\n",
       "\u001b[32mexplores individual differences in visualization capabilities and provides insights into how people with conditions\u001b[0m\n",
       "\u001b[32mlike autism or synesthesia might experience mental imagery and visualization differently. Finally, Huberman \u001b[0m\n",
       "\u001b[32moutlines practical strategies for incorporating\\nShow Guest: Andrew Huberman\\nTranscript: So what that illustrates \u001b[0m\n",
       "\u001b[32mis that it's the combination of imagined and real world experiences, real motor movements, real perceptual \u001b[0m\n",
       "\u001b[32mexperiences combined with motor movements, combined with what you imagine in your mind's eye that really gives you \u001b[0m\n",
       "\u001b[32mthe most depth and flexibility over your mental visualization. And in doing so, we can really stamp down a third \u001b[0m\n",
       "\u001b[32mprinciple of mental training and visualization, which is that your mental training and visualization will be far \u001b[0m\n",
       "\u001b[32mmore effective if you are performing the exact same or very similar mental and physical tasks in the real world. \u001b[0m\n",
       "\u001b[32mOkay, so first principle is mental training and visualization needs to be simple and brief and repeated. Second is \u001b[0m\n",
       "\u001b[32mthat mental training and visualization is not a replacement for real world motor training or cognitive training. \u001b[0m\n",
       "\u001b[32mIt's an augment. It's an addition that can really help. And the third principle of mental training and \u001b[0m\n",
       "\u001b[32mvisualization is that you need to combine mental training and visualization with real world behaviors and \u001b[0m\n",
       "\u001b[32mexperiences that are very, very similar. Now as a brief, but I think really relevant aside, one of the things that \u001b[0m\n",
       "\u001b[32malso makes mental training and visualization more effective is when we assign cognitive labels to what's going on \u001b[0m\n",
       "\u001b[32mwhen we visualize.\\n------------------------\\n\"\u001b[0m\n",
       "\u001b[1m]\u001b[0m\n"
      ]
     },
     "metadata": {},
     "output_type": "display_data"
    },
    {
     "data": {
      "text/html": [
       "<pre style=\"white-space:pre;overflow-x:auto;line-height:normal;font-family:Menlo,'DejaVu Sans Mono',consolas,'Courier New',monospace\">\n",
       "\n",
       "</pre>\n"
      ],
      "text/plain": [
       "\n",
       "\n"
      ]
     },
     "metadata": {},
     "output_type": "display_data"
    },
    {
     "data": {
      "text/html": [
       "<pre style=\"white-space:pre;overflow-x:auto;line-height:normal;font-family:Menlo,'DejaVu Sans Mono',consolas,'Courier New',monospace\">****************************************************************************************************\n",
       "</pre>\n"
      ],
      "text/plain": [
       "****************************************************************************************************\n"
      ]
     },
     "metadata": {},
     "output_type": "display_data"
    },
    {
     "data": {
      "text/html": [
       "<pre style=\"white-space:pre;overflow-x:auto;line-height:normal;font-family:Menlo,'DejaVu Sans Mono',consolas,'Courier New',monospace\">\n",
       "\n",
       "</pre>\n"
      ],
      "text/plain": [
       "\n",
       "\n"
      ]
     },
     "metadata": {},
     "output_type": "display_data"
    },
    {
     "data": {
      "text/html": [
       "<pre style=\"white-space:pre;overflow-x:auto;line-height:normal;font-family:Menlo,'DejaVu Sans Mono',consolas,'Courier New',monospace\"><span style=\"font-weight: bold\">{</span>\n",
       "    <span style=\"color: #008000; text-decoration-color: #008000\">'name'</span>: <span style=\"color: #008000; text-decoration-color: #008000\">'AnswerCorrectness'</span>,\n",
       "    <span style=\"color: #008000; text-decoration-color: #008000\">'criteria'</span>: <span style=\"color: #800080; text-decoration-color: #800080; font-style: italic\">None</span>,\n",
       "    <span style=\"color: #008000; text-decoration-color: #008000\">'using_native_model'</span>: <span style=\"color: #ff0000; text-decoration-color: #ff0000; font-style: italic\">False</span>,\n",
       "    <span style=\"color: #008000; text-decoration-color: #008000\">'evaluation_model'</span>: <span style=\"color: #008000; text-decoration-color: #008000\">'gpt-4'</span>,\n",
       "    <span style=\"color: #008000; text-decoration-color: #008000\">'evaluation_steps'</span>: <span style=\"font-weight: bold\">[</span>\n",
       "        <span style=\"color: #008000; text-decoration-color: #008000\">'Compare the actual output with the retrieval context to verify factual accuracy.'</span>,\n",
       "        <span style=\"color: #008000; text-decoration-color: #008000\">'Assess if the actual output effectively addresses the specific information requirement stated in the </span>\n",
       "<span style=\"color: #008000; text-decoration-color: #008000\">input.'</span>,\n",
       "        <span style=\"color: #008000; text-decoration-color: #008000\">'Determine the comprehensiveness of the actual output in addressing all key aspects mentioned in the </span>\n",
       "<span style=\"color: #008000; text-decoration-color: #008000\">input.'</span>,\n",
       "        <span style=\"color: #008000; text-decoration-color: #008000\">'Score the actual output between 0 and 10, based on the accuracy and comprehensiveness of the information </span>\n",
       "<span style=\"color: #008000; text-decoration-color: #008000\">provided, with 10 being exactly correct and 0 being completely incorrect.'</span>,\n",
       "        <span style=\"color: #008000; text-decoration-color: #008000\">'If there is not enough information in the retrieval context to correctly answer the input, and the actual </span>\n",
       "<span style=\"color: #008000; text-decoration-color: #008000\">output indicates that the input cannot be answered with the provided context, then return a score of 10.'</span>\n",
       "    <span style=\"font-weight: bold\">]</span>,\n",
       "    <span style=\"color: #008000; text-decoration-color: #008000\">'_threshold'</span>: <span style=\"color: #008080; text-decoration-color: #008080; font-weight: bold\">0.5</span>,\n",
       "    <span style=\"color: #008000; text-decoration-color: #008000\">'strict_mode'</span>: <span style=\"color: #ff0000; text-decoration-color: #ff0000; font-style: italic\">False</span>,\n",
       "    <span style=\"color: #008000; text-decoration-color: #008000\">'async_mode'</span>: <span style=\"color: #00ff00; text-decoration-color: #00ff00; font-style: italic\">True</span>,\n",
       "    <span style=\"color: #008000; text-decoration-color: #008000\">'evaluation_cost'</span>: <span style=\"color: #800080; text-decoration-color: #800080; font-style: italic\">None</span>,\n",
       "    <span style=\"color: #008000; text-decoration-color: #008000\">'reason'</span>: <span style=\"color: #008000; text-decoration-color: #008000\">'The actual output closely aligns with the retrieval context and reflects the information on the use </span>\n",
       "<span style=\"color: #008000; text-decoration-color: #008000\">of motor training and visualization for improving real-world performance, as discussed in the Huberman Lab Podcast </span>\n",
       "<span style=\"color: #008000; text-decoration-color: #008000\">episode. The output effectively highlights the benefits and explains how such training should be structured and the</span>\n",
       "<span style=\"color: #008000; text-decoration-color: #008000\">importance of combining it with actual experience to maximize effectiveness. It also mentions the necessity of </span>\n",
       "<span style=\"color: #008000; text-decoration-color: #008000\">having some proficiency in a skill for visualization to improve it further. However, the summary could have been </span>\n",
       "<span style=\"color: #008000; text-decoration-color: #008000\">more comprehensive by including potential individual differences in visualization capabilities and concrete </span>\n",
       "<span style=\"color: #008000; text-decoration-color: #008000\">strategies for incorporating mental training and visualization, as mentioned in the podcast, to give a full grasp </span>\n",
       "<span style=\"color: #008000; text-decoration-color: #008000\">of the literature presented.'</span>,\n",
       "    <span style=\"color: #008000; text-decoration-color: #008000\">'score'</span>: <span style=\"color: #008080; text-decoration-color: #008080; font-weight: bold\">0.8</span>,\n",
       "    <span style=\"color: #008000; text-decoration-color: #008000\">'success'</span>: <span style=\"color: #00ff00; text-decoration-color: #00ff00; font-style: italic\">True</span>\n",
       "<span style=\"font-weight: bold\">}</span>\n",
       "</pre>\n"
      ],
      "text/plain": [
       "\u001b[1m{\u001b[0m\n",
       "    \u001b[32m'name'\u001b[0m: \u001b[32m'AnswerCorrectness'\u001b[0m,\n",
       "    \u001b[32m'criteria'\u001b[0m: \u001b[3;35mNone\u001b[0m,\n",
       "    \u001b[32m'using_native_model'\u001b[0m: \u001b[3;91mFalse\u001b[0m,\n",
       "    \u001b[32m'evaluation_model'\u001b[0m: \u001b[32m'gpt-4'\u001b[0m,\n",
       "    \u001b[32m'evaluation_steps'\u001b[0m: \u001b[1m[\u001b[0m\n",
       "        \u001b[32m'Compare the actual output with the retrieval context to verify factual accuracy.'\u001b[0m,\n",
       "        \u001b[32m'Assess if the actual output effectively addresses the specific information requirement stated in the \u001b[0m\n",
       "\u001b[32minput.'\u001b[0m,\n",
       "        \u001b[32m'Determine the comprehensiveness of the actual output in addressing all key aspects mentioned in the \u001b[0m\n",
       "\u001b[32minput.'\u001b[0m,\n",
       "        \u001b[32m'Score the actual output between 0 and 10, based on the accuracy and comprehensiveness of the information \u001b[0m\n",
       "\u001b[32mprovided, with 10 being exactly correct and 0 being completely incorrect.'\u001b[0m,\n",
       "        \u001b[32m'If there is not enough information in the retrieval context to correctly answer the input, and the actual \u001b[0m\n",
       "\u001b[32moutput indicates that the input cannot be answered with the provided context, then return a score of 10.'\u001b[0m\n",
       "    \u001b[1m]\u001b[0m,\n",
       "    \u001b[32m'_threshold'\u001b[0m: \u001b[1;36m0.5\u001b[0m,\n",
       "    \u001b[32m'strict_mode'\u001b[0m: \u001b[3;91mFalse\u001b[0m,\n",
       "    \u001b[32m'async_mode'\u001b[0m: \u001b[3;92mTrue\u001b[0m,\n",
       "    \u001b[32m'evaluation_cost'\u001b[0m: \u001b[3;35mNone\u001b[0m,\n",
       "    \u001b[32m'reason'\u001b[0m: \u001b[32m'The actual output closely aligns with the retrieval context and reflects the information on the use \u001b[0m\n",
       "\u001b[32mof motor training and visualization for improving real-world performance, as discussed in the Huberman Lab Podcast \u001b[0m\n",
       "\u001b[32mepisode. The output effectively highlights the benefits and explains how such training should be structured and the\u001b[0m\n",
       "\u001b[32mimportance of combining it with actual experience to maximize effectiveness. It also mentions the necessity of \u001b[0m\n",
       "\u001b[32mhaving some proficiency in a skill for visualization to improve it further. However, the summary could have been \u001b[0m\n",
       "\u001b[32mmore comprehensive by including potential individual differences in visualization capabilities and concrete \u001b[0m\n",
       "\u001b[32mstrategies for incorporating mental training and visualization, as mentioned in the podcast, to give a full grasp \u001b[0m\n",
       "\u001b[32mof the literature presented.'\u001b[0m,\n",
       "    \u001b[32m'score'\u001b[0m: \u001b[1;36m0.8\u001b[0m,\n",
       "    \u001b[32m'success'\u001b[0m: \u001b[3;92mTrue\u001b[0m\n",
       "\u001b[1m}\u001b[0m\n"
      ]
     },
     "metadata": {},
     "output_type": "display_data"
    },
    {
     "data": {
      "text/html": [
       "<pre style=\"white-space:pre;overflow-x:auto;line-height:normal;font-family:Menlo,'DejaVu Sans Mono',consolas,'Courier New',monospace\">What has been shown in the literature regarding the use of motor training and visualization for improving \n",
       "real-world performance?\n",
       "</pre>\n"
      ],
      "text/plain": [
       "What has been shown in the literature regarding the use of motor training and visualization for improving \n",
       "real-world performance?\n"
      ]
     },
     "metadata": {},
     "output_type": "display_data"
    },
    {
     "data": {
      "text/html": [
       "<pre style=\"white-space:pre;overflow-x:auto;line-height:normal;font-family:Menlo,'DejaVu Sans Mono',consolas,'Courier New',monospace\">In the series of transcripts, it has been shown in the literature that performing mental training and visualization\n",
       "repeatedly and in a very restricted way, which makes it easier to perform those trials over and over again and with\n",
       "a high degree of accuracy, almost always leads to improvements in real-world performance of both cognitive and \n",
       "physical tasks. Studies have indicated that consistent use of motor training and visualization, even just three to \n",
       "five times per week, has led to improvements in real-world performance. It has also been emphasized that mental \n",
       "training and visualization are most effective for enhancing the speed and accuracy of skills that one has already \n",
       "demonstrated some degree of proficiency at in the real world. Therefore, the literature supports the use of motor \n",
       "training and visualization for improving real-world performance, especially when combined with actual experience.\n",
       "</pre>\n"
      ],
      "text/plain": [
       "In the series of transcripts, it has been shown in the literature that performing mental training and visualization\n",
       "repeatedly and in a very restricted way, which makes it easier to perform those trials over and over again and with\n",
       "a high degree of accuracy, almost always leads to improvements in real-world performance of both cognitive and \n",
       "physical tasks. Studies have indicated that consistent use of motor training and visualization, even just three to \n",
       "five times per week, has led to improvements in real-world performance. It has also been emphasized that mental \n",
       "training and visualization are most effective for enhancing the speed and accuracy of skills that one has already \n",
       "demonstrated some degree of proficiency at in the real world. Therefore, the literature supports the use of motor \n",
       "training and visualization for improving real-world performance, especially when combined with actual experience.\n"
      ]
     },
     "metadata": {},
     "output_type": "display_data"
    },
    {
     "data": {
      "text/html": [
       "<pre style=\"white-space:pre;overflow-x:auto;line-height:normal;font-family:Menlo,'DejaVu Sans Mono',consolas,'Courier New',monospace\"><span style=\"font-weight: bold\">[</span>\n",
       "    <span style=\"color: #008000; text-decoration-color: #008000\">\"\\nShow Summary: The Huberman Lab Podcast episode with Andrew Huberman discusses the science behind mental </span>\n",
       "<span style=\"color: #008000; text-decoration-color: #008000\">training and visualization techniques and their impact on learning and performance across various domains. The </span>\n",
       "<span style=\"color: #008000; text-decoration-color: #008000\">podcast emphasizes that mental training and visualization, when done correctly, can significantly improve the </span>\n",
       "<span style=\"color: #008000; text-decoration-color: #008000\">acquisition and retention of skills, be it cognitive tasks, musical abilities, or motor skills in sports. Huberman </span>\n",
       "<span style=\"color: #008000; text-decoration-color: #008000\">highlights the importance of neuroplasticity, the brain's ability to adapt and change through experience, as the </span>\n",
       "<span style=\"color: #008000; text-decoration-color: #008000\">underlying mechanism that supports the benefits of mental training.\\n\\nTo maximize the effectiveness of mental </span>\n",
       "<span style=\"color: #008000; text-decoration-color: #008000\">training and visualization, it must be structured in brief, specific, and repeated sessions that mirror the actual </span>\n",
       "<span style=\"color: #008000; text-decoration-color: #008000\">physical or cognitive tasks being trained. While mental training is not a replacement for physical practice, it </span>\n",
       "<span style=\"color: #008000; text-decoration-color: #008000\">serves as a powerful complement that can enhance learning when combined with actual experience. The podcast also </span>\n",
       "<span style=\"color: #008000; text-decoration-color: #008000\">explores individual differences in visualization capabilities and provides insights into how people with conditions</span>\n",
       "<span style=\"color: #008000; text-decoration-color: #008000\">like autism or synesthesia might experience mental imagery and visualization differently. Finally, Huberman </span>\n",
       "<span style=\"color: #008000; text-decoration-color: #008000\">outlines practical strategies for incorporating\\nShow Guest: Andrew Huberman\\nTranscript: It's pretty fast learning</span>\n",
       "<span style=\"color: #008000; text-decoration-color: #008000\">if you think about it. Do a task in the real world, do 50 trials of the imagined task, do the trial in the real </span>\n",
       "<span style=\"color: #008000; text-decoration-color: #008000\">world again. Significant improvement in speed and accuracy through now what are becoming to be established neural </span>\n",
       "<span style=\"color: #008000; text-decoration-color: #008000\">circuit connections between cerebellum and primary motor cortex. Okay, so this study is one of several, but not a </span>\n",
       "<span style=\"color: #008000; text-decoration-color: #008000\">tremendous number of studies out there that are starting to really pinpoint the underlying neural circuits that </span>\n",
       "<span style=\"color: #008000; text-decoration-color: #008000\">allow mental training and visualization to really improve motor skill performance. But again, and please hear me on</span>\n",
       "<span style=\"color: #008000; text-decoration-color: #008000\">this, in this study and in the vast majority of other studies that have shown significant improvement in motor </span>\n",
       "<span style=\"color: #008000; text-decoration-color: #008000\">performance in the real world by use of mental training and visualization, there was an ability of each and every </span>\n",
       "<span style=\"color: #008000; text-decoration-color: #008000\">one in the study to perform the specific motor sequence in the real world that then they were able to enhance with </span>\n",
       "<span style=\"color: #008000; text-decoration-color: #008000\">mental training and visualization. Now, thus far, we've been talking mostly about performance of motor sequences. </span>\n",
       "<span style=\"color: #008000; text-decoration-color: #008000\">And one of the things to really understand about performance of motor sequences, both in the real world and in the </span>\n",
       "<span style=\"color: #008000; text-decoration-color: #008000\">imagined context is that it involves the doing, that's what we call a go action and not doing certain </span>\n",
       "<span style=\"color: #008000; text-decoration-color: #008000\">things.\\n------------------------\\n\"</span>,\n",
       "    <span style=\"color: #008000; text-decoration-color: #008000\">\"\\nShow Summary: The Huberman Lab Podcast episode with Andrew Huberman discusses the science behind mental </span>\n",
       "<span style=\"color: #008000; text-decoration-color: #008000\">training and visualization techniques and their impact on learning and performance across various domains. The </span>\n",
       "<span style=\"color: #008000; text-decoration-color: #008000\">podcast emphasizes that mental training and visualization, when done correctly, can significantly improve the </span>\n",
       "<span style=\"color: #008000; text-decoration-color: #008000\">acquisition and retention of skills, be it cognitive tasks, musical abilities, or motor skills in sports. Huberman </span>\n",
       "<span style=\"color: #008000; text-decoration-color: #008000\">highlights the importance of neuroplasticity, the brain's ability to adapt and change through experience, as the </span>\n",
       "<span style=\"color: #008000; text-decoration-color: #008000\">underlying mechanism that supports the benefits of mental training.\\n\\nTo maximize the effectiveness of mental </span>\n",
       "<span style=\"color: #008000; text-decoration-color: #008000\">training and visualization, it must be structured in brief, specific, and repeated sessions that mirror the actual </span>\n",
       "<span style=\"color: #008000; text-decoration-color: #008000\">physical or cognitive tasks being trained. While mental training is not a replacement for physical practice, it </span>\n",
       "<span style=\"color: #008000; text-decoration-color: #008000\">serves as a powerful complement that can enhance learning when combined with actual experience. The podcast also </span>\n",
       "<span style=\"color: #008000; text-decoration-color: #008000\">explores individual differences in visualization capabilities and provides insights into how people with conditions</span>\n",
       "<span style=\"color: #008000; text-decoration-color: #008000\">like autism or synesthesia might experience mental imagery and visualization differently. Finally, Huberman </span>\n",
       "<span style=\"color: #008000; text-decoration-color: #008000\">outlines practical strategies for incorporating\\nShow Guest: Andrew Huberman\\nTranscript: I wouldn't obsess over </span>\n",
       "<span style=\"color: #008000; text-decoration-color: #008000\">whether or not you got 30 repetitions in and then your mind drifted or whether or not you could do the full 50 to </span>\n",
       "<span style=\"color: #008000; text-decoration-color: #008000\">75 or whether or not even in your mind's eye, you made some errors. What's been shown over and over again in this </span>\n",
       "<span style=\"color: #008000; text-decoration-color: #008000\">literature is that performing mental training and visualization repeatedly and in a very restricted way that makes </span>\n",
       "<span style=\"color: #008000; text-decoration-color: #008000\">it easier to perform those trials over and over and over again, and with a high degree of accuracy, almost always, </span>\n",
       "<span style=\"color: #008000; text-decoration-color: #008000\">really we can fairly say in essentially every study where it's been explored has led to improvements in real world </span>\n",
       "<span style=\"color: #008000; text-decoration-color: #008000\">performance of both cognitive and or physical tasks. So if you're trying to learn anything at all, I do encourage </span>\n",
       "<span style=\"color: #008000; text-decoration-color: #008000\">you to explore motor training and visualization because basically all the studies out there, in fact, I couldn't </span>\n",
       "<span style=\"color: #008000; text-decoration-color: #008000\">find one exception where some degree of improvement wasn't observed when people use motor training and </span>\n",
       "<span style=\"color: #008000; text-decoration-color: #008000\">visualization on a consistent basis, even just the three to five times per week, these simple repeats over and </span>\n",
       "<span style=\"color: #008000; text-decoration-color: #008000\">over. So I don't want to overcomplicate or make it sound like mental training and visualization has to be performed</span>\n",
       "<span style=\"color: #008000; text-decoration-color: #008000\">in a very precise way or that it has to be done perfectly each and every time. Quite to the </span>\n",
       "<span style=\"color: #008000; text-decoration-color: #008000\">contrary.\\n------------------------\\n\"</span>,\n",
       "    <span style=\"color: #008000; text-decoration-color: #008000\">\"\\nShow Summary: The Huberman Lab Podcast episode with Andrew Huberman discusses the science behind mental </span>\n",
       "<span style=\"color: #008000; text-decoration-color: #008000\">training and visualization techniques and their impact on learning and performance across various domains. The </span>\n",
       "<span style=\"color: #008000; text-decoration-color: #008000\">podcast emphasizes that mental training and visualization, when done correctly, can significantly improve the </span>\n",
       "<span style=\"color: #008000; text-decoration-color: #008000\">acquisition and retention of skills, be it cognitive tasks, musical abilities, or motor skills in sports. Huberman </span>\n",
       "<span style=\"color: #008000; text-decoration-color: #008000\">highlights the importance of neuroplasticity, the brain's ability to adapt and change through experience, as the </span>\n",
       "<span style=\"color: #008000; text-decoration-color: #008000\">underlying mechanism that supports the benefits of mental training.\\n\\nTo maximize the effectiveness of mental </span>\n",
       "<span style=\"color: #008000; text-decoration-color: #008000\">training and visualization, it must be structured in brief, specific, and repeated sessions that mirror the actual </span>\n",
       "<span style=\"color: #008000; text-decoration-color: #008000\">physical or cognitive tasks being trained. While mental training is not a replacement for physical practice, it </span>\n",
       "<span style=\"color: #008000; text-decoration-color: #008000\">serves as a powerful complement that can enhance learning when combined with actual experience. The podcast also </span>\n",
       "<span style=\"color: #008000; text-decoration-color: #008000\">explores individual differences in visualization capabilities and provides insights into how people with conditions</span>\n",
       "<span style=\"color: #008000; text-decoration-color: #008000\">like autism or synesthesia might experience mental imagery and visualization differently. Finally, Huberman </span>\n",
       "<span style=\"color: #008000; text-decoration-color: #008000\">outlines practical strategies for incorporating\\nShow Guest: Andrew Huberman\\nTranscript: I perhaps might've </span>\n",
       "<span style=\"color: #008000; text-decoration-color: #008000\">misspoke there, although I don't want to edit this out. I misspoke in the sense that, again, I said, for the thing </span>\n",
       "<span style=\"color: #008000; text-decoration-color: #008000\">that you're trying to learn, remember mental training and visualization is going to be most effective for building </span>\n",
       "<span style=\"color: #008000; text-decoration-color: #008000\">up the number of accurate trials or your ability to do something with a greater frequency of something that you're </span>\n",
       "<span style=\"color: #008000; text-decoration-color: #008000\">already capable of doing or have done at least once in the real world. This is not to say that mental training and </span>\n",
       "<span style=\"color: #008000; text-decoration-color: #008000\">visualization can't be used to acquire new skills. It can in principle, but it has been shown to be most effective </span>\n",
       "<span style=\"color: #008000; text-decoration-color: #008000\">for enhancing the speed and the accuracy of skills that one has already demonstrated some degree of proficiency at </span>\n",
       "<span style=\"color: #008000; text-decoration-color: #008000\">in the real world. I think that's important to point out because we often hear mental training visualization and </span>\n",
       "<span style=\"color: #008000; text-decoration-color: #008000\">this equivalence of perceptual and motor experiences in our mind's eye to the real world. And we think, oh, all we </span>\n",
       "<span style=\"color: #008000; text-decoration-color: #008000\">have to do is imagine doing something and we will get better at it. And unfortunately that's not the </span>\n",
       "<span style=\"color: #008000; text-decoration-color: #008000\">case.\\n------------------------\\n\"</span>\n",
       "<span style=\"font-weight: bold\">]</span>\n",
       "</pre>\n"
      ],
      "text/plain": [
       "\u001b[1m[\u001b[0m\n",
       "    \u001b[32m\"\\nShow Summary: The Huberman Lab Podcast episode with Andrew Huberman discusses the science behind mental \u001b[0m\n",
       "\u001b[32mtraining and visualization techniques and their impact on learning and performance across various domains. The \u001b[0m\n",
       "\u001b[32mpodcast emphasizes that mental training and visualization, when done correctly, can significantly improve the \u001b[0m\n",
       "\u001b[32macquisition and retention of skills, be it cognitive tasks, musical abilities, or motor skills in sports. Huberman \u001b[0m\n",
       "\u001b[32mhighlights the importance of neuroplasticity, the brain's ability to adapt and change through experience, as the \u001b[0m\n",
       "\u001b[32munderlying mechanism that supports the benefits of mental training.\\n\\nTo maximize the effectiveness of mental \u001b[0m\n",
       "\u001b[32mtraining and visualization, it must be structured in brief, specific, and repeated sessions that mirror the actual \u001b[0m\n",
       "\u001b[32mphysical or cognitive tasks being trained. While mental training is not a replacement for physical practice, it \u001b[0m\n",
       "\u001b[32mserves as a powerful complement that can enhance learning when combined with actual experience. The podcast also \u001b[0m\n",
       "\u001b[32mexplores individual differences in visualization capabilities and provides insights into how people with conditions\u001b[0m\n",
       "\u001b[32mlike autism or synesthesia might experience mental imagery and visualization differently. Finally, Huberman \u001b[0m\n",
       "\u001b[32moutlines practical strategies for incorporating\\nShow Guest: Andrew Huberman\\nTranscript: It's pretty fast learning\u001b[0m\n",
       "\u001b[32mif you think about it. Do a task in the real world, do 50 trials of the imagined task, do the trial in the real \u001b[0m\n",
       "\u001b[32mworld again. Significant improvement in speed and accuracy through now what are becoming to be established neural \u001b[0m\n",
       "\u001b[32mcircuit connections between cerebellum and primary motor cortex. Okay, so this study is one of several, but not a \u001b[0m\n",
       "\u001b[32mtremendous number of studies out there that are starting to really pinpoint the underlying neural circuits that \u001b[0m\n",
       "\u001b[32mallow mental training and visualization to really improve motor skill performance. But again, and please hear me on\u001b[0m\n",
       "\u001b[32mthis, in this study and in the vast majority of other studies that have shown significant improvement in motor \u001b[0m\n",
       "\u001b[32mperformance in the real world by use of mental training and visualization, there was an ability of each and every \u001b[0m\n",
       "\u001b[32mone in the study to perform the specific motor sequence in the real world that then they were able to enhance with \u001b[0m\n",
       "\u001b[32mmental training and visualization. Now, thus far, we've been talking mostly about performance of motor sequences. \u001b[0m\n",
       "\u001b[32mAnd one of the things to really understand about performance of motor sequences, both in the real world and in the \u001b[0m\n",
       "\u001b[32mimagined context is that it involves the doing, that's what we call a go action and not doing certain \u001b[0m\n",
       "\u001b[32mthings.\\n------------------------\\n\"\u001b[0m,\n",
       "    \u001b[32m\"\\nShow Summary: The Huberman Lab Podcast episode with Andrew Huberman discusses the science behind mental \u001b[0m\n",
       "\u001b[32mtraining and visualization techniques and their impact on learning and performance across various domains. The \u001b[0m\n",
       "\u001b[32mpodcast emphasizes that mental training and visualization, when done correctly, can significantly improve the \u001b[0m\n",
       "\u001b[32macquisition and retention of skills, be it cognitive tasks, musical abilities, or motor skills in sports. Huberman \u001b[0m\n",
       "\u001b[32mhighlights the importance of neuroplasticity, the brain's ability to adapt and change through experience, as the \u001b[0m\n",
       "\u001b[32munderlying mechanism that supports the benefits of mental training.\\n\\nTo maximize the effectiveness of mental \u001b[0m\n",
       "\u001b[32mtraining and visualization, it must be structured in brief, specific, and repeated sessions that mirror the actual \u001b[0m\n",
       "\u001b[32mphysical or cognitive tasks being trained. While mental training is not a replacement for physical practice, it \u001b[0m\n",
       "\u001b[32mserves as a powerful complement that can enhance learning when combined with actual experience. The podcast also \u001b[0m\n",
       "\u001b[32mexplores individual differences in visualization capabilities and provides insights into how people with conditions\u001b[0m\n",
       "\u001b[32mlike autism or synesthesia might experience mental imagery and visualization differently. Finally, Huberman \u001b[0m\n",
       "\u001b[32moutlines practical strategies for incorporating\\nShow Guest: Andrew Huberman\\nTranscript: I wouldn't obsess over \u001b[0m\n",
       "\u001b[32mwhether or not you got 30 repetitions in and then your mind drifted or whether or not you could do the full 50 to \u001b[0m\n",
       "\u001b[32m75 or whether or not even in your mind's eye, you made some errors. What's been shown over and over again in this \u001b[0m\n",
       "\u001b[32mliterature is that performing mental training and visualization repeatedly and in a very restricted way that makes \u001b[0m\n",
       "\u001b[32mit easier to perform those trials over and over and over again, and with a high degree of accuracy, almost always, \u001b[0m\n",
       "\u001b[32mreally we can fairly say in essentially every study where it's been explored has led to improvements in real world \u001b[0m\n",
       "\u001b[32mperformance of both cognitive and or physical tasks. So if you're trying to learn anything at all, I do encourage \u001b[0m\n",
       "\u001b[32myou to explore motor training and visualization because basically all the studies out there, in fact, I couldn't \u001b[0m\n",
       "\u001b[32mfind one exception where some degree of improvement wasn't observed when people use motor training and \u001b[0m\n",
       "\u001b[32mvisualization on a consistent basis, even just the three to five times per week, these simple repeats over and \u001b[0m\n",
       "\u001b[32mover. So I don't want to overcomplicate or make it sound like mental training and visualization has to be performed\u001b[0m\n",
       "\u001b[32min a very precise way or that it has to be done perfectly each and every time. Quite to the \u001b[0m\n",
       "\u001b[32mcontrary.\\n------------------------\\n\"\u001b[0m,\n",
       "    \u001b[32m\"\\nShow Summary: The Huberman Lab Podcast episode with Andrew Huberman discusses the science behind mental \u001b[0m\n",
       "\u001b[32mtraining and visualization techniques and their impact on learning and performance across various domains. The \u001b[0m\n",
       "\u001b[32mpodcast emphasizes that mental training and visualization, when done correctly, can significantly improve the \u001b[0m\n",
       "\u001b[32macquisition and retention of skills, be it cognitive tasks, musical abilities, or motor skills in sports. Huberman \u001b[0m\n",
       "\u001b[32mhighlights the importance of neuroplasticity, the brain's ability to adapt and change through experience, as the \u001b[0m\n",
       "\u001b[32munderlying mechanism that supports the benefits of mental training.\\n\\nTo maximize the effectiveness of mental \u001b[0m\n",
       "\u001b[32mtraining and visualization, it must be structured in brief, specific, and repeated sessions that mirror the actual \u001b[0m\n",
       "\u001b[32mphysical or cognitive tasks being trained. While mental training is not a replacement for physical practice, it \u001b[0m\n",
       "\u001b[32mserves as a powerful complement that can enhance learning when combined with actual experience. The podcast also \u001b[0m\n",
       "\u001b[32mexplores individual differences in visualization capabilities and provides insights into how people with conditions\u001b[0m\n",
       "\u001b[32mlike autism or synesthesia might experience mental imagery and visualization differently. Finally, Huberman \u001b[0m\n",
       "\u001b[32moutlines practical strategies for incorporating\\nShow Guest: Andrew Huberman\\nTranscript: I perhaps might've \u001b[0m\n",
       "\u001b[32mmisspoke there, although I don't want to edit this out. I misspoke in the sense that, again, I said, for the thing \u001b[0m\n",
       "\u001b[32mthat you're trying to learn, remember mental training and visualization is going to be most effective for building \u001b[0m\n",
       "\u001b[32mup the number of accurate trials or your ability to do something with a greater frequency of something that you're \u001b[0m\n",
       "\u001b[32malready capable of doing or have done at least once in the real world. This is not to say that mental training and \u001b[0m\n",
       "\u001b[32mvisualization can't be used to acquire new skills. It can in principle, but it has been shown to be most effective \u001b[0m\n",
       "\u001b[32mfor enhancing the speed and the accuracy of skills that one has already demonstrated some degree of proficiency at \u001b[0m\n",
       "\u001b[32min the real world. I think that's important to point out because we often hear mental training visualization and \u001b[0m\n",
       "\u001b[32mthis equivalence of perceptual and motor experiences in our mind's eye to the real world. And we think, oh, all we \u001b[0m\n",
       "\u001b[32mhave to do is imagine doing something and we will get better at it. And unfortunately that's not the \u001b[0m\n",
       "\u001b[32mcase.\\n------------------------\\n\"\u001b[0m\n",
       "\u001b[1m]\u001b[0m\n"
      ]
     },
     "metadata": {},
     "output_type": "display_data"
    },
    {
     "data": {
      "text/html": [
       "<pre style=\"white-space:pre;overflow-x:auto;line-height:normal;font-family:Menlo,'DejaVu Sans Mono',consolas,'Courier New',monospace\">\n",
       "\n",
       "</pre>\n"
      ],
      "text/plain": [
       "\n",
       "\n"
      ]
     },
     "metadata": {},
     "output_type": "display_data"
    },
    {
     "data": {
      "text/html": [
       "<pre style=\"white-space:pre;overflow-x:auto;line-height:normal;font-family:Menlo,'DejaVu Sans Mono',consolas,'Courier New',monospace\">****************************************************************************************************\n",
       "</pre>\n"
      ],
      "text/plain": [
       "****************************************************************************************************\n"
      ]
     },
     "metadata": {},
     "output_type": "display_data"
    },
    {
     "data": {
      "text/html": [
       "<pre style=\"white-space:pre;overflow-x:auto;line-height:normal;font-family:Menlo,'DejaVu Sans Mono',consolas,'Courier New',monospace\">\n",
       "\n",
       "</pre>\n"
      ],
      "text/plain": [
       "\n",
       "\n"
      ]
     },
     "metadata": {},
     "output_type": "display_data"
    },
    {
     "data": {
      "text/html": [
       "<pre style=\"white-space:pre;overflow-x:auto;line-height:normal;font-family:Menlo,'DejaVu Sans Mono',consolas,'Courier New',monospace\"><span style=\"font-weight: bold\">{</span>\n",
       "    <span style=\"color: #008000; text-decoration-color: #008000\">'name'</span>: <span style=\"color: #008000; text-decoration-color: #008000\">'AnswerCorrectness'</span>,\n",
       "    <span style=\"color: #008000; text-decoration-color: #008000\">'criteria'</span>: <span style=\"color: #800080; text-decoration-color: #800080; font-style: italic\">None</span>,\n",
       "    <span style=\"color: #008000; text-decoration-color: #008000\">'using_native_model'</span>: <span style=\"color: #ff0000; text-decoration-color: #ff0000; font-style: italic\">False</span>,\n",
       "    <span style=\"color: #008000; text-decoration-color: #008000\">'evaluation_model'</span>: <span style=\"color: #008000; text-decoration-color: #008000\">'gpt-4'</span>,\n",
       "    <span style=\"color: #008000; text-decoration-color: #008000\">'evaluation_steps'</span>: <span style=\"font-weight: bold\">[</span>\n",
       "        <span style=\"color: #008000; text-decoration-color: #008000\">'Compare the actual output with the retrieval context to verify factual accuracy.'</span>,\n",
       "        <span style=\"color: #008000; text-decoration-color: #008000\">'Assess if the actual output effectively addresses the specific information requirement stated in the </span>\n",
       "<span style=\"color: #008000; text-decoration-color: #008000\">input.'</span>,\n",
       "        <span style=\"color: #008000; text-decoration-color: #008000\">'Determine the comprehensiveness of the actual output in addressing all key aspects mentioned in the </span>\n",
       "<span style=\"color: #008000; text-decoration-color: #008000\">input.'</span>,\n",
       "        <span style=\"color: #008000; text-decoration-color: #008000\">'Score the actual output between 0 and 10, based on the accuracy and comprehensiveness of the information </span>\n",
       "<span style=\"color: #008000; text-decoration-color: #008000\">provided, with 10 being exactly correct and 0 being completely incorrect.'</span>,\n",
       "        <span style=\"color: #008000; text-decoration-color: #008000\">'If there is not enough information in the retrieval context to correctly answer the input, and the actual </span>\n",
       "<span style=\"color: #008000; text-decoration-color: #008000\">output indicates that the input cannot be answered with the provided context, then return a score of 10.'</span>\n",
       "    <span style=\"font-weight: bold\">]</span>,\n",
       "    <span style=\"color: #008000; text-decoration-color: #008000\">'_threshold'</span>: <span style=\"color: #008080; text-decoration-color: #008080; font-weight: bold\">0.5</span>,\n",
       "    <span style=\"color: #008000; text-decoration-color: #008000\">'strict_mode'</span>: <span style=\"color: #ff0000; text-decoration-color: #ff0000; font-style: italic\">False</span>,\n",
       "    <span style=\"color: #008000; text-decoration-color: #008000\">'async_mode'</span>: <span style=\"color: #00ff00; text-decoration-color: #00ff00; font-style: italic\">True</span>,\n",
       "    <span style=\"color: #008000; text-decoration-color: #008000\">'evaluation_cost'</span>: <span style=\"color: #800080; text-decoration-color: #800080; font-style: italic\">None</span>,\n",
       "    <span style=\"color: #008000; text-decoration-color: #008000\">'reason'</span>: <span style=\"color: #008000; text-decoration-color: #008000\">'The actual output includes some accurate information regarding repetitions for small muscle groups </span>\n",
       "<span style=\"color: #008000; text-decoration-color: #008000\">and big compound movements, as mentioned in the retrieval context. However, it misrepresents the range for small </span>\n",
       "<span style=\"color: #008000; text-decoration-color: #008000\">muscle groups and overlooks the variable repetition ranges discussed in the context that can include higher </span>\n",
       "<span style=\"color: #008000; text-decoration-color: #008000\">repetitions for hypertrophy. It also neglects the wider repetition range mentioned for hypertrophy and does not </span>\n",
       "<span style=\"color: #008000; text-decoration-color: #008000\">consider the other repetition ranges discussed for different adaptations.'</span>,\n",
       "    <span style=\"color: #008000; text-decoration-color: #008000\">'score'</span>: <span style=\"color: #008080; text-decoration-color: #008080; font-weight: bold\">0.7</span>,\n",
       "    <span style=\"color: #008000; text-decoration-color: #008000\">'success'</span>: <span style=\"color: #00ff00; text-decoration-color: #00ff00; font-style: italic\">True</span>\n",
       "<span style=\"font-weight: bold\">}</span>\n",
       "</pre>\n"
      ],
      "text/plain": [
       "\u001b[1m{\u001b[0m\n",
       "    \u001b[32m'name'\u001b[0m: \u001b[32m'AnswerCorrectness'\u001b[0m,\n",
       "    \u001b[32m'criteria'\u001b[0m: \u001b[3;35mNone\u001b[0m,\n",
       "    \u001b[32m'using_native_model'\u001b[0m: \u001b[3;91mFalse\u001b[0m,\n",
       "    \u001b[32m'evaluation_model'\u001b[0m: \u001b[32m'gpt-4'\u001b[0m,\n",
       "    \u001b[32m'evaluation_steps'\u001b[0m: \u001b[1m[\u001b[0m\n",
       "        \u001b[32m'Compare the actual output with the retrieval context to verify factual accuracy.'\u001b[0m,\n",
       "        \u001b[32m'Assess if the actual output effectively addresses the specific information requirement stated in the \u001b[0m\n",
       "\u001b[32minput.'\u001b[0m,\n",
       "        \u001b[32m'Determine the comprehensiveness of the actual output in addressing all key aspects mentioned in the \u001b[0m\n",
       "\u001b[32minput.'\u001b[0m,\n",
       "        \u001b[32m'Score the actual output between 0 and 10, based on the accuracy and comprehensiveness of the information \u001b[0m\n",
       "\u001b[32mprovided, with 10 being exactly correct and 0 being completely incorrect.'\u001b[0m,\n",
       "        \u001b[32m'If there is not enough information in the retrieval context to correctly answer the input, and the actual \u001b[0m\n",
       "\u001b[32moutput indicates that the input cannot be answered with the provided context, then return a score of 10.'\u001b[0m\n",
       "    \u001b[1m]\u001b[0m,\n",
       "    \u001b[32m'_threshold'\u001b[0m: \u001b[1;36m0.5\u001b[0m,\n",
       "    \u001b[32m'strict_mode'\u001b[0m: \u001b[3;91mFalse\u001b[0m,\n",
       "    \u001b[32m'async_mode'\u001b[0m: \u001b[3;92mTrue\u001b[0m,\n",
       "    \u001b[32m'evaluation_cost'\u001b[0m: \u001b[3;35mNone\u001b[0m,\n",
       "    \u001b[32m'reason'\u001b[0m: \u001b[32m'The actual output includes some accurate information regarding repetitions for small muscle groups \u001b[0m\n",
       "\u001b[32mand big compound movements, as mentioned in the retrieval context. However, it misrepresents the range for small \u001b[0m\n",
       "\u001b[32mmuscle groups and overlooks the variable repetition ranges discussed in the context that can include higher \u001b[0m\n",
       "\u001b[32mrepetitions for hypertrophy. It also neglects the wider repetition range mentioned for hypertrophy and does not \u001b[0m\n",
       "\u001b[32mconsider the other repetition ranges discussed for different adaptations.'\u001b[0m,\n",
       "    \u001b[32m'score'\u001b[0m: \u001b[1;36m0.7\u001b[0m,\n",
       "    \u001b[32m'success'\u001b[0m: \u001b[3;92mTrue\u001b[0m\n",
       "\u001b[1m}\u001b[0m\n"
      ]
     },
     "metadata": {},
     "output_type": "display_data"
    },
    {
     "data": {
      "text/html": [
       "<pre style=\"white-space:pre;overflow-x:auto;line-height:normal;font-family:Menlo,'DejaVu Sans Mono',consolas,'Courier New',monospace\">How do the recommended repetition ranges differ for small muscle groups compared to big compound movements?\n",
       "</pre>\n"
      ],
      "text/plain": [
       "How do the recommended repetition ranges differ for small muscle groups compared to big compound movements?\n"
      ]
     },
     "metadata": {},
     "output_type": "display_data"
    },
    {
     "data": {
      "text/html": [
       "<pre style=\"white-space:pre;overflow-x:auto;line-height:normal;font-family:Menlo,'DejaVu Sans Mono',consolas,'Courier New',monospace\">The recommended repetition ranges differ for small muscle groups compared to big compound movements in the \n",
       "following way: For small muscle groups such as the rear deltoids, neck, or calves, the recommendation is to work in\n",
       "a range of anywhere from five to eight repetitions. This allows for slightly higher repetitions, making it easier \n",
       "to fatigue those smaller muscle groups adequately with good form. On the other hand, for big compound movements \n",
       "like presses, squats, deadlifts, and other similar exercises, the recommendation is to restrict oneself to a lower \n",
       "repetition range, specifically three to five repetitions that take you to failure or near failure in order to \n",
       "maximize the benefits of strength training.\n",
       "\n",
       "Therefore, the recommendation is to use a wider repetition range for small muscle groups <span style=\"font-weight: bold\">(</span><span style=\"color: #008080; text-decoration-color: #008080; font-weight: bold\">5</span>-<span style=\"color: #008080; text-decoration-color: #008080; font-weight: bold\">8</span> repetitions<span style=\"font-weight: bold\">)</span> and a \n",
       "narrower, lower repetition range for big compound movements <span style=\"font-weight: bold\">(</span><span style=\"color: #008080; text-decoration-color: #008080; font-weight: bold\">3</span>-<span style=\"color: #008080; text-decoration-color: #008080; font-weight: bold\">5</span> repetitions<span style=\"font-weight: bold\">)</span>.\n",
       "</pre>\n"
      ],
      "text/plain": [
       "The recommended repetition ranges differ for small muscle groups compared to big compound movements in the \n",
       "following way: For small muscle groups such as the rear deltoids, neck, or calves, the recommendation is to work in\n",
       "a range of anywhere from five to eight repetitions. This allows for slightly higher repetitions, making it easier \n",
       "to fatigue those smaller muscle groups adequately with good form. On the other hand, for big compound movements \n",
       "like presses, squats, deadlifts, and other similar exercises, the recommendation is to restrict oneself to a lower \n",
       "repetition range, specifically three to five repetitions that take you to failure or near failure in order to \n",
       "maximize the benefits of strength training.\n",
       "\n",
       "Therefore, the recommendation is to use a wider repetition range for small muscle groups \u001b[1m(\u001b[0m\u001b[1;36m5\u001b[0m-\u001b[1;36m8\u001b[0m repetitions\u001b[1m)\u001b[0m and a \n",
       "narrower, lower repetition range for big compound movements \u001b[1m(\u001b[0m\u001b[1;36m3\u001b[0m-\u001b[1;36m5\u001b[0m repetitions\u001b[1m)\u001b[0m.\n"
      ]
     },
     "metadata": {},
     "output_type": "display_data"
    },
    {
     "data": {
      "text/html": [
       "<pre style=\"white-space:pre;overflow-x:auto;line-height:normal;font-family:Menlo,'DejaVu Sans Mono',consolas,'Courier New',monospace\"><span style=\"font-weight: bold\">[</span>\n",
       "    <span style=\"color: #008000; text-decoration-color: #008000\">'\\nShow Summary: In the Huberman Lab podcast episode titled \"Science-Supported Tools to Accelerate Your Fitness</span>\n",
       "<span style=\"color: #008000; text-decoration-color: #008000\">Goals,\" host Dr. Andrew Huberman and guest Dr. Andy Galpin discuss science-based strategies for enhancing fitness </span>\n",
       "<span style=\"color: #008000; text-decoration-color: #008000\">routines. The episode covers a wide range of protocols including how to structure a fitness regimen and integrate </span>\n",
       "<span style=\"color: #008000; text-decoration-color: #008000\">recovery, nutrition, and supplementary measures to augment strength, hypertrophy, endurance, anaerobic capacity, </span>\n",
       "<span style=\"color: #008000; text-decoration-color: #008000\">and more. Huberman highlights select protocols he has incorporated into his routine that are fun and time-efficient</span>\n",
       "<span style=\"color: #008000; text-decoration-color: #008000\">and encourages listeners to tailor these strategies to their goals without significantly increasing workout </span>\n",
       "<span style=\"color: #008000; text-decoration-color: #008000\">duration.\\n\\nKey components of any fitness program consist of a combination of cardiovascular and resistance </span>\n",
       "<span style=\"color: #008000; text-decoration-color: #008000\">training sessions. The episode emphasizes the necessity of including different training types (like zone two </span>\n",
       "<span style=\"color: #008000; text-decoration-color: #008000\">cardio, strength sessions, and different cardiovascular workouts) and recovery to make continuous </span>\n",
       "<span style=\"color: #008000; text-decoration-color: #008000\">progress.\\n\\nSpecific tools discussed include \"meshing\" zone two cardio with daily activities, like walking, to hit</span>\n",
       "<span style=\"color: #008000; text-decoration-color: #008000\">the recommended 200 minutes per week without additional scheduling.\\nShow Guest: Dr. Andy Galpin\\nTranscript: Now, </span>\n",
       "<span style=\"color: #008000; text-decoration-color: #008000\">the one exception to this that I incorporated was that for very small muscle groups, so for instance, the rear </span>\n",
       "<span style=\"color: #008000; text-decoration-color: #008000\">deltoids, or for neck work, or for calf work, to not rely purely on three to five repetitions, but maybe to work in</span>\n",
       "<span style=\"color: #008000; text-decoration-color: #008000\">a range of anywhere from five to eight repetitions. So still fairly low repetitions, but not so low that it </span>\n",
       "<span style=\"color: #008000; text-decoration-color: #008000\">restricts you to three to five repetitions. The reason for that is that I, and I think a lot of people out there, </span>\n",
       "<span style=\"color: #008000; text-decoration-color: #008000\">find it hard to fatigue those smaller muscle groups adequately with good form when restricting oneself to those low</span>\n",
       "<span style=\"color: #008000; text-decoration-color: #008000\">repetitions. However, for big compound movements like presses and squats and deadlifts and glute ham raises and </span>\n",
       "<span style=\"color: #008000; text-decoration-color: #008000\">things of that sort, maybe even leg extensions and leg curls, which are isolation exercises, of course, to really </span>\n",
       "<span style=\"color: #008000; text-decoration-color: #008000\">restrict oneself to those three to five repetition ranges that take you to failure or near failure. I listed off </span>\n",
       "<span style=\"color: #008000; text-decoration-color: #008000\">the benefits of doing that that I experienced, and I\\'m confident that you will also experience a lot of benefits. </span>\n",
       "<span style=\"color: #008000; text-decoration-color: #008000\">So just to remind you what some of those benefits are, you get stronger, which feels great. That occurs within your</span>\n",
       "<span style=\"color: #008000; text-decoration-color: #008000\">weight workouts, but it also carries over to your endurance training sessions.\\n------------------------\\n'</span>,\n",
       "    <span style=\"color: #008000; text-decoration-color: #008000\">\"\\nShow Summary: In the Huberman Lab guest series episode with Dr. Andy Galpin, they discuss the science and </span>\n",
       "<span style=\"color: #008000; text-decoration-color: #008000\">methods to increase strength, hypertrophy (muscle growth), and endurance. Dr. Galpin highlights the importance of </span>\n",
       "<span style=\"color: #008000; text-decoration-color: #008000\">strength and hypertrophy training for everyone, not just athletes, as it combats neuromuscular aging and preserves </span>\n",
       "<span style=\"color: #008000; text-decoration-color: #008000\">muscle function. He clarifies that strength training is essential for maintaining muscle power and strength, which </span>\n",
       "<span style=\"color: #008000; text-decoration-color: #008000\">is crucial for everyday movements and preventing falls as we age. The conversation also touches on the benefits of </span>\n",
       "<span style=\"color: #008000; text-decoration-color: #008000\">strength and hypertrophy training for cognitive function, immune health, and overall longevity. Dr. Galpin dispels </span>\n",
       "<span style=\"color: #008000; text-decoration-color: #008000\">misconceptions about strength training, emphasizing that it can be started at any age and is not solely for </span>\n",
       "<span style=\"color: #008000; text-decoration-color: #008000\">building muscle mass, but also for maintaining functional abilities. He also discusses the neuromuscular </span>\n",
       "<span style=\"color: #008000; text-decoration-color: #008000\">adaptations that occur with strength training, such as improved nerve firing, muscle contractility, and changes in </span>\n",
       "<span style=\"color: #008000; text-decoration-color: #008000\">muscle fiber type.\\nShow Guest: Dr. Andy Galpin\\nTranscript: But in reality, if it is, you can do whatever you </span>\n",
       "<span style=\"color: #008000; text-decoration-color: #008000\">would like. Tell me if this is a reasonable structure, given what you've told us. Three exercises per muscle group.</span>\n",
       "<span style=\"color: #008000; text-decoration-color: #008000\">First exercise, slightly heavier loads. So repetition ranges somewhere between, let's say, five and eight, with </span>\n",
       "<span style=\"color: #008000; text-decoration-color: #008000\">perhaps hitting failure or close to it on the last set rest periods of somewhere between two or let's, let's get </span>\n",
       "<span style=\"color: #008000; text-decoration-color: #008000\">wild and say five minutes. Okay. So it's a little bit more of a strength type workout at that point, but then </span>\n",
       "<span style=\"color: #008000; text-decoration-color: #008000\">moving to a second exercise of three or four sets where the repetition ranges now eight to 15, shortening the rest </span>\n",
       "<span style=\"color: #008000; text-decoration-color: #008000\">periods to 90 seconds or so. And then on the third exercise, repetition ranges of 12 to 30. This number 30 kind of </span>\n",
       "<span style=\"color: #008000; text-decoration-color: #008000\">makes me wide-eyed when I think about it. I can't remember the last time I did a set of 30 thinking it was for </span>\n",
       "<span style=\"color: #008000; text-decoration-color: #008000\">hypertrophy, but what you're saying makes absolute sense and is research-backed. So very short rest intervals, </span>\n",
       "<span style=\"color: #008000; text-decoration-color: #008000\">maybe 30 seconds between sets. Would that allow somebody to target all three forms of major adaptation? I mean, in </span>\n",
       "<span style=\"color: #008000; text-decoration-color: #008000\">my mind it works.\\n------------------------\\n\"</span>,\n",
       "    <span style=\"color: #008000; text-decoration-color: #008000\">'\\nShow Summary: In the Huberman Lab Podcast #94 titled \"Fitness Toolkit: Protocol &amp; Tools to Optimize Physical</span>\n",
       "<span style=\"color: #008000; text-decoration-color: #008000\">Health,\" Andrew Huberman discusses science-based tools to optimize physical health, covering various fitness </span>\n",
       "<span style=\"color: #008000; text-decoration-color: #008000\">aspects such as endurance, strength, flexibility, hypertrophy, and more. He proposes a general fitness protocol </span>\n",
       "<span style=\"color: #008000; text-decoration-color: #008000\">that individuals can adapt to pursue specific fitness goals such as increased strength or endurance. Huberman </span>\n",
       "<span style=\"color: #008000; text-decoration-color: #008000\">outlines his workout schedule, emphasizing training large muscle groups like legs and adjusting for recovery and </span>\n",
       "<span style=\"color: #008000; text-decoration-color: #008000\">biomechanical safety with activities such as heat-cold contrast sessions for recovery.\\n\\nThe podcast also explores</span>\n",
       "<span style=\"color: #008000; text-decoration-color: #008000\">the benefits of long endurance workouts, the importance of resistance training coupled with tailored sets and </span>\n",
       "<span style=\"color: #008000; text-decoration-color: #008000\">repetitions for hypertrophy or strength gains, and the significance of incorporating neck exercises for overall </span>\n",
       "<span style=\"color: #008000; text-decoration-color: #008000\">stability and safety. Huberman reinforces the necessity of balancing fitness types throughout the week, providing a</span>\n",
       "<span style=\"color: #008000; text-decoration-color: #008000\">foundation for full-body health.\\n\\nAdditionally, he announces the launch of the Huberman Lab Podcast premium </span>\n",
       "<span style=\"color: #008000; text-decoration-color: #008000\">channel, offering in-depth responses to listener questions and exclusive content.\\nShow Guest: Andrew </span>\n",
       "<span style=\"color: #008000; text-decoration-color: #008000\">Huberman\\nTranscript: So it might be anywhere from three to four sets per exercise. Again, still just two exercises</span>\n",
       "<span style=\"color: #008000; text-decoration-color: #008000\">and longer rest between sets, anywhere from two minutes to maybe even four minutes if it\\'s really heavy leg work. </span>\n",
       "<span style=\"color: #008000; text-decoration-color: #008000\">And then for the next month, switch to repetition range that\\'s closer to eight to 12, maybe even 15 repetitions </span>\n",
       "<span style=\"color: #008000; text-decoration-color: #008000\">per set, but do fewer sets overall. So maybe just two to three sets per exercise, again, just two exercises per </span>\n",
       "<span style=\"color: #008000; text-decoration-color: #008000\">muscle group typically. And shorten the rest between sets so that it\\'s more in the 90 second, maybe even as short </span>\n",
       "<span style=\"color: #008000; text-decoration-color: #008000\">as 60 seconds rest between sets, but typically 90 seconds to about two minutes or two and a half minutes. So </span>\n",
       "<span style=\"color: #008000; text-decoration-color: #008000\">basically it\\'s one month heavier, the next month slightly lighter, although I wouldn\\'t say light, I would say </span>\n",
       "<span style=\"color: #008000; text-decoration-color: #008000\">moderate weight and moderate rep range. That tends to work well for me. It also adheres to a principle that came up</span>\n",
       "<span style=\"color: #008000; text-decoration-color: #008000\">during the discussion, again, with Dr. Andy Galpin, that for hypertrophy, you really can use repetition ranges </span>\n",
       "<span style=\"color: #008000; text-decoration-color: #008000\">anywhere from five to 30, three zero reps. But he emphasized changing the repetition ranges in order to offset </span>\n",
       "<span style=\"color: #008000; text-decoration-color: #008000\">boredom.\\n------------------------\\n'</span>\n",
       "<span style=\"font-weight: bold\">]</span>\n",
       "</pre>\n"
      ],
      "text/plain": [
       "\u001b[1m[\u001b[0m\n",
       "    \u001b[32m'\\nShow Summary: In the Huberman Lab podcast episode titled \"Science-Supported Tools to Accelerate Your Fitness\u001b[0m\n",
       "\u001b[32mGoals,\" host Dr. Andrew Huberman and guest Dr. Andy Galpin discuss science-based strategies for enhancing fitness \u001b[0m\n",
       "\u001b[32mroutines. The episode covers a wide range of protocols including how to structure a fitness regimen and integrate \u001b[0m\n",
       "\u001b[32mrecovery, nutrition, and supplementary measures to augment strength, hypertrophy, endurance, anaerobic capacity, \u001b[0m\n",
       "\u001b[32mand more. Huberman highlights select protocols he has incorporated into his routine that are fun and time-efficient\u001b[0m\n",
       "\u001b[32mand encourages listeners to tailor these strategies to their goals without significantly increasing workout \u001b[0m\n",
       "\u001b[32mduration.\\n\\nKey components of any fitness program consist of a combination of cardiovascular and resistance \u001b[0m\n",
       "\u001b[32mtraining sessions. The episode emphasizes the necessity of including different training types \u001b[0m\u001b[32m(\u001b[0m\u001b[32mlike zone two \u001b[0m\n",
       "\u001b[32mcardio, strength sessions, and different cardiovascular workouts\u001b[0m\u001b[32m)\u001b[0m\u001b[32m and recovery to make continuous \u001b[0m\n",
       "\u001b[32mprogress.\\n\\nSpecific tools discussed include \"meshing\" zone two cardio with daily activities, like walking, to hit\u001b[0m\n",
       "\u001b[32mthe recommended 200 minutes per week without additional scheduling.\\nShow Guest: Dr. Andy Galpin\\nTranscript: Now, \u001b[0m\n",
       "\u001b[32mthe one exception to this that I incorporated was that for very small muscle groups, so for instance, the rear \u001b[0m\n",
       "\u001b[32mdeltoids, or for neck work, or for calf work, to not rely purely on three to five repetitions, but maybe to work in\u001b[0m\n",
       "\u001b[32ma range of anywhere from five to eight repetitions. So still fairly low repetitions, but not so low that it \u001b[0m\n",
       "\u001b[32mrestricts you to three to five repetitions. The reason for that is that I, and I think a lot of people out there, \u001b[0m\n",
       "\u001b[32mfind it hard to fatigue those smaller muscle groups adequately with good form when restricting oneself to those low\u001b[0m\n",
       "\u001b[32mrepetitions. However, for big compound movements like presses and squats and deadlifts and glute ham raises and \u001b[0m\n",
       "\u001b[32mthings of that sort, maybe even leg extensions and leg curls, which are isolation exercises, of course, to really \u001b[0m\n",
       "\u001b[32mrestrict oneself to those three to five repetition ranges that take you to failure or near failure. I listed off \u001b[0m\n",
       "\u001b[32mthe benefits of doing that that I experienced, and I\\'m confident that you will also experience a lot of benefits. \u001b[0m\n",
       "\u001b[32mSo just to remind you what some of those benefits are, you get stronger, which feels great. That occurs within your\u001b[0m\n",
       "\u001b[32mweight workouts, but it also carries over to your endurance training sessions.\\n------------------------\\n'\u001b[0m,\n",
       "    \u001b[32m\"\\nShow Summary: In the Huberman Lab guest series episode with Dr. Andy Galpin, they discuss the science and \u001b[0m\n",
       "\u001b[32mmethods to increase strength, hypertrophy \u001b[0m\u001b[32m(\u001b[0m\u001b[32mmuscle growth\u001b[0m\u001b[32m)\u001b[0m\u001b[32m, and endurance. Dr. Galpin highlights the importance of \u001b[0m\n",
       "\u001b[32mstrength and hypertrophy training for everyone, not just athletes, as it combats neuromuscular aging and preserves \u001b[0m\n",
       "\u001b[32mmuscle function. He clarifies that strength training is essential for maintaining muscle power and strength, which \u001b[0m\n",
       "\u001b[32mis crucial for everyday movements and preventing falls as we age. The conversation also touches on the benefits of \u001b[0m\n",
       "\u001b[32mstrength and hypertrophy training for cognitive function, immune health, and overall longevity. Dr. Galpin dispels \u001b[0m\n",
       "\u001b[32mmisconceptions about strength training, emphasizing that it can be started at any age and is not solely for \u001b[0m\n",
       "\u001b[32mbuilding muscle mass, but also for maintaining functional abilities. He also discusses the neuromuscular \u001b[0m\n",
       "\u001b[32madaptations that occur with strength training, such as improved nerve firing, muscle contractility, and changes in \u001b[0m\n",
       "\u001b[32mmuscle fiber type.\\nShow Guest: Dr. Andy Galpin\\nTranscript: But in reality, if it is, you can do whatever you \u001b[0m\n",
       "\u001b[32mwould like. Tell me if this is a reasonable structure, given what you've told us. Three exercises per muscle group.\u001b[0m\n",
       "\u001b[32mFirst exercise, slightly heavier loads. So repetition ranges somewhere between, let's say, five and eight, with \u001b[0m\n",
       "\u001b[32mperhaps hitting failure or close to it on the last set rest periods of somewhere between two or let's, let's get \u001b[0m\n",
       "\u001b[32mwild and say five minutes. Okay. So it's a little bit more of a strength type workout at that point, but then \u001b[0m\n",
       "\u001b[32mmoving to a second exercise of three or four sets where the repetition ranges now eight to 15, shortening the rest \u001b[0m\n",
       "\u001b[32mperiods to 90 seconds or so. And then on the third exercise, repetition ranges of 12 to 30. This number 30 kind of \u001b[0m\n",
       "\u001b[32mmakes me wide-eyed when I think about it. I can't remember the last time I did a set of 30 thinking it was for \u001b[0m\n",
       "\u001b[32mhypertrophy, but what you're saying makes absolute sense and is research-backed. So very short rest intervals, \u001b[0m\n",
       "\u001b[32mmaybe 30 seconds between sets. Would that allow somebody to target all three forms of major adaptation? I mean, in \u001b[0m\n",
       "\u001b[32mmy mind it works.\\n------------------------\\n\"\u001b[0m,\n",
       "    \u001b[32m'\\nShow Summary: In the Huberman Lab Podcast #94 titled \"Fitness Toolkit: Protocol & Tools to Optimize Physical\u001b[0m\n",
       "\u001b[32mHealth,\" Andrew Huberman discusses science-based tools to optimize physical health, covering various fitness \u001b[0m\n",
       "\u001b[32maspects such as endurance, strength, flexibility, hypertrophy, and more. He proposes a general fitness protocol \u001b[0m\n",
       "\u001b[32mthat individuals can adapt to pursue specific fitness goals such as increased strength or endurance. Huberman \u001b[0m\n",
       "\u001b[32moutlines his workout schedule, emphasizing training large muscle groups like legs and adjusting for recovery and \u001b[0m\n",
       "\u001b[32mbiomechanical safety with activities such as heat-cold contrast sessions for recovery.\\n\\nThe podcast also explores\u001b[0m\n",
       "\u001b[32mthe benefits of long endurance workouts, the importance of resistance training coupled with tailored sets and \u001b[0m\n",
       "\u001b[32mrepetitions for hypertrophy or strength gains, and the significance of incorporating neck exercises for overall \u001b[0m\n",
       "\u001b[32mstability and safety. Huberman reinforces the necessity of balancing fitness types throughout the week, providing a\u001b[0m\n",
       "\u001b[32mfoundation for full-body health.\\n\\nAdditionally, he announces the launch of the Huberman Lab Podcast premium \u001b[0m\n",
       "\u001b[32mchannel, offering in-depth responses to listener questions and exclusive content.\\nShow Guest: Andrew \u001b[0m\n",
       "\u001b[32mHuberman\\nTranscript: So it might be anywhere from three to four sets per exercise. Again, still just two exercises\u001b[0m\n",
       "\u001b[32mand longer rest between sets, anywhere from two minutes to maybe even four minutes if it\\'s really heavy leg work. \u001b[0m\n",
       "\u001b[32mAnd then for the next month, switch to repetition range that\\'s closer to eight to 12, maybe even 15 repetitions \u001b[0m\n",
       "\u001b[32mper set, but do fewer sets overall. So maybe just two to three sets per exercise, again, just two exercises per \u001b[0m\n",
       "\u001b[32mmuscle group typically. And shorten the rest between sets so that it\\'s more in the 90 second, maybe even as short \u001b[0m\n",
       "\u001b[32mas 60 seconds rest between sets, but typically 90 seconds to about two minutes or two and a half minutes. So \u001b[0m\n",
       "\u001b[32mbasically it\\'s one month heavier, the next month slightly lighter, although I wouldn\\'t say light, I would say \u001b[0m\n",
       "\u001b[32mmoderate weight and moderate rep range. That tends to work well for me. It also adheres to a principle that came up\u001b[0m\n",
       "\u001b[32mduring the discussion, again, with Dr. Andy Galpin, that for hypertrophy, you really can use repetition ranges \u001b[0m\n",
       "\u001b[32manywhere from five to 30, three zero reps. But he emphasized changing the repetition ranges in order to offset \u001b[0m\n",
       "\u001b[32mboredom.\\n------------------------\\n'\u001b[0m\n",
       "\u001b[1m]\u001b[0m\n"
      ]
     },
     "metadata": {},
     "output_type": "display_data"
    },
    {
     "data": {
      "text/html": [
       "<pre style=\"white-space:pre;overflow-x:auto;line-height:normal;font-family:Menlo,'DejaVu Sans Mono',consolas,'Courier New',monospace\">\n",
       "\n",
       "</pre>\n"
      ],
      "text/plain": [
       "\n",
       "\n"
      ]
     },
     "metadata": {},
     "output_type": "display_data"
    },
    {
     "data": {
      "text/html": [
       "<pre style=\"white-space:pre;overflow-x:auto;line-height:normal;font-family:Menlo,'DejaVu Sans Mono',consolas,'Courier New',monospace\">****************************************************************************************************\n",
       "</pre>\n"
      ],
      "text/plain": [
       "****************************************************************************************************\n"
      ]
     },
     "metadata": {},
     "output_type": "display_data"
    },
    {
     "data": {
      "text/html": [
       "<pre style=\"white-space:pre;overflow-x:auto;line-height:normal;font-family:Menlo,'DejaVu Sans Mono',consolas,'Courier New',monospace\">\n",
       "\n",
       "</pre>\n"
      ],
      "text/plain": [
       "\n",
       "\n"
      ]
     },
     "metadata": {},
     "output_type": "display_data"
    },
    {
     "data": {
      "text/html": [
       "<pre style=\"white-space:pre;overflow-x:auto;line-height:normal;font-family:Menlo,'DejaVu Sans Mono',consolas,'Courier New',monospace\"><span style=\"font-weight: bold\">{</span>\n",
       "    <span style=\"color: #008000; text-decoration-color: #008000\">'name'</span>: <span style=\"color: #008000; text-decoration-color: #008000\">'AnswerCorrectness'</span>,\n",
       "    <span style=\"color: #008000; text-decoration-color: #008000\">'criteria'</span>: <span style=\"color: #800080; text-decoration-color: #800080; font-style: italic\">None</span>,\n",
       "    <span style=\"color: #008000; text-decoration-color: #008000\">'using_native_model'</span>: <span style=\"color: #ff0000; text-decoration-color: #ff0000; font-style: italic\">False</span>,\n",
       "    <span style=\"color: #008000; text-decoration-color: #008000\">'evaluation_model'</span>: <span style=\"color: #008000; text-decoration-color: #008000\">'gpt-4'</span>,\n",
       "    <span style=\"color: #008000; text-decoration-color: #008000\">'evaluation_steps'</span>: <span style=\"font-weight: bold\">[</span>\n",
       "        <span style=\"color: #008000; text-decoration-color: #008000\">'Compare the actual output with the retrieval context to verify factual accuracy.'</span>,\n",
       "        <span style=\"color: #008000; text-decoration-color: #008000\">'Assess if the actual output effectively addresses the specific information requirement stated in the </span>\n",
       "<span style=\"color: #008000; text-decoration-color: #008000\">input.'</span>,\n",
       "        <span style=\"color: #008000; text-decoration-color: #008000\">'Determine the comprehensiveness of the actual output in addressing all key aspects mentioned in the </span>\n",
       "<span style=\"color: #008000; text-decoration-color: #008000\">input.'</span>,\n",
       "        <span style=\"color: #008000; text-decoration-color: #008000\">'Score the actual output between 0 and 10, based on the accuracy and comprehensiveness of the information </span>\n",
       "<span style=\"color: #008000; text-decoration-color: #008000\">provided, with 10 being exactly correct and 0 being completely incorrect.'</span>,\n",
       "        <span style=\"color: #008000; text-decoration-color: #008000\">'If there is not enough information in the retrieval context to correctly answer the input, and the actual </span>\n",
       "<span style=\"color: #008000; text-decoration-color: #008000\">output indicates that the input cannot be answered with the provided context, then return a score of 10.'</span>\n",
       "    <span style=\"font-weight: bold\">]</span>,\n",
       "    <span style=\"color: #008000; text-decoration-color: #008000\">'_threshold'</span>: <span style=\"color: #008080; text-decoration-color: #008080; font-weight: bold\">0.5</span>,\n",
       "    <span style=\"color: #008000; text-decoration-color: #008000\">'strict_mode'</span>: <span style=\"color: #ff0000; text-decoration-color: #ff0000; font-style: italic\">False</span>,\n",
       "    <span style=\"color: #008000; text-decoration-color: #008000\">'async_mode'</span>: <span style=\"color: #00ff00; text-decoration-color: #00ff00; font-style: italic\">True</span>,\n",
       "    <span style=\"color: #008000; text-decoration-color: #008000\">'evaluation_cost'</span>: <span style=\"color: #800080; text-decoration-color: #800080; font-style: italic\">None</span>,\n",
       "    <span style=\"color: #008000; text-decoration-color: #008000\">'reason'</span>: <span style=\"color: #008000; text-decoration-color: #008000\">\"The actual output accurately reflects details found in the retrieval context, including the </span>\n",
       "<span style=\"color: #008000; text-decoration-color: #008000\">discussion on dealing with recurring nightmares using sound cues and the linkage with safety. It also captures the </span>\n",
       "<span style=\"color: #008000; text-decoration-color: #008000\">essence of the provided excerpts, indicating a method to address nightmares through association of sounds with </span>\n",
       "<span style=\"color: #008000; text-decoration-color: #008000\">wakefulness and trying to alter the dream's narrative. However, the output could have been slightly more precise in</span>\n",
       "<span style=\"color: #008000; text-decoration-color: #008000\">detailing the role of the protocol described in the transcript which could aid in a better understanding of the </span>\n",
       "<span style=\"color: #008000; text-decoration-color: #008000\">process discussed by Dr. Poe.\"</span>,\n",
       "    <span style=\"color: #008000; text-decoration-color: #008000\">'score'</span>: <span style=\"color: #008080; text-decoration-color: #008080; font-weight: bold\">0.8</span>,\n",
       "    <span style=\"color: #008000; text-decoration-color: #008000\">'success'</span>: <span style=\"color: #00ff00; text-decoration-color: #00ff00; font-style: italic\">True</span>\n",
       "<span style=\"font-weight: bold\">}</span>\n",
       "</pre>\n"
      ],
      "text/plain": [
       "\u001b[1m{\u001b[0m\n",
       "    \u001b[32m'name'\u001b[0m: \u001b[32m'AnswerCorrectness'\u001b[0m,\n",
       "    \u001b[32m'criteria'\u001b[0m: \u001b[3;35mNone\u001b[0m,\n",
       "    \u001b[32m'using_native_model'\u001b[0m: \u001b[3;91mFalse\u001b[0m,\n",
       "    \u001b[32m'evaluation_model'\u001b[0m: \u001b[32m'gpt-4'\u001b[0m,\n",
       "    \u001b[32m'evaluation_steps'\u001b[0m: \u001b[1m[\u001b[0m\n",
       "        \u001b[32m'Compare the actual output with the retrieval context to verify factual accuracy.'\u001b[0m,\n",
       "        \u001b[32m'Assess if the actual output effectively addresses the specific information requirement stated in the \u001b[0m\n",
       "\u001b[32minput.'\u001b[0m,\n",
       "        \u001b[32m'Determine the comprehensiveness of the actual output in addressing all key aspects mentioned in the \u001b[0m\n",
       "\u001b[32minput.'\u001b[0m,\n",
       "        \u001b[32m'Score the actual output between 0 and 10, based on the accuracy and comprehensiveness of the information \u001b[0m\n",
       "\u001b[32mprovided, with 10 being exactly correct and 0 being completely incorrect.'\u001b[0m,\n",
       "        \u001b[32m'If there is not enough information in the retrieval context to correctly answer the input, and the actual \u001b[0m\n",
       "\u001b[32moutput indicates that the input cannot be answered with the provided context, then return a score of 10.'\u001b[0m\n",
       "    \u001b[1m]\u001b[0m,\n",
       "    \u001b[32m'_threshold'\u001b[0m: \u001b[1;36m0.5\u001b[0m,\n",
       "    \u001b[32m'strict_mode'\u001b[0m: \u001b[3;91mFalse\u001b[0m,\n",
       "    \u001b[32m'async_mode'\u001b[0m: \u001b[3;92mTrue\u001b[0m,\n",
       "    \u001b[32m'evaluation_cost'\u001b[0m: \u001b[3;35mNone\u001b[0m,\n",
       "    \u001b[32m'reason'\u001b[0m: \u001b[32m\"The actual output accurately reflects details found in the retrieval context, including the \u001b[0m\n",
       "\u001b[32mdiscussion on dealing with recurring nightmares using sound cues and the linkage with safety. It also captures the \u001b[0m\n",
       "\u001b[32messence of the provided excerpts, indicating a method to address nightmares through association of sounds with \u001b[0m\n",
       "\u001b[32mwakefulness and trying to alter the dream's narrative. However, the output could have been slightly more precise in\u001b[0m\n",
       "\u001b[32mdetailing the role of the protocol described in the transcript which could aid in a better understanding of the \u001b[0m\n",
       "\u001b[32mprocess discussed by Dr. Poe.\"\u001b[0m,\n",
       "    \u001b[32m'score'\u001b[0m: \u001b[1;36m0.8\u001b[0m,\n",
       "    \u001b[32m'success'\u001b[0m: \u001b[3;92mTrue\u001b[0m\n",
       "\u001b[1m}\u001b[0m\n"
      ]
     },
     "metadata": {},
     "output_type": "display_data"
    },
    {
     "data": {
      "text/html": [
       "<pre style=\"white-space:pre;overflow-x:auto;line-height:normal;font-family:Menlo,'DejaVu Sans Mono',consolas,'Courier New',monospace\">How did the guest cue herself to deal with her recurring nightmare?\n",
       "</pre>\n"
      ],
      "text/plain": [
       "How did the guest cue herself to deal with her recurring nightmare?\n"
      ]
     },
     "metadata": {},
     "output_type": "display_data"
    },
    {
     "data": {
      "text/html": [
       "<pre style=\"white-space:pre;overflow-x:auto;line-height:normal;font-family:Menlo,'DejaVu Sans Mono',consolas,'Courier New',monospace\">The guest cued herself to deal with her recurring nightmare by using a specific sound associated with safety. She \n",
       "mentioned that the sound should be linked with safety instead of the recurring nightmare. Additionally, she \n",
       "discussed the idea of utilizing sounds or tones in wakefulness to recall a recurring nightmare, and then during \n",
       "sleep, having the tone playing in the background to cue her to the wakeful state, aiming to then change some \n",
       "elements within the dream.\n",
       "</pre>\n"
      ],
      "text/plain": [
       "The guest cued herself to deal with her recurring nightmare by using a specific sound associated with safety. She \n",
       "mentioned that the sound should be linked with safety instead of the recurring nightmare. Additionally, she \n",
       "discussed the idea of utilizing sounds or tones in wakefulness to recall a recurring nightmare, and then during \n",
       "sleep, having the tone playing in the background to cue her to the wakeful state, aiming to then change some \n",
       "elements within the dream.\n"
      ]
     },
     "metadata": {},
     "output_type": "display_data"
    },
    {
     "data": {
      "text/html": [
       "<pre style=\"white-space:pre;overflow-x:auto;line-height:normal;font-family:Menlo,'DejaVu Sans Mono',consolas,'Courier New',monospace\"><span style=\"font-weight: bold\">[</span>\n",
       "    <span style=\"color: #008000; text-decoration-color: #008000\">\"\\nShow Summary: In the Huberman Lab podcast episode featuring Dr. Gina Poe, the discussion centers on how </span>\n",
       "<span style=\"color: #008000; text-decoration-color: #008000\">sleep influences learning, memory, and emotional well-being, focusing on the brain activity during different sleep </span>\n",
       "<span style=\"color: #008000; text-decoration-color: #008000\">phases. Dr. Poe's research highlights the importance of consistent sleep timing for growth hormone release, which </span>\n",
       "<span style=\"color: #008000; text-decoration-color: #008000\">is crucial for overall health. Disruptions in sleep patterns can lead to missed growth hormone release windows, </span>\n",
       "<span style=\"color: #008000; text-decoration-color: #008000\">impacting vitality and longevity. The conversation also explores the role of sleep in memory consolidation, </span>\n",
       "<span style=\"color: #008000; text-decoration-color: #008000\">particularly how REM sleep contributes to emotional memory processing and creativity. Additionally, Dr. Poe </span>\n",
       "<span style=\"color: #008000; text-decoration-color: #008000\">discusses the locus coeruleus, a brain region that modulates attention and learning, and its reduced activity </span>\n",
       "<span style=\"color: #008000; text-decoration-color: #008000\">during REM sleep, which is necessary for memory consolidation and emotional regulation. The episode emphasizes the </span>\n",
       "<span style=\"color: #008000; text-decoration-color: #008000\">significance of quality sleep for mental and physical health and provides actionable steps to improve sleep </span>\n",
       "<span style=\"color: #008000; text-decoration-color: #008000\">habits.\\nShow Guest: Dr. Gina Poe\\nTranscript: Now, when you're normally asleep alone in your bed, you're not going</span>\n",
       "<span style=\"color: #008000; text-decoration-color: #008000\">to be able to cue yourself, but it might be that rehearsal enough before you go to sleep is enough to help cue you </span>\n",
       "<span style=\"color: #008000; text-decoration-color: #008000\">to that repeated nightmare, remembering what the nightmare is, and then figuring out how to cue yourself to do </span>\n",
       "<span style=\"color: #008000; text-decoration-color: #008000\">something different. For years, I had the same recurring nightmare over and over and over again. And it was so </span>\n",
       "<span style=\"color: #008000; text-decoration-color: #008000\">salient and so clear. And I'm not going to share what it is because it's not that it's that disturbing. It was </span>\n",
       "<span style=\"color: #008000; text-decoration-color: #008000\">just, I think it was the emotional load of it and just how salient certain features were. Like one person who's a </span>\n",
       "<span style=\"color: #008000; text-decoration-color: #008000\">real life person had a particular clothing on. And it's like, and that just served as this cue. And I don't know if</span>\n",
       "<span style=\"color: #008000; text-decoration-color: #008000\">I ever did any direct work to try and deal with it, but now it almost seems silly to describe it. Oh yeah. Well, </span>\n",
       "<span style=\"color: #008000; text-decoration-color: #008000\">dreams are usually silly to describe. Yeah, it was pretty silly, but it was a pretty violent dream. Yeah. And your </span>\n",
       "<span style=\"color: #008000; text-decoration-color: #008000\">emotional system is so geared up during REM sleep, which is another thing we could talk </span>\n",
       "<span style=\"color: #008000; text-decoration-color: #008000\">about.\\n------------------------\\n\"</span>,\n",
       "    <span style=\"color: #008000; text-decoration-color: #008000\">\"\\nShow Summary: In the Huberman Lab podcast episode featuring Dr. Gina Poe, the discussion centers on how </span>\n",
       "<span style=\"color: #008000; text-decoration-color: #008000\">sleep influences learning, memory, and emotional well-being, focusing on the brain activity during different sleep </span>\n",
       "<span style=\"color: #008000; text-decoration-color: #008000\">phases. Dr. Poe's research highlights the importance of consistent sleep timing for growth hormone release, which </span>\n",
       "<span style=\"color: #008000; text-decoration-color: #008000\">is crucial for overall health. Disruptions in sleep patterns can lead to missed growth hormone release windows, </span>\n",
       "<span style=\"color: #008000; text-decoration-color: #008000\">impacting vitality and longevity. The conversation also explores the role of sleep in memory consolidation, </span>\n",
       "<span style=\"color: #008000; text-decoration-color: #008000\">particularly how REM sleep contributes to emotional memory processing and creativity. Additionally, Dr. Poe </span>\n",
       "<span style=\"color: #008000; text-decoration-color: #008000\">discusses the locus coeruleus, a brain region that modulates attention and learning, and its reduced activity </span>\n",
       "<span style=\"color: #008000; text-decoration-color: #008000\">during REM sleep, which is necessary for memory consolidation and emotional regulation. The episode emphasizes the </span>\n",
       "<span style=\"color: #008000; text-decoration-color: #008000\">significance of quality sleep for mental and physical health and provides actionable steps to improve sleep </span>\n",
       "<span style=\"color: #008000; text-decoration-color: #008000\">habits.\\nShow Guest: Dr. Gina Poe\\nTranscript: And then in the waking state, take a little bit of time to try and </span>\n",
       "<span style=\"color: #008000; text-decoration-color: #008000\">script out a different narrative altogether. And it took several nights, as I recall, or more, but that they were </span>\n",
       "<span style=\"color: #008000; text-decoration-color: #008000\">able to escape this recurring nightmare. Yeah, it was like a week or something. Right. Oh, so you're familiar with </span>\n",
       "<span style=\"color: #008000; text-decoration-color: #008000\">this study. Yeah, that's a beautiful study. I loved it. Yeah, we will put a reference to that. I need to revisit </span>\n",
       "<span style=\"color: #008000; text-decoration-color: #008000\">that study. It was pretty recent, but I need to dive into it again because I think I didn't go as deep into it as I</span>\n",
       "<span style=\"color: #008000; text-decoration-color: #008000\">should have. No, no, but the one thing that you, well, you said many right things, but one of the things you said </span>\n",
       "<span style=\"color: #008000; text-decoration-color: #008000\">is that they were able to cue the dreamer when they knew when they were going to REM sleep and then they played the</span>\n",
       "<span style=\"color: #008000; text-decoration-color: #008000\">sound or had the odor.\\n------------------------\\n\"</span>,\n",
       "    <span style=\"color: #008000; text-decoration-color: #008000\">\"\\nShow Summary: In the Huberman Lab podcast episode featuring Dr. Gina Poe, the discussion centers on how </span>\n",
       "<span style=\"color: #008000; text-decoration-color: #008000\">sleep influences learning, memory, and emotional well-being, focusing on the brain activity during different sleep </span>\n",
       "<span style=\"color: #008000; text-decoration-color: #008000\">phases. Dr. Poe's research highlights the importance of consistent sleep timing for growth hormone release, which </span>\n",
       "<span style=\"color: #008000; text-decoration-color: #008000\">is crucial for overall health. Disruptions in sleep patterns can lead to missed growth hormone release windows, </span>\n",
       "<span style=\"color: #008000; text-decoration-color: #008000\">impacting vitality and longevity. The conversation also explores the role of sleep in memory consolidation, </span>\n",
       "<span style=\"color: #008000; text-decoration-color: #008000\">particularly how REM sleep contributes to emotional memory processing and creativity. Additionally, Dr. Poe </span>\n",
       "<span style=\"color: #008000; text-decoration-color: #008000\">discusses the locus coeruleus, a brain region that modulates attention and learning, and its reduced activity </span>\n",
       "<span style=\"color: #008000; text-decoration-color: #008000\">during REM sleep, which is necessary for memory consolidation and emotional regulation. The episode emphasizes the </span>\n",
       "<span style=\"color: #008000; text-decoration-color: #008000\">significance of quality sleep for mental and physical health and provides actionable steps to improve sleep </span>\n",
       "<span style=\"color: #008000; text-decoration-color: #008000\">habits.\\nShow Guest: Dr. Gina Poe\\nTranscript: And next time I have that dream, I'm going to change it. So that </span>\n",
       "<span style=\"color: #008000; text-decoration-color: #008000\">sound is now this new thing that it should be associated with safety. And that might be enough, maybe, I hope, to </span>\n",
       "<span style=\"color: #008000; text-decoration-color: #008000\">knock you out of that repeated nightmare and maybe even start you on the path to recovery because if you can calm </span>\n",
       "<span style=\"color: #008000; text-decoration-color: #008000\">down about those nightmare states of sleep then maybe your locus surrealis which is involved in stress can also </span>\n",
       "<span style=\"color: #008000; text-decoration-color: #008000\">relax and you can do the erasure parts that need to be done i love it i seem to recall a paper and i'll have to </span>\n",
       "<span style=\"color: #008000; text-decoration-color: #008000\">find the reference and and um send it to you we will also put in the show note captions that described a protocol </span>\n",
       "<span style=\"color: #008000; text-decoration-color: #008000\">that essentially matches this idea. And I think what they had people do was either cue themselves to a particular </span>\n",
       "<span style=\"color: #008000; text-decoration-color: #008000\">smell or tone in wakefulness, then to try and recall a recurring nightmare. Then during the night's sleep, they had</span>\n",
       "<span style=\"color: #008000; text-decoration-color: #008000\">the tone playing in the background, which would then cue them to the wakeful state. They're still asleep, mind you,</span>\n",
       "<span style=\"color: #008000; text-decoration-color: #008000\">but in the pseudo lucid or lucid state. And then try and change some variable, as you're describing. Some either </span>\n",
       "<span style=\"color: #008000; text-decoration-color: #008000\">look the predator in the eyes or do something different.\\n------------------------\\n\"</span>\n",
       "<span style=\"font-weight: bold\">]</span>\n",
       "</pre>\n"
      ],
      "text/plain": [
       "\u001b[1m[\u001b[0m\n",
       "    \u001b[32m\"\\nShow Summary: In the Huberman Lab podcast episode featuring Dr. Gina Poe, the discussion centers on how \u001b[0m\n",
       "\u001b[32msleep influences learning, memory, and emotional well-being, focusing on the brain activity during different sleep \u001b[0m\n",
       "\u001b[32mphases. Dr. Poe's research highlights the importance of consistent sleep timing for growth hormone release, which \u001b[0m\n",
       "\u001b[32mis crucial for overall health. Disruptions in sleep patterns can lead to missed growth hormone release windows, \u001b[0m\n",
       "\u001b[32mimpacting vitality and longevity. The conversation also explores the role of sleep in memory consolidation, \u001b[0m\n",
       "\u001b[32mparticularly how REM sleep contributes to emotional memory processing and creativity. Additionally, Dr. Poe \u001b[0m\n",
       "\u001b[32mdiscusses the locus coeruleus, a brain region that modulates attention and learning, and its reduced activity \u001b[0m\n",
       "\u001b[32mduring REM sleep, which is necessary for memory consolidation and emotional regulation. The episode emphasizes the \u001b[0m\n",
       "\u001b[32msignificance of quality sleep for mental and physical health and provides actionable steps to improve sleep \u001b[0m\n",
       "\u001b[32mhabits.\\nShow Guest: Dr. Gina Poe\\nTranscript: Now, when you're normally asleep alone in your bed, you're not going\u001b[0m\n",
       "\u001b[32mto be able to cue yourself, but it might be that rehearsal enough before you go to sleep is enough to help cue you \u001b[0m\n",
       "\u001b[32mto that repeated nightmare, remembering what the nightmare is, and then figuring out how to cue yourself to do \u001b[0m\n",
       "\u001b[32msomething different. For years, I had the same recurring nightmare over and over and over again. And it was so \u001b[0m\n",
       "\u001b[32msalient and so clear. And I'm not going to share what it is because it's not that it's that disturbing. It was \u001b[0m\n",
       "\u001b[32mjust, I think it was the emotional load of it and just how salient certain features were. Like one person who's a \u001b[0m\n",
       "\u001b[32mreal life person had a particular clothing on. And it's like, and that just served as this cue. And I don't know if\u001b[0m\n",
       "\u001b[32mI ever did any direct work to try and deal with it, but now it almost seems silly to describe it. Oh yeah. Well, \u001b[0m\n",
       "\u001b[32mdreams are usually silly to describe. Yeah, it was pretty silly, but it was a pretty violent dream. Yeah. And your \u001b[0m\n",
       "\u001b[32memotional system is so geared up during REM sleep, which is another thing we could talk \u001b[0m\n",
       "\u001b[32mabout.\\n------------------------\\n\"\u001b[0m,\n",
       "    \u001b[32m\"\\nShow Summary: In the Huberman Lab podcast episode featuring Dr. Gina Poe, the discussion centers on how \u001b[0m\n",
       "\u001b[32msleep influences learning, memory, and emotional well-being, focusing on the brain activity during different sleep \u001b[0m\n",
       "\u001b[32mphases. Dr. Poe's research highlights the importance of consistent sleep timing for growth hormone release, which \u001b[0m\n",
       "\u001b[32mis crucial for overall health. Disruptions in sleep patterns can lead to missed growth hormone release windows, \u001b[0m\n",
       "\u001b[32mimpacting vitality and longevity. The conversation also explores the role of sleep in memory consolidation, \u001b[0m\n",
       "\u001b[32mparticularly how REM sleep contributes to emotional memory processing and creativity. Additionally, Dr. Poe \u001b[0m\n",
       "\u001b[32mdiscusses the locus coeruleus, a brain region that modulates attention and learning, and its reduced activity \u001b[0m\n",
       "\u001b[32mduring REM sleep, which is necessary for memory consolidation and emotional regulation. The episode emphasizes the \u001b[0m\n",
       "\u001b[32msignificance of quality sleep for mental and physical health and provides actionable steps to improve sleep \u001b[0m\n",
       "\u001b[32mhabits.\\nShow Guest: Dr. Gina Poe\\nTranscript: And then in the waking state, take a little bit of time to try and \u001b[0m\n",
       "\u001b[32mscript out a different narrative altogether. And it took several nights, as I recall, or more, but that they were \u001b[0m\n",
       "\u001b[32mable to escape this recurring nightmare. Yeah, it was like a week or something. Right. Oh, so you're familiar with \u001b[0m\n",
       "\u001b[32mthis study. Yeah, that's a beautiful study. I loved it. Yeah, we will put a reference to that. I need to revisit \u001b[0m\n",
       "\u001b[32mthat study. It was pretty recent, but I need to dive into it again because I think I didn't go as deep into it as I\u001b[0m\n",
       "\u001b[32mshould have. No, no, but the one thing that you, well, you said many right things, but one of the things you said \u001b[0m\n",
       "\u001b[32mis that they were able to cue the dreamer when they knew when they were going to REM sleep and then they played the\u001b[0m\n",
       "\u001b[32msound or had the odor.\\n------------------------\\n\"\u001b[0m,\n",
       "    \u001b[32m\"\\nShow Summary: In the Huberman Lab podcast episode featuring Dr. Gina Poe, the discussion centers on how \u001b[0m\n",
       "\u001b[32msleep influences learning, memory, and emotional well-being, focusing on the brain activity during different sleep \u001b[0m\n",
       "\u001b[32mphases. Dr. Poe's research highlights the importance of consistent sleep timing for growth hormone release, which \u001b[0m\n",
       "\u001b[32mis crucial for overall health. Disruptions in sleep patterns can lead to missed growth hormone release windows, \u001b[0m\n",
       "\u001b[32mimpacting vitality and longevity. The conversation also explores the role of sleep in memory consolidation, \u001b[0m\n",
       "\u001b[32mparticularly how REM sleep contributes to emotional memory processing and creativity. Additionally, Dr. Poe \u001b[0m\n",
       "\u001b[32mdiscusses the locus coeruleus, a brain region that modulates attention and learning, and its reduced activity \u001b[0m\n",
       "\u001b[32mduring REM sleep, which is necessary for memory consolidation and emotional regulation. The episode emphasizes the \u001b[0m\n",
       "\u001b[32msignificance of quality sleep for mental and physical health and provides actionable steps to improve sleep \u001b[0m\n",
       "\u001b[32mhabits.\\nShow Guest: Dr. Gina Poe\\nTranscript: And next time I have that dream, I'm going to change it. So that \u001b[0m\n",
       "\u001b[32msound is now this new thing that it should be associated with safety. And that might be enough, maybe, I hope, to \u001b[0m\n",
       "\u001b[32mknock you out of that repeated nightmare and maybe even start you on the path to recovery because if you can calm \u001b[0m\n",
       "\u001b[32mdown about those nightmare states of sleep then maybe your locus surrealis which is involved in stress can also \u001b[0m\n",
       "\u001b[32mrelax and you can do the erasure parts that need to be done i love it i seem to recall a paper and i'll have to \u001b[0m\n",
       "\u001b[32mfind the reference and and um send it to you we will also put in the show note captions that described a protocol \u001b[0m\n",
       "\u001b[32mthat essentially matches this idea. And I think what they had people do was either cue themselves to a particular \u001b[0m\n",
       "\u001b[32msmell or tone in wakefulness, then to try and recall a recurring nightmare. Then during the night's sleep, they had\u001b[0m\n",
       "\u001b[32mthe tone playing in the background, which would then cue them to the wakeful state. They're still asleep, mind you,\u001b[0m\n",
       "\u001b[32mbut in the pseudo lucid or lucid state. And then try and change some variable, as you're describing. Some either \u001b[0m\n",
       "\u001b[32mlook the predator in the eyes or do something different.\\n------------------------\\n\"\u001b[0m\n",
       "\u001b[1m]\u001b[0m\n"
      ]
     },
     "metadata": {},
     "output_type": "display_data"
    },
    {
     "data": {
      "text/html": [
       "<pre style=\"white-space:pre;overflow-x:auto;line-height:normal;font-family:Menlo,'DejaVu Sans Mono',consolas,'Courier New',monospace\">\n",
       "\n",
       "</pre>\n"
      ],
      "text/plain": [
       "\n",
       "\n"
      ]
     },
     "metadata": {},
     "output_type": "display_data"
    },
    {
     "data": {
      "text/html": [
       "<pre style=\"white-space:pre;overflow-x:auto;line-height:normal;font-family:Menlo,'DejaVu Sans Mono',consolas,'Courier New',monospace\">****************************************************************************************************\n",
       "</pre>\n"
      ],
      "text/plain": [
       "****************************************************************************************************\n"
      ]
     },
     "metadata": {},
     "output_type": "display_data"
    },
    {
     "data": {
      "text/html": [
       "<pre style=\"white-space:pre;overflow-x:auto;line-height:normal;font-family:Menlo,'DejaVu Sans Mono',consolas,'Courier New',monospace\">\n",
       "\n",
       "</pre>\n"
      ],
      "text/plain": [
       "\n",
       "\n"
      ]
     },
     "metadata": {},
     "output_type": "display_data"
    },
    {
     "data": {
      "text/html": [
       "<pre style=\"white-space:pre;overflow-x:auto;line-height:normal;font-family:Menlo,'DejaVu Sans Mono',consolas,'Courier New',monospace\"><span style=\"font-weight: bold\">{</span>\n",
       "    <span style=\"color: #008000; text-decoration-color: #008000\">'name'</span>: <span style=\"color: #008000; text-decoration-color: #008000\">'AnswerCorrectness'</span>,\n",
       "    <span style=\"color: #008000; text-decoration-color: #008000\">'criteria'</span>: <span style=\"color: #800080; text-decoration-color: #800080; font-style: italic\">None</span>,\n",
       "    <span style=\"color: #008000; text-decoration-color: #008000\">'using_native_model'</span>: <span style=\"color: #ff0000; text-decoration-color: #ff0000; font-style: italic\">False</span>,\n",
       "    <span style=\"color: #008000; text-decoration-color: #008000\">'evaluation_model'</span>: <span style=\"color: #008000; text-decoration-color: #008000\">'gpt-4'</span>,\n",
       "    <span style=\"color: #008000; text-decoration-color: #008000\">'evaluation_steps'</span>: <span style=\"font-weight: bold\">[</span>\n",
       "        <span style=\"color: #008000; text-decoration-color: #008000\">'Compare the actual output with the retrieval context to verify factual accuracy.'</span>,\n",
       "        <span style=\"color: #008000; text-decoration-color: #008000\">'Assess if the actual output effectively addresses the specific information requirement stated in the </span>\n",
       "<span style=\"color: #008000; text-decoration-color: #008000\">input.'</span>,\n",
       "        <span style=\"color: #008000; text-decoration-color: #008000\">'Determine the comprehensiveness of the actual output in addressing all key aspects mentioned in the </span>\n",
       "<span style=\"color: #008000; text-decoration-color: #008000\">input.'</span>,\n",
       "        <span style=\"color: #008000; text-decoration-color: #008000\">'Score the actual output between 0 and 10, based on the accuracy and comprehensiveness of the information </span>\n",
       "<span style=\"color: #008000; text-decoration-color: #008000\">provided, with 10 being exactly correct and 0 being completely incorrect.'</span>,\n",
       "        <span style=\"color: #008000; text-decoration-color: #008000\">'If there is not enough information in the retrieval context to correctly answer the input, and the actual </span>\n",
       "<span style=\"color: #008000; text-decoration-color: #008000\">output indicates that the input cannot be answered with the provided context, then return a score of 10.'</span>\n",
       "    <span style=\"font-weight: bold\">]</span>,\n",
       "    <span style=\"color: #008000; text-decoration-color: #008000\">'_threshold'</span>: <span style=\"color: #008080; text-decoration-color: #008080; font-weight: bold\">0.5</span>,\n",
       "    <span style=\"color: #008000; text-decoration-color: #008000\">'strict_mode'</span>: <span style=\"color: #ff0000; text-decoration-color: #ff0000; font-style: italic\">False</span>,\n",
       "    <span style=\"color: #008000; text-decoration-color: #008000\">'async_mode'</span>: <span style=\"color: #00ff00; text-decoration-color: #00ff00; font-style: italic\">True</span>,\n",
       "    <span style=\"color: #008000; text-decoration-color: #008000\">'evaluation_cost'</span>: <span style=\"color: #800080; text-decoration-color: #800080; font-style: italic\">None</span>,\n",
       "    <span style=\"color: #008000; text-decoration-color: #008000\">'reason'</span>: <span style=\"color: #008000; text-decoration-color: #008000\">\"The actual output provides an accurate summary of Dr. Andrew Huberman's statements regarding the </span>\n",
       "<span style=\"color: #008000; text-decoration-color: #008000\">lack of a simple metric for assessing autonomic function balance, as well as the importance of sleep for </span>\n",
       "<span style=\"color: #008000; text-decoration-color: #008000\">foundational health. It also correctly includes that emerging technologies may help provide indices of autonomic </span>\n",
       "<span style=\"color: #008000; text-decoration-color: #008000\">function, supplementing the existing tools for assessment. However, there is a lack of detailed information about </span>\n",
       "<span style=\"color: #008000; text-decoration-color: #008000\">specific assessment methods or the tools mentioned, which would have been necessary for a comprehensive answer to </span>\n",
       "<span style=\"color: #008000; text-decoration-color: #008000\">the question about how individuals can assess their autonomic function balance.\"</span>,\n",
       "    <span style=\"color: #008000; text-decoration-color: #008000\">'score'</span>: <span style=\"color: #008080; text-decoration-color: #008080; font-weight: bold\">0.8</span>,\n",
       "    <span style=\"color: #008000; text-decoration-color: #008000\">'success'</span>: <span style=\"color: #00ff00; text-decoration-color: #00ff00; font-style: italic\">True</span>\n",
       "<span style=\"font-weight: bold\">}</span>\n",
       "</pre>\n"
      ],
      "text/plain": [
       "\u001b[1m{\u001b[0m\n",
       "    \u001b[32m'name'\u001b[0m: \u001b[32m'AnswerCorrectness'\u001b[0m,\n",
       "    \u001b[32m'criteria'\u001b[0m: \u001b[3;35mNone\u001b[0m,\n",
       "    \u001b[32m'using_native_model'\u001b[0m: \u001b[3;91mFalse\u001b[0m,\n",
       "    \u001b[32m'evaluation_model'\u001b[0m: \u001b[32m'gpt-4'\u001b[0m,\n",
       "    \u001b[32m'evaluation_steps'\u001b[0m: \u001b[1m[\u001b[0m\n",
       "        \u001b[32m'Compare the actual output with the retrieval context to verify factual accuracy.'\u001b[0m,\n",
       "        \u001b[32m'Assess if the actual output effectively addresses the specific information requirement stated in the \u001b[0m\n",
       "\u001b[32minput.'\u001b[0m,\n",
       "        \u001b[32m'Determine the comprehensiveness of the actual output in addressing all key aspects mentioned in the \u001b[0m\n",
       "\u001b[32minput.'\u001b[0m,\n",
       "        \u001b[32m'Score the actual output between 0 and 10, based on the accuracy and comprehensiveness of the information \u001b[0m\n",
       "\u001b[32mprovided, with 10 being exactly correct and 0 being completely incorrect.'\u001b[0m,\n",
       "        \u001b[32m'If there is not enough information in the retrieval context to correctly answer the input, and the actual \u001b[0m\n",
       "\u001b[32moutput indicates that the input cannot be answered with the provided context, then return a score of 10.'\u001b[0m\n",
       "    \u001b[1m]\u001b[0m,\n",
       "    \u001b[32m'_threshold'\u001b[0m: \u001b[1;36m0.5\u001b[0m,\n",
       "    \u001b[32m'strict_mode'\u001b[0m: \u001b[3;91mFalse\u001b[0m,\n",
       "    \u001b[32m'async_mode'\u001b[0m: \u001b[3;92mTrue\u001b[0m,\n",
       "    \u001b[32m'evaluation_cost'\u001b[0m: \u001b[3;35mNone\u001b[0m,\n",
       "    \u001b[32m'reason'\u001b[0m: \u001b[32m\"The actual output provides an accurate summary of Dr. Andrew Huberman's statements regarding the \u001b[0m\n",
       "\u001b[32mlack of a simple metric for assessing autonomic function balance, as well as the importance of sleep for \u001b[0m\n",
       "\u001b[32mfoundational health. It also correctly includes that emerging technologies may help provide indices of autonomic \u001b[0m\n",
       "\u001b[32mfunction, supplementing the existing tools for assessment. However, there is a lack of detailed information about \u001b[0m\n",
       "\u001b[32mspecific assessment methods or the tools mentioned, which would have been necessary for a comprehensive answer to \u001b[0m\n",
       "\u001b[32mthe question about how individuals can assess their autonomic function balance.\"\u001b[0m,\n",
       "    \u001b[32m'score'\u001b[0m: \u001b[1;36m0.8\u001b[0m,\n",
       "    \u001b[32m'success'\u001b[0m: \u001b[3;92mTrue\u001b[0m\n",
       "\u001b[1m}\u001b[0m\n"
      ]
     },
     "metadata": {},
     "output_type": "display_data"
    },
    {
     "data": {
      "text/html": [
       "<pre style=\"white-space:pre;overflow-x:auto;line-height:normal;font-family:Menlo,'DejaVu Sans Mono',consolas,'Courier New',monospace\">How can individuals assess the balance of their autonomic function, specifically their sympathetic and \n",
       "parasympathetic systems?\n",
       "</pre>\n"
      ],
      "text/plain": [
       "How can individuals assess the balance of their autonomic function, specifically their sympathetic and \n",
       "parasympathetic systems?\n"
      ]
     },
     "metadata": {},
     "output_type": "display_data"
    },
    {
     "data": {
      "text/html": [
       "<pre style=\"white-space:pre;overflow-x:auto;line-height:normal;font-family:Menlo,'DejaVu Sans Mono',consolas,'Courier New',monospace\">Individuals can assess the balance of their autonomic function, specifically their sympathetic and parasympathetic \n",
       "systems, by monitoring their physiological states and responses. Dr. Andrew Huberman mentioned that there is \n",
       "currently no simple metric like heart rate, blood pressure, or cortisol level that can directly tell whether the \n",
       "autonomic function is in balance. However, he noted that there are companies starting to develop devices that can \n",
       "provide indices of autonomic function or dysfunction. Additionally, he emphasized the importance of taking care of \n",
       "foundational modulators of tenacity and willpower, such as getting enough quality sleep on a regular basis, which \n",
       "suggests that monitoring and optimizing sleep quality can indirectly contribute to assessing and maintaining \n",
       "balance in autonomic function. Therefore, individuals may need to use a combination of tools and measures, \n",
       "including emerging technologies, to assess the balance of their autonomic function.\n",
       "</pre>\n"
      ],
      "text/plain": [
       "Individuals can assess the balance of their autonomic function, specifically their sympathetic and parasympathetic \n",
       "systems, by monitoring their physiological states and responses. Dr. Andrew Huberman mentioned that there is \n",
       "currently no simple metric like heart rate, blood pressure, or cortisol level that can directly tell whether the \n",
       "autonomic function is in balance. However, he noted that there are companies starting to develop devices that can \n",
       "provide indices of autonomic function or dysfunction. Additionally, he emphasized the importance of taking care of \n",
       "foundational modulators of tenacity and willpower, such as getting enough quality sleep on a regular basis, which \n",
       "suggests that monitoring and optimizing sleep quality can indirectly contribute to assessing and maintaining \n",
       "balance in autonomic function. Therefore, individuals may need to use a combination of tools and measures, \n",
       "including emerging technologies, to assess the balance of their autonomic function.\n"
      ]
     },
     "metadata": {},
     "output_type": "display_data"
    },
    {
     "data": {
      "text/html": [
       "<pre style=\"white-space:pre;overflow-x:auto;line-height:normal;font-family:Menlo,'DejaVu Sans Mono',consolas,'Courier New',monospace\"><span style=\"font-weight: bold\">[</span>\n",
       "    <span style=\"color: #008000; text-decoration-color: #008000\">'\\nShow Summary: In the episode \"How to Increase Your Willpower &amp; Tenacity\" from the Huberman Lab podcast, </span>\n",
       "<span style=\"color: #008000; text-decoration-color: #008000\">Andrew Huberman explores the psychological and neurological underpinnings of tenacity and willpower. He delves into</span>\n",
       "<span style=\"color: #008000; text-decoration-color: #008000\">the fascinating literature surrounding a brain structure integral to these traits, which most neuroscientists are </span>\n",
       "<span style=\"color: #008000; text-decoration-color: #008000\">not even aware of. Huberman discusses how this brain structure integrates internal and external information to </span>\n",
       "<span style=\"color: #008000; text-decoration-color: #008000\">bolster tenacity and willpower. The episode offers research-supported tools for enhancing these qualities in any </span>\n",
       "<span style=\"color: #008000; text-decoration-color: #008000\">situation. Huberman clarifies that while the podcast is separate from his academic roles, it aligns with his </span>\n",
       "<span style=\"color: #008000; text-decoration-color: #008000\">mission to disseminate science-based tools to the public. He also briefly acknowledges the episode\\'s sponsors </span>\n",
       "<span style=\"color: #008000; text-decoration-color: #008000\">without going into details about their products. The discussion then returns to the mechanisms of tenacity and </span>\n",
       "<span style=\"color: #008000; text-decoration-color: #008000\">willpower, the psychological constructs associated with them, and how they differ from habits. Huberman also </span>\n",
       "<span style=\"color: #008000; text-decoration-color: #008000\">touches on the continuum of psychological states from apathy and depression to grit and persistence, and how </span>\n",
       "<span style=\"color: #008000; text-decoration-color: #008000\">motivation enables\\nShow Guest: Andrew Huberman\\nTranscript: However, there is no simple metric like heart rate or </span>\n",
       "<span style=\"color: #008000; text-decoration-color: #008000\">blood pressure, or even cortisol level that can tell you whether or not your autonomic function is in balance. That</span>\n",
       "<span style=\"color: #008000; text-decoration-color: #008000\">is the sympathetic and parasympathetic systems of your autonomic nervous system are in the best possible balance to</span>\n",
       "<span style=\"color: #008000; text-decoration-color: #008000\">generate tenacity and willpower. We don\\'t yet have such a metric, although there are companies that are starting </span>\n",
       "<span style=\"color: #008000; text-decoration-color: #008000\">to develop devices that hopefully will give us indices of autonomic function or dysfunction. But it is important </span>\n",
       "<span style=\"color: #008000; text-decoration-color: #008000\">that we acknowledge that if you\\'re not taking care of the foundational modulators of tenacity and willpower, none </span>\n",
       "<span style=\"color: #008000; text-decoration-color: #008000\">of the subsequent tools and protocols that we will discuss are going to help you that much over time. You might get</span>\n",
       "<span style=\"color: #008000; text-decoration-color: #008000\">tenacity and willpower to engage one day when you\\'re very sleep deprived, but it\\'s going to be very difficult to </span>\n",
       "<span style=\"color: #008000; text-decoration-color: #008000\">consistently engage tenacity and willpower. For that reason, if you have any struggles with sleep, that is getting </span>\n",
       "<span style=\"color: #008000; text-decoration-color: #008000\">enough quality sleep on a regular basis, please see the zero cost toolkit for sleep that we\\'ve put at </span>\n",
       "<span style=\"color: #008000; text-decoration-color: #008000\">hubermanlab.com. Please also see the perfect your sleep, master your sleep episodes also at </span>\n",
       "<span style=\"color: #008000; text-decoration-color: #008000\">hubermanlab.com.\\n------------------------\\n'</span>,\n",
       "    <span style=\"color: #008000; text-decoration-color: #008000\">\"\\nShow Summary: In the episode with Dr. Noam Sobel, Dr. Andrew Huberman discusses how smells influence our </span>\n",
       "<span style=\"color: #008000; text-decoration-color: #008000\">hormones, health, and behavior. Dr. Sobel explains the science behind olfaction, our sense of smell, and </span>\n",
       "<span style=\"color: #008000; text-decoration-color: #008000\">chemosensation, our response to chemicals in the environment. They explore the surprising abilities of human </span>\n",
       "<span style=\"color: #008000; text-decoration-color: #008000\">olfaction, such as how we process chemical information from others to determine stress levels, hormone states, and </span>\n",
       "<span style=\"color: #008000; text-decoration-color: #008000\">even how tears can affect our hormone levels. The conversation covers the phenomenon of nasal cycling, which </span>\n",
       "<span style=\"color: #008000; text-decoration-color: #008000\">reflects the dynamic of our nervous system and impacts alertness. Dr. Sobel's work reveals that we are constantly </span>\n",
       "<span style=\"color: #008000; text-decoration-color: #008000\">sensing our own odors and subconsciously smelling ourselves to change cognition and behavior. Additionally, the </span>\n",
       "<span style=\"color: #008000; text-decoration-color: #008000\">discussion touches on the nasal cycle's connection to the autonomic nervous system and its potential as a </span>\n",
       "<span style=\"color: #008000; text-decoration-color: #008000\">non-invasive marker for conditions like ADHD. Finally, Dr. Sobel shares insights into the subconscious ways humans </span>\n",
       "<span style=\"color: #008000; text-decoration-color: #008000\">use smell for social interactions, such as identifying individuals and forming\\nShow Guest: Dr. Noam </span>\n",
       "<span style=\"color: #008000; text-decoration-color: #008000\">Sobel\\nTranscript: And it turns out that this is linked to balance in the autonomic nervous system. So as you and </span>\n",
       "<span style=\"color: #008000; text-decoration-color: #008000\">your listeners know, we have an autonomic nervous system that has a sympathetic and parasympathetic component to </span>\n",
       "<span style=\"color: #008000; text-decoration-color: #008000\">it. And they're in balance or imbalance in many diseases, for example. And this interplay between the sympathetic </span>\n",
       "<span style=\"color: #008000; text-decoration-color: #008000\">and parasympathetic nervous system drives the switch from left to right nostril. Yeah. Just to remind people, </span>\n",
       "<span style=\"color: #008000; text-decoration-color: #008000\">sympathetic nervous system has nothing to do with sympathy, has everything to do with generating patterns of </span>\n",
       "<span style=\"color: #008000; text-decoration-color: #008000\">alertness. It's sometimes called the fight or flight system, but any pattern of arousal, positive or negative, and </span>\n",
       "<span style=\"color: #008000; text-decoration-color: #008000\">then it's balanced in a coordinated way, or at least in parallel with the parasympathetic nervous system, which is </span>\n",
       "<span style=\"color: #008000; text-decoration-color: #008000\">sometimes called the rest and digest system, but is associated with all sorts of things, the sexual arousal </span>\n",
       "<span style=\"color: #008000; text-decoration-color: #008000\">response, and a number of other aspects of our physiology. So think of it like a seesaw of alertness and calm. </span>\n",
       "<span style=\"color: #008000; text-decoration-color: #008000\">Yeah? Perfect. So now imagine, right? Imagine you would walk around living your life, </span>\n",
       "<span style=\"color: #008000; text-decoration-color: #008000\">right?\\n------------------------\\n\"</span>,\n",
       "    <span style=\"color: #008000; text-decoration-color: #008000\">'\\nShow Summary: In the episode \"How to Increase Your Willpower &amp; Tenacity\" from the Huberman Lab podcast, </span>\n",
       "<span style=\"color: #008000; text-decoration-color: #008000\">Andrew Huberman explores the psychological and neurological underpinnings of tenacity and willpower. He delves into</span>\n",
       "<span style=\"color: #008000; text-decoration-color: #008000\">the fascinating literature surrounding a brain structure integral to these traits, which most neuroscientists are </span>\n",
       "<span style=\"color: #008000; text-decoration-color: #008000\">not even aware of. Huberman discusses how this brain structure integrates internal and external information to </span>\n",
       "<span style=\"color: #008000; text-decoration-color: #008000\">bolster tenacity and willpower. The episode offers research-supported tools for enhancing these qualities in any </span>\n",
       "<span style=\"color: #008000; text-decoration-color: #008000\">situation. Huberman clarifies that while the podcast is separate from his academic roles, it aligns with his </span>\n",
       "<span style=\"color: #008000; text-decoration-color: #008000\">mission to disseminate science-based tools to the public. He also briefly acknowledges the episode\\'s sponsors </span>\n",
       "<span style=\"color: #008000; text-decoration-color: #008000\">without going into details about their products. The discussion then returns to the mechanisms of tenacity and </span>\n",
       "<span style=\"color: #008000; text-decoration-color: #008000\">willpower, the psychological constructs associated with them, and how they differ from habits. Huberman also </span>\n",
       "<span style=\"color: #008000; text-decoration-color: #008000\">touches on the continuum of psychological states from apathy and depression to grit and persistence, and how </span>\n",
       "<span style=\"color: #008000; text-decoration-color: #008000\">motivation enables\\nShow Guest: Andrew Huberman\\nTranscript: And that\\'s true, but there\\'s a lot more to the </span>\n",
       "<span style=\"color: #008000; text-decoration-color: #008000\">parasympathetic component of the autonomic nervous system. It\\'s also responsible for falling asleep. It\\'s </span>\n",
       "<span style=\"color: #008000; text-decoration-color: #008000\">responsible for us feeling relaxed. It is responsible for most of the states of mind and body in which we are </span>\n",
       "<span style=\"color: #008000; text-decoration-color: #008000\">quiescent, where we don\\'t feel an impulse to move, or when we have a difficult time getting into action. So the </span>\n",
       "<span style=\"color: #008000; text-decoration-color: #008000\">sympathetic and the parasympathetic aspect of the autonomic nervous system are always in a push-pull with one </span>\n",
       "<span style=\"color: #008000; text-decoration-color: #008000\">another. Think of them more or less on a teeter-totter. When one end goes up, the other end goes down. They\\'re </span>\n",
       "<span style=\"color: #008000; text-decoration-color: #008000\">really in competition with one another and it\\'s their balance that reflects how alert or how sleepy we happen to </span>\n",
       "<span style=\"color: #008000; text-decoration-color: #008000\">be. Now, the reason I\\'m giving you this rather geeky nerd speak nomenclature filled discussion about the autonomic</span>\n",
       "<span style=\"color: #008000; text-decoration-color: #008000\">nervous system in the context of willpower is that regardless of whether or not you believe willpower is a limited </span>\n",
       "<span style=\"color: #008000; text-decoration-color: #008000\">or an unlimited resource, we know one thing for sure, and that\\'s that willpower and tenacity ride on our current </span>\n",
       "<span style=\"color: #008000; text-decoration-color: #008000\">autonomic function.\\n------------------------\\n'</span>\n",
       "<span style=\"font-weight: bold\">]</span>\n",
       "</pre>\n"
      ],
      "text/plain": [
       "\u001b[1m[\u001b[0m\n",
       "    \u001b[32m'\\nShow Summary: In the episode \"How to Increase Your Willpower & Tenacity\" from the Huberman Lab podcast, \u001b[0m\n",
       "\u001b[32mAndrew Huberman explores the psychological and neurological underpinnings of tenacity and willpower. He delves into\u001b[0m\n",
       "\u001b[32mthe fascinating literature surrounding a brain structure integral to these traits, which most neuroscientists are \u001b[0m\n",
       "\u001b[32mnot even aware of. Huberman discusses how this brain structure integrates internal and external information to \u001b[0m\n",
       "\u001b[32mbolster tenacity and willpower. The episode offers research-supported tools for enhancing these qualities in any \u001b[0m\n",
       "\u001b[32msituation. Huberman clarifies that while the podcast is separate from his academic roles, it aligns with his \u001b[0m\n",
       "\u001b[32mmission to disseminate science-based tools to the public. He also briefly acknowledges the episode\\'s sponsors \u001b[0m\n",
       "\u001b[32mwithout going into details about their products. The discussion then returns to the mechanisms of tenacity and \u001b[0m\n",
       "\u001b[32mwillpower, the psychological constructs associated with them, and how they differ from habits. Huberman also \u001b[0m\n",
       "\u001b[32mtouches on the continuum of psychological states from apathy and depression to grit and persistence, and how \u001b[0m\n",
       "\u001b[32mmotivation enables\\nShow Guest: Andrew Huberman\\nTranscript: However, there is no simple metric like heart rate or \u001b[0m\n",
       "\u001b[32mblood pressure, or even cortisol level that can tell you whether or not your autonomic function is in balance. That\u001b[0m\n",
       "\u001b[32mis the sympathetic and parasympathetic systems of your autonomic nervous system are in the best possible balance to\u001b[0m\n",
       "\u001b[32mgenerate tenacity and willpower. We don\\'t yet have such a metric, although there are companies that are starting \u001b[0m\n",
       "\u001b[32mto develop devices that hopefully will give us indices of autonomic function or dysfunction. But it is important \u001b[0m\n",
       "\u001b[32mthat we acknowledge that if you\\'re not taking care of the foundational modulators of tenacity and willpower, none \u001b[0m\n",
       "\u001b[32mof the subsequent tools and protocols that we will discuss are going to help you that much over time. You might get\u001b[0m\n",
       "\u001b[32mtenacity and willpower to engage one day when you\\'re very sleep deprived, but it\\'s going to be very difficult to \u001b[0m\n",
       "\u001b[32mconsistently engage tenacity and willpower. For that reason, if you have any struggles with sleep, that is getting \u001b[0m\n",
       "\u001b[32menough quality sleep on a regular basis, please see the zero cost toolkit for sleep that we\\'ve put at \u001b[0m\n",
       "\u001b[32mhubermanlab.com. Please also see the perfect your sleep, master your sleep episodes also at \u001b[0m\n",
       "\u001b[32mhubermanlab.com.\\n------------------------\\n'\u001b[0m,\n",
       "    \u001b[32m\"\\nShow Summary: In the episode with Dr. Noam Sobel, Dr. Andrew Huberman discusses how smells influence our \u001b[0m\n",
       "\u001b[32mhormones, health, and behavior. Dr. Sobel explains the science behind olfaction, our sense of smell, and \u001b[0m\n",
       "\u001b[32mchemosensation, our response to chemicals in the environment. They explore the surprising abilities of human \u001b[0m\n",
       "\u001b[32molfaction, such as how we process chemical information from others to determine stress levels, hormone states, and \u001b[0m\n",
       "\u001b[32meven how tears can affect our hormone levels. The conversation covers the phenomenon of nasal cycling, which \u001b[0m\n",
       "\u001b[32mreflects the dynamic of our nervous system and impacts alertness. Dr. Sobel's work reveals that we are constantly \u001b[0m\n",
       "\u001b[32msensing our own odors and subconsciously smelling ourselves to change cognition and behavior. Additionally, the \u001b[0m\n",
       "\u001b[32mdiscussion touches on the nasal cycle's connection to the autonomic nervous system and its potential as a \u001b[0m\n",
       "\u001b[32mnon-invasive marker for conditions like ADHD. Finally, Dr. Sobel shares insights into the subconscious ways humans \u001b[0m\n",
       "\u001b[32muse smell for social interactions, such as identifying individuals and forming\\nShow Guest: Dr. Noam \u001b[0m\n",
       "\u001b[32mSobel\\nTranscript: And it turns out that this is linked to balance in the autonomic nervous system. So as you and \u001b[0m\n",
       "\u001b[32myour listeners know, we have an autonomic nervous system that has a sympathetic and parasympathetic component to \u001b[0m\n",
       "\u001b[32mit. And they're in balance or imbalance in many diseases, for example. And this interplay between the sympathetic \u001b[0m\n",
       "\u001b[32mand parasympathetic nervous system drives the switch from left to right nostril. Yeah. Just to remind people, \u001b[0m\n",
       "\u001b[32msympathetic nervous system has nothing to do with sympathy, has everything to do with generating patterns of \u001b[0m\n",
       "\u001b[32malertness. It's sometimes called the fight or flight system, but any pattern of arousal, positive or negative, and \u001b[0m\n",
       "\u001b[32mthen it's balanced in a coordinated way, or at least in parallel with the parasympathetic nervous system, which is \u001b[0m\n",
       "\u001b[32msometimes called the rest and digest system, but is associated with all sorts of things, the sexual arousal \u001b[0m\n",
       "\u001b[32mresponse, and a number of other aspects of our physiology. So think of it like a seesaw of alertness and calm. \u001b[0m\n",
       "\u001b[32mYeah? Perfect. So now imagine, right? Imagine you would walk around living your life, \u001b[0m\n",
       "\u001b[32mright?\\n------------------------\\n\"\u001b[0m,\n",
       "    \u001b[32m'\\nShow Summary: In the episode \"How to Increase Your Willpower & Tenacity\" from the Huberman Lab podcast, \u001b[0m\n",
       "\u001b[32mAndrew Huberman explores the psychological and neurological underpinnings of tenacity and willpower. He delves into\u001b[0m\n",
       "\u001b[32mthe fascinating literature surrounding a brain structure integral to these traits, which most neuroscientists are \u001b[0m\n",
       "\u001b[32mnot even aware of. Huberman discusses how this brain structure integrates internal and external information to \u001b[0m\n",
       "\u001b[32mbolster tenacity and willpower. The episode offers research-supported tools for enhancing these qualities in any \u001b[0m\n",
       "\u001b[32msituation. Huberman clarifies that while the podcast is separate from his academic roles, it aligns with his \u001b[0m\n",
       "\u001b[32mmission to disseminate science-based tools to the public. He also briefly acknowledges the episode\\'s sponsors \u001b[0m\n",
       "\u001b[32mwithout going into details about their products. The discussion then returns to the mechanisms of tenacity and \u001b[0m\n",
       "\u001b[32mwillpower, the psychological constructs associated with them, and how they differ from habits. Huberman also \u001b[0m\n",
       "\u001b[32mtouches on the continuum of psychological states from apathy and depression to grit and persistence, and how \u001b[0m\n",
       "\u001b[32mmotivation enables\\nShow Guest: Andrew Huberman\\nTranscript: And that\\'s true, but there\\'s a lot more to the \u001b[0m\n",
       "\u001b[32mparasympathetic component of the autonomic nervous system. It\\'s also responsible for falling asleep. It\\'s \u001b[0m\n",
       "\u001b[32mresponsible for us feeling relaxed. It is responsible for most of the states of mind and body in which we are \u001b[0m\n",
       "\u001b[32mquiescent, where we don\\'t feel an impulse to move, or when we have a difficult time getting into action. So the \u001b[0m\n",
       "\u001b[32msympathetic and the parasympathetic aspect of the autonomic nervous system are always in a push-pull with one \u001b[0m\n",
       "\u001b[32manother. Think of them more or less on a teeter-totter. When one end goes up, the other end goes down. They\\'re \u001b[0m\n",
       "\u001b[32mreally in competition with one another and it\\'s their balance that reflects how alert or how sleepy we happen to \u001b[0m\n",
       "\u001b[32mbe. Now, the reason I\\'m giving you this rather geeky nerd speak nomenclature filled discussion about the autonomic\u001b[0m\n",
       "\u001b[32mnervous system in the context of willpower is that regardless of whether or not you believe willpower is a limited \u001b[0m\n",
       "\u001b[32mor an unlimited resource, we know one thing for sure, and that\\'s that willpower and tenacity ride on our current \u001b[0m\n",
       "\u001b[32mautonomic function.\\n------------------------\\n'\u001b[0m\n",
       "\u001b[1m]\u001b[0m\n"
      ]
     },
     "metadata": {},
     "output_type": "display_data"
    },
    {
     "data": {
      "text/html": [
       "<pre style=\"white-space:pre;overflow-x:auto;line-height:normal;font-family:Menlo,'DejaVu Sans Mono',consolas,'Courier New',monospace\">\n",
       "\n",
       "</pre>\n"
      ],
      "text/plain": [
       "\n",
       "\n"
      ]
     },
     "metadata": {},
     "output_type": "display_data"
    },
    {
     "data": {
      "text/html": [
       "<pre style=\"white-space:pre;overflow-x:auto;line-height:normal;font-family:Menlo,'DejaVu Sans Mono',consolas,'Courier New',monospace\">****************************************************************************************************\n",
       "</pre>\n"
      ],
      "text/plain": [
       "****************************************************************************************************\n"
      ]
     },
     "metadata": {},
     "output_type": "display_data"
    },
    {
     "data": {
      "text/html": [
       "<pre style=\"white-space:pre;overflow-x:auto;line-height:normal;font-family:Menlo,'DejaVu Sans Mono',consolas,'Courier New',monospace\">\n",
       "\n",
       "</pre>\n"
      ],
      "text/plain": [
       "\n",
       "\n"
      ]
     },
     "metadata": {},
     "output_type": "display_data"
    },
    {
     "data": {
      "text/html": [
       "<pre style=\"white-space:pre;overflow-x:auto;line-height:normal;font-family:Menlo,'DejaVu Sans Mono',consolas,'Courier New',monospace\"><span style=\"font-weight: bold\">{</span>\n",
       "    <span style=\"color: #008000; text-decoration-color: #008000\">'name'</span>: <span style=\"color: #008000; text-decoration-color: #008000\">'AnswerCorrectness'</span>,\n",
       "    <span style=\"color: #008000; text-decoration-color: #008000\">'criteria'</span>: <span style=\"color: #800080; text-decoration-color: #800080; font-style: italic\">None</span>,\n",
       "    <span style=\"color: #008000; text-decoration-color: #008000\">'using_native_model'</span>: <span style=\"color: #ff0000; text-decoration-color: #ff0000; font-style: italic\">False</span>,\n",
       "    <span style=\"color: #008000; text-decoration-color: #008000\">'evaluation_model'</span>: <span style=\"color: #008000; text-decoration-color: #008000\">'gpt-4'</span>,\n",
       "    <span style=\"color: #008000; text-decoration-color: #008000\">'evaluation_steps'</span>: <span style=\"font-weight: bold\">[</span>\n",
       "        <span style=\"color: #008000; text-decoration-color: #008000\">'Compare the actual output with the retrieval context to verify factual accuracy.'</span>,\n",
       "        <span style=\"color: #008000; text-decoration-color: #008000\">'Assess if the actual output effectively addresses the specific information requirement stated in the </span>\n",
       "<span style=\"color: #008000; text-decoration-color: #008000\">input.'</span>,\n",
       "        <span style=\"color: #008000; text-decoration-color: #008000\">'Determine the comprehensiveness of the actual output in addressing all key aspects mentioned in the </span>\n",
       "<span style=\"color: #008000; text-decoration-color: #008000\">input.'</span>,\n",
       "        <span style=\"color: #008000; text-decoration-color: #008000\">'Score the actual output between 0 and 10, based on the accuracy and comprehensiveness of the information </span>\n",
       "<span style=\"color: #008000; text-decoration-color: #008000\">provided, with 10 being exactly correct and 0 being completely incorrect.'</span>,\n",
       "        <span style=\"color: #008000; text-decoration-color: #008000\">'If there is not enough information in the retrieval context to correctly answer the input, and the actual </span>\n",
       "<span style=\"color: #008000; text-decoration-color: #008000\">output indicates that the input cannot be answered with the provided context, then return a score of 10.'</span>\n",
       "    <span style=\"font-weight: bold\">]</span>,\n",
       "    <span style=\"color: #008000; text-decoration-color: #008000\">'_threshold'</span>: <span style=\"color: #008080; text-decoration-color: #008080; font-weight: bold\">0.5</span>,\n",
       "    <span style=\"color: #008000; text-decoration-color: #008000\">'strict_mode'</span>: <span style=\"color: #ff0000; text-decoration-color: #ff0000; font-style: italic\">False</span>,\n",
       "    <span style=\"color: #008000; text-decoration-color: #008000\">'async_mode'</span>: <span style=\"color: #00ff00; text-decoration-color: #00ff00; font-style: italic\">True</span>,\n",
       "    <span style=\"color: #008000; text-decoration-color: #008000\">'evaluation_cost'</span>: <span style=\"color: #800080; text-decoration-color: #800080; font-style: italic\">None</span>,\n",
       "    <span style=\"color: #008000; text-decoration-color: #008000\">'reason'</span>: <span style=\"color: #008000; text-decoration-color: #008000\">\"The output provides a contextually accurate explanation regarding the balance of the autonomic </span>\n",
       "<span style=\"color: #008000; text-decoration-color: #008000\">nervous system as a foundational modulator for tenacity and willpower, in line with the retrieval context from Dr. </span>\n",
       "<span style=\"color: #008000; text-decoration-color: #008000\">Andrew Huberman's podcast. It correctly identifies the balance of sympathetic and parasympathetic systems and the </span>\n",
       "<span style=\"color: #008000; text-decoration-color: #008000\">lack of a simple metric for autonomic function as the key components discussed by Dr. Huberman. The actual output </span>\n",
       "<span style=\"color: #008000; text-decoration-color: #008000\">also covers the role of getting enough quality sleep as highlighted by Dr. Huberman in engaging tenacity and </span>\n",
       "<span style=\"color: #008000; text-decoration-color: #008000\">willpower. However, it does not touch upon the role of resistance in engaging the anterior mid-cingulate cortex, a </span>\n",
       "<span style=\"color: #008000; text-decoration-color: #008000\">brain structure pivotal to tenacity and willpower discussed in the retrieval context. Therefore, while the output </span>\n",
       "<span style=\"color: #008000; text-decoration-color: #008000\">is factually correct and addresses a significant part of the input, it is not completely comprehensive in capturing</span>\n",
       "<span style=\"color: #008000; text-decoration-color: #008000\">all the aspects from the provided retrieval context.\"</span>,\n",
       "    <span style=\"color: #008000; text-decoration-color: #008000\">'score'</span>: <span style=\"color: #008080; text-decoration-color: #008080; font-weight: bold\">0.7</span>,\n",
       "    <span style=\"color: #008000; text-decoration-color: #008000\">'success'</span>: <span style=\"color: #00ff00; text-decoration-color: #00ff00; font-style: italic\">True</span>\n",
       "<span style=\"font-weight: bold\">}</span>\n",
       "</pre>\n"
      ],
      "text/plain": [
       "\u001b[1m{\u001b[0m\n",
       "    \u001b[32m'name'\u001b[0m: \u001b[32m'AnswerCorrectness'\u001b[0m,\n",
       "    \u001b[32m'criteria'\u001b[0m: \u001b[3;35mNone\u001b[0m,\n",
       "    \u001b[32m'using_native_model'\u001b[0m: \u001b[3;91mFalse\u001b[0m,\n",
       "    \u001b[32m'evaluation_model'\u001b[0m: \u001b[32m'gpt-4'\u001b[0m,\n",
       "    \u001b[32m'evaluation_steps'\u001b[0m: \u001b[1m[\u001b[0m\n",
       "        \u001b[32m'Compare the actual output with the retrieval context to verify factual accuracy.'\u001b[0m,\n",
       "        \u001b[32m'Assess if the actual output effectively addresses the specific information requirement stated in the \u001b[0m\n",
       "\u001b[32minput.'\u001b[0m,\n",
       "        \u001b[32m'Determine the comprehensiveness of the actual output in addressing all key aspects mentioned in the \u001b[0m\n",
       "\u001b[32minput.'\u001b[0m,\n",
       "        \u001b[32m'Score the actual output between 0 and 10, based on the accuracy and comprehensiveness of the information \u001b[0m\n",
       "\u001b[32mprovided, with 10 being exactly correct and 0 being completely incorrect.'\u001b[0m,\n",
       "        \u001b[32m'If there is not enough information in the retrieval context to correctly answer the input, and the actual \u001b[0m\n",
       "\u001b[32moutput indicates that the input cannot be answered with the provided context, then return a score of 10.'\u001b[0m\n",
       "    \u001b[1m]\u001b[0m,\n",
       "    \u001b[32m'_threshold'\u001b[0m: \u001b[1;36m0.5\u001b[0m,\n",
       "    \u001b[32m'strict_mode'\u001b[0m: \u001b[3;91mFalse\u001b[0m,\n",
       "    \u001b[32m'async_mode'\u001b[0m: \u001b[3;92mTrue\u001b[0m,\n",
       "    \u001b[32m'evaluation_cost'\u001b[0m: \u001b[3;35mNone\u001b[0m,\n",
       "    \u001b[32m'reason'\u001b[0m: \u001b[32m\"The output provides a contextually accurate explanation regarding the balance of the autonomic \u001b[0m\n",
       "\u001b[32mnervous system as a foundational modulator for tenacity and willpower, in line with the retrieval context from Dr. \u001b[0m\n",
       "\u001b[32mAndrew Huberman's podcast. It correctly identifies the balance of sympathetic and parasympathetic systems and the \u001b[0m\n",
       "\u001b[32mlack of a simple metric for autonomic function as the key components discussed by Dr. Huberman. The actual output \u001b[0m\n",
       "\u001b[32malso covers the role of getting enough quality sleep as highlighted by Dr. Huberman in engaging tenacity and \u001b[0m\n",
       "\u001b[32mwillpower. However, it does not touch upon the role of resistance in engaging the anterior mid-cingulate cortex, a \u001b[0m\n",
       "\u001b[32mbrain structure pivotal to tenacity and willpower discussed in the retrieval context. Therefore, while the output \u001b[0m\n",
       "\u001b[32mis factually correct and addresses a significant part of the input, it is not completely comprehensive in capturing\u001b[0m\n",
       "\u001b[32mall the aspects from the provided retrieval context.\"\u001b[0m,\n",
       "    \u001b[32m'score'\u001b[0m: \u001b[1;36m0.7\u001b[0m,\n",
       "    \u001b[32m'success'\u001b[0m: \u001b[3;92mTrue\u001b[0m\n",
       "\u001b[1m}\u001b[0m\n"
      ]
     },
     "metadata": {},
     "output_type": "display_data"
    },
    {
     "data": {
      "text/html": [
       "<pre style=\"white-space:pre;overflow-x:auto;line-height:normal;font-family:Menlo,'DejaVu Sans Mono',consolas,'Courier New',monospace\">What foundational modulators are crucial for consistently engaging tenacity and willpower?\n",
       "</pre>\n"
      ],
      "text/plain": [
       "What foundational modulators are crucial for consistently engaging tenacity and willpower?\n"
      ]
     },
     "metadata": {},
     "output_type": "display_data"
    },
    {
     "data": {
      "text/html": [
       "<pre style=\"white-space:pre;overflow-x:auto;line-height:normal;font-family:Menlo,'DejaVu Sans Mono',consolas,'Courier New',monospace\">The foundational modulators crucial for consistently engaging tenacity and willpower are related to the balance of \n",
       "the sympathetic and parasympathetic systems of the autonomic nervous system. Dr. Andrew Huberman mentions that \n",
       "there is currently no simple metric like heart rate or blood pressure to determine whether these systems are in \n",
       "balance. He emphasizes the importance of taking care of these foundational modulators for tenacity and willpower, \n",
       "stating that none of the subsequent tools and protocols discussed will be effective without addressing this \n",
       "balance. He specifically highlights the significance of getting enough quality sleep on a regular basis as a \n",
       "crucial foundational modulator for consistently engaging tenacity and willpower. Furthermore, he directs listeners \n",
       "to a zero-cost toolkit for sleep available at hubermanlab.com, indicating the importance of sleep in modulating \n",
       "tenacity and willpower.\n",
       "</pre>\n"
      ],
      "text/plain": [
       "The foundational modulators crucial for consistently engaging tenacity and willpower are related to the balance of \n",
       "the sympathetic and parasympathetic systems of the autonomic nervous system. Dr. Andrew Huberman mentions that \n",
       "there is currently no simple metric like heart rate or blood pressure to determine whether these systems are in \n",
       "balance. He emphasizes the importance of taking care of these foundational modulators for tenacity and willpower, \n",
       "stating that none of the subsequent tools and protocols discussed will be effective without addressing this \n",
       "balance. He specifically highlights the significance of getting enough quality sleep on a regular basis as a \n",
       "crucial foundational modulator for consistently engaging tenacity and willpower. Furthermore, he directs listeners \n",
       "to a zero-cost toolkit for sleep available at hubermanlab.com, indicating the importance of sleep in modulating \n",
       "tenacity and willpower.\n"
      ]
     },
     "metadata": {},
     "output_type": "display_data"
    },
    {
     "data": {
      "text/html": [
       "<pre style=\"white-space:pre;overflow-x:auto;line-height:normal;font-family:Menlo,'DejaVu Sans Mono',consolas,'Courier New',monospace\"><span style=\"font-weight: bold\">[</span>\n",
       "    <span style=\"color: #008000; text-decoration-color: #008000\">'\\nShow Summary: In the episode \"How to Increase Your Willpower &amp; Tenacity\" from the Huberman Lab podcast, </span>\n",
       "<span style=\"color: #008000; text-decoration-color: #008000\">Andrew Huberman explores the psychological and neurological underpinnings of tenacity and willpower. He delves into</span>\n",
       "<span style=\"color: #008000; text-decoration-color: #008000\">the fascinating literature surrounding a brain structure integral to these traits, which most neuroscientists are </span>\n",
       "<span style=\"color: #008000; text-decoration-color: #008000\">not even aware of. Huberman discusses how this brain structure integrates internal and external information to </span>\n",
       "<span style=\"color: #008000; text-decoration-color: #008000\">bolster tenacity and willpower. The episode offers research-supported tools for enhancing these qualities in any </span>\n",
       "<span style=\"color: #008000; text-decoration-color: #008000\">situation. Huberman clarifies that while the podcast is separate from his academic roles, it aligns with his </span>\n",
       "<span style=\"color: #008000; text-decoration-color: #008000\">mission to disseminate science-based tools to the public. He also briefly acknowledges the episode\\'s sponsors </span>\n",
       "<span style=\"color: #008000; text-decoration-color: #008000\">without going into details about their products. The discussion then returns to the mechanisms of tenacity and </span>\n",
       "<span style=\"color: #008000; text-decoration-color: #008000\">willpower, the psychological constructs associated with them, and how they differ from habits. Huberman also </span>\n",
       "<span style=\"color: #008000; text-decoration-color: #008000\">touches on the continuum of psychological states from apathy and depression to grit and persistence, and how </span>\n",
       "<span style=\"color: #008000; text-decoration-color: #008000\">motivation enables\\nShow Guest: Andrew Huberman\\nTranscript: However, there is no simple metric like heart rate or </span>\n",
       "<span style=\"color: #008000; text-decoration-color: #008000\">blood pressure, or even cortisol level that can tell you whether or not your autonomic function is in balance. That</span>\n",
       "<span style=\"color: #008000; text-decoration-color: #008000\">is the sympathetic and parasympathetic systems of your autonomic nervous system are in the best possible balance to</span>\n",
       "<span style=\"color: #008000; text-decoration-color: #008000\">generate tenacity and willpower. We don\\'t yet have such a metric, although there are companies that are starting </span>\n",
       "<span style=\"color: #008000; text-decoration-color: #008000\">to develop devices that hopefully will give us indices of autonomic function or dysfunction. But it is important </span>\n",
       "<span style=\"color: #008000; text-decoration-color: #008000\">that we acknowledge that if you\\'re not taking care of the foundational modulators of tenacity and willpower, none </span>\n",
       "<span style=\"color: #008000; text-decoration-color: #008000\">of the subsequent tools and protocols that we will discuss are going to help you that much over time. You might get</span>\n",
       "<span style=\"color: #008000; text-decoration-color: #008000\">tenacity and willpower to engage one day when you\\'re very sleep deprived, but it\\'s going to be very difficult to </span>\n",
       "<span style=\"color: #008000; text-decoration-color: #008000\">consistently engage tenacity and willpower. For that reason, if you have any struggles with sleep, that is getting </span>\n",
       "<span style=\"color: #008000; text-decoration-color: #008000\">enough quality sleep on a regular basis, please see the zero cost toolkit for sleep that we\\'ve put at </span>\n",
       "<span style=\"color: #008000; text-decoration-color: #008000\">hubermanlab.com. Please also see the perfect your sleep, master your sleep episodes also at </span>\n",
       "<span style=\"color: #008000; text-decoration-color: #008000\">hubermanlab.com.\\n------------------------\\n'</span>,\n",
       "    <span style=\"color: #008000; text-decoration-color: #008000\">'\\nShow Summary: In the episode \"How to Increase Your Willpower &amp; Tenacity\" from the Huberman Lab podcast, </span>\n",
       "<span style=\"color: #008000; text-decoration-color: #008000\">Andrew Huberman explores the psychological and neurological underpinnings of tenacity and willpower. He delves into</span>\n",
       "<span style=\"color: #008000; text-decoration-color: #008000\">the fascinating literature surrounding a brain structure integral to these traits, which most neuroscientists are </span>\n",
       "<span style=\"color: #008000; text-decoration-color: #008000\">not even aware of. Huberman discusses how this brain structure integrates internal and external information to </span>\n",
       "<span style=\"color: #008000; text-decoration-color: #008000\">bolster tenacity and willpower. The episode offers research-supported tools for enhancing these qualities in any </span>\n",
       "<span style=\"color: #008000; text-decoration-color: #008000\">situation. Huberman clarifies that while the podcast is separate from his academic roles, it aligns with his </span>\n",
       "<span style=\"color: #008000; text-decoration-color: #008000\">mission to disseminate science-based tools to the public. He also briefly acknowledges the episode\\'s sponsors </span>\n",
       "<span style=\"color: #008000; text-decoration-color: #008000\">without going into details about their products. The discussion then returns to the mechanisms of tenacity and </span>\n",
       "<span style=\"color: #008000; text-decoration-color: #008000\">willpower, the psychological constructs associated with them, and how they differ from habits. Huberman also </span>\n",
       "<span style=\"color: #008000; text-decoration-color: #008000\">touches on the continuum of psychological states from apathy and depression to grit and persistence, and how </span>\n",
       "<span style=\"color: #008000; text-decoration-color: #008000\">motivation enables\\nShow Guest: Andrew Huberman\\nTranscript: What\\'s important to understand about this whole </span>\n",
       "<span style=\"color: #008000; text-decoration-color: #008000\">discussion about tenacity and willpower is that the ability to engage the anterior mid cingulate cortex and to </span>\n",
       "<span style=\"color: #008000; text-decoration-color: #008000\">build up its volume literally and increase its activity relies on one critical feature, which is that you have to </span>\n",
       "<span style=\"color: #008000; text-decoration-color: #008000\">be in some degree of resistance, some lack of desire, or I should say lack of reflexive desire or ability to engage</span>\n",
       "<span style=\"color: #008000; text-decoration-color: #008000\">in that behavior, okay? This is super important if you\\'re thinking about tools and protocols to increase your </span>\n",
       "<span style=\"color: #008000; text-decoration-color: #008000\">level of tenacity and willpower. If for instance, you love cold showers and ice baths, well, then it\\'s very </span>\n",
       "<span style=\"color: #008000; text-decoration-color: #008000\">unlikely that taking cold showers or getting into an ice bath is going to increase your level of tenacity and </span>\n",
       "<span style=\"color: #008000; text-decoration-color: #008000\">willpower further. It might reinforce the tenacity and willpower that you\\'ve already built, but it\\'s not going to</span>\n",
       "<span style=\"color: #008000; text-decoration-color: #008000\">increase it further. You need to add something or subtract something that makes it harder, not easier to engage in </span>\n",
       "<span style=\"color: #008000; text-decoration-color: #008000\">or resist a behavior. Okay, I want to be really clear about this.\\n------------------------\\n'</span>,\n",
       "    <span style=\"color: #008000; text-decoration-color: #008000\">'\\nShow Summary: In the episode \"How to Increase Your Willpower &amp; Tenacity\" from the Huberman Lab podcast, </span>\n",
       "<span style=\"color: #008000; text-decoration-color: #008000\">Andrew Huberman explores the psychological and neurological underpinnings of tenacity and willpower. He delves into</span>\n",
       "<span style=\"color: #008000; text-decoration-color: #008000\">the fascinating literature surrounding a brain structure integral to these traits, which most neuroscientists are </span>\n",
       "<span style=\"color: #008000; text-decoration-color: #008000\">not even aware of. Huberman discusses how this brain structure integrates internal and external information to </span>\n",
       "<span style=\"color: #008000; text-decoration-color: #008000\">bolster tenacity and willpower. The episode offers research-supported tools for enhancing these qualities in any </span>\n",
       "<span style=\"color: #008000; text-decoration-color: #008000\">situation. Huberman clarifies that while the podcast is separate from his academic roles, it aligns with his </span>\n",
       "<span style=\"color: #008000; text-decoration-color: #008000\">mission to disseminate science-based tools to the public. He also briefly acknowledges the episode\\'s sponsors </span>\n",
       "<span style=\"color: #008000; text-decoration-color: #008000\">without going into details about their products. The discussion then returns to the mechanisms of tenacity and </span>\n",
       "<span style=\"color: #008000; text-decoration-color: #008000\">willpower, the psychological constructs associated with them, and how they differ from habits. Huberman also </span>\n",
       "<span style=\"color: #008000; text-decoration-color: #008000\">touches on the continuum of psychological states from apathy and depression to grit and persistence, and how </span>\n",
       "<span style=\"color: #008000; text-decoration-color: #008000\">motivation enables\\nShow Guest: Andrew Huberman\\nTranscript: But in this closed loop fashion, it\\'s our ability to </span>\n",
       "<span style=\"color: #008000; text-decoration-color: #008000\">express tenacity and willpower that then feeds back onto that circuit and makes it more robust and more likely to </span>\n",
       "<span style=\"color: #008000; text-decoration-color: #008000\">be accessible in the future when we encounter something that we don\\'t want to do or that we have to resist very </span>\n",
       "<span style=\"color: #008000; text-decoration-color: #008000\">strongly in order to not engage in some sort of behavior or thought pattern. So the big takeaway is that if you </span>\n",
       "<span style=\"color: #008000; text-decoration-color: #008000\">want to increase your tenacity and willpower, you absolutely can. You can do that by triggering activation of this </span>\n",
       "<span style=\"color: #008000; text-decoration-color: #008000\">incredible hub within the brain, the anterior mid-singulate cortex, for which there is now a very large amount of </span>\n",
       "<span style=\"color: #008000; text-decoration-color: #008000\">evidence, is at least central to the whole process of generating tenacity and willpower, the I absolutely will do </span>\n",
       "<span style=\"color: #008000; text-decoration-color: #008000\">that, and the no, I absolutely won\\'t do that. It\\'s the resistance hub. It\\'s the thing that\\'s allocating </span>\n",
       "<span style=\"color: #008000; text-decoration-color: #008000\">resources to do the thing that we don\\'t want to do or that someone\\'s trying to prevent us from doing. It\\'s also </span>\n",
       "<span style=\"color: #008000; text-decoration-color: #008000\">the brain area that\\'s allowing us to resist doing the thing that we want to do or that someone else wants us to do</span>\n",
       "<span style=\"color: #008000; text-decoration-color: #008000\">when we decide that\\'s not good for us.\\n------------------------\\n'</span>\n",
       "<span style=\"font-weight: bold\">]</span>\n",
       "</pre>\n"
      ],
      "text/plain": [
       "\u001b[1m[\u001b[0m\n",
       "    \u001b[32m'\\nShow Summary: In the episode \"How to Increase Your Willpower & Tenacity\" from the Huberman Lab podcast, \u001b[0m\n",
       "\u001b[32mAndrew Huberman explores the psychological and neurological underpinnings of tenacity and willpower. He delves into\u001b[0m\n",
       "\u001b[32mthe fascinating literature surrounding a brain structure integral to these traits, which most neuroscientists are \u001b[0m\n",
       "\u001b[32mnot even aware of. Huberman discusses how this brain structure integrates internal and external information to \u001b[0m\n",
       "\u001b[32mbolster tenacity and willpower. The episode offers research-supported tools for enhancing these qualities in any \u001b[0m\n",
       "\u001b[32msituation. Huberman clarifies that while the podcast is separate from his academic roles, it aligns with his \u001b[0m\n",
       "\u001b[32mmission to disseminate science-based tools to the public. He also briefly acknowledges the episode\\'s sponsors \u001b[0m\n",
       "\u001b[32mwithout going into details about their products. The discussion then returns to the mechanisms of tenacity and \u001b[0m\n",
       "\u001b[32mwillpower, the psychological constructs associated with them, and how they differ from habits. Huberman also \u001b[0m\n",
       "\u001b[32mtouches on the continuum of psychological states from apathy and depression to grit and persistence, and how \u001b[0m\n",
       "\u001b[32mmotivation enables\\nShow Guest: Andrew Huberman\\nTranscript: However, there is no simple metric like heart rate or \u001b[0m\n",
       "\u001b[32mblood pressure, or even cortisol level that can tell you whether or not your autonomic function is in balance. That\u001b[0m\n",
       "\u001b[32mis the sympathetic and parasympathetic systems of your autonomic nervous system are in the best possible balance to\u001b[0m\n",
       "\u001b[32mgenerate tenacity and willpower. We don\\'t yet have such a metric, although there are companies that are starting \u001b[0m\n",
       "\u001b[32mto develop devices that hopefully will give us indices of autonomic function or dysfunction. But it is important \u001b[0m\n",
       "\u001b[32mthat we acknowledge that if you\\'re not taking care of the foundational modulators of tenacity and willpower, none \u001b[0m\n",
       "\u001b[32mof the subsequent tools and protocols that we will discuss are going to help you that much over time. You might get\u001b[0m\n",
       "\u001b[32mtenacity and willpower to engage one day when you\\'re very sleep deprived, but it\\'s going to be very difficult to \u001b[0m\n",
       "\u001b[32mconsistently engage tenacity and willpower. For that reason, if you have any struggles with sleep, that is getting \u001b[0m\n",
       "\u001b[32menough quality sleep on a regular basis, please see the zero cost toolkit for sleep that we\\'ve put at \u001b[0m\n",
       "\u001b[32mhubermanlab.com. Please also see the perfect your sleep, master your sleep episodes also at \u001b[0m\n",
       "\u001b[32mhubermanlab.com.\\n------------------------\\n'\u001b[0m,\n",
       "    \u001b[32m'\\nShow Summary: In the episode \"How to Increase Your Willpower & Tenacity\" from the Huberman Lab podcast, \u001b[0m\n",
       "\u001b[32mAndrew Huberman explores the psychological and neurological underpinnings of tenacity and willpower. He delves into\u001b[0m\n",
       "\u001b[32mthe fascinating literature surrounding a brain structure integral to these traits, which most neuroscientists are \u001b[0m\n",
       "\u001b[32mnot even aware of. Huberman discusses how this brain structure integrates internal and external information to \u001b[0m\n",
       "\u001b[32mbolster tenacity and willpower. The episode offers research-supported tools for enhancing these qualities in any \u001b[0m\n",
       "\u001b[32msituation. Huberman clarifies that while the podcast is separate from his academic roles, it aligns with his \u001b[0m\n",
       "\u001b[32mmission to disseminate science-based tools to the public. He also briefly acknowledges the episode\\'s sponsors \u001b[0m\n",
       "\u001b[32mwithout going into details about their products. The discussion then returns to the mechanisms of tenacity and \u001b[0m\n",
       "\u001b[32mwillpower, the psychological constructs associated with them, and how they differ from habits. Huberman also \u001b[0m\n",
       "\u001b[32mtouches on the continuum of psychological states from apathy and depression to grit and persistence, and how \u001b[0m\n",
       "\u001b[32mmotivation enables\\nShow Guest: Andrew Huberman\\nTranscript: What\\'s important to understand about this whole \u001b[0m\n",
       "\u001b[32mdiscussion about tenacity and willpower is that the ability to engage the anterior mid cingulate cortex and to \u001b[0m\n",
       "\u001b[32mbuild up its volume literally and increase its activity relies on one critical feature, which is that you have to \u001b[0m\n",
       "\u001b[32mbe in some degree of resistance, some lack of desire, or I should say lack of reflexive desire or ability to engage\u001b[0m\n",
       "\u001b[32min that behavior, okay? This is super important if you\\'re thinking about tools and protocols to increase your \u001b[0m\n",
       "\u001b[32mlevel of tenacity and willpower. If for instance, you love cold showers and ice baths, well, then it\\'s very \u001b[0m\n",
       "\u001b[32munlikely that taking cold showers or getting into an ice bath is going to increase your level of tenacity and \u001b[0m\n",
       "\u001b[32mwillpower further. It might reinforce the tenacity and willpower that you\\'ve already built, but it\\'s not going to\u001b[0m\n",
       "\u001b[32mincrease it further. You need to add something or subtract something that makes it harder, not easier to engage in \u001b[0m\n",
       "\u001b[32mor resist a behavior. Okay, I want to be really clear about this.\\n------------------------\\n'\u001b[0m,\n",
       "    \u001b[32m'\\nShow Summary: In the episode \"How to Increase Your Willpower & Tenacity\" from the Huberman Lab podcast, \u001b[0m\n",
       "\u001b[32mAndrew Huberman explores the psychological and neurological underpinnings of tenacity and willpower. He delves into\u001b[0m\n",
       "\u001b[32mthe fascinating literature surrounding a brain structure integral to these traits, which most neuroscientists are \u001b[0m\n",
       "\u001b[32mnot even aware of. Huberman discusses how this brain structure integrates internal and external information to \u001b[0m\n",
       "\u001b[32mbolster tenacity and willpower. The episode offers research-supported tools for enhancing these qualities in any \u001b[0m\n",
       "\u001b[32msituation. Huberman clarifies that while the podcast is separate from his academic roles, it aligns with his \u001b[0m\n",
       "\u001b[32mmission to disseminate science-based tools to the public. He also briefly acknowledges the episode\\'s sponsors \u001b[0m\n",
       "\u001b[32mwithout going into details about their products. The discussion then returns to the mechanisms of tenacity and \u001b[0m\n",
       "\u001b[32mwillpower, the psychological constructs associated with them, and how they differ from habits. Huberman also \u001b[0m\n",
       "\u001b[32mtouches on the continuum of psychological states from apathy and depression to grit and persistence, and how \u001b[0m\n",
       "\u001b[32mmotivation enables\\nShow Guest: Andrew Huberman\\nTranscript: But in this closed loop fashion, it\\'s our ability to \u001b[0m\n",
       "\u001b[32mexpress tenacity and willpower that then feeds back onto that circuit and makes it more robust and more likely to \u001b[0m\n",
       "\u001b[32mbe accessible in the future when we encounter something that we don\\'t want to do or that we have to resist very \u001b[0m\n",
       "\u001b[32mstrongly in order to not engage in some sort of behavior or thought pattern. So the big takeaway is that if you \u001b[0m\n",
       "\u001b[32mwant to increase your tenacity and willpower, you absolutely can. You can do that by triggering activation of this \u001b[0m\n",
       "\u001b[32mincredible hub within the brain, the anterior mid-singulate cortex, for which there is now a very large amount of \u001b[0m\n",
       "\u001b[32mevidence, is at least central to the whole process of generating tenacity and willpower, the I absolutely will do \u001b[0m\n",
       "\u001b[32mthat, and the no, I absolutely won\\'t do that. It\\'s the resistance hub. It\\'s the thing that\\'s allocating \u001b[0m\n",
       "\u001b[32mresources to do the thing that we don\\'t want to do or that someone\\'s trying to prevent us from doing. It\\'s also \u001b[0m\n",
       "\u001b[32mthe brain area that\\'s allowing us to resist doing the thing that we want to do or that someone else wants us to do\u001b[0m\n",
       "\u001b[32mwhen we decide that\\'s not good for us.\\n------------------------\\n'\u001b[0m\n",
       "\u001b[1m]\u001b[0m\n"
      ]
     },
     "metadata": {},
     "output_type": "display_data"
    },
    {
     "data": {
      "text/html": [
       "<pre style=\"white-space:pre;overflow-x:auto;line-height:normal;font-family:Menlo,'DejaVu Sans Mono',consolas,'Courier New',monospace\">\n",
       "\n",
       "</pre>\n"
      ],
      "text/plain": [
       "\n",
       "\n"
      ]
     },
     "metadata": {},
     "output_type": "display_data"
    },
    {
     "data": {
      "text/html": [
       "<pre style=\"white-space:pre;overflow-x:auto;line-height:normal;font-family:Menlo,'DejaVu Sans Mono',consolas,'Courier New',monospace\">****************************************************************************************************\n",
       "</pre>\n"
      ],
      "text/plain": [
       "****************************************************************************************************\n"
      ]
     },
     "metadata": {},
     "output_type": "display_data"
    },
    {
     "data": {
      "text/html": [
       "<pre style=\"white-space:pre;overflow-x:auto;line-height:normal;font-family:Menlo,'DejaVu Sans Mono',consolas,'Courier New',monospace\">\n",
       "\n",
       "</pre>\n"
      ],
      "text/plain": [
       "\n",
       "\n"
      ]
     },
     "metadata": {},
     "output_type": "display_data"
    },
    {
     "data": {
      "text/html": [
       "<pre style=\"white-space:pre;overflow-x:auto;line-height:normal;font-family:Menlo,'DejaVu Sans Mono',consolas,'Courier New',monospace\"><span style=\"font-weight: bold\">{</span>\n",
       "    <span style=\"color: #008000; text-decoration-color: #008000\">'name'</span>: <span style=\"color: #008000; text-decoration-color: #008000\">'AnswerCorrectness'</span>,\n",
       "    <span style=\"color: #008000; text-decoration-color: #008000\">'criteria'</span>: <span style=\"color: #800080; text-decoration-color: #800080; font-style: italic\">None</span>,\n",
       "    <span style=\"color: #008000; text-decoration-color: #008000\">'using_native_model'</span>: <span style=\"color: #ff0000; text-decoration-color: #ff0000; font-style: italic\">False</span>,\n",
       "    <span style=\"color: #008000; text-decoration-color: #008000\">'evaluation_model'</span>: <span style=\"color: #008000; text-decoration-color: #008000\">'gpt-4'</span>,\n",
       "    <span style=\"color: #008000; text-decoration-color: #008000\">'evaluation_steps'</span>: <span style=\"font-weight: bold\">[</span>\n",
       "        <span style=\"color: #008000; text-decoration-color: #008000\">'Compare the actual output with the retrieval context to verify factual accuracy.'</span>,\n",
       "        <span style=\"color: #008000; text-decoration-color: #008000\">'Assess if the actual output effectively addresses the specific information requirement stated in the </span>\n",
       "<span style=\"color: #008000; text-decoration-color: #008000\">input.'</span>,\n",
       "        <span style=\"color: #008000; text-decoration-color: #008000\">'Determine the comprehensiveness of the actual output in addressing all key aspects mentioned in the </span>\n",
       "<span style=\"color: #008000; text-decoration-color: #008000\">input.'</span>,\n",
       "        <span style=\"color: #008000; text-decoration-color: #008000\">'Score the actual output between 0 and 10, based on the accuracy and comprehensiveness of the information </span>\n",
       "<span style=\"color: #008000; text-decoration-color: #008000\">provided, with 10 being exactly correct and 0 being completely incorrect.'</span>,\n",
       "        <span style=\"color: #008000; text-decoration-color: #008000\">'If there is not enough information in the retrieval context to correctly answer the input, and the actual </span>\n",
       "<span style=\"color: #008000; text-decoration-color: #008000\">output indicates that the input cannot be answered with the provided context, then return a score of 10.'</span>\n",
       "    <span style=\"font-weight: bold\">]</span>,\n",
       "    <span style=\"color: #008000; text-decoration-color: #008000\">'_threshold'</span>: <span style=\"color: #008080; text-decoration-color: #008080; font-weight: bold\">0.5</span>,\n",
       "    <span style=\"color: #008000; text-decoration-color: #008000\">'strict_mode'</span>: <span style=\"color: #ff0000; text-decoration-color: #ff0000; font-style: italic\">False</span>,\n",
       "    <span style=\"color: #008000; text-decoration-color: #008000\">'async_mode'</span>: <span style=\"color: #00ff00; text-decoration-color: #00ff00; font-style: italic\">True</span>,\n",
       "    <span style=\"color: #008000; text-decoration-color: #008000\">'evaluation_cost'</span>: <span style=\"color: #800080; text-decoration-color: #800080; font-style: italic\">None</span>,\n",
       "    <span style=\"color: #008000; text-decoration-color: #008000\">'reason'</span>: <span style=\"color: #008000; text-decoration-color: #008000\">\"The actual output is factually accurate with the retrieval context, correctly referencing Dr. Kay </span>\n",
       "<span style=\"color: #008000; text-decoration-color: #008000\">Tye's discussion on the impact of social media on the amygdala and extrapolating its effects on other neural </span>\n",
       "<span style=\"color: #008000; text-decoration-color: #008000\">circuits related to creative processing. This is aligned with the context provided by the retrieved passages that </span>\n",
       "<span style=\"color: #008000; text-decoration-color: #008000\">explore the role of the amygdala, the executive network, and the broader neural underpinnings of creativity. </span>\n",
       "<span style=\"color: #008000; text-decoration-color: #008000\">However, while the assertion about excessive social media hindering creative processing is reasonable, it lacks </span>\n",
       "<span style=\"color: #008000; text-decoration-color: #008000\">explicit comprehensive coverage of all key aspects, such as mentioning the executive network and the neural </span>\n",
       "<span style=\"color: #008000; text-decoration-color: #008000\">pathways associated with creative thinking discussed in the retrieval context. The deduction reflects that while </span>\n",
       "<span style=\"color: #008000; text-decoration-color: #008000\">the actual output does address the input's specific information requirement, it does not thoroughly explore all </span>\n",
       "<span style=\"color: #008000; text-decoration-color: #008000\">neural circuits potentially impacted as outlined in the provided context.\"</span>,\n",
       "    <span style=\"color: #008000; text-decoration-color: #008000\">'score'</span>: <span style=\"color: #008080; text-decoration-color: #008080; font-weight: bold\">0.8</span>,\n",
       "    <span style=\"color: #008000; text-decoration-color: #008000\">'success'</span>: <span style=\"color: #00ff00; text-decoration-color: #00ff00; font-style: italic\">True</span>\n",
       "<span style=\"font-weight: bold\">}</span>\n",
       "</pre>\n"
      ],
      "text/plain": [
       "\u001b[1m{\u001b[0m\n",
       "    \u001b[32m'name'\u001b[0m: \u001b[32m'AnswerCorrectness'\u001b[0m,\n",
       "    \u001b[32m'criteria'\u001b[0m: \u001b[3;35mNone\u001b[0m,\n",
       "    \u001b[32m'using_native_model'\u001b[0m: \u001b[3;91mFalse\u001b[0m,\n",
       "    \u001b[32m'evaluation_model'\u001b[0m: \u001b[32m'gpt-4'\u001b[0m,\n",
       "    \u001b[32m'evaluation_steps'\u001b[0m: \u001b[1m[\u001b[0m\n",
       "        \u001b[32m'Compare the actual output with the retrieval context to verify factual accuracy.'\u001b[0m,\n",
       "        \u001b[32m'Assess if the actual output effectively addresses the specific information requirement stated in the \u001b[0m\n",
       "\u001b[32minput.'\u001b[0m,\n",
       "        \u001b[32m'Determine the comprehensiveness of the actual output in addressing all key aspects mentioned in the \u001b[0m\n",
       "\u001b[32minput.'\u001b[0m,\n",
       "        \u001b[32m'Score the actual output between 0 and 10, based on the accuracy and comprehensiveness of the information \u001b[0m\n",
       "\u001b[32mprovided, with 10 being exactly correct and 0 being completely incorrect.'\u001b[0m,\n",
       "        \u001b[32m'If there is not enough information in the retrieval context to correctly answer the input, and the actual \u001b[0m\n",
       "\u001b[32moutput indicates that the input cannot be answered with the provided context, then return a score of 10.'\u001b[0m\n",
       "    \u001b[1m]\u001b[0m,\n",
       "    \u001b[32m'_threshold'\u001b[0m: \u001b[1;36m0.5\u001b[0m,\n",
       "    \u001b[32m'strict_mode'\u001b[0m: \u001b[3;91mFalse\u001b[0m,\n",
       "    \u001b[32m'async_mode'\u001b[0m: \u001b[3;92mTrue\u001b[0m,\n",
       "    \u001b[32m'evaluation_cost'\u001b[0m: \u001b[3;35mNone\u001b[0m,\n",
       "    \u001b[32m'reason'\u001b[0m: \u001b[32m\"The actual output is factually accurate with the retrieval context, correctly referencing Dr. Kay \u001b[0m\n",
       "\u001b[32mTye's discussion on the impact of social media on the amygdala and extrapolating its effects on other neural \u001b[0m\n",
       "\u001b[32mcircuits related to creative processing. This is aligned with the context provided by the retrieved passages that \u001b[0m\n",
       "\u001b[32mexplore the role of the amygdala, the executive network, and the broader neural underpinnings of creativity. \u001b[0m\n",
       "\u001b[32mHowever, while the assertion about excessive social media hindering creative processing is reasonable, it lacks \u001b[0m\n",
       "\u001b[32mexplicit comprehensive coverage of all key aspects, such as mentioning the executive network and the neural \u001b[0m\n",
       "\u001b[32mpathways associated with creative thinking discussed in the retrieval context. The deduction reflects that while \u001b[0m\n",
       "\u001b[32mthe actual output does address the input's specific information requirement, it does not thoroughly explore all \u001b[0m\n",
       "\u001b[32mneural circuits potentially impacted as outlined in the provided context.\"\u001b[0m,\n",
       "    \u001b[32m'score'\u001b[0m: \u001b[1;36m0.8\u001b[0m,\n",
       "    \u001b[32m'success'\u001b[0m: \u001b[3;92mTrue\u001b[0m\n",
       "\u001b[1m}\u001b[0m\n"
      ]
     },
     "metadata": {},
     "output_type": "display_data"
    },
    {
     "data": {
      "text/html": [
       "<pre style=\"white-space:pre;overflow-x:auto;line-height:normal;font-family:Menlo,'DejaVu Sans Mono',consolas,'Courier New',monospace\">How does spending excessive time on social media potentially impact the activation of neural circuits involved in \n",
       "creative processing?\n",
       "</pre>\n"
      ],
      "text/plain": [
       "How does spending excessive time on social media potentially impact the activation of neural circuits involved in \n",
       "creative processing?\n"
      ]
     },
     "metadata": {},
     "output_type": "display_data"
    },
    {
     "data": {
      "text/html": [
       "<pre style=\"white-space:pre;overflow-x:auto;line-height:normal;font-family:Menlo,'DejaVu Sans Mono',consolas,'Courier New',monospace\">Spending excessive time on social media can potentially impact the activation of neural circuits involved in \n",
       "creative processing by clouding out other potentially productive activation of neural circuits. Dr. Kay Tye \n",
       "mentions that billions of people on social media are likely triggering the activation of their amygdala, which she \n",
       "suggests could be clouding out other more potentially productive activation of neural circuits by making themselves\n",
       "freely available to the thoughts and words and impulses of others. This implies that excessive time on social media\n",
       "may lead to overstimulation of the amygdala, potentially hindering the activation of neural circuits involved in \n",
       "creative processing.\n",
       "</pre>\n"
      ],
      "text/plain": [
       "Spending excessive time on social media can potentially impact the activation of neural circuits involved in \n",
       "creative processing by clouding out other potentially productive activation of neural circuits. Dr. Kay Tye \n",
       "mentions that billions of people on social media are likely triggering the activation of their amygdala, which she \n",
       "suggests could be clouding out other more potentially productive activation of neural circuits by making themselves\n",
       "freely available to the thoughts and words and impulses of others. This implies that excessive time on social media\n",
       "may lead to overstimulation of the amygdala, potentially hindering the activation of neural circuits involved in \n",
       "creative processing.\n"
      ]
     },
     "metadata": {},
     "output_type": "display_data"
    },
    {
     "data": {
      "text/html": [
       "<pre style=\"white-space:pre;overflow-x:auto;line-height:normal;font-family:Menlo,'DejaVu Sans Mono',consolas,'Courier New',monospace\"><span style=\"font-weight: bold\">[</span>\n",
       "    <span style=\"color: #008000; text-decoration-color: #008000\">\"\\nShow Summary: Dr. Kay Tye's work focuses on the neuroscience of social interactions and emotions. Her </span>\n",
       "<span style=\"color: #008000; text-decoration-color: #008000\">research has revealed that the amygdala, traditionally associated with fear, is actually involved in reinforcing </span>\n",
       "<span style=\"color: #008000; text-decoration-color: #008000\">behaviors and experiences that are positive and involve reward. Dr. Tye's current work investigates social </span>\n",
       "<span style=\"color: #008000; text-decoration-color: #008000\">homeostasis, the idea that we have a set point for the amount of social interaction we need, which can vary based </span>\n",
       "<span style=\"color: #008000; text-decoration-color: #008000\">on whether we're introverted or extroverted. She has discovered neurons that are active when we feel lonely, </span>\n",
       "<span style=\"color: #008000; text-decoration-color: #008000\">suggesting a biological basis for the sensation of loneliness. Her team also explores social hierarchies, the </span>\n",
       "<span style=\"color: #008000; text-decoration-color: #008000\">impact of social media, and how these factors affect mental health. The conversation with Dr. Huberman delves into </span>\n",
       "<span style=\"color: #008000; text-decoration-color: #008000\">how social interactions, or the lack thereof, can influence our well-being, touching on topics like the </span>\n",
       "<span style=\"color: #008000; text-decoration-color: #008000\">neurochemical and hormonal aspects of social behavior.\\nShow Guest: Dr. Kay Tye\\nTranscript: And I think even if </span>\n",
       "<span style=\"color: #008000; text-decoration-color: #008000\">people don't reduce to one hour per week, I think that making some effort toward reducing the amount of incoming, </span>\n",
       "<span style=\"color: #008000; text-decoration-color: #008000\">as you said, controlling the top-down inputs to the amygdala, but also to the rest of the brain involved in </span>\n",
       "<span style=\"color: #008000; text-decoration-color: #008000\">creative processing, et cetera, is so key. And we actually do have agency. It's just it's tough sometimes to build </span>\n",
       "<span style=\"color: #008000; text-decoration-color: #008000\">up that discipline. So you're doing a tremendous service by sharing that somebody as successful as you does this </span>\n",
       "<span style=\"color: #008000; text-decoration-color: #008000\">presumably is successful in part because you do this. Could we, by extension, say that many people, since billions </span>\n",
       "<span style=\"color: #008000; text-decoration-color: #008000\">of people are on social media, are likely triggering the activation of their amygdala, clouding out other more </span>\n",
       "<span style=\"color: #008000; text-decoration-color: #008000\">potentially productive activation of their neural circuits by sort of just making themselves freely available to </span>\n",
       "<span style=\"color: #008000; text-decoration-color: #008000\">the thoughts and words and impulses of others? I mean, to me, it seems the answer would be yes, but I'd like to </span>\n",
       "<span style=\"color: #008000; text-decoration-color: #008000\">know what you think. I mean, I think, and there's something to be said. There's definitely been moments where I've,</span>\n",
       "<span style=\"color: #008000; text-decoration-color: #008000\">you know, gone deep into social media and spent more time in a certain burst, right, that is </span>\n",
       "<span style=\"color: #008000; text-decoration-color: #008000\">isolated.\\n------------------------\\n\"</span>,\n",
       "    <span style=\"color: #008000; text-decoration-color: #008000\">\"\\nShow Summary: In the Huberman Lab Podcast episode featuring Dr. Mary Helen Immordino-Yang, the discussion </span>\n",
       "<span style=\"color: #008000; text-decoration-color: #008000\">centers on the deep interplay between emotions, social factors, and learning. Dr. Immordino-Yang, an expert in the </span>\n",
       "<span style=\"color: #008000; text-decoration-color: #008000\">neuroscience of emotions and learning, explains how our emotional responses and the social environments we grow up </span>\n",
       "<span style=\"color: #008000; text-decoration-color: #008000\">in shape our understanding of the world and our self-concepts. The conversation delves into how the education </span>\n",
       "<span style=\"color: #008000; text-decoration-color: #008000\">system can influence learning and behavior, highlighting the importance of considering emotional systems as guides </span>\n",
       "<span style=\"color: #008000; text-decoration-color: #008000\">for learning and information retention. The episode emphasizes practical applications for parents, educators, and </span>\n",
       "<span style=\"color: #008000; text-decoration-color: #008000\">individuals seeking to optimize learning throughout life. It also explores the idea that learning styles vary and </span>\n",
       "<span style=\"color: #008000; text-decoration-color: #008000\">that understanding one's emotional responses can enhance the learning experience, whether in traditional or </span>\n",
       "<span style=\"color: #008000; text-decoration-color: #008000\">non-traditional settings.\\nShow Guest: Dr. Mary Helen Immordino-Yang\\nTranscript: Neurobiologically, that situation</span>\n",
       "<span style=\"color: #008000; text-decoration-color: #008000\">is inconducive. It is not conducive to being able to actually conjure an alternative perspective in which you </span>\n",
       "<span style=\"color: #008000; text-decoration-color: #008000\">construct a meaningful narrative with alternate ethical implications, with alternate prospective possible future </span>\n",
       "<span style=\"color: #008000; text-decoration-color: #008000\">outcomes, with alternate views of the historical precedent or context, being able to sort of mentally time travel </span>\n",
       "<span style=\"color: #008000; text-decoration-color: #008000\">into the space of those ideas is only really possible when people feel safe to think together. So it sounds like </span>\n",
       "<span style=\"color: #008000; text-decoration-color: #008000\">it's anti-creative. Yes. Creativity is also associated with the activations of these networks. Yeah. Causally so in</span>\n",
       "<span style=\"color: #008000; text-decoration-color: #008000\">some recent work. I had the good fortune of having dinner last year with somebody. I won't reveal who it is, but he</span>\n",
       "<span style=\"color: #008000; text-decoration-color: #008000\">runs a major social media platform. And he told me that in Japan, it's common for people to have two or three or </span>\n",
       "<span style=\"color: #008000; text-decoration-color: #008000\">even as many as seven different social media handles. And that they do this in order to embody different versions </span>\n",
       "<span style=\"color: #008000; text-decoration-color: #008000\">of themselves safely. So these are not troll accounts. These are not the accounts, and by the way, I see you, troll</span>\n",
       "<span style=\"color: #008000; text-decoration-color: #008000\">accounts, that say whatever and then you go to their accounts at some private account where they </span>\n",
       "<span style=\"color: #008000; text-decoration-color: #008000\">hide.\\n------------------------\\n\"</span>,\n",
       "    <span style=\"color: #008000; text-decoration-color: #008000\">\"\\nShow Summary: In the Huberman Lab Podcast episode 103, Andrew Huberman discusses the neural mechanisms and </span>\n",
       "<span style=\"color: #008000; text-decoration-color: #008000\">processes that underlie creativity. He explains that creativity is not just an abstract concept but is rooted in </span>\n",
       "<span style=\"color: #008000; text-decoration-color: #008000\">specific neural circuits that can be activated in a particular sequence to foster creative thinking. Huberman </span>\n",
       "<span style=\"color: #008000; text-decoration-color: #008000\">emphasizes that everyone has the capacity for creativity as it stems from a subset of neural structures in the </span>\n",
       "<span style=\"color: #008000; text-decoration-color: #008000\">brain. He outlines that creativity involves both divergent thinking, which is generating a wide range of ideas from</span>\n",
       "<span style=\"color: #008000; text-decoration-color: #008000\">a single starting point, and convergent thinking, which is narrowing down those ideas to find the most useful and </span>\n",
       "<span style=\"color: #008000; text-decoration-color: #008000\">novel ones.\\n\\nHuberman delves into the role of dopamine in creativity, highlighting two key pathways: the </span>\n",
       "<span style=\"color: #008000; text-decoration-color: #008000\">nigrostriatal pathway, which is associated with divergent thinking and movement, and the mesocortical pathway, </span>\n",
       "<span style=\"color: #008000; text-decoration-color: #008000\">which is associated with convergent thinking, motivation, and emotion. He suggests that open monitoring meditations</span>\n",
       "<span style=\"color: #008000; text-decoration-color: #008000\">can help enhance divergent thinking by allowing for the free flow of thoughts without judgment,\\nShow Guest: Andrew</span>\n",
       "<span style=\"color: #008000; text-decoration-color: #008000\">Huberman\\nTranscript: The first neural circuit involved in creativity is the so-called executive network. This is </span>\n",
       "<span style=\"color: #008000; text-decoration-color: #008000\">kind of a goofy name because the neural circuits that I'm about to describe do a bunch of other things as well, but</span>\n",
       "<span style=\"color: #008000; text-decoration-color: #008000\">they certainly control what are called executive functions. Executive functions are functions that you and I both </span>\n",
       "<span style=\"color: #008000; text-decoration-color: #008000\">have, which is our ability to govern our thinking and our behavior in very deliberate ways. And that is largely </span>\n",
       "<span style=\"color: #008000; text-decoration-color: #008000\">accomplished through the use of the neural circuitry that sits right behind the forebrain, the so-called prefrontal</span>\n",
       "<span style=\"color: #008000; text-decoration-color: #008000\">cortex. Now the prefrontal cortex involves many different sub-regions. It has a bunch of different parts, just like</span>\n",
       "<span style=\"color: #008000; text-decoration-color: #008000\">any country has different states, et cetera, and provinces. Executive function involves the prefrontal cortex and </span>\n",
       "<span style=\"color: #008000; text-decoration-color: #008000\">some other neural structures. But for sake of this discussion, executive function and the prefrontal cortex are </span>\n",
       "<span style=\"color: #008000; text-decoration-color: #008000\">mainly responsible for suppressing action. That is for eliminating choices among the infinite number of choices </span>\n",
       "<span style=\"color: #008000; text-decoration-color: #008000\">that exist.\\n------------------------\\n\"</span>\n",
       "<span style=\"font-weight: bold\">]</span>\n",
       "</pre>\n"
      ],
      "text/plain": [
       "\u001b[1m[\u001b[0m\n",
       "    \u001b[32m\"\\nShow Summary: Dr. Kay Tye's work focuses on the neuroscience of social interactions and emotions. Her \u001b[0m\n",
       "\u001b[32mresearch has revealed that the amygdala, traditionally associated with fear, is actually involved in reinforcing \u001b[0m\n",
       "\u001b[32mbehaviors and experiences that are positive and involve reward. Dr. Tye's current work investigates social \u001b[0m\n",
       "\u001b[32mhomeostasis, the idea that we have a set point for the amount of social interaction we need, which can vary based \u001b[0m\n",
       "\u001b[32mon whether we're introverted or extroverted. She has discovered neurons that are active when we feel lonely, \u001b[0m\n",
       "\u001b[32msuggesting a biological basis for the sensation of loneliness. Her team also explores social hierarchies, the \u001b[0m\n",
       "\u001b[32mimpact of social media, and how these factors affect mental health. The conversation with Dr. Huberman delves into \u001b[0m\n",
       "\u001b[32mhow social interactions, or the lack thereof, can influence our well-being, touching on topics like the \u001b[0m\n",
       "\u001b[32mneurochemical and hormonal aspects of social behavior.\\nShow Guest: Dr. Kay Tye\\nTranscript: And I think even if \u001b[0m\n",
       "\u001b[32mpeople don't reduce to one hour per week, I think that making some effort toward reducing the amount of incoming, \u001b[0m\n",
       "\u001b[32mas you said, controlling the top-down inputs to the amygdala, but also to the rest of the brain involved in \u001b[0m\n",
       "\u001b[32mcreative processing, et cetera, is so key. And we actually do have agency. It's just it's tough sometimes to build \u001b[0m\n",
       "\u001b[32mup that discipline. So you're doing a tremendous service by sharing that somebody as successful as you does this \u001b[0m\n",
       "\u001b[32mpresumably is successful in part because you do this. Could we, by extension, say that many people, since billions \u001b[0m\n",
       "\u001b[32mof people are on social media, are likely triggering the activation of their amygdala, clouding out other more \u001b[0m\n",
       "\u001b[32mpotentially productive activation of their neural circuits by sort of just making themselves freely available to \u001b[0m\n",
       "\u001b[32mthe thoughts and words and impulses of others? I mean, to me, it seems the answer would be yes, but I'd like to \u001b[0m\n",
       "\u001b[32mknow what you think. I mean, I think, and there's something to be said. There's definitely been moments where I've,\u001b[0m\n",
       "\u001b[32myou know, gone deep into social media and spent more time in a certain burst, right, that is \u001b[0m\n",
       "\u001b[32misolated.\\n------------------------\\n\"\u001b[0m,\n",
       "    \u001b[32m\"\\nShow Summary: In the Huberman Lab Podcast episode featuring Dr. Mary Helen Immordino-Yang, the discussion \u001b[0m\n",
       "\u001b[32mcenters on the deep interplay between emotions, social factors, and learning. Dr. Immordino-Yang, an expert in the \u001b[0m\n",
       "\u001b[32mneuroscience of emotions and learning, explains how our emotional responses and the social environments we grow up \u001b[0m\n",
       "\u001b[32min shape our understanding of the world and our self-concepts. The conversation delves into how the education \u001b[0m\n",
       "\u001b[32msystem can influence learning and behavior, highlighting the importance of considering emotional systems as guides \u001b[0m\n",
       "\u001b[32mfor learning and information retention. The episode emphasizes practical applications for parents, educators, and \u001b[0m\n",
       "\u001b[32mindividuals seeking to optimize learning throughout life. It also explores the idea that learning styles vary and \u001b[0m\n",
       "\u001b[32mthat understanding one's emotional responses can enhance the learning experience, whether in traditional or \u001b[0m\n",
       "\u001b[32mnon-traditional settings.\\nShow Guest: Dr. Mary Helen Immordino-Yang\\nTranscript: Neurobiologically, that situation\u001b[0m\n",
       "\u001b[32mis inconducive. It is not conducive to being able to actually conjure an alternative perspective in which you \u001b[0m\n",
       "\u001b[32mconstruct a meaningful narrative with alternate ethical implications, with alternate prospective possible future \u001b[0m\n",
       "\u001b[32moutcomes, with alternate views of the historical precedent or context, being able to sort of mentally time travel \u001b[0m\n",
       "\u001b[32minto the space of those ideas is only really possible when people feel safe to think together. So it sounds like \u001b[0m\n",
       "\u001b[32mit's anti-creative. Yes. Creativity is also associated with the activations of these networks. Yeah. Causally so in\u001b[0m\n",
       "\u001b[32msome recent work. I had the good fortune of having dinner last year with somebody. I won't reveal who it is, but he\u001b[0m\n",
       "\u001b[32mruns a major social media platform. And he told me that in Japan, it's common for people to have two or three or \u001b[0m\n",
       "\u001b[32meven as many as seven different social media handles. And that they do this in order to embody different versions \u001b[0m\n",
       "\u001b[32mof themselves safely. So these are not troll accounts. These are not the accounts, and by the way, I see you, troll\u001b[0m\n",
       "\u001b[32maccounts, that say whatever and then you go to their accounts at some private account where they \u001b[0m\n",
       "\u001b[32mhide.\\n------------------------\\n\"\u001b[0m,\n",
       "    \u001b[32m\"\\nShow Summary: In the Huberman Lab Podcast episode 103, Andrew Huberman discusses the neural mechanisms and \u001b[0m\n",
       "\u001b[32mprocesses that underlie creativity. He explains that creativity is not just an abstract concept but is rooted in \u001b[0m\n",
       "\u001b[32mspecific neural circuits that can be activated in a particular sequence to foster creative thinking. Huberman \u001b[0m\n",
       "\u001b[32memphasizes that everyone has the capacity for creativity as it stems from a subset of neural structures in the \u001b[0m\n",
       "\u001b[32mbrain. He outlines that creativity involves both divergent thinking, which is generating a wide range of ideas from\u001b[0m\n",
       "\u001b[32ma single starting point, and convergent thinking, which is narrowing down those ideas to find the most useful and \u001b[0m\n",
       "\u001b[32mnovel ones.\\n\\nHuberman delves into the role of dopamine in creativity, highlighting two key pathways: the \u001b[0m\n",
       "\u001b[32mnigrostriatal pathway, which is associated with divergent thinking and movement, and the mesocortical pathway, \u001b[0m\n",
       "\u001b[32mwhich is associated with convergent thinking, motivation, and emotion. He suggests that open monitoring meditations\u001b[0m\n",
       "\u001b[32mcan help enhance divergent thinking by allowing for the free flow of thoughts without judgment,\\nShow Guest: Andrew\u001b[0m\n",
       "\u001b[32mHuberman\\nTranscript: The first neural circuit involved in creativity is the so-called executive network. This is \u001b[0m\n",
       "\u001b[32mkind of a goofy name because the neural circuits that I'm about to describe do a bunch of other things as well, but\u001b[0m\n",
       "\u001b[32mthey certainly control what are called executive functions. Executive functions are functions that you and I both \u001b[0m\n",
       "\u001b[32mhave, which is our ability to govern our thinking and our behavior in very deliberate ways. And that is largely \u001b[0m\n",
       "\u001b[32maccomplished through the use of the neural circuitry that sits right behind the forebrain, the so-called prefrontal\u001b[0m\n",
       "\u001b[32mcortex. Now the prefrontal cortex involves many different sub-regions. It has a bunch of different parts, just like\u001b[0m\n",
       "\u001b[32many country has different states, et cetera, and provinces. Executive function involves the prefrontal cortex and \u001b[0m\n",
       "\u001b[32msome other neural structures. But for sake of this discussion, executive function and the prefrontal cortex are \u001b[0m\n",
       "\u001b[32mmainly responsible for suppressing action. That is for eliminating choices among the infinite number of choices \u001b[0m\n",
       "\u001b[32mthat exist.\\n------------------------\\n\"\u001b[0m\n",
       "\u001b[1m]\u001b[0m\n"
      ]
     },
     "metadata": {},
     "output_type": "display_data"
    },
    {
     "data": {
      "text/html": [
       "<pre style=\"white-space:pre;overflow-x:auto;line-height:normal;font-family:Menlo,'DejaVu Sans Mono',consolas,'Courier New',monospace\">\n",
       "\n",
       "</pre>\n"
      ],
      "text/plain": [
       "\n",
       "\n"
      ]
     },
     "metadata": {},
     "output_type": "display_data"
    },
    {
     "data": {
      "text/html": [
       "<pre style=\"white-space:pre;overflow-x:auto;line-height:normal;font-family:Menlo,'DejaVu Sans Mono',consolas,'Courier New',monospace\">****************************************************************************************************\n",
       "</pre>\n"
      ],
      "text/plain": [
       "****************************************************************************************************\n"
      ]
     },
     "metadata": {},
     "output_type": "display_data"
    },
    {
     "data": {
      "text/html": [
       "<pre style=\"white-space:pre;overflow-x:auto;line-height:normal;font-family:Menlo,'DejaVu Sans Mono',consolas,'Courier New',monospace\">\n",
       "\n",
       "</pre>\n"
      ],
      "text/plain": [
       "\n",
       "\n"
      ]
     },
     "metadata": {},
     "output_type": "display_data"
    },
    {
     "data": {
      "text/html": [
       "<pre style=\"white-space:pre;overflow-x:auto;line-height:normal;font-family:Menlo,'DejaVu Sans Mono',consolas,'Courier New',monospace\"><span style=\"font-weight: bold\">{</span>\n",
       "    <span style=\"color: #008000; text-decoration-color: #008000\">'name'</span>: <span style=\"color: #008000; text-decoration-color: #008000\">'AnswerCorrectness'</span>,\n",
       "    <span style=\"color: #008000; text-decoration-color: #008000\">'criteria'</span>: <span style=\"color: #800080; text-decoration-color: #800080; font-style: italic\">None</span>,\n",
       "    <span style=\"color: #008000; text-decoration-color: #008000\">'using_native_model'</span>: <span style=\"color: #ff0000; text-decoration-color: #ff0000; font-style: italic\">False</span>,\n",
       "    <span style=\"color: #008000; text-decoration-color: #008000\">'evaluation_model'</span>: <span style=\"color: #008000; text-decoration-color: #008000\">'gpt-4'</span>,\n",
       "    <span style=\"color: #008000; text-decoration-color: #008000\">'evaluation_steps'</span>: <span style=\"font-weight: bold\">[</span>\n",
       "        <span style=\"color: #008000; text-decoration-color: #008000\">'Compare the actual output with the retrieval context to verify factual accuracy.'</span>,\n",
       "        <span style=\"color: #008000; text-decoration-color: #008000\">'Assess if the actual output effectively addresses the specific information requirement stated in the </span>\n",
       "<span style=\"color: #008000; text-decoration-color: #008000\">input.'</span>,\n",
       "        <span style=\"color: #008000; text-decoration-color: #008000\">'Determine the comprehensiveness of the actual output in addressing all key aspects mentioned in the </span>\n",
       "<span style=\"color: #008000; text-decoration-color: #008000\">input.'</span>,\n",
       "        <span style=\"color: #008000; text-decoration-color: #008000\">'Score the actual output between 0 and 10, based on the accuracy and comprehensiveness of the information </span>\n",
       "<span style=\"color: #008000; text-decoration-color: #008000\">provided, with 10 being exactly correct and 0 being completely incorrect.'</span>,\n",
       "        <span style=\"color: #008000; text-decoration-color: #008000\">'If there is not enough information in the retrieval context to correctly answer the input, and the actual </span>\n",
       "<span style=\"color: #008000; text-decoration-color: #008000\">output indicates that the input cannot be answered with the provided context, then return a score of 10.'</span>\n",
       "    <span style=\"font-weight: bold\">]</span>,\n",
       "    <span style=\"color: #008000; text-decoration-color: #008000\">'_threshold'</span>: <span style=\"color: #008080; text-decoration-color: #008080; font-weight: bold\">0.5</span>,\n",
       "    <span style=\"color: #008000; text-decoration-color: #008000\">'strict_mode'</span>: <span style=\"color: #ff0000; text-decoration-color: #ff0000; font-style: italic\">False</span>,\n",
       "    <span style=\"color: #008000; text-decoration-color: #008000\">'async_mode'</span>: <span style=\"color: #00ff00; text-decoration-color: #00ff00; font-style: italic\">True</span>,\n",
       "    <span style=\"color: #008000; text-decoration-color: #008000\">'evaluation_cost'</span>: <span style=\"color: #800080; text-decoration-color: #800080; font-style: italic\">None</span>,\n",
       "    <span style=\"color: #008000; text-decoration-color: #008000\">'reason'</span>: <span style=\"color: #008000; text-decoration-color: #008000\">\"The output is factually accurate by stating that there are no current FDA-approved medications for </span>\n",
       "<span style=\"color: #008000; text-decoration-color: #008000\">the core features of autism, aligning well with the retrieval context which echoes this sentiment. It also </span>\n",
       "<span style=\"color: #008000; text-decoration-color: #008000\">addresses the initial question's concern about the importance of having such medications. However, the output could</span>\n",
       "<span style=\"color: #008000; text-decoration-color: #008000\">be slightly more comprehensive by mentioning ongoing research or indicating potential developments, which can be </span>\n",
       "<span style=\"color: #008000; text-decoration-color: #008000\">inferred from the retrieval context discussing ongoing research into novel treatments. This would offer a more </span>\n",
       "<span style=\"color: #008000; text-decoration-color: #008000\">complete picture in response to the question about the importance of approved medications.\"</span>,\n",
       "    <span style=\"color: #008000; text-decoration-color: #008000\">'score'</span>: <span style=\"color: #008080; text-decoration-color: #008080; font-weight: bold\">0.8</span>,\n",
       "    <span style=\"color: #008000; text-decoration-color: #008000\">'success'</span>: <span style=\"color: #00ff00; text-decoration-color: #00ff00; font-style: italic\">True</span>\n",
       "<span style=\"font-weight: bold\">}</span>\n",
       "</pre>\n"
      ],
      "text/plain": [
       "\u001b[1m{\u001b[0m\n",
       "    \u001b[32m'name'\u001b[0m: \u001b[32m'AnswerCorrectness'\u001b[0m,\n",
       "    \u001b[32m'criteria'\u001b[0m: \u001b[3;35mNone\u001b[0m,\n",
       "    \u001b[32m'using_native_model'\u001b[0m: \u001b[3;91mFalse\u001b[0m,\n",
       "    \u001b[32m'evaluation_model'\u001b[0m: \u001b[32m'gpt-4'\u001b[0m,\n",
       "    \u001b[32m'evaluation_steps'\u001b[0m: \u001b[1m[\u001b[0m\n",
       "        \u001b[32m'Compare the actual output with the retrieval context to verify factual accuracy.'\u001b[0m,\n",
       "        \u001b[32m'Assess if the actual output effectively addresses the specific information requirement stated in the \u001b[0m\n",
       "\u001b[32minput.'\u001b[0m,\n",
       "        \u001b[32m'Determine the comprehensiveness of the actual output in addressing all key aspects mentioned in the \u001b[0m\n",
       "\u001b[32minput.'\u001b[0m,\n",
       "        \u001b[32m'Score the actual output between 0 and 10, based on the accuracy and comprehensiveness of the information \u001b[0m\n",
       "\u001b[32mprovided, with 10 being exactly correct and 0 being completely incorrect.'\u001b[0m,\n",
       "        \u001b[32m'If there is not enough information in the retrieval context to correctly answer the input, and the actual \u001b[0m\n",
       "\u001b[32moutput indicates that the input cannot be answered with the provided context, then return a score of 10.'\u001b[0m\n",
       "    \u001b[1m]\u001b[0m,\n",
       "    \u001b[32m'_threshold'\u001b[0m: \u001b[1;36m0.5\u001b[0m,\n",
       "    \u001b[32m'strict_mode'\u001b[0m: \u001b[3;91mFalse\u001b[0m,\n",
       "    \u001b[32m'async_mode'\u001b[0m: \u001b[3;92mTrue\u001b[0m,\n",
       "    \u001b[32m'evaluation_cost'\u001b[0m: \u001b[3;35mNone\u001b[0m,\n",
       "    \u001b[32m'reason'\u001b[0m: \u001b[32m\"The output is factually accurate by stating that there are no current FDA-approved medications for \u001b[0m\n",
       "\u001b[32mthe core features of autism, aligning well with the retrieval context which echoes this sentiment. It also \u001b[0m\n",
       "\u001b[32maddresses the initial question's concern about the importance of having such medications. However, the output could\u001b[0m\n",
       "\u001b[32mbe slightly more comprehensive by mentioning ongoing research or indicating potential developments, which can be \u001b[0m\n",
       "\u001b[32minferred from the retrieval context discussing ongoing research into novel treatments. This would offer a more \u001b[0m\n",
       "\u001b[32mcomplete picture in response to the question about the importance of approved medications.\"\u001b[0m,\n",
       "    \u001b[32m'score'\u001b[0m: \u001b[1;36m0.8\u001b[0m,\n",
       "    \u001b[32m'success'\u001b[0m: \u001b[3;92mTrue\u001b[0m\n",
       "\u001b[1m}\u001b[0m\n"
      ]
     },
     "metadata": {},
     "output_type": "display_data"
    },
    {
     "data": {
      "text/html": [
       "<pre style=\"white-space:pre;overflow-x:auto;line-height:normal;font-family:Menlo,'DejaVu Sans Mono',consolas,'Courier New',monospace\">Why is it important to have medications approved to treat the core features of autism?\n",
       "</pre>\n"
      ],
      "text/plain": [
       "Why is it important to have medications approved to treat the core features of autism?\n"
      ]
     },
     "metadata": {},
     "output_type": "display_data"
    },
    {
     "data": {
      "text/html": [
       "<pre style=\"white-space:pre;overflow-x:auto;line-height:normal;font-family:Menlo,'DejaVu Sans Mono',consolas,'Courier New',monospace\">It is important to have medications approved to treat the core features of autism because currently, there are only\n",
       "two drugs approved by the FDA to treat autism, and they are both antipsychotics. These drugs treat associated \n",
       "features like irritability, but they have off-target effects such as weight gain. There are no medications \n",
       "currently approved in the U.S. or anywhere else for that matter to treat the core features of autism. As a result, \n",
       "there is a significant need for medications specifically approved to target the core symptoms of autism, such as \n",
       "social interaction deficits, in order to provide more effective and targeted treatments for individuals with autism\n",
       "spectrum disorder.\n",
       "</pre>\n"
      ],
      "text/plain": [
       "It is important to have medications approved to treat the core features of autism because currently, there are only\n",
       "two drugs approved by the FDA to treat autism, and they are both antipsychotics. These drugs treat associated \n",
       "features like irritability, but they have off-target effects such as weight gain. There are no medications \n",
       "currently approved in the U.S. or anywhere else for that matter to treat the core features of autism. As a result, \n",
       "there is a significant need for medications specifically approved to target the core symptoms of autism, such as \n",
       "social interaction deficits, in order to provide more effective and targeted treatments for individuals with autism\n",
       "spectrum disorder.\n"
      ]
     },
     "metadata": {},
     "output_type": "display_data"
    },
    {
     "data": {
      "text/html": [
       "<pre style=\"white-space:pre;overflow-x:auto;line-height:normal;font-family:Menlo,'DejaVu Sans Mono',consolas,'Courier New',monospace\"><span style=\"font-weight: bold\">[</span>\n",
       "    <span style=\"color: #008000; text-decoration-color: #008000\">\"\\nShow Summary: In the Huberman Lab podcast episode with Dr. Karen Parker, they discuss the science of autism,</span>\n",
       "<span style=\"color: #008000; text-decoration-color: #008000\">exploring the biological basis of social functioning and its perturbations in autism spectrum disorders (ASD). Dr. </span>\n",
       "<span style=\"color: #008000; text-decoration-color: #008000\">Parker's research focuses on understanding autism's causes and developing new treatments. They address the </span>\n",
       "<span style=\"color: #008000; text-decoration-color: #008000\">increased incidence of autism diagnoses, which is attributed to better detection and genuine prevalence growth. Dr.</span>\n",
       "<span style=\"color: #008000; text-decoration-color: #008000\">Parker presents new findings suggesting novel causes and treatments for autism.\\n\\nThe conversation delves into the</span>\n",
       "<span style=\"color: #008000; text-decoration-color: #008000\">challenges of diagnosing autism at early stages, given its reliance on behavioral assessment and the heterogeneity </span>\n",
       "<span style=\"color: #008000; text-decoration-color: #008000\">of the disorder. They discuss the genetic and environmental factors contributing to autism, highlighting the need </span>\n",
       "<span style=\"color: #008000; text-decoration-color: #008000\">for personalized approaches to treatment due to the condition's complexity. The podcast also touches upon the </span>\n",
       "<span style=\"color: #008000; text-decoration-color: #008000\">potential role of oxytocin and vasopressin, neuropeptides involved in social behaviors, in the context of </span>\n",
       "<span style=\"color: #008000; text-decoration-color: #008000\">autism.\\n\\nDr. Parker emphasizes the importance of sophisticated models for studying autism and the limitations of </span>\n",
       "<span style=\"color: #008000; text-decoration-color: #008000\">using traditional animal models like mice.\\nShow Guest: Dr. Karen Parker\\nTranscript: Are parents of autistic kids </span>\n",
       "<span style=\"color: #008000; text-decoration-color: #008000\">able to like buy oxytocin nasal spray? No. So it would need to be written, like the prescription would need to be </span>\n",
       "<span style=\"color: #008000; text-decoration-color: #008000\">written by a physician. And it's not on the market, right? So there's one thing we should say is there's only two </span>\n",
       "<span style=\"color: #008000; text-decoration-color: #008000\">drugs that are approved by the FDA to treat autism, and they're both antipsychotics, which they treat associated </span>\n",
       "<span style=\"color: #008000; text-decoration-color: #008000\">features like irritability, and they have off-target effects like weight gain. So we don't have any medications </span>\n",
       "<span style=\"color: #008000; text-decoration-color: #008000\">that are currently approved in the U.S. or anywhere else for that matter to treat the core features of autism. </span>\n",
       "<span style=\"color: #008000; text-decoration-color: #008000\">Interesting and unfortunate. And hopefully that will change in the not-too-distant future. Do we know that children</span>\n",
       "<span style=\"color: #008000; text-decoration-color: #008000\">with autism, people with autism, because I'm going to just sort of assume that autism is stable over the lifespan. </span>\n",
       "<span style=\"color: #008000; text-decoration-color: #008000\">Like if a child is diagnosed with autism, are they going to be an adolescent and adult with autism? So I would say </span>\n",
       "<span style=\"color: #008000; text-decoration-color: #008000\">that in a lot of cases, autism has lifelong impact. But there are people who outgrow their diagnosis. You know, </span>\n",
       "<span style=\"color: #008000; text-decoration-color: #008000\">there are people who respond well to behavioral therapy.\\n------------------------\\n\"</span>,\n",
       "    <span style=\"color: #008000; text-decoration-color: #008000\">'\\nShow Summary: In the nucleus accumbens, a key brain region for reward processing, Dr. Robert Malenka\\'s </span>\n",
       "<span style=\"color: #008000; text-decoration-color: #008000\">research found that oxytocin enhances the release of serotonin, which is another neuromodulator involved in mood </span>\n",
       "<span style=\"color: #008000; text-decoration-color: #008000\">and social behavior. This finding suggests that oxytocin may play a role in promoting sociability by influencing </span>\n",
       "<span style=\"color: #008000; text-decoration-color: #008000\">serotonin levels within the reward circuitry. Oxytocin, often referred to as the \"love hormone,\" has been </span>\n",
       "<span style=\"color: #008000; text-decoration-color: #008000\">previously linked to pair bonding and social behaviors in various species, like the prairie vole. Malenka\\'s work </span>\n",
       "<span style=\"color: #008000; text-decoration-color: #008000\">explores how positive, pro-social, non-aggressive interactions are highly reinforcing and likely involve the reward</span>\n",
       "<span style=\"color: #008000; text-decoration-color: #008000\">circuitry, potentially providing evolutionary advantages in survival, reproduction, and protection from predators. </span>\n",
       "<span style=\"color: #008000; text-decoration-color: #008000\">While oxytocin\\'s role in pair bonding has been debated, Malenka\\'s research contributes to the understanding of </span>\n",
       "<span style=\"color: #008000; text-decoration-color: #008000\">its function in sociability and its interaction with other neuromodulators like serotonin in the context of the </span>\n",
       "<span style=\"color: #008000; text-decoration-color: #008000\">reward system.\\nShow Guest: Dr. Robert Malenka\\nTranscript: I mean, I think that returning to the issue of autism </span>\n",
       "<span style=\"color: #008000; text-decoration-color: #008000\">and the role of serotonin, so in autism, there seems to be less of a reinforcement pathway for certain kinds of </span>\n",
       "<span style=\"color: #008000; text-decoration-color: #008000\">social interactions in some individuals with autism. And I\\'m aware that there are some prescription treatments for</span>\n",
       "<span style=\"color: #008000; text-decoration-color: #008000\">autism that capitalize on the serotonergic system and dopamine system. So is it fentamine? To my knowledge, the </span>\n",
       "<span style=\"color: #008000; text-decoration-color: #008000\">only FDA-approved pharmacologic therapeutic for individuals with autism spectrum disorder is actually, oh God, I\\'m</span>\n",
       "<span style=\"color: #008000; text-decoration-color: #008000\">just blanking. It\\'s not a serotonergic drug. I have to look it up. I want to say risperidone for agitation. There </span>\n",
       "<span style=\"color: #008000; text-decoration-color: #008000\">is no drug for, for lack of a better term, the social deficits. There\\'s no FDA approved drug. If you look at the </span>\n",
       "<span style=\"color: #008000; text-decoration-color: #008000\">literature, psychiatrists and individuals with good intention have tested the utility of traditional serotonergic </span>\n",
       "<span style=\"color: #008000; text-decoration-color: #008000\">drugs like Prozac, SSRIs. There are drugs known as SNRIs, drugs that influence serotonin release, and another </span>\n",
       "<span style=\"color: #008000; text-decoration-color: #008000\">neuromodulator that you know well, norepinephrine, and at least well-done clinical trials, which in my view as an </span>\n",
       "<span style=\"color: #008000; text-decoration-color: #008000\">academic are very important. None of them have showed efficacy.\\n------------------------\\n'</span>,\n",
       "    <span style=\"color: #008000; text-decoration-color: #008000\">'\\nShow Summary: In the nucleus accumbens, a key brain region for reward processing, Dr. Robert Malenka\\'s </span>\n",
       "<span style=\"color: #008000; text-decoration-color: #008000\">research found that oxytocin enhances the release of serotonin, which is another neuromodulator involved in mood </span>\n",
       "<span style=\"color: #008000; text-decoration-color: #008000\">and social behavior. This finding suggests that oxytocin may play a role in promoting sociability by influencing </span>\n",
       "<span style=\"color: #008000; text-decoration-color: #008000\">serotonin levels within the reward circuitry. Oxytocin, often referred to as the \"love hormone,\" has been </span>\n",
       "<span style=\"color: #008000; text-decoration-color: #008000\">previously linked to pair bonding and social behaviors in various species, like the prairie vole. Malenka\\'s work </span>\n",
       "<span style=\"color: #008000; text-decoration-color: #008000\">explores how positive, pro-social, non-aggressive interactions are highly reinforcing and likely involve the reward</span>\n",
       "<span style=\"color: #008000; text-decoration-color: #008000\">circuitry, potentially providing evolutionary advantages in survival, reproduction, and protection from predators. </span>\n",
       "<span style=\"color: #008000; text-decoration-color: #008000\">While oxytocin\\'s role in pair bonding has been debated, Malenka\\'s research contributes to the understanding of </span>\n",
       "<span style=\"color: #008000; text-decoration-color: #008000\">its function in sociability and its interaction with other neuromodulators like serotonin in the context of the </span>\n",
       "<span style=\"color: #008000; text-decoration-color: #008000\">reward system.\\nShow Guest: Dr. Robert Malenka\\nTranscript: What I can say is even at our current level of </span>\n",
       "<span style=\"color: #008000; text-decoration-color: #008000\">understanding, it is leading to novel hypotheses that are allowing the development, you know, if we bring it back </span>\n",
       "<span style=\"color: #008000; text-decoration-color: #008000\">to autism, that are allowing the development of novel, at the moment, pharmacologic therapeutics that might be </span>\n",
       "<span style=\"color: #008000; text-decoration-color: #008000\">helpful for people who are not having normal pro-social interactions and would like to have them, would like to be </span>\n",
       "<span style=\"color: #008000; text-decoration-color: #008000\">able to function in that domain in a more adaptive and productive and meaningful way. And that\\'s the importance, </span>\n",
       "<span style=\"color: #008000; text-decoration-color: #008000\">in my view, of the kind of mechanistic work my lab and many other labs around the country are doing. Even if we </span>\n",
       "<span style=\"color: #008000; text-decoration-color: #008000\">don\\'t have a detailed understanding of how it\\'s all happening, we can identify drugs and druggable targets or </span>\n",
       "<span style=\"color: #008000; text-decoration-color: #008000\">even behavioral interventions that might actually help people. For example, suffering from autism spectrum disorder</span>\n",
       "<span style=\"color: #008000; text-decoration-color: #008000\">of the sort that they actually want and need therapeutic help. I think looking at the social connection circuitry </span>\n",
       "<span style=\"color: #008000; text-decoration-color: #008000\">through the lens of autism is going to be very interesting for us to do. I do have a question about what is being </span>\n",
       "<span style=\"color: #008000; text-decoration-color: #008000\">selected for in rewarding social interactions? Because obviously we are living in a time where we don\\'t have to </span>\n",
       "<span style=\"color: #008000; text-decoration-color: #008000\">aggregate in groups necessarily to protect ourselves physically.\\n------------------------\\n'</span>\n",
       "<span style=\"font-weight: bold\">]</span>\n",
       "</pre>\n"
      ],
      "text/plain": [
       "\u001b[1m[\u001b[0m\n",
       "    \u001b[32m\"\\nShow Summary: In the Huberman Lab podcast episode with Dr. Karen Parker, they discuss the science of autism,\u001b[0m\n",
       "\u001b[32mexploring the biological basis of social functioning and its perturbations in autism spectrum disorders \u001b[0m\u001b[32m(\u001b[0m\u001b[32mASD\u001b[0m\u001b[32m)\u001b[0m\u001b[32m. Dr. \u001b[0m\n",
       "\u001b[32mParker's research focuses on understanding autism's causes and developing new treatments. They address the \u001b[0m\n",
       "\u001b[32mincreased incidence of autism diagnoses, which is attributed to better detection and genuine prevalence growth. Dr.\u001b[0m\n",
       "\u001b[32mParker presents new findings suggesting novel causes and treatments for autism.\\n\\nThe conversation delves into the\u001b[0m\n",
       "\u001b[32mchallenges of diagnosing autism at early stages, given its reliance on behavioral assessment and the heterogeneity \u001b[0m\n",
       "\u001b[32mof the disorder. They discuss the genetic and environmental factors contributing to autism, highlighting the need \u001b[0m\n",
       "\u001b[32mfor personalized approaches to treatment due to the condition's complexity. The podcast also touches upon the \u001b[0m\n",
       "\u001b[32mpotential role of oxytocin and vasopressin, neuropeptides involved in social behaviors, in the context of \u001b[0m\n",
       "\u001b[32mautism.\\n\\nDr. Parker emphasizes the importance of sophisticated models for studying autism and the limitations of \u001b[0m\n",
       "\u001b[32musing traditional animal models like mice.\\nShow Guest: Dr. Karen Parker\\nTranscript: Are parents of autistic kids \u001b[0m\n",
       "\u001b[32mable to like buy oxytocin nasal spray? No. So it would need to be written, like the prescription would need to be \u001b[0m\n",
       "\u001b[32mwritten by a physician. And it's not on the market, right? So there's one thing we should say is there's only two \u001b[0m\n",
       "\u001b[32mdrugs that are approved by the FDA to treat autism, and they're both antipsychotics, which they treat associated \u001b[0m\n",
       "\u001b[32mfeatures like irritability, and they have off-target effects like weight gain. So we don't have any medications \u001b[0m\n",
       "\u001b[32mthat are currently approved in the U.S. or anywhere else for that matter to treat the core features of autism. \u001b[0m\n",
       "\u001b[32mInteresting and unfortunate. And hopefully that will change in the not-too-distant future. Do we know that children\u001b[0m\n",
       "\u001b[32mwith autism, people with autism, because I'm going to just sort of assume that autism is stable over the lifespan. \u001b[0m\n",
       "\u001b[32mLike if a child is diagnosed with autism, are they going to be an adolescent and adult with autism? So I would say \u001b[0m\n",
       "\u001b[32mthat in a lot of cases, autism has lifelong impact. But there are people who outgrow their diagnosis. You know, \u001b[0m\n",
       "\u001b[32mthere are people who respond well to behavioral therapy.\\n------------------------\\n\"\u001b[0m,\n",
       "    \u001b[32m'\\nShow Summary: In the nucleus accumbens, a key brain region for reward processing, Dr. Robert Malenka\\'s \u001b[0m\n",
       "\u001b[32mresearch found that oxytocin enhances the release of serotonin, which is another neuromodulator involved in mood \u001b[0m\n",
       "\u001b[32mand social behavior. This finding suggests that oxytocin may play a role in promoting sociability by influencing \u001b[0m\n",
       "\u001b[32mserotonin levels within the reward circuitry. Oxytocin, often referred to as the \"love hormone,\" has been \u001b[0m\n",
       "\u001b[32mpreviously linked to pair bonding and social behaviors in various species, like the prairie vole. Malenka\\'s work \u001b[0m\n",
       "\u001b[32mexplores how positive, pro-social, non-aggressive interactions are highly reinforcing and likely involve the reward\u001b[0m\n",
       "\u001b[32mcircuitry, potentially providing evolutionary advantages in survival, reproduction, and protection from predators. \u001b[0m\n",
       "\u001b[32mWhile oxytocin\\'s role in pair bonding has been debated, Malenka\\'s research contributes to the understanding of \u001b[0m\n",
       "\u001b[32mits function in sociability and its interaction with other neuromodulators like serotonin in the context of the \u001b[0m\n",
       "\u001b[32mreward system.\\nShow Guest: Dr. Robert Malenka\\nTranscript: I mean, I think that returning to the issue of autism \u001b[0m\n",
       "\u001b[32mand the role of serotonin, so in autism, there seems to be less of a reinforcement pathway for certain kinds of \u001b[0m\n",
       "\u001b[32msocial interactions in some individuals with autism. And I\\'m aware that there are some prescription treatments for\u001b[0m\n",
       "\u001b[32mautism that capitalize on the serotonergic system and dopamine system. So is it fentamine? To my knowledge, the \u001b[0m\n",
       "\u001b[32monly FDA-approved pharmacologic therapeutic for individuals with autism spectrum disorder is actually, oh God, I\\'m\u001b[0m\n",
       "\u001b[32mjust blanking. It\\'s not a serotonergic drug. I have to look it up. I want to say risperidone for agitation. There \u001b[0m\n",
       "\u001b[32mis no drug for, for lack of a better term, the social deficits. There\\'s no FDA approved drug. If you look at the \u001b[0m\n",
       "\u001b[32mliterature, psychiatrists and individuals with good intention have tested the utility of traditional serotonergic \u001b[0m\n",
       "\u001b[32mdrugs like Prozac, SSRIs. There are drugs known as SNRIs, drugs that influence serotonin release, and another \u001b[0m\n",
       "\u001b[32mneuromodulator that you know well, norepinephrine, and at least well-done clinical trials, which in my view as an \u001b[0m\n",
       "\u001b[32macademic are very important. None of them have showed efficacy.\\n------------------------\\n'\u001b[0m,\n",
       "    \u001b[32m'\\nShow Summary: In the nucleus accumbens, a key brain region for reward processing, Dr. Robert Malenka\\'s \u001b[0m\n",
       "\u001b[32mresearch found that oxytocin enhances the release of serotonin, which is another neuromodulator involved in mood \u001b[0m\n",
       "\u001b[32mand social behavior. This finding suggests that oxytocin may play a role in promoting sociability by influencing \u001b[0m\n",
       "\u001b[32mserotonin levels within the reward circuitry. Oxytocin, often referred to as the \"love hormone,\" has been \u001b[0m\n",
       "\u001b[32mpreviously linked to pair bonding and social behaviors in various species, like the prairie vole. Malenka\\'s work \u001b[0m\n",
       "\u001b[32mexplores how positive, pro-social, non-aggressive interactions are highly reinforcing and likely involve the reward\u001b[0m\n",
       "\u001b[32mcircuitry, potentially providing evolutionary advantages in survival, reproduction, and protection from predators. \u001b[0m\n",
       "\u001b[32mWhile oxytocin\\'s role in pair bonding has been debated, Malenka\\'s research contributes to the understanding of \u001b[0m\n",
       "\u001b[32mits function in sociability and its interaction with other neuromodulators like serotonin in the context of the \u001b[0m\n",
       "\u001b[32mreward system.\\nShow Guest: Dr. Robert Malenka\\nTranscript: What I can say is even at our current level of \u001b[0m\n",
       "\u001b[32munderstanding, it is leading to novel hypotheses that are allowing the development, you know, if we bring it back \u001b[0m\n",
       "\u001b[32mto autism, that are allowing the development of novel, at the moment, pharmacologic therapeutics that might be \u001b[0m\n",
       "\u001b[32mhelpful for people who are not having normal pro-social interactions and would like to have them, would like to be \u001b[0m\n",
       "\u001b[32mable to function in that domain in a more adaptive and productive and meaningful way. And that\\'s the importance, \u001b[0m\n",
       "\u001b[32min my view, of the kind of mechanistic work my lab and many other labs around the country are doing. Even if we \u001b[0m\n",
       "\u001b[32mdon\\'t have a detailed understanding of how it\\'s all happening, we can identify drugs and druggable targets or \u001b[0m\n",
       "\u001b[32meven behavioral interventions that might actually help people. For example, suffering from autism spectrum disorder\u001b[0m\n",
       "\u001b[32mof the sort that they actually want and need therapeutic help. I think looking at the social connection circuitry \u001b[0m\n",
       "\u001b[32mthrough the lens of autism is going to be very interesting for us to do. I do have a question about what is being \u001b[0m\n",
       "\u001b[32mselected for in rewarding social interactions? Because obviously we are living in a time where we don\\'t have to \u001b[0m\n",
       "\u001b[32maggregate in groups necessarily to protect ourselves physically.\\n------------------------\\n'\u001b[0m\n",
       "\u001b[1m]\u001b[0m\n"
      ]
     },
     "metadata": {},
     "output_type": "display_data"
    },
    {
     "data": {
      "text/html": [
       "<pre style=\"white-space:pre;overflow-x:auto;line-height:normal;font-family:Menlo,'DejaVu Sans Mono',consolas,'Courier New',monospace\">\n",
       "\n",
       "</pre>\n"
      ],
      "text/plain": [
       "\n",
       "\n"
      ]
     },
     "metadata": {},
     "output_type": "display_data"
    },
    {
     "data": {
      "text/html": [
       "<pre style=\"white-space:pre;overflow-x:auto;line-height:normal;font-family:Menlo,'DejaVu Sans Mono',consolas,'Courier New',monospace\">****************************************************************************************************\n",
       "</pre>\n"
      ],
      "text/plain": [
       "****************************************************************************************************\n"
      ]
     },
     "metadata": {},
     "output_type": "display_data"
    },
    {
     "data": {
      "text/html": [
       "<pre style=\"white-space:pre;overflow-x:auto;line-height:normal;font-family:Menlo,'DejaVu Sans Mono',consolas,'Courier New',monospace\">\n",
       "\n",
       "</pre>\n"
      ],
      "text/plain": [
       "\n",
       "\n"
      ]
     },
     "metadata": {},
     "output_type": "display_data"
    }
   ],
   "source": [
    "from rich import print\n",
    "\n",
    "for res in azure_evaluations:\n",
    "    if res.metrics['score'] < 0.9:\n",
    "        print(res.metrics)\n",
    "        print(res.input)\n",
    "        print(res.actual_output)\n",
    "        print(res.retrieval_context)\n",
    "        print('\\n')\n",
    "        print('*'*100)\n",
    "        print('\\n')"
   ]
  },
  {
   "cell_type": "code",
   "execution_count": 9,
   "id": "0ec1cf4f-6555-4321-9760-637e4a5648fa",
   "metadata": {},
   "outputs": [
    {
     "ename": "NameError",
     "evalue": "name 'azure_evaluations_first25' is not defined",
     "output_type": "error",
     "traceback": [
      "\u001b[0;31m---------------------------------------------------------------------------\u001b[0m",
      "\u001b[0;31mNameError\u001b[0m                                 Traceback (most recent call last)",
      "Cell \u001b[0;32mIn[9], line 1\u001b[0m\n\u001b[0;32m----> 1\u001b[0m \u001b[43mazure_evaluations_first25\u001b[49m\n",
      "\u001b[0;31mNameError\u001b[0m: name 'azure_evaluations_first25' is not defined"
     ]
    }
   ],
   "source": [
    "azure_evaluations_first25"
   ]
  },
  {
   "cell_type": "code",
   "execution_count": null,
   "id": "0f995d8e-ef10-47ca-a663-2495cc410c4f",
   "metadata": {},
   "outputs": [],
   "source": []
  }
 ],
 "metadata": {
  "kernelspec": {
   "display_name": "vsa",
   "language": "python",
   "name": "vsa"
  },
  "language_info": {
   "codemirror_mode": {
    "name": "ipython",
    "version": 3
   },
   "file_extension": ".py",
   "mimetype": "text/x-python",
   "name": "python",
   "nbconvert_exporter": "python",
   "pygments_lexer": "ipython3",
   "version": "3.10.0"
  }
 },
 "nbformat": 4,
 "nbformat_minor": 5
}
