{
 "cells": [
  {
   "cell_type": "markdown",
   "id": "db70cf16-8f67-4fff-bccd-cb3f04b7ce31",
   "metadata": {},
   "source": [
    "# OpenAI JSON Mode vs. Function Calling for Data Extraction "
   ]
  },
  {
   "cell_type": "markdown",
   "id": "9ab29eae-d6ed-473c-9c69-be21f9d55f84",
   "metadata": {},
   "source": [
    "OpenAI just released [JSON Mode](https://platform.openai.com/docs/guides/text-generation/json-mode): This new config constrain the LLM to only generate strings that parse into valid JSON (but no guarantee on validation against any schema).\n",
    "\n",
    "Before this, the best way to extract structured data from text is via [function calling](https://platform.openai.com/docs/guides/function-calling).  \n",
    "\n",
    "In this notebook, we explore the tradeoff between the latest [JSON Mode](https://platform.openai.com/docs/guides/text-generation/json-mode) and function calling feature for structured output & extraction.\n",
    "\n",
    "*Update*: OpenAI has clarified that JSON mode is always enabled for function calling, it's opt-in for regular messages (https://community.openai.com/t/json-mode-vs-function-calling/476994/4)"
   ]
  },
  {
   "cell_type": "markdown",
   "id": "f743c090-b1a5-443f-a569-f5d61e3e6e36",
   "metadata": {},
   "source": [
    "### Generate synthetic data"
   ]
  },
  {
   "cell_type": "markdown",
   "id": "88cede28-458f-4f56-8f08-5c0ec8a77c64",
   "metadata": {},
   "source": [
    "We'll start by generating some synthetic data for our data extraction task. Let's ask our LLM for a hypothetical sales transcript."
   ]
  },
  {
   "cell_type": "code",
   "execution_count": 6,
   "id": "f0b5b533-6a37-4b9f-bc9e-3e979a7aa01d",
   "metadata": {},
   "outputs": [],
   "source": [
    "from llama_index.llms import OpenAI\n",
    "import os \n",
    "from dotenv import load_dotenv\n",
    "load_dotenv(override=True)\n",
    "from rich import print\n",
    "\n",
    "llm = OpenAI(model=\"gpt-3.5-turbo-1106\", api_key=os.environ['OPENAI_API_KEY'])\n"
   ]
  },
  {
   "cell_type": "code",
   "execution_count": 4,
   "id": "84fde742-7cbf-4b8a-b731-44222d6edcc5",
   "metadata": {},
   "outputs": [],
   "source": [
    "response = llm.complete(\n",
    "    \"Generate a sales call transcript, use real names, talk about a product, discuss some action items\"\n",
    ")"
   ]
  },
  {
   "cell_type": "code",
   "execution_count": 7,
   "id": "c51a9117-2040-4cfa-9bad-40e24d0f8609",
   "metadata": {},
   "outputs": [
    {
     "data": {
      "text/html": [
       "<pre style=\"white-space:pre;overflow-x:auto;line-height:normal;font-family:Menlo,'DejaVu Sans Mono',consolas,'Courier New',monospace\"><span style=\"font-weight: bold\">[</span>Phone rings<span style=\"font-weight: bold\">]</span>\n",
       "\n",
       "John: Hello, this is John speaking.\n",
       "\n",
       "Sarah: Hi John, this is Sarah from XYZ Company. I'm calling to discuss our new product, the XYZ Widget, and see if \n",
       "it might be a good fit for your business.\n",
       "\n",
       "John: Hi Sarah, thanks for reaching out. I'm definitely interested in learning more about the XYZ Widget. Can you \n",
       "give me a quick overview of what it does?\n",
       "\n",
       "Sarah: Of course! The XYZ Widget is a cutting-edge tool that helps businesses streamline their workflow and \n",
       "increase productivity. It integrates seamlessly with existing systems and can be customized to meet the specific \n",
       "needs of your business.\n",
       "\n",
       "John: That sounds really promising. I can see how it could benefit our team. Do you have any case studies or \n",
       "success stories from other companies that have used the XYZ Widget?\n",
       "\n",
       "Sarah: Absolutely, we have several case studies that I can share with you. I'll send them over along with some \n",
       "additional information about the product.\n",
       "\n",
       "John: Great, I look forward to reviewing those. What are the next steps for us to move forward with implementing \n",
       "the XYZ Widget in our business?\n",
       "\n",
       "Sarah: I'd love to schedule a demo for you and your team to see the product in action and answer any questions you \n",
       "may have. After that, we can discuss pricing and implementation timelines.\n",
       "\n",
       "John: That sounds like a plan. Let's schedule the demo for next week. I'll also gather some key stakeholders from \n",
       "our team to participate.\n",
       "\n",
       "Sarah: Perfect, I'll send over some available time slots for the demo and we can get that on the calendar. I'll \n",
       "also include the case studies and additional information for you to review beforehand.\n",
       "\n",
       "John: Sounds good, I appreciate your help with this. Looking forward to learning more about the XYZ Widget and how \n",
       "it can benefit our business.\n",
       "\n",
       "Sarah: Thank you, John. I'll be in touch soon with the details for the demo. Have a great day!\n",
       "\n",
       "John: You too, Sarah. Take care.\n",
       "</pre>\n"
      ],
      "text/plain": [
       "\u001b[1m[\u001b[0mPhone rings\u001b[1m]\u001b[0m\n",
       "\n",
       "John: Hello, this is John speaking.\n",
       "\n",
       "Sarah: Hi John, this is Sarah from XYZ Company. I'm calling to discuss our new product, the XYZ Widget, and see if \n",
       "it might be a good fit for your business.\n",
       "\n",
       "John: Hi Sarah, thanks for reaching out. I'm definitely interested in learning more about the XYZ Widget. Can you \n",
       "give me a quick overview of what it does?\n",
       "\n",
       "Sarah: Of course! The XYZ Widget is a cutting-edge tool that helps businesses streamline their workflow and \n",
       "increase productivity. It integrates seamlessly with existing systems and can be customized to meet the specific \n",
       "needs of your business.\n",
       "\n",
       "John: That sounds really promising. I can see how it could benefit our team. Do you have any case studies or \n",
       "success stories from other companies that have used the XYZ Widget?\n",
       "\n",
       "Sarah: Absolutely, we have several case studies that I can share with you. I'll send them over along with some \n",
       "additional information about the product.\n",
       "\n",
       "John: Great, I look forward to reviewing those. What are the next steps for us to move forward with implementing \n",
       "the XYZ Widget in our business?\n",
       "\n",
       "Sarah: I'd love to schedule a demo for you and your team to see the product in action and answer any questions you \n",
       "may have. After that, we can discuss pricing and implementation timelines.\n",
       "\n",
       "John: That sounds like a plan. Let's schedule the demo for next week. I'll also gather some key stakeholders from \n",
       "our team to participate.\n",
       "\n",
       "Sarah: Perfect, I'll send over some available time slots for the demo and we can get that on the calendar. I'll \n",
       "also include the case studies and additional information for you to review beforehand.\n",
       "\n",
       "John: Sounds good, I appreciate your help with this. Looking forward to learning more about the XYZ Widget and how \n",
       "it can benefit our business.\n",
       "\n",
       "Sarah: Thank you, John. I'll be in touch soon with the details for the demo. Have a great day!\n",
       "\n",
       "John: You too, Sarah. Take care.\n"
      ]
     },
     "metadata": {},
     "output_type": "display_data"
    }
   ],
   "source": [
    "transcript = response.text\n",
    "print(transcript)"
   ]
  },
  {
   "cell_type": "markdown",
   "id": "f3c0699b-bb3a-466a-93b4-c7ff541a80c2",
   "metadata": {},
   "source": [
    "### Setup our desired schema"
   ]
  },
  {
   "cell_type": "markdown",
   "id": "4905dd6a-001f-415d-bc42-cd1c34c6ba0d",
   "metadata": {},
   "source": [
    "Let's specify our desired output \"shape\", as a Pydantic Model."
   ]
  },
  {
   "cell_type": "code",
   "execution_count": 9,
   "id": "d1bb4bff-deee-48ca-85f8-71c3a8909f74",
   "metadata": {},
   "outputs": [],
   "source": [
    "from pydantic import BaseModel, Field\n",
    "from typing import List\n",
    "\n",
    "\n",
    "class CallSummary(BaseModel):\n",
    "    \"\"\"Data model for a call summary.\"\"\"\n",
    "\n",
    "    summary: str = Field(\n",
    "        description=\"High-level summary of the call transcript. Should not exceed 3 sentences.\"\n",
    "    )\n",
    "    products: List[str] = Field(\n",
    "        description=\"List of products discussed in the call\"\n",
    "    )\n",
    "    rep_name: str = Field(description=\"Name of the sales rep\")\n",
    "    prospect_name: str = Field(description=\"Name of the prospect\")\n",
    "    action_items: List[str] = Field(description=\"List of action items\")"
   ]
  },
  {
   "cell_type": "markdown",
   "id": "bf0a901c-17ee-4a51-acd8-97803d1d13c8",
   "metadata": {},
   "source": [
    "### Data extraction with function calling"
   ]
  },
  {
   "cell_type": "markdown",
   "id": "8788717e-fe3b-4720-8a44-640371870883",
   "metadata": {},
   "source": [
    "We can use the `OpenAIPydanticProgram` module in LlamaIndex to make things super easy, simply define a prompt template, and pass in the LLM and pydantic model we've definied."
   ]
  },
  {
   "cell_type": "code",
   "execution_count": 10,
   "id": "25aff3f2-a94d-4d42-93a3-2499f4f73742",
   "metadata": {},
   "outputs": [],
   "source": [
    "from llama_index.program import OpenAIPydanticProgram\n",
    "from llama_index.prompts import ChatPromptTemplate, ChatMessage"
   ]
  },
  {
   "cell_type": "code",
   "execution_count": 11,
   "id": "8a8d4976-8946-4988-9c08-dab0567b9b5b",
   "metadata": {},
   "outputs": [],
   "source": [
    "prompt = ChatPromptTemplate(\n",
    "    message_templates=[\n",
    "        ChatMessage(\n",
    "            role=\"system\",\n",
    "            content=(\n",
    "                \"You are an expert assitant for summarizing and extracting insights from sales call transcripts.\"\n",
    "            ),\n",
    "        ),\n",
    "        ChatMessage(\n",
    "            role=\"user\",\n",
    "            content=(\n",
    "                \"Here is the transcript: \\n\"\n",
    "                \"------\\n\"\n",
    "                \"{transcript}\\n\"\n",
    "                \"------\"\n",
    "            ),\n",
    "        ),\n",
    "    ]\n",
    ")\n",
    "program = OpenAIPydanticProgram.from_defaults(\n",
    "    output_cls=CallSummary,\n",
    "    llm=llm,\n",
    "    prompt=prompt,\n",
    "    verbose=True,\n",
    ")"
   ]
  },
  {
   "cell_type": "code",
   "execution_count": 12,
   "id": "f0bb69ea-aa20-45ad-944d-f7bdd6069d47",
   "metadata": {},
   "outputs": [
    {
     "name": "stdout",
     "output_type": "stream",
     "text": [
      "Function call: CallSummary with args: {\"summary\":\"Sarah from XYZ Company called John to discuss the new product, the XYZ Widget, and scheduled a demo for next week. John expressed interest in learning more about the product and requested case studies and success stories. They also discussed next steps for implementing the product in John's business.\",\"products\":[\"XYZ Widget\"],\"rep_name\":\"Sarah\",\"prospect_name\":\"John\",\"action_items\":[\"Schedule demo for next week\",\"Share case studies and additional information\"]}\n"
     ]
    }
   ],
   "source": [
    "output = program(transcript=transcript)"
   ]
  },
  {
   "cell_type": "markdown",
   "id": "86da586b-fc26-42a4-9bf4-02fc7b3c477d",
   "metadata": {},
   "source": [
    "We now have the desired structured data, as a Pydantic Model. \n",
    "Quick inspection shows that the results are as we expected. "
   ]
  },
  {
   "cell_type": "code",
   "execution_count": 14,
   "id": "81b83482-c306-4368-b29c-b0cc40b9fc90",
   "metadata": {},
   "outputs": [
    {
     "data": {
      "text/plain": [
       "{'summary': \"Sarah from XYZ Company called John to discuss the new product, the XYZ Widget, and scheduled a demo for next week. John expressed interest in learning more about the product and requested case studies and success stories. They also discussed next steps for implementing the product in John's business.\",\n",
       " 'products': ['XYZ Widget'],\n",
       " 'rep_name': 'Sarah',\n",
       " 'prospect_name': 'John',\n",
       " 'action_items': ['Schedule demo for next week',\n",
       "  'Share case studies and additional information']}"
      ]
     },
     "execution_count": 14,
     "metadata": {},
     "output_type": "execute_result"
    }
   ],
   "source": [
    "output.model_dump()"
   ]
  },
  {
   "cell_type": "markdown",
   "id": "dba09855-1e99-4922-8c85-0ccdabd6badf",
   "metadata": {},
   "source": [
    "### Data extraction with JSON mode"
   ]
  },
  {
   "cell_type": "markdown",
   "id": "b1397230-9a75-455a-a05f-c5cab536f1c4",
   "metadata": {},
   "source": [
    "Let's try to do the same with JSON mode, instead of function calling"
   ]
  },
  {
   "cell_type": "code",
   "execution_count": 25,
   "id": "a2068387-11f1-4a9a-a105-b3619e6b9452",
   "metadata": {},
   "outputs": [],
   "source": [
    "prompt = ChatPromptTemplate(\n",
    "    message_templates=[\n",
    "        ChatMessage(\n",
    "            role=\"system\",\n",
    "            content=(\n",
    "                \"You are an expert assitant for summarizing and extracting insights from sales call transcripts.\\n\"\n",
    "                \"Generate a valid JSON following the given schema below:\\n\"\n",
    "                \"{json_schema}\"\n",
    "            ),\n",
    "        ),\n",
    "        ChatMessage(\n",
    "            role=\"user\",\n",
    "            content=(\n",
    "                \"Here is the transcript: \\n\"\n",
    "                \"------\\n\"\n",
    "                \"{transcript}\\n\"\n",
    "                \"------\"\n",
    "            ),\n",
    "        ),\n",
    "    ]\n",
    ")"
   ]
  },
  {
   "cell_type": "code",
   "execution_count": 26,
   "id": "989008a4-e3f9-447b-830a-07b7d0ce5c8c",
   "metadata": {},
   "outputs": [],
   "source": [
    "messages = prompt.format_messages(\n",
    "    json_schema=CallSummary.model_json_schema(), transcript=transcript\n",
    ")"
   ]
  },
  {
   "cell_type": "code",
   "execution_count": 28,
   "id": "4f30501c-c8c1-465f-b184-0583f5140131",
   "metadata": {},
   "outputs": [
    {
     "data": {
      "text/plain": [
       "{'description': 'Data model for a call summary.',\n",
       " 'properties': {'summary': {'description': 'High-level summary of the call transcript. Should not exceed 3 sentences.',\n",
       "   'title': 'Summary',\n",
       "   'type': 'string'},\n",
       "  'products': {'description': 'List of products discussed in the call',\n",
       "   'items': {'type': 'string'},\n",
       "   'title': 'Products',\n",
       "   'type': 'array'},\n",
       "  'rep_name': {'description': 'Name of the sales rep',\n",
       "   'title': 'Rep Name',\n",
       "   'type': 'string'},\n",
       "  'prospect_name': {'description': 'Name of the prospect',\n",
       "   'title': 'Prospect Name',\n",
       "   'type': 'string'},\n",
       "  'action_items': {'description': 'List of action items',\n",
       "   'items': {'type': 'string'},\n",
       "   'title': 'Action Items',\n",
       "   'type': 'array'}},\n",
       " 'required': ['summary',\n",
       "  'products',\n",
       "  'rep_name',\n",
       "  'prospect_name',\n",
       "  'action_items'],\n",
       " 'title': 'CallSummary',\n",
       " 'type': 'object'}"
      ]
     },
     "execution_count": 28,
     "metadata": {},
     "output_type": "execute_result"
    }
   ],
   "source": [
    "CallSummary.model_json_schema()"
   ]
  },
  {
   "cell_type": "code",
   "execution_count": 29,
   "id": "8d828292-1db9-47b2-9653-5095f1cb0363",
   "metadata": {},
   "outputs": [],
   "source": [
    "output = llm.chat(\n",
    "    messages, response_format={\"type\": \"json_object\"}\n",
    ").message.content"
   ]
  },
  {
   "cell_type": "markdown",
   "id": "6ebfa0aa-4c04-4a72-a219-278211f0fc7b",
   "metadata": {},
   "source": [
    "We get a vaid JSON, but it's only regurgitating the schema we specified, and not actually doing the extraction. "
   ]
  },
  {
   "cell_type": "code",
   "execution_count": 30,
   "id": "95cc078a-517e-4c84-8d6c-acb52e246c78",
   "metadata": {},
   "outputs": [
    {
     "data": {
      "text/html": [
       "<pre style=\"white-space:pre;overflow-x:auto;line-height:normal;font-family:Menlo,'DejaVu Sans Mono',consolas,'Courier New',monospace\"><span style=\"font-weight: bold\">{</span>\n",
       "  <span style=\"color: #008000; text-decoration-color: #008000\">\"description\"</span>: <span style=\"color: #008000; text-decoration-color: #008000\">\"Data model for a call summary.\"</span>,\n",
       "  <span style=\"color: #008000; text-decoration-color: #008000\">\"properties\"</span>: <span style=\"font-weight: bold\">{</span>\n",
       "    <span style=\"color: #008000; text-decoration-color: #008000\">\"summary\"</span>: <span style=\"font-weight: bold\">{</span>\n",
       "      <span style=\"color: #008000; text-decoration-color: #008000\">\"description\"</span>: <span style=\"color: #008000; text-decoration-color: #008000\">\"High-level summary of the call transcript. Should not exceed 3 sentences.\"</span>,\n",
       "      <span style=\"color: #008000; text-decoration-color: #008000\">\"title\"</span>: <span style=\"color: #008000; text-decoration-color: #008000\">\"Summary\"</span>,\n",
       "      <span style=\"color: #008000; text-decoration-color: #008000\">\"type\"</span>: <span style=\"color: #008000; text-decoration-color: #008000\">\"string\"</span>\n",
       "    <span style=\"font-weight: bold\">}</span>,\n",
       "    <span style=\"color: #008000; text-decoration-color: #008000\">\"products\"</span>: <span style=\"font-weight: bold\">{</span>\n",
       "      <span style=\"color: #008000; text-decoration-color: #008000\">\"description\"</span>: <span style=\"color: #008000; text-decoration-color: #008000\">\"List of products discussed in the call\"</span>,\n",
       "      <span style=\"color: #008000; text-decoration-color: #008000\">\"items\"</span>: <span style=\"font-weight: bold\">{</span>\n",
       "        <span style=\"color: #008000; text-decoration-color: #008000\">\"type\"</span>: <span style=\"color: #008000; text-decoration-color: #008000\">\"string\"</span>\n",
       "      <span style=\"font-weight: bold\">}</span>,\n",
       "      <span style=\"color: #008000; text-decoration-color: #008000\">\"title\"</span>: <span style=\"color: #008000; text-decoration-color: #008000\">\"Products\"</span>,\n",
       "      <span style=\"color: #008000; text-decoration-color: #008000\">\"type\"</span>: <span style=\"color: #008000; text-decoration-color: #008000\">\"array\"</span>\n",
       "    <span style=\"font-weight: bold\">}</span>,\n",
       "    <span style=\"color: #008000; text-decoration-color: #008000\">\"rep_name\"</span>: <span style=\"font-weight: bold\">{</span>\n",
       "      <span style=\"color: #008000; text-decoration-color: #008000\">\"description\"</span>: <span style=\"color: #008000; text-decoration-color: #008000\">\"Name of the sales rep\"</span>,\n",
       "      <span style=\"color: #008000; text-decoration-color: #008000\">\"title\"</span>: <span style=\"color: #008000; text-decoration-color: #008000\">\"Rep Name\"</span>,\n",
       "      <span style=\"color: #008000; text-decoration-color: #008000\">\"type\"</span>: <span style=\"color: #008000; text-decoration-color: #008000\">\"string\"</span>\n",
       "    <span style=\"font-weight: bold\">}</span>,\n",
       "    <span style=\"color: #008000; text-decoration-color: #008000\">\"prospect_name\"</span>: <span style=\"font-weight: bold\">{</span>\n",
       "      <span style=\"color: #008000; text-decoration-color: #008000\">\"description\"</span>: <span style=\"color: #008000; text-decoration-color: #008000\">\"Name of the prospect\"</span>,\n",
       "      <span style=\"color: #008000; text-decoration-color: #008000\">\"title\"</span>: <span style=\"color: #008000; text-decoration-color: #008000\">\"Prospect Name\"</span>,\n",
       "      <span style=\"color: #008000; text-decoration-color: #008000\">\"type\"</span>: <span style=\"color: #008000; text-decoration-color: #008000\">\"string\"</span>\n",
       "    <span style=\"font-weight: bold\">}</span>,\n",
       "    <span style=\"color: #008000; text-decoration-color: #008000\">\"action_items\"</span>: <span style=\"font-weight: bold\">{</span>\n",
       "      <span style=\"color: #008000; text-decoration-color: #008000\">\"description\"</span>: <span style=\"color: #008000; text-decoration-color: #008000\">\"List of action items\"</span>,\n",
       "      <span style=\"color: #008000; text-decoration-color: #008000\">\"items\"</span>: <span style=\"font-weight: bold\">{</span>\n",
       "        <span style=\"color: #008000; text-decoration-color: #008000\">\"type\"</span>: <span style=\"color: #008000; text-decoration-color: #008000\">\"string\"</span>\n",
       "      <span style=\"font-weight: bold\">}</span>,\n",
       "      <span style=\"color: #008000; text-decoration-color: #008000\">\"title\"</span>: <span style=\"color: #008000; text-decoration-color: #008000\">\"Action Items\"</span>,\n",
       "      <span style=\"color: #008000; text-decoration-color: #008000\">\"type\"</span>: <span style=\"color: #008000; text-decoration-color: #008000\">\"array\"</span>\n",
       "    <span style=\"font-weight: bold\">}</span>\n",
       "  <span style=\"font-weight: bold\">}</span>,\n",
       "  <span style=\"color: #008000; text-decoration-color: #008000\">\"required\"</span>: <span style=\"font-weight: bold\">[</span>\n",
       "    <span style=\"color: #008000; text-decoration-color: #008000\">\"summary\"</span>,\n",
       "    <span style=\"color: #008000; text-decoration-color: #008000\">\"products\"</span>,\n",
       "    <span style=\"color: #008000; text-decoration-color: #008000\">\"rep_name\"</span>,\n",
       "    <span style=\"color: #008000; text-decoration-color: #008000\">\"prospect_name\"</span>,\n",
       "    <span style=\"color: #008000; text-decoration-color: #008000\">\"action_items\"</span>\n",
       "  <span style=\"font-weight: bold\">]</span>,\n",
       "  <span style=\"color: #008000; text-decoration-color: #008000\">\"title\"</span>: <span style=\"color: #008000; text-decoration-color: #008000\">\"CallSummary\"</span>,\n",
       "  <span style=\"color: #008000; text-decoration-color: #008000\">\"type\"</span>: <span style=\"color: #008000; text-decoration-color: #008000\">\"object\"</span>\n",
       "<span style=\"font-weight: bold\">}</span>\n",
       "</pre>\n"
      ],
      "text/plain": [
       "\u001b[1m{\u001b[0m\n",
       "  \u001b[32m\"description\"\u001b[0m: \u001b[32m\"Data model for a call summary.\"\u001b[0m,\n",
       "  \u001b[32m\"properties\"\u001b[0m: \u001b[1m{\u001b[0m\n",
       "    \u001b[32m\"summary\"\u001b[0m: \u001b[1m{\u001b[0m\n",
       "      \u001b[32m\"description\"\u001b[0m: \u001b[32m\"High-level summary of the call transcript. Should not exceed 3 sentences.\"\u001b[0m,\n",
       "      \u001b[32m\"title\"\u001b[0m: \u001b[32m\"Summary\"\u001b[0m,\n",
       "      \u001b[32m\"type\"\u001b[0m: \u001b[32m\"string\"\u001b[0m\n",
       "    \u001b[1m}\u001b[0m,\n",
       "    \u001b[32m\"products\"\u001b[0m: \u001b[1m{\u001b[0m\n",
       "      \u001b[32m\"description\"\u001b[0m: \u001b[32m\"List of products discussed in the call\"\u001b[0m,\n",
       "      \u001b[32m\"items\"\u001b[0m: \u001b[1m{\u001b[0m\n",
       "        \u001b[32m\"type\"\u001b[0m: \u001b[32m\"string\"\u001b[0m\n",
       "      \u001b[1m}\u001b[0m,\n",
       "      \u001b[32m\"title\"\u001b[0m: \u001b[32m\"Products\"\u001b[0m,\n",
       "      \u001b[32m\"type\"\u001b[0m: \u001b[32m\"array\"\u001b[0m\n",
       "    \u001b[1m}\u001b[0m,\n",
       "    \u001b[32m\"rep_name\"\u001b[0m: \u001b[1m{\u001b[0m\n",
       "      \u001b[32m\"description\"\u001b[0m: \u001b[32m\"Name of the sales rep\"\u001b[0m,\n",
       "      \u001b[32m\"title\"\u001b[0m: \u001b[32m\"Rep Name\"\u001b[0m,\n",
       "      \u001b[32m\"type\"\u001b[0m: \u001b[32m\"string\"\u001b[0m\n",
       "    \u001b[1m}\u001b[0m,\n",
       "    \u001b[32m\"prospect_name\"\u001b[0m: \u001b[1m{\u001b[0m\n",
       "      \u001b[32m\"description\"\u001b[0m: \u001b[32m\"Name of the prospect\"\u001b[0m,\n",
       "      \u001b[32m\"title\"\u001b[0m: \u001b[32m\"Prospect Name\"\u001b[0m,\n",
       "      \u001b[32m\"type\"\u001b[0m: \u001b[32m\"string\"\u001b[0m\n",
       "    \u001b[1m}\u001b[0m,\n",
       "    \u001b[32m\"action_items\"\u001b[0m: \u001b[1m{\u001b[0m\n",
       "      \u001b[32m\"description\"\u001b[0m: \u001b[32m\"List of action items\"\u001b[0m,\n",
       "      \u001b[32m\"items\"\u001b[0m: \u001b[1m{\u001b[0m\n",
       "        \u001b[32m\"type\"\u001b[0m: \u001b[32m\"string\"\u001b[0m\n",
       "      \u001b[1m}\u001b[0m,\n",
       "      \u001b[32m\"title\"\u001b[0m: \u001b[32m\"Action Items\"\u001b[0m,\n",
       "      \u001b[32m\"type\"\u001b[0m: \u001b[32m\"array\"\u001b[0m\n",
       "    \u001b[1m}\u001b[0m\n",
       "  \u001b[1m}\u001b[0m,\n",
       "  \u001b[32m\"required\"\u001b[0m: \u001b[1m[\u001b[0m\n",
       "    \u001b[32m\"summary\"\u001b[0m,\n",
       "    \u001b[32m\"products\"\u001b[0m,\n",
       "    \u001b[32m\"rep_name\"\u001b[0m,\n",
       "    \u001b[32m\"prospect_name\"\u001b[0m,\n",
       "    \u001b[32m\"action_items\"\u001b[0m\n",
       "  \u001b[1m]\u001b[0m,\n",
       "  \u001b[32m\"title\"\u001b[0m: \u001b[32m\"CallSummary\"\u001b[0m,\n",
       "  \u001b[32m\"type\"\u001b[0m: \u001b[32m\"object\"\u001b[0m\n",
       "\u001b[1m}\u001b[0m\n"
      ]
     },
     "metadata": {},
     "output_type": "display_data"
    }
   ],
   "source": [
    "print(output)"
   ]
  },
  {
   "cell_type": "markdown",
   "id": "8e6fe7f1-9d76-4ba5-84fb-9414cadce68b",
   "metadata": {},
   "source": [
    "Let's try again by just showing the JSON format we want, instead of specifying the schema"
   ]
  },
  {
   "cell_type": "code",
   "execution_count": 31,
   "id": "c0c20b21-816d-4230-b962-54d6c46ec003",
   "metadata": {},
   "outputs": [],
   "source": [
    "import json\n",
    "\n",
    "prompt = ChatPromptTemplate(\n",
    "    message_templates=[\n",
    "        ChatMessage(\n",
    "            role=\"system\",\n",
    "            content=(\n",
    "                \"You are an expert assitant for summarizing and extracting insights from sales call transcripts.\\n\"\n",
    "                \"Generate a valid JSON in the following format:\\n\"\n",
    "                \"{json_example}\"\n",
    "            ),\n",
    "        ),\n",
    "        ChatMessage(\n",
    "            role=\"user\",\n",
    "            content=(\n",
    "                \"Here is the transcript: \\n\"\n",
    "                \"------\\n\"\n",
    "                \"{transcript}\\n\"\n",
    "                \"------\"\n",
    "            ),\n",
    "        ),\n",
    "    ]\n",
    ")\n",
    "\n",
    "dict_example = {\n",
    "    \"summary\": \"High-level summary of the call transcript. Should not exceed 3 sentences.\",\n",
    "    \"products\": [\"product 1\", \"product 2\"],\n",
    "    \"rep_name\": \"Name of the sales rep\",\n",
    "    \"prospect_name\": \"Name of the prospect\",\n",
    "    \"action_items\": [\"action item 1\", \"action item 2\"],\n",
    "}\n",
    "\n",
    "json_example = json.dumps(dict_example)"
   ]
  },
  {
   "cell_type": "code",
   "execution_count": 32,
   "id": "8a31ff7b-5877-4e19-abf9-a9d0cb857c68",
   "metadata": {},
   "outputs": [],
   "source": [
    "messages = prompt.format_messages(\n",
    "    json_example=json_example, transcript=transcript\n",
    ")"
   ]
  },
  {
   "cell_type": "code",
   "execution_count": 33,
   "id": "67899ba5-0ce6-4b28-9aa1-f228b1309fd4",
   "metadata": {},
   "outputs": [],
   "source": [
    "output = llm.chat(\n",
    "    messages, response_format={\"type\": \"json_object\"}\n",
    ").message.content"
   ]
  },
  {
   "cell_type": "markdown",
   "id": "5a4da5c6-19d1-43ab-9eac-fa87cdb182d3",
   "metadata": {},
   "source": [
    "Now we are able to get the extracted structured data as we expected."
   ]
  },
  {
   "cell_type": "code",
   "execution_count": 35,
   "id": "4217e431-c267-4d13-ab8a-b9c6cb4365b2",
   "metadata": {},
   "outputs": [
    {
     "data": {
      "text/html": [
       "<pre style=\"white-space:pre;overflow-x:auto;line-height:normal;font-family:Menlo,'DejaVu Sans Mono',consolas,'Courier New',monospace\"><span style=\"font-weight: bold\">{</span>\n",
       "  <span style=\"color: #008000; text-decoration-color: #008000\">\"summary\"</span>: <span style=\"color: #008000; text-decoration-color: #008000\">\"Sarah from XYZ Company called John to discuss the new product, the XYZ Widget, which helps streamline</span>\n",
       "<span style=\"color: #008000; text-decoration-color: #008000\">workflow and increase productivity. They agreed to schedule a demo for next week and for John to review case </span>\n",
       "<span style=\"color: #008000; text-decoration-color: #008000\">studies and additional information beforehand.\"</span>,\n",
       "  <span style=\"color: #008000; text-decoration-color: #008000\">\"products\"</span>: <span style=\"font-weight: bold\">[</span><span style=\"color: #008000; text-decoration-color: #008000\">\"XYZ Widget\"</span><span style=\"font-weight: bold\">]</span>,\n",
       "  <span style=\"color: #008000; text-decoration-color: #008000\">\"rep_name\"</span>: <span style=\"color: #008000; text-decoration-color: #008000\">\"Sarah\"</span>,\n",
       "  <span style=\"color: #008000; text-decoration-color: #008000\">\"prospect_name\"</span>: <span style=\"color: #008000; text-decoration-color: #008000\">\"John\"</span>,\n",
       "  <span style=\"color: #008000; text-decoration-color: #008000\">\"action_items\"</span>: <span style=\"font-weight: bold\">[</span><span style=\"color: #008000; text-decoration-color: #008000\">\"Schedule demo for next week\"</span>, <span style=\"color: #008000; text-decoration-color: #008000\">\"Review case studies and additional information\"</span><span style=\"font-weight: bold\">]</span>\n",
       "<span style=\"font-weight: bold\">}</span>\n",
       "</pre>\n"
      ],
      "text/plain": [
       "\u001b[1m{\u001b[0m\n",
       "  \u001b[32m\"summary\"\u001b[0m: \u001b[32m\"Sarah from XYZ Company called John to discuss the new product, the XYZ Widget, which helps streamline\u001b[0m\n",
       "\u001b[32mworkflow and increase productivity. They agreed to schedule a demo for next week and for John to review case \u001b[0m\n",
       "\u001b[32mstudies and additional information beforehand.\"\u001b[0m,\n",
       "  \u001b[32m\"products\"\u001b[0m: \u001b[1m[\u001b[0m\u001b[32m\"XYZ Widget\"\u001b[0m\u001b[1m]\u001b[0m,\n",
       "  \u001b[32m\"rep_name\"\u001b[0m: \u001b[32m\"Sarah\"\u001b[0m,\n",
       "  \u001b[32m\"prospect_name\"\u001b[0m: \u001b[32m\"John\"\u001b[0m,\n",
       "  \u001b[32m\"action_items\"\u001b[0m: \u001b[1m[\u001b[0m\u001b[32m\"Schedule demo for next week\"\u001b[0m, \u001b[32m\"Review case studies and additional information\"\u001b[0m\u001b[1m]\u001b[0m\n",
       "\u001b[1m}\u001b[0m\n"
      ]
     },
     "metadata": {},
     "output_type": "display_data"
    },
    {
     "name": "stderr",
     "output_type": "stream",
     "text": [
      "Bad pipe message: %s [b\")'\\x02y\\xcd\\xed\\x94\\x89~\\xbd\\xef\\xb4\\xfb~\\xf4\\x14M\\n \\x1b\\xbe+\\x1b\\r\\xa3\\xb6\\x07\\xf2f\\xe9\\xc06S\\xb1m\\x0c\\xd4x^\\xe3\\xa8\\xa0\\xc2\\xbf\\x9d\\x10t9hE[\\x00\\x08\\x13\\x02\\x13\\x03\\x13\\x01\\x00\\xff\\x01\\x00\\x00\\x8f\"]\n",
      "Bad pipe message: %s [b\"\\xbck\\xef\\xa3\\xb6\\x84\\xb4\\xb1\\x1f\\xc0\\xa1\\xe9\\xf58E\\x14\\x95\\r\\x00\\x00|\\xc0,\\xc00\\x00\\xa3\\x00\\x9f\\xcc\\xa9\\xcc\\xa8\\xcc\\xaa\\xc0\\xaf\\xc0\\xad\\xc0\\xa3\\xc0\\x9f\\xc0]\\xc0a\\xc0W\\xc0S\\xc0+\\xc0/\\x00\\xa2\\x00\\x9e\\xc0\\xae\\xc0\\xac\\xc0\\xa2\\xc0\\x9e\\xc0\\\\\\xc0`\\xc0V\\xc0R\\xc0$\\xc0(\\x00k\\x00j\\xc0#\\xc0'\\x00g\\x00@\\xc0\\n\\xc0\\x14\\x009\\x008\\xc0\\t\\xc0\\x13\\x003\\x002\\x00\\x9d\\xc0\\xa1\\xc0\\x9d\\xc0Q\\x00\\x9c\\xc0\\xa0\\xc0\\x9c\\xc0P\\x00=\\x00<\\x005\\x00/\\x00\\x9a\\x00\\x99\\xc0\\x07\\xc0\\x11\\x00\\x96\\x00\\x05\\x00\\xff\\x01\\x00\\x00j\\x00\\x00\\x00\\x0e\\x00\\x0c\\x00\\x00\\t127.0.0.1\\x00\\x0b\\x00\\x04\\x03\\x00\\x01\\x02\\x00\\n\\x00\\x0c\\x00\\n\\x00\\x1d\\x00\\x17\\x00\\x1e\\x00\\x19\\x00\\x18\\x00\", b'\\x00\\x00\\x16\\x00\\x00\\x00\\x17\\x00\\x00\\x00\\r\\x000\\x00.\\x04\\x03\\x05\\x03\\x06\\x03\\x08\\x07\\x08\\x08\\x08\\t\\x08\\n\\x08\\x0b\\x08\\x04\\x08']\n",
      "Bad pipe message: %s [b'\\x06\\x04\\x01\\x05']\n",
      "Bad pipe message: %s [b'']\n",
      "Bad pipe message: %s [b'', b'\\x03\\x03']\n",
      "Bad pipe message: %s [b'']\n",
      "Bad pipe message: %s [b'', b'\\x02']\n",
      "Bad pipe message: %s [b';\\x8d\\xd0\\x98E\\xa2J\\xf8\\xcf\\x11\\xaf;\\xc0\\xba#<+\\xa5\\x00\\x00\\xa6\\xc0,\\xc00\\x00\\xa3\\x00\\x9f\\xcc\\xa9\\xcc\\xa8\\xcc\\xaa\\xc0\\xaf\\xc0\\xad\\xc0\\xa3\\xc0\\x9f\\xc0]\\xc0a\\xc0W\\xc0S\\xc0', b\"/\\x00\\xa2\\x00\\x9e\\xc0\\xae\\xc0\\xac\\xc0\\xa2\\xc0\\x9e\\xc0\\\\\\xc0`\\xc0V\\xc0R\\xc0$\\xc0(\\x00k\\x00j\\xc0s\\xc0w\\x00\\xc4\\x00\\xc3\\xc0#\\xc0'\\x00\"]\n",
      "Bad pipe message: %s [b'\\x05\\x02\\x06']\n",
      "Bad pipe message: %s [b'@\\xc0r\\xc0v\\x00\\xbe\\x00\\xbd\\xc0\\n\\xc0\\x14\\x009\\x008\\x00\\x88\\x00\\x87\\xc0\\t\\xc0\\x13\\x003\\x002\\x00\\x9a\\x00\\x99\\x00E\\x00D\\xc0\\x07\\xc0\\x11\\xc0\\x08\\xc0\\x12\\x00\\x16\\x00\\x13\\x00\\x9d\\xc0\\xa1\\xc0\\x9d\\xc0Q\\x00\\x9c\\xc0\\xa0\\xc0\\x9c\\xc0P\\x00=\\x00\\xc0\\x00<\\x00\\xba\\x005\\x00\\x84\\x00/\\x00\\x96\\x00A\\x00\\x05\\x00\\n\\x00\\xff\\x01\\x00\\x00j\\x00\\x00\\x00\\x0e\\x00\\x0c\\x00\\x00\\t']\n",
      "Bad pipe message: %s [b'7.0.0.1\\x00\\x0b\\x00\\x04\\x03\\x00\\x01\\x02\\x00\\n\\x00\\x0c\\x00\\n\\x00\\x1d\\x00\\x17\\x00\\x1e\\x00\\x19\\x00\\x18\\x00#\\x00\\x00\\x00\\x16\\x00\\x00\\x00\\x17\\x00\\x00\\x00\\r\\x000\\x00']\n",
      "Bad pipe message: %s [b'\\x03\\x05\\x03\\x06\\x03\\x08\\x07\\x08\\x08\\x08\\t\\x08\\n\\x08\\x0b\\x08\\x04\\x08\\x05\\x08\\x06\\x04\\x01\\x05\\x01\\x06\\x01\\x03\\x03\\x02\\x03\\x03\\x01\\x02\\x01\\x03\\x02\\x02\\x02\\x04\\x02\\x05\\x02\\x06\\x02']\n",
      "Bad pipe message: %s [b'M\\xaf*8\\xb3\\xed\\xff*\\xd1\\x94]\\xe0\\xa7]ip\\xa7\\x99\\x00\\x00\\xa2\\xc0\\x14\\xc0\\n\\x009\\x008\\x007\\x006\\x00\\x88\\x00\\x87\\x00\\x86\\x00\\x85\\xc0\\x19\\x00:\\x00\\x89\\xc0\\x0f\\xc0\\x05\\x005\\x00\\x84\\xc0\\x13\\xc0\\t\\x003\\x002\\x001\\x000\\x00\\x9a\\x00\\x99\\x00\\x98\\x00\\x97\\x00E\\x00D\\x00C\\x00B\\xc0\\x18\\x004\\x00\\x9b\\x00F\\xc0\\x0e\\xc0\\x04\\x00/\\x00\\x96\\x00A\\x00\\x07\\xc0\\x11\\xc0\\x07\\xc0\\x16\\x00\\x18\\xc0\\x0c\\xc0\\x02\\x00\\x05\\x00']\n",
      "Bad pipe message: %s [b'\\x12\\xc0\\x08']\n",
      "Bad pipe message: %s [b'\\x83\\n\\x1d\\xed\\xe3\\xdb=\\x08\\x95\\x14_d\\xf2{i\\xa8\\xb0\\xd9\\x00\\x00\\xa2\\xc0\\x14\\xc0\\n\\x009\\x008\\x007\\x006\\x00\\x88\\x00\\x87\\x00\\x86\\x00\\x85\\xc0\\x19\\x00:\\x00\\x89\\xc0\\x0f\\xc0\\x05\\x005\\x00\\x84\\xc0\\x13\\xc0\\t\\x003\\x002\\x001\\x000\\x00\\x9a\\x00\\x99\\x00\\x98\\x00\\x97\\x00E\\x00D\\x00C\\x00B\\xc0\\x18\\x004\\x00\\x9b\\x00F\\xc0\\x0e\\xc0\\x04\\x00/\\x00\\x96\\x00A\\x00\\x07\\xc0\\x11\\xc0\\x07\\xc0']\n",
      "Bad pipe message: %s [b'\\x18\\xc0\\x0c\\xc0\\x02\\x00\\x05\\x00\\x04\\xc0\\x12\\xc0\\x08\\x00\\x16\\x00\\x13\\x00\\x10\\x00\\r']\n",
      "Bad pipe message: %s [b\"5|j\\xeb\\\\V\\xc2d\\xcfWXm\\xde\\xf6\\x98<\\x83F\\x00\\x00\\xf4\\xc00\\xc0,\\xc0(\\xc0$\\xc0\\x14\\xc0\\n\\x00\\xa5\\x00\\xa3\\x00\\xa1\\x00\\x9f\\x00k\\x00j\\x00i\\x00h\\x009\\x008\\x007\\x006\\x00\\x88\\x00\\x87\\x00\\x86\\x00\\x85\\xc0\\x19\\x00\\xa7\\x00m\\x00:\\x00\\x89\\xc02\\xc0.\\xc0*\\xc0&\\xc0\\x0f\\xc0\\x05\\x00\\x9d\\x00=\\x005\\x00\\x84\\xc0/\\xc0+\\xc0'\\xc0#\\xc0\\x13\\xc0\\t\\x00\\xa4\\x00\\xa2\\x00\\xa0\\x00\\x9e\\x00g\\x00@\\x00?\\x00>\\x003\\x002\\x001\\x000\\x00\\x9a\\x00\\x99\\x00\\x98\\x00\\x97\\x00E\\x00D\\x00C\\x00B\\xc0\\x18\\x00\\xa6\\x00l\\x004\\x00\\x9b\\x00F\\xc01\\xc0-\\xc0)\\xc0%\\xc0\\x0e\\xc0\\x04\\x00\\x9c\\x00<\\x00/\\x00\\x96\"]\n",
      "Bad pipe message: %s [b'\\xb3A\\x16\\x94\\x8b\\xf4\\x11\\x8a\\xa3g\\x02\\xe3w\\x0f\\xe8\\x9b\\xfd< \\x0f\\n@\\x12\\xe9\\x17\\x0c\\xf0MS\\x17\\x19\\x9d\\xf959\\t\\xdfC8\\xfbQ\\x90\\nF8\\x17\\x839I\\xe6\\xdc\\x00\\x08\\x13\\x02\\x13\\x03\\x13\\x01\\x00\\xff\\x01\\x00\\x00\\x8f\\x00\\x00\\x00\\x0e\\x00\\x0c\\x00\\x00\\t127.0.0.1\\x00\\x0b\\x00\\x04\\x03\\x00\\x01\\x02\\x00\\n\\x00\\x0c\\x00\\n\\x00\\x1d\\x00\\x17\\x00\\x1e\\x00\\x19\\x00\\x18\\x00#\\x00\\x00\\x00\\x16\\x00\\x00\\x00\\x17\\x00\\x00\\x00\\r\\x00\\x1e\\x00\\x1c\\x04\\x03\\x05\\x03\\x06\\x03\\x08\\x07\\x08\\x08\\x08\\t\\x08\\n\\x08\\x0b\\x08\\x04\\x08\\x05\\x08\\x06\\x04\\x01\\x05\\x01\\x06\\x01\\x00+\\x00\\x03\\x02\\x03\\x04\\x00-\\x00\\x02\\x01\\x01\\x003\\x00', b\"$\\x00\\x1d\\x00 1\\xb4\\xd6gW\\x88'_\\x8e\\xf9*ao\\x8c\\xd5!3\\xb7\\x81\\x82\\xca\\xf8\\x99Q\\xc6>\\xe3\\xa5\\t\\xca\\xcc\\x1f\"]\n",
      "Bad pipe message: %s [b'_\\x14\\xb4\\xb1\\x89\\x90\\xcc\\x7f\\x85-\\xce\\x9bG\\xaf\\xa1\\xe9F\\x9f :W\\x8c\\x04t\\x18v\\xb7\\xa7G\\xc68\\xce\\x98\\xb0\\xfaPO!\\x02<\\xd6(\\xc5\\xea8\\xae\\xefi\\xfb\\xd6\\xa8\\x00\\x08\\x13\\x02\\x13\\x03\\x13\\x01\\x00']\n",
      "Bad pipe message: %s [b\"\\x01\\xfa\\xe9\\xb1*\\x92\\xd9\\x11*~\\xf9\\xae)\\x0bV8\\x9d\\xf7\\x00\\x00|\\xc0,\\xc00\\x00\\xa3\\x00\\x9f\\xcc\\xa9\\xcc\\xa8\\xcc\\xaa\\xc0\\xaf\\xc0\\xad\\xc0\\xa3\\xc0\\x9f\\xc0]\\xc0a\\xc0W\\xc0S\\xc0+\\xc0/\\x00\\xa2\\x00\\x9e\\xc0\\xae\\xc0\\xac\\xc0\\xa2\\xc0\\x9e\\xc0\\\\\\xc0`\\xc0V\\xc0R\\xc0$\\xc0(\\x00k\\x00j\\xc0#\\xc0'\\x00g\\x00@\\xc0\\n\\xc0\\x14\\x009\\x008\\xc0\\t\\xc0\\x13\\x003\\x002\\x00\\x9d\\xc0\\xa1\\xc0\\x9d\\xc0Q\\x00\\x9c\\xc0\\xa0\\xc0\\x9c\\xc0P\\x00=\\x00<\\x005\\x00/\\x00\\x9a\\x00\\x99\\xc0\\x07\\xc0\\x11\\x00\\x96\\x00\\x05\\x00\\xff\\x01\\x00\\x00j\\x00\\x00\\x00\\x0e\\x00\\x0c\\x00\\x00\\t127.0.0.1\\x00\\x0b\\x00\\x04\\x03\\x00\\x01\\x02\\x00\\n\\x00\\x0c\\x00\\n\\x00\\x1d\\x00\\x17\\x00\\x1e\\x00\\x19\\x00\\x18\\x00#\\x00\\x00\\x00\\x16\\x00\\x00\\x00\\x17\\x00\\x00\\x00\\r\\x000\\x00.\\x04\\x03\\x05\\x03\\x06\\x03\\x08\\x07\\x08\\x08\\x08\\t\\x08\\n\\x08\\x0b\\x08\\x04\\x08\\x05\", b'\\x04\\x01\\x05\\x01\\x06\\x01\\x03']\n",
      "Bad pipe message: %s [b'\\x03\\x03']\n",
      "Bad pipe message: %s [b'']\n",
      "Bad pipe message: %s [b'', b'\\x02']\n",
      "Bad pipe message: %s [b'B\\x94']\n",
      "Bad pipe message: %s [b'\\x05\\x02\\x06']\n",
      "Bad pipe message: %s [b'\\x88\\x82\\x95?\\x15/\\xad\\xd4xd\\xcd[^^\\xe57S\\x97\\x00\\x00\\xa2\\xc0', b'\\n\\x009\\x008\\x007\\x006\\x00\\x88\\x00\\x87\\x00\\x86\\x00\\x85\\xc0\\x19']\n",
      "Bad pipe message: %s [b'\\x08\\x93\\x99`\\x98R/H=\\xe6f\\x15\\xc8\\x8d\\xe1\\x9c\\x19/\\x00\\x00>\\xc0\\x14\\xc0\\n\\x009\\x008\\x007\\x006\\xc0\\x0f\\xc0\\x05\\x005\\xc0\\x13\\xc0\\t\\x003\\x002\\x001\\x000\\xc0\\x0e\\xc0\\x04\\x00/\\x00\\x9a\\x00\\x99\\x00\\x98\\x00\\x97\\x00\\x96\\x00\\x07\\xc0\\x11\\xc0\\x07\\xc0\\x0c\\xc0\\x02\\x00\\x05\\x00\\x04\\x00\\xff\\x02\\x01\\x00\\x00C\\x00\\x00']\n",
      "Bad pipe message: %s [b'Z\\x1d\\xab\\x90D9u\\xcb\\x18{\\x98&\\x18\\xb5P\\x85\\xfe\\xcf\\x00\\x00\\xa2\\xc0\\x14\\xc0\\n\\x009\\x008\\x007\\x006\\x00\\x88\\x00\\x87\\x00\\x86\\x00\\x85\\xc0\\x19\\x00:\\x00\\x89\\xc0\\x0f\\xc0\\x05\\x005\\x00\\x84\\xc0\\x13\\xc0\\t\\x003\\x002\\x001\\x000\\x00\\x9a\\x00\\x99\\x00\\x98\\x00\\x97\\x00E\\x00D\\x00C\\x00B\\xc0\\x18\\x004\\x00\\x9b\\x00F\\xc0\\x0e\\xc0\\x04\\x00/\\x00\\x96\\x00A\\x00\\x07\\xc0\\x11\\xc0\\x07\\xc0\\x16\\x00\\x18\\xc0\\x0c\\xc0\\x02\\x00\\x05\\x00\\x04\\xc0\\x12\\xc0\\x08\\x00\\x16\\x00\\x13\\x00\\x10\\x00\\r\\xc0\\x17\\x00\\x1b\\xc0', b'\\x03\\x00\\n\\x00\\x15\\x00\\x12\\x00\\x0f\\x00\\x0c\\x00']\n",
      "Bad pipe message: %s [b'\\t\\x00\\x14\\x00\\x11\\x00\\x19\\x00\\x08\\x00\\x06\\x00\\x17\\x00\\x03\\xc0\\x10\\xc0\\x06\\xc0\\x15\\xc0\\x0b\\xc0\\x01']\n",
      "Bad pipe message: %s [b'\\xc5\\x0c\\x05C\\xf1\\xc8\\x03\\x10\\x99>\\xe3\\xc3`\\x90\\xd2\\xa9\\xb0!\\x00\\x00\\x86\\xc00\\xc0,\\xc0(\\xc0$\\xc0\\x14\\xc0\\n\\x00\\xa5\\x00\\xa3\\x00\\xa1\\x00\\x9f\\x00k\\x00j\\x00i\\x00h\\x009\\x008\\x007\\x006\\xc02\\xc0.', b\"\\xc0&\\xc0\\x0f\\xc0\\x05\\x00\\x9d\\x00=\\x005\\xc0/\\xc0+\\xc0'\\xc0#\\xc0\\x13\\xc0\\t\\x00\\xa4\\x00\\xa2\\x00\\xa0\\x00\\x9e\\x00g\\x00@\\x00?\\x00>\\x003\\x002\\x001\\x000\\xc01\\xc0-\\xc0)\\xc0%\\xc0\\x0e\\xc0\\x04\\x00\\x9c\\x00<\\x00/\\x00\\x9a\\x00\\x99\\x00\\x98\\x00\\x97\\x00\\x96\\x00\\x07\\xc0\\x11\\xc0\\x07\\xc0\\x0c\\xc0\\x02\\x00\\x05\\x00\\x04\\x00\\xff\\x02\\x01\\x00\\x00g\\x00\\x00\\x00\\x0e\\x00\\x0c\\x00\\x00\\t127.0.0.1\\x00\\x0b\\x00\\x04\\x03\\x00\\x01\\x02\\x00\\n\\x00\\x1c\\x00\\x1a\\x00\\x17\\x00\\x19\\x00\\x1c\\x00\\x1b\\x00\\x18\\x00\\x1a\\x00\\x16\\x00\\x0e\\x00\\r\\x00\\x0b\\x00\\x0c\\x00\\t\\x00\\n\\x00#\\x00\\x00\\x00\\r\\x00 \\x00\\x1e\\x06\\x01\\x06\\x02\\x06\\x03\\x05\\x01\\x05\\x02\\x05\\x03\\x04\\x01\\x04\\x02\\x04\\x03\\x03\\x01\\x03\\x02\\x03\\x03\\x02\\x01\"]\n",
      "Bad pipe message: %s [b'\\x02']\n",
      "Bad pipe message: %s [b'\\x0f\\x00']\n",
      "Bad pipe message: %s [b\"!\\x13\\xec\\x0eW\\xd0\\x10\\xd6\\xac\\xa4w]\\x12U\\xff\\x8e\\xc2\\xbb\\x00\\x00\\xf4\\xc00\\xc0,\\xc0(\\xc0$\\xc0\\x14\\xc0\\n\\x00\\xa5\\x00\\xa3\\x00\\xa1\\x00\\x9f\\x00k\\x00j\\x00i\\x00h\\x009\\x008\\x007\\x006\\x00\\x88\\x00\\x87\\x00\\x86\\x00\\x85\\xc0\\x19\\x00\\xa7\\x00m\\x00:\\x00\\x89\\xc02\\xc0.\\xc0*\\xc0&\\xc0\\x0f\\xc0\\x05\\x00\\x9d\\x00=\\x005\\x00\\x84\\xc0/\\xc0+\\xc0'\\xc0#\\xc0\\x13\\xc0\\t\\x00\\xa4\\x00\\xa2\\x00\\xa0\\x00\\x9e\\x00g\\x00@\\x00?\\x00>\\x003\\x002\\x001\\x000\\x00\\x9a\\x00\\x99\\x00\\x98\\x00\\x97\\x00E\\x00D\\x00C\\x00B\\xc0\\x18\\x00\\xa6\\x00l\\x004\\x00\\x9b\\x00F\\xc01\\xc0-\\xc0)\\xc0\"]\n",
      "Bad pipe message: %s [b'\\x0e\\xc0\\x04\\x00\\x9c\\x00<\\x00/\\x00\\x96\\x00A\\x00\\x07\\xc0\\x11\\xc0\\x07\\xc0\\x16\\x00\\x18\\xc0\\x0c\\xc0\\x02\\x00\\x05\\x00\\x04\\xc0\\x12\\xc0\\x08\\x00']\n",
      "Bad pipe message: %s [b'\\x13\\x00\\x10\\x00\\r\\xc0\\x17\\x00\\x1b\\xc0\\r\\xc0\\x03\\x00\\n\\x00\\x15\\x00\\x12\\x00\\x0f']\n",
      "Bad pipe message: %s [b'\\xe8\\xd3\\xdc4o\\x16\\xa6', b\"\\xf3\\xe8\\xd3 \\xeb\\x19\\xda\\xae\\xcf\\x00\\x00|\\xc0,\\xc00\\x00\\xa3\\x00\\x9f\\xcc\\xa9\\xcc\\xa8\\xcc\\xaa\\xc0\\xaf\\xc0\\xad\\xc0\\xa3\\xc0\\x9f\\xc0]\\xc0a\\xc0W\\xc0S\\xc0+\\xc0/\\x00\\xa2\\x00\\x9e\\xc0\\xae\\xc0\\xac\\xc0\\xa2\\xc0\\x9e\\xc0\\\\\\xc0`\\xc0V\\xc0R\\xc0$\\xc0(\\x00k\\x00j\\xc0#\\xc0'\\x00g\\x00@\\xc0\\n\\xc0\\x14\\x009\\x008\\xc0\\t\\xc0\\x13\\x003\"]\n",
      "Bad pipe message: %s [b'\\x9e\\xa0\\x82\\x0cf&\\xbd_)\\x9e85\\xaf\\xda-~\\xa9\\xde\\x00\\x00\\xa2\\xc0\\x14\\xc0\\n\\x009\\x008\\x007\\x006\\x00\\x88\\x00\\x87\\x00\\x86\\x00\\x85\\xc0\\x19\\x00:\\x00\\x89\\xc0\\x0f\\xc0\\x05\\x005\\x00\\x84\\xc0\\x13\\xc0\\t\\x003\\x002\\x001\\x000\\x00\\x9a\\x00\\x99\\x00\\x98\\x00\\x97\\x00E\\x00D\\x00C\\x00B\\xc0\\x18\\x004\\x00\\x9b\\x00F\\xc0\\x0e\\xc0\\x04\\x00/\\x00\\x96\\x00A\\x00\\x07\\xc0\\x11\\xc0\\x07\\xc0\\x16\\x00\\x18\\xc0\\x0c\\xc0\\x02\\x00\\x05\\x00\\x04\\xc0\\x12\\xc0\\x08\\x00\\x16\\x00\\x13\\x00']\n",
      "Bad pipe message: %s [b'\\r\\xc0\\x17\\x00\\x1b\\xc0\\r\\xc0\\x03\\x00\\n\\x00\\x15\\x00\\x12']\n",
      "Bad pipe message: %s [b'\\xf3.\\xdc\\xb8\\xc9ZJ\\x8cj\\xa7m\\x88\\xef\\x96,\\xd9Aq\\x00\\x00>\\xc0\\x14\\xc0\\n\\x009\\x008\\x007\\x006\\xc0\\x0f\\xc0\\x05\\x005\\xc0\\x13\\xc0\\t\\x003\\x002\\x001\\x000\\xc0\\x0e\\xc0\\x04\\x00/\\x00\\x9a\\x00\\x99\\x00\\x98\\x00\\x97\\x00\\x96\\x00\\x07\\xc0\\x11\\xc0\\x07\\xc0\\x0c\\xc0\\x02\\x00\\x05\\x00\\x04\\x00\\xff\\x02\\x01\\x00\\x00C\\x00\\x00\\x00\\x0e\\x00\\x0c\\x00\\x00\\t127.0.0.1\\x00\\x0b\\x00\\x04\\x03\\x00\\x01\\x02\\x00\\n\\x00\\x1c\\x00\\x1a\\x00\\x17\\x00\\x19\\x00\\x1c\\x00\\x1b\\x00', b'\\x1a\\x00\\x16\\x00\\x0e\\x00\\r\\x00\\x0b\\x00\\x0c\\x00\\t\\x00\\n\\x00#\\x00\\x00\\x00\\x0f\\x00\\x01']\n",
      "Bad pipe message: %s [b':\\xd5\\xfb\\xa7\\x88\\xa6\\x832']\n",
      "Bad pipe message: %s [b'0\\xa2\\xbf\\x9bS-f\\xb3\\x00\\x00\\xa2\\xc0\\x14\\xc0\\n\\x009\\x008\\x007\\x006\\x00\\x88\\x00\\x87\\x00\\x86\\x00\\x85\\xc0\\x19\\x00:\\x00\\x89\\xc0\\x0f\\xc0\\x05\\x005\\x00\\x84\\xc0\\x13\\xc0\\t\\x003\\x002\\x001\\x000\\x00\\x9a\\x00\\x99\\x00\\x98\\x00\\x97\\x00E\\x00D\\x00C\\x00B\\xc0\\x18\\x004\\x00\\x9b\\x00F\\xc0\\x0e\\xc0\\x04\\x00/\\x00\\x96\\x00A\\x00\\x07\\xc0\\x11\\xc0\\x07\\xc0\\x16\\x00\\x18\\xc0\\x0c\\xc0\\x02\\x00\\x05\\x00\\x04\\xc0\\x12\\xc0\\x08\\x00\\x16\\x00\\x13\\x00\\x10\\x00\\r\\xc0\\x17\\x00\\x1b\\xc0\\r\\xc0\\x03\\x00\\n\\x00', b'\\x12\\x00\\x0f\\x00\\x0c\\x00\\x1a\\x00\\t\\x00\\x14\\x00\\x11\\x00\\x19\\x00\\x08\\x00\\x06\\x00']\n",
      "Bad pipe message: %s [b'\\x03\\xc0\\x10\\xc0\\x06\\xc0\\x15\\xc0\\x0b\\xc0\\x01\\x00\\x02\\x00\\x01\\x00\\xff\\x02\\x01\\x00\\x00C']\n",
      "Bad pipe message: %s [b'\\xeb\\xbcV\\xad\\x88-\\x7f\\x83\\xe6\\x9d\\xe9eSi\\x01\\x01\\xf7\\x9d\\x00\\x00>\\xc0\\x14\\xc0\\n\\x009\\x008\\x007\\x006\\xc0\\x0f\\xc0\\x05\\x005\\xc0\\x13\\xc0\\t\\x003\\x002\\x001\\x000\\xc0\\x0e\\xc0\\x04\\x00/\\x00\\x9a\\x00\\x99\\x00']\n",
      "Bad pipe message: %s [b'\\x16[\\x11uq\\xcf;\\xa8\\xc1\\xcdT6\\x92\\xa1y\\xc3]{\\x00\\x00\\xa2\\xc0\\x14\\xc0\\n\\x009\\x008\\x007\\x006\\x00\\x88\\x00\\x87\\x00\\x86\\x00\\x85\\xc0\\x19\\x00:\\x00\\x89\\xc0\\x0f\\xc0', b'5\\x00\\x84\\xc0']\n",
      "Bad pipe message: %s [b'\\t\\x003\\x002\\x001\\x000\\x00\\x9a\\x00\\x99\\x00\\x98\\x00\\x97\\x00']\n",
      "Bad pipe message: %s [b'D\\x00C\\x00B\\xc0\\x18\\x004\\x00\\x9b\\x00F\\xc0\\x0e\\xc0\\x04\\x00/\\x00\\x96\\x00A\\x00\\x07\\xc0\\x11\\xc0\\x07\\xc0\\x16\\x00\\x18\\xc0\\x0c\\xc0\\x02\\x00\\x05\\x00\\x04\\xc0\\x12\\xc0\\x08\\x00\\x16\\x00\\x13\\x00\\x10\\x00\\r\\xc0\\x17\\x00\\x1b\\xc0\\r\\xc0\\x03\\x00\\n\\x00\\x15\\x00\\x12\\x00']\n",
      "Bad pipe message: %s [b'\\x0c\\x00\\x1a\\x00\\t\\x00\\x14\\x00\\x11\\x00\\x19\\x00\\x08\\x00']\n",
      "Bad pipe message: %s [b'\\x17\\x00\\x03\\xc0\\x10']\n",
      "Bad pipe message: %s [b\"\\x9dU\\x14\\x9c\\xfe\\xfeq\\xf7\\xb9\\xd8\\x98C\\x97\\x93c\\x13\\xce\\xb2\\x00\\x00\\x86\\xc00\\xc0,\\xc0(\\xc0$\\xc0\\x14\\xc0\\n\\x00\\xa5\\x00\\xa3\\x00\\xa1\\x00\\x9f\\x00k\\x00j\\x00i\\x00h\\x009\\x008\\x007\\x006\\xc02\\xc0.\\xc0*\\xc0&\\xc0\\x0f\\xc0\\x05\\x00\\x9d\\x00=\\x005\\xc0/\\xc0+\\xc0'\\xc0#\\xc0\\x13\\xc0\\t\\x00\\xa4\\x00\\xa2\\x00\\xa0\\x00\\x9e\\x00g\\x00@\\x00?\\x00>\\x003\\x002\\x001\\x00\"]\n",
      "Bad pipe message: %s [b'1\\xc0-\\xc0)\\xc0%\\xc0\\x0e\\xc0\\x04\\x00\\x9c\\x00<\\x00/\\x00\\x9a\\x00\\x99\\x00\\x98\\x00\\x97\\x00\\x96\\x00\\x07\\xc0\\x11\\xc0\\x07\\xc0\\x0c\\xc0\\x02\\x00\\x05\\x00\\x04\\x00\\xff\\x02\\x01\\x00\\x00']\n",
      "Bad pipe message: %s [b'\\x00\\x00\\x0e\\x00\\x0c\\x00\\x00\\t127.0.0.1\\x00\\x0b\\x00\\x04\\x03\\x00\\x01\\x02\\x00\\n\\x00\\x1c\\x00\\x1a\\x00\\x17\\x00\\x19\\x00\\x1c\\x00\\x1b\\x00\\x18\\x00\\x1a\\x00\\x16\\x00\\x0e\\x00\\r\\x00\\x0b\\x00\\x0c\\x00\\t\\x00\\n\\x00#\\x00\\x00\\x00\\r\\x00 \\x00\\x1e\\x06\\x01\\x06\\x02\\x06\\x03\\x05\\x01\\x05\\x02\\x05\\x03\\x04\\x01\\x04\\x02\\x04\\x03\\x03\\x01\\x03\\x02\\x03\\x03\\x02\\x01\\x02\\x02\\x02\\x03\\x00\\x0f\\x00\\x01\\x01']\n",
      "Bad pipe message: %s [b'\\x06\\x03\\xb9n\\x8f\\x1e\\xa2G\\x8c\\x18[\\xc7\\xb3\\x8fJ\\x03\\x81\\xa8\\x00\\x00\\xf4\\xc00\\xc0,\\xc0(\\xc0$\\xc0\\x14\\xc0']\n",
      "Bad pipe message: %s [b'\\xa5\\x00\\xa3\\x00\\xa1\\x00\\x9f\\x00k']\n",
      "Bad pipe message: %s [b'\\xea\\x9c6\\r\\xdd*,\\x11\\xf6\\xd4\\xaf\\x82\\x00v\\xfdJ\\x8ew \\xefr\\xc3\\xb6\\xe0sL3\\xd0\\xbf\\x1b\\xce/\\x81\\xa2V2\\xf5\\x9f\\x88l\\x08\\xdc\\xc6\\xef\\xa7\\xd5\\xc3O~\\xccB\\x00\\x08\\x13\\x02\\x13\\x03\\x13\\x01\\x00\\xff\\x01\\x00\\x00\\x8f\\x00\\x00\\x00\\x0e\\x00\\x0c\\x00\\x00\\t', b'7.0.0.1\\x00\\x0b\\x00\\x04\\x03\\x00\\x01\\x02\\x00\\n\\x00\\x0c\\x00\\n\\x00\\x1d\\x00\\x17\\x00\\x1e\\x00\\x19\\x00\\x18\\x00#\\x00\\x00\\x00\\x16\\x00\\x00\\x00\\x17\\x00\\x00\\x00\\r\\x00\\x1e\\x00']\n",
      "Bad pipe message: %s [b'\\x03\\x05\\x03\\x06\\x03\\x08\\x07\\x08\\x08\\x08\\t\\x08\\n\\x08\\x0b\\x08\\x04\\x08\\x05\\x08\\x06\\x04\\x01\\x05\\x01\\x06\\x01']\n",
      "Bad pipe message: %s [b'b\\x12\\xe8H\\x1d\\xfb\\xc3V\\xbb:]\\xf3\\xc4\\x15\\xb4\\xee\\x1f\\xaa\\x00\\x00|\\xc0,\\xc00\\x00\\xa3\\x00\\x9f\\xcc\\xa9\\xcc\\xa8\\xcc\\xaa\\xc0\\xaf\\xc0\\xad\\xc0\\xa3\\xc0', b\"]\\xc0a\\xc0W\\xc0S\\xc0+\\xc0/\\x00\\xa2\\x00\\x9e\\xc0\\xae\\xc0\\xac\\xc0\\xa2\\xc0\\x9e\\xc0\\\\\\xc0`\\xc0V\\xc0R\\xc0$\\xc0(\\x00k\\x00j\\xc0#\\xc0'\\x00g\\x00@\\xc0\\n\\xc0\\x14\\x009\\x008\\xc0\\t\\xc0\\x13\\x003\\x002\\x00\\x9d\\xc0\\xa1\\xc0\\x9d\\xc0Q\\x00\\x9c\\xc0\\xa0\\xc0\\x9c\\xc0P\\x00=\\x00<\\x005\\x00/\\x00\\x9a\\x00\\x99\\xc0\\x07\\xc0\\x11\\x00\\x96\\x00\\x05\\x00\\xff\\x01\\x00\\x00j\\x00\\x00\\x00\\x0e\\x00\\x0c\\x00\\x00\\t127.0.0.1\\x00\\x0b\\x00\\x04\\x03\\x00\\x01\\x02\\x00\\n\\x00\\x0c\\x00\\n\\x00\\x1d\\x00\\x17\\x00\\x1e\\x00\\x19\\x00\\x18\\x00#\\x00\\x00\\x00\\x16\\x00\\x00\\x00\\x17\\x00\"]\n",
      "Bad pipe message: %s [b'~W0\\x9c\\x82\\xa2\\x9crlsm\\xeeNEn\\xfa\\x86\\xf4\\x00\\x00\\xa6\\xc0,\\xc00\\x00\\xa3\\x00\\x9f\\xcc\\xa9\\xcc\\xa8\\xcc\\xaa\\xc0\\xaf\\xc0\\xad\\xc0\\xa3\\xc0\\x9f\\xc0]\\xc0a\\xc0W\\xc0S\\xc0+\\xc0/\\x00\\xa2\\x00\\x9e\\xc0\\xae\\xc0\\xac\\xc0\\xa2\\xc0\\x9e\\xc0\\\\\\xc0']\n",
      "Bad pipe message: %s [b\"V\\xc0R\\xc0$\\xc0(\\x00k\\x00j\\xc0s\\xc0w\\x00\\xc4\\x00\\xc3\\xc0#\\xc0'\\x00g\\x00@\\xc0r\\xc0v\\x00\\xbe\\x00\\xbd\\xc0\\n\\xc0\\x14\\x009\\x008\\x00\\x88\\x00\\x87\\xc0\\t\\xc0\\x13\\x003\\x002\\x00\\x9a\\x00\\x99\\x00E\\x00D\\xc0\\x07\\xc0\\x11\\xc0\\x08\\xc0\\x12\\x00\\x16\\x00\\x13\\x00\\x9d\\xc0\\xa1\\xc0\\x9d\\xc0Q\\x00\\x9c\\xc0\\xa0\\xc0\\x9c\\xc0P\\x00=\\x00\\xc0\"]\n",
      "Bad pipe message: %s [b'M\\xcch,\\xe2]\\xda\\x95\\xe9#!\\xd6\\xcf\\xe6\\xcd\\x9e\\xfd\\x05\\x00\\x00>\\xc0\\x14\\xc0\\n\\x009\\x008\\x007\\x006\\xc0\\x0f\\xc0\\x05\\x005\\xc0']\n",
      "Bad pipe message: %s [b'\\t\\x003\\x002\\x001\\x000\\xc0\\x0e\\xc0\\x04\\x00/\\x00\\x9a\\x00']\n",
      "Bad pipe message: %s [b'\\xdaE_#\\xa2\\x99;Ve\\x81\\x81\\x0f\\xa1\\xb0@A\\xc1\\x00']\n",
      "Bad pipe message: %s [b'd\\xa7\\xeb\\x82\"M\\xeb\\xb6b\\xe1i\\xa3\\xe9\\xa6\\xc6\\x8f\\x87y\\x00\\x00\\xa2\\xc0\\x14\\xc0\\n\\x009\\x008\\x007\\x006\\x00\\x88\\x00\\x87\\x00\\x86\\x00\\x85\\xc0\\x19\\x00:\\x00\\x89\\xc0\\x0f\\xc0\\x05\\x005\\x00\\x84\\xc0\\x13\\xc0\\t\\x003\\x002\\x001\\x000\\x00\\x9a\\x00\\x99\\x00\\x98\\x00\\x97\\x00E\\x00D\\x00C\\x00B\\xc0\\x18\\x004\\x00\\x9b\\x00F\\xc0\\x0e\\xc0\\x04\\x00/\\x00\\x96\\x00A\\x00\\x07\\xc0\\x11\\xc0\\x07\\xc0\\x16\\x00\\x18\\xc0\\x0c\\xc0\\x02\\x00\\x05\\x00\\x04\\xc0\\x12\\xc0\\x08\\x00\\x16\\x00\\x13\\x00\\x10\\x00\\r\\xc0\\x17\\x00\\x1b\\xc0\\r\\xc0\\x03\\x00\\n\\x00\\x15\\x00\\x12\\x00\\x0f\\x00\\x0c\\x00\\x1a\\x00\\t\\x00\\x14\\x00\\x11\\x00\\x19\\x00\\x08\\x00\\x06\\x00\\x17\\x00\\x03\\xc0\\x10\\xc0\\x06\\xc0\\x15\\xc0\\x0b\\xc0\\x01\\x00\\x02\\x00\\x01\\x00\\xff\\x02\\x01\\x00\\x00C\\x00\\x00\\x00\\x0e\\x00\\x0c\\x00\\x00\\t127.0.0']\n",
      "Bad pipe message: %s [b'\\xd96u\\xca\\xce\\x9e\\x9c\\xc92*\\xfd\\xb4\\x00T\\xfe\\xf9\\x81\\x1c\\x00\\x00>\\xc0\\x14\\xc0\\n\\x009\\x008\\x007\\x00', b'\\x0f\\xc0\\x05\\x005\\xc0\\x13\\xc0\\t\\x003\\x002\\x001\\x000\\xc0\\x0e\\xc0\\x04\\x00/\\x00\\x9a\\x00\\x99\\x00\\x98\\x00\\x97\\x00\\x96\\x00\\x07\\xc0\\x11\\xc0\\x07\\xc0\\x0c\\xc0\\x02\\x00\\x05\\x00\\x04\\x00\\xff\\x02\\x01\\x00\\x15']\n",
      "Bad pipe message: %s [b'\\x00\\x02']\n",
      "Bad pipe message: %s [b'\\x08E*\\xc1\\xbb\\x9f\\xaf4\\x98)\\x1f\\x7f\\xb9,.\\x92\\xe5p\\x00\\x00\\xa2\\xc0\\x14\\xc0\\n\\x009\\x008\\x007\\x006\\x00\\x88\\x00\\x87\\x00\\x86\\x00\\x85\\xc0\\x19\\x00:\\x00\\x89\\xc0\\x0f\\xc0\\x05\\x005\\x00\\x84\\xc0\\x13\\xc0\\t\\x003\\x002\\x001\\x000\\x00\\x9a\\x00\\x99\\x00\\x98\\x00\\x97\\x00E\\x00D\\x00C\\x00B\\xc0\\x18\\x004\\x00\\x9b\\x00F\\xc0\\x0e\\xc0\\x04\\x00/\\x00\\x96\\x00A\\x00\\x07\\xc0\\x11\\xc0\\x07\\xc0\\x16\\x00\\x18\\xc0\\x0c\\xc0\\x02\\x00\\x05\\x00\\x04\\xc0\\x12\\xc0\\x08\\x00\\x16\\x00\\x13\\x00\\x10\\x00\\r\\xc0\\x17\\x00\\x1b\\xc0\\r\\xc0\\x03\\x00\\n\\x00\\x15\\x00\\x12\\x00\\x0f\\x00\\x0c\\x00\\x1a\\x00\\t\\x00\\x14\\x00\\x11\\x00\\x19\\x00\\x08\\x00\\x06\\x00\\x17\\x00\\x03\\xc0\\x10\\xc0\\x06\\xc0\\x15\\xc0\\x0b\\xc0\\x01\\x00\\x02']\n",
      "Bad pipe message: %s [b'#Q{0<\\xb2\\\\\\x8b\\xf5Y\\x97<\\xb6\\xb4.)Da\\x00\\x00\\x86\\xc00\\xc0,\\xc0(\\xc0$\\xc0\\x14\\xc0\\n\\x00\\xa5\\x00\\xa3\\x00\\xa1\\x00\\x9f\\x00k\\x00j\\x00i\\x00h\\x009\\x008']\n"
     ]
    }
   ],
   "source": [
    "print(output)"
   ]
  },
  {
   "cell_type": "markdown",
   "id": "80956b6e-3f3e-41a9-af34-b3cb4753f615",
   "metadata": {},
   "source": [
    "### Quick Takeaways"
   ]
  },
  {
   "cell_type": "markdown",
   "id": "0c97a2d1-a318-4764-97f9-385ddf2a28d6",
   "metadata": {},
   "source": [
    "* Function calling remains easier to use for structured data extraction (especially if you have already specified your schema as e.g. a pydantic model)\n",
    "* While JSON mode enforces the format of the output, it does not help with validation against a specified schema. Directly passing in a schema may not generate expected JSON and may require additional careful formatting and prompting."
   ]
  }
 ],
 "metadata": {
  "kernelspec": {
   "display_name": "openai",
   "language": "python",
   "name": "openai"
  },
  "language_info": {
   "codemirror_mode": {
    "name": "ipython",
    "version": 3
   },
   "file_extension": ".py",
   "mimetype": "text/x-python",
   "name": "python",
   "nbconvert_exporter": "python",
   "pygments_lexer": "ipython3",
   "version": "3.10.13"
  }
 },
 "nbformat": 4,
 "nbformat_minor": 5
}
