{
 "cells": [
  {
   "cell_type": "code",
   "execution_count": 3,
   "id": "b44dbef6-1b12-47bb-9627-ad6e10c991b4",
   "metadata": {},
   "outputs": [
    {
     "name": "stdout",
     "output_type": "stream",
     "text": [
      "The autoreload extension is already loaded. To reload it, use:\n",
      "  %reload_ext autoreload\n"
     ]
    }
   ],
   "source": [
    "%load_ext autoreload\n",
    "%autoreload 2\n",
    "\n",
    "from warnings import filterwarnings\n",
    "filterwarnings('ignore')\n",
    "\n",
    "#load from local .env file\n",
    "from dotenv import load_dotenv, find_dotenv\n",
    "load_dotenv(find_dotenv(), override=True)\n",
    "\n",
    "import sys\n",
    "sys.path.append('..')\n",
    "\n",
    "#standard libraries\n",
    "import json\n",
    "import os\n",
    "import time\n",
    "import re\n",
    "\n",
    "#external files\n",
    "from src.preprocessor.preprocessing import FileIO\n",
    "from src.database.weaviate_interface_v4 import WeaviateWCS\n",
    "from src.database.database_utils import get_weaviate_client\n",
    "from src.llm.llm_interface import LLM\n",
    "from src.llm.prompt_templates import huberman_system_prompt\n",
    "from app_features import generate_prompt_series\n",
    "\n",
    "from concurrent.futures import ThreadPoolExecutor, as_completed\n",
    "from src.reranker import ReRanker"
   ]
  },
  {
   "cell_type": "markdown",
   "id": "9b82f67f-bf64-47d7-b587-13b7b1579242",
   "metadata": {},
   "source": [
    "### Set Constants"
   ]
  },
  {
   "cell_type": "code",
   "execution_count": 16,
   "id": "c4e20088-d7d8-4df6-b83a-7442b5904fad",
   "metadata": {},
   "outputs": [],
   "source": [
    "client = get_weaviate_client()\n",
    "client._client.close()\n",
    "client.return_properties = client.return_properties + ['short_description']\n",
    "collection_name = 'Huberman_minilm_128'\n",
    "llm = LLM('gpt-3.5-turbo')\n",
    "reranker = ReRanker()\n",
    "initial_query = 'How can advancements in AI improve human health'"
   ]
  },
  {
   "cell_type": "code",
   "execution_count": 17,
   "id": "2dfb7315-4862-443b-bbcd-cb8a06f7ac7f",
   "metadata": {},
   "outputs": [
    {
     "data": {
      "text/plain": [
       "['title', 'video_id', 'content', 'guest', 'doc_id', 'short_description']"
      ]
     },
     "execution_count": 17,
     "metadata": {},
     "output_type": "execute_result"
    }
   ],
   "source": [
    "client.return_properties"
   ]
  },
  {
   "cell_type": "markdown",
   "id": "f64a8a56-e46e-43dd-8874-302c76f9f7b8",
   "metadata": {},
   "source": [
    "#### Prompt Message"
   ]
  },
  {
   "cell_type": "code",
   "execution_count": 18,
   "id": "496d9314-18bb-42df-9042-481859e1b4e5",
   "metadata": {},
   "outputs": [
    {
     "name": "stdout",
     "output_type": "stream",
     "text": [
      "\n",
      "You are an AI language model assistant. Your task is to generate 3\n",
      "different versions of the given user question to retrieve relevant documents from a vector \n",
      "database. By generating multiple perspectives on the user question, your goal is to help\n",
      "the user overcome some of the limitations of the distance-based similarity search. \n",
      "Provide these alternative questions separated by newlines.\n",
      "\n",
      "Original question: How can advancements in AI improve human health\n",
      "\n"
     ]
    }
   ],
   "source": [
    "system_msg = \"\"\"\n",
    "You are an AI language model assistant. Your task is to generate {n}\n",
    "different versions of the given user question to retrieve relevant documents from a vector \n",
    "database. By generating multiple perspectives on the user question, your goal is to help\n",
    "the user overcome some of the limitations of the distance-based similarity search. \n",
    "Provide these alternative questions separated by newlines.\\n\\nOriginal question: {question}\n",
    "\"\"\".format(n=3, question=initial_query)\n",
    "\n",
    "print(system_msg)"
   ]
  },
  {
   "cell_type": "markdown",
   "id": "6ab24885-c156-443c-9f1b-78d9d21e0638",
   "metadata": {},
   "source": [
    "### Stage - 1: Query Rewrite"
   ]
  },
  {
   "cell_type": "code",
   "execution_count": 19,
   "id": "4729d902-4ac8-4fdd-beb3-53da04e8c357",
   "metadata": {},
   "outputs": [],
   "source": [
    "response = llm.chat_completion(system_msg, temperature=1.0, raw_response=False)"
   ]
  },
  {
   "cell_type": "code",
   "execution_count": 20,
   "id": "fe1b2398-bfe9-49e4-8f27-47a0362d2451",
   "metadata": {},
   "outputs": [
    {
     "data": {
      "text/plain": [
       "['What impact do AI advancements have on enhancing human health outcomes?',\n",
       " 'How are AI innovations contributing to the improvement of human health?',\n",
       " 'In what ways can AI progress positively influence human health and well-being?']"
      ]
     },
     "execution_count": 20,
     "metadata": {},
     "output_type": "execute_result"
    }
   ],
   "source": [
    "response.split('\\n')"
   ]
  },
  {
   "cell_type": "code",
   "execution_count": 21,
   "id": "cf054d51-e918-44e2-9348-32bf35f18aab",
   "metadata": {},
   "outputs": [
    {
     "data": {
      "text/plain": [
       "['What impact do AI advancements have on enhancing human health outcomes?',\n",
       " 'How are AI innovations contributing to the improvement of human health?',\n",
       " 'In what ways can AI progress positively influence human health and well-being?',\n",
       " 'How can advancements in AI improve human health']"
      ]
     },
     "execution_count": 21,
     "metadata": {},
     "output_type": "execute_result"
    }
   ],
   "source": [
    "#parse questions\n",
    "questions = [\n",
    "                re.sub(r\"^[-\\d]+[\\).\\s]\", \"\", question).strip() for question in response.split('\\n')\n",
    "            ]\n",
    "questions.append(initial_query)\n",
    "questions"
   ]
  },
  {
   "cell_type": "markdown",
   "id": "8baa866a-4d73-47ce-976b-30483bf942c0",
   "metadata": {},
   "source": [
    "### Stage - 2: Call N number of Retriever Calls"
   ]
  },
  {
   "cell_type": "code",
   "execution_count": 72,
   "id": "a1e696c1-30db-4ecc-b88a-844277868e87",
   "metadata": {},
   "outputs": [],
   "source": [
    "def multi_query(queries: list[str], \n",
    "                client: WeaviateWCS, \n",
    "                limit: int=3, \n",
    "                threaded: bool=False\n",
    "               ) -> list[dict]:\n",
    "    results = []\n",
    "    if threaded:\n",
    "        with ThreadPoolExecutor(max_workers=len(queries)) as executor:\n",
    "            futures = [executor.submit(client.hybrid_search, q, collection_name, limit=limit) for q in queries]\n",
    "            for future in as_completed(futures):\n",
    "                results.append(future.result())\n",
    "    else:\n",
    "        results = [client.hybrid_search(q, collection_name, limit=limit) for q in queries]\n",
    "    client._client.close()\n",
    "    return results"
   ]
  },
  {
   "cell_type": "code",
   "execution_count": 73,
   "id": "1823fbcb-0a69-47f0-b7c7-785ea170f298",
   "metadata": {},
   "outputs": [
    {
     "name": "stdout",
     "output_type": "stream",
     "text": [
      "CPU times: user 128 ms, sys: 11 ms, total: 139 ms\n",
      "Wall time: 1.84 s\n"
     ]
    }
   ],
   "source": [
    "%%time\n",
    "single_query_docs = client.hybrid_search(initial_query, collection_name, limit=40)\n",
    "docs = multi_query(questions, client, limit=10)"
   ]
  },
  {
   "cell_type": "markdown",
   "id": "ccd0bc36-8d5b-4c02-a887-9e53380cb2f0",
   "metadata": {},
   "source": [
    "### Stage 3 - Deduplicate Docs"
   ]
  },
  {
   "cell_type": "code",
   "execution_count": 74,
   "id": "d9c08e34-9412-4b8d-87c2-97a16d18c8bf",
   "metadata": {},
   "outputs": [],
   "source": [
    "def dedupe_docs(results: list[list[dict]]) -> list[dict]:\n",
    "    '''\n",
    "    Returns a list of unique documents sorted by \"Score\" value.\n",
    "    '''\n",
    "    results = [r for alist in results for r in alist]\n",
    "    unique_docs = {d['doc_id']:d for d in results}\n",
    "    sorted_unique = sorted([v for k,v in unique_docs.items()], key=lambda x: x['score'], reverse=True)\n",
    "    return sorted_unique"
   ]
  },
  {
   "cell_type": "code",
   "execution_count": 76,
   "id": "512a015b-10e0-41a5-9fb5-52e696350d1b",
   "metadata": {},
   "outputs": [
    {
     "name": "stdout",
     "output_type": "stream",
     "text": [
      "Before: 40\n",
      "After: 19\n"
     ]
    }
   ],
   "source": [
    "print(f'Before: {len([r for alist in docs for r in alist])}')\n",
    "unique_docs = dedupe_docs(docs)\n",
    "print(f'After: {len(unique_docs)}')"
   ]
  },
  {
   "cell_type": "markdown",
   "id": "2a3bfec6-a6e2-47f4-8587-063f999a1dd5",
   "metadata": {},
   "source": [
    "### Stage 4 - ReRank results"
   ]
  },
  {
   "cell_type": "code",
   "execution_count": 107,
   "id": "315199c1-f99b-4f50-9fa5-8cb796db67ca",
   "metadata": {},
   "outputs": [],
   "source": [
    "def reciprocal_rank_fusion(results: list[list[dict]], k=1, top_k: int=5):\n",
    "    \"\"\" Reciprocal_rank_fusion that takes multiple lists of ranked documents \n",
    "        and an optional parameter k used in the RRF formula \"\"\"\n",
    "    \n",
    "    # Initialize a dictionary to hold fused scores for each unique document\n",
    "    fused_scores = {}\n",
    "\n",
    "    # Iterate through each list of ranked documents\n",
    "    for doc_series in results:\n",
    "        # Iterate through each document in the list, with its rank (position in the list)\n",
    "        for rank, doc in enumerate(doc_series, start=1):\n",
    "            # Convert the document to a string format to use as a key (assumes documents can be serialized to JSON)\n",
    "            key = doc['doc_id']\n",
    "            # If the document is not yet in the fused_scores dictionary, add it with an initial score of 0\n",
    "            if key not in fused_scores:\n",
    "                fused_scores[key] = {'score':0,'doc':doc}\n",
    "            # Retrieve the current score of the document, if any\n",
    "            previous_score = fused_scores[key]['score']\n",
    "            # Update the score of the document using the RRF formula: 1 / (rank + k)\n",
    "            fused_scores[key]['score'] += 1 / (rank + k)\n",
    "    for k,v in fused_scores.items():\n",
    "        fused_scores[k]['doc']['reranked_score'] = fused_scores[k]['score']\n",
    "        \n",
    "    # Sort the documents based on their fused scores in descending order to get the final reranked results\n",
    "    reranked_results = [value['doc'] \n",
    "        for doc_id, value in sorted(fused_scores.items(), key=lambda x: x[1]['doc']['reranked_score'], reverse=True)\n",
    "    ]\n",
    "\n",
    "    # Return the reranked results as a list of tuples, each containing the document and its fused score\n",
    "    return reranked_results[:top_k]"
   ]
  },
  {
   "cell_type": "code",
   "execution_count": 108,
   "id": "5bf50865-a6ff-4a17-9ecf-4acb1553e373",
   "metadata": {},
   "outputs": [],
   "source": [
    "reranked_initial = reranker.rerank(single_query_docs, initial_query, top_k=10)\n",
    "reranked_multi = reciprocal_rank_fusion(docs, top_k=10)"
   ]
  },
  {
   "cell_type": "code",
   "execution_count": 109,
   "id": "c8c21e06-5879-4433-8652-5a104ae30712",
   "metadata": {},
   "outputs": [
    {
     "name": "stdout",
     "output_type": "stream",
     "text": [
      "Initial:\n",
      "Score: 0.6812052726745605\n",
      "Title: Marc Andreessen: How Risk Taking, Innovation & Artificial Intelligence Transform Human Experience\n",
      "Content: In doing so, Mark provides a stark counter-argument for those that argue that AI is going to diminish human experience. So if you're hearing about and or concerned about the ways that AI is likely to destroy us, today you are going to hear about the many different ways that AI technologies now in development are likely to enhance our human experience at every level. What you'll soon find is that while today's discussion does center around technology and technology development, it is really a discussion about human beings and human psychology.\n",
      "\n",
      "Multi:\n",
      "Score: 1.4166666666666667\n",
      "Title: Marc Andreessen: How Risk Taking, Innovation & Artificial Intelligence Transform Human Experience\n",
      "Content: In doing so, Mark provides a stark counter-argument for those that argue that AI is going to diminish human experience. So if you're hearing about and or concerned about the ways that AI is likely to destroy us, today you are going to hear about the many different ways that AI technologies now in development are likely to enhance our human experience at every level. What you'll soon find is that while today's discussion does center around technology and technology development, it is really a discussion about human beings and human psychology.\n",
      "----------------------------------------------------------------------------------------------------\n",
      "----------------------------------------------------------------------------------------------------\n",
      "Initial:\n",
      "Score: 0.3381282687187195\n",
      "Title: Marc Andreessen: How Risk Taking, Innovation & Artificial Intelligence Transform Human Experience\n",
      "Content: In that context, we talk about risk-taking, not just in terms of risk-taking in one's profession, but about how some people, not all, but how some people who are risk-takers and innovators in the context of their work also seem to take a lot of risks in their personal life and some of the consequences that can bring. Then we discuss some of the most transformative technologies that are now emerging, such as novel approaches to developing clean energy, as well as AI or artificial intelligence. With respect to AI, Mark shares his views as to why AI is likely to greatly improve human experience.\n",
      "\n",
      "Multi:\n",
      "Score: 1.3333333333333333\n",
      "Title: Marc Andreessen: How Risk Taking, Innovation & Artificial Intelligence Transform Human Experience\n",
      "Content: And we discussed the multiple roles that AI is very likely to have in all of our lives in the near future. Mark explains how not too long from now, all of us are very likely to have AI assistants. For instance, assistants that give us highly informed health advice, highly informed psychological advice. Indeed, it is very likely that all of us will soon have AI assistants that govern most, if not all of our daily decisions. And Mark explains how if done correctly, this can be a tremendously positive addition to our life.\n",
      "----------------------------------------------------------------------------------------------------\n",
      "----------------------------------------------------------------------------------------------------\n",
      "Initial:\n",
      "Score: 0.03797058016061783\n",
      "Title: Dr. Alia Crum: Science of Mindsets for Health & Performance | Huberman Lab Podcast #56\n",
      "Content: So this kind of mind-body work was baked into me from an early age. And I think what I've done recently is to try to understand it scientifically and more importantly, to figure out how can we do better with this, right? How can we, you know, we're all talking about AI taking over the world and technology this and personalized medicine that. And it's like we have done so little, relatively so little with the human resource, our human brains, that the potential for which is so great. And we've done almost nothing. Take the placebo effect.\n",
      "\n",
      "Multi:\n",
      "Score: 1.25\n",
      "Title: Marc Andreessen: How Risk Taking, Innovation & Artificial Intelligence Transform Human Experience\n",
      "Content: In that context, we talk about risk-taking, not just in terms of risk-taking in one's profession, but about how some people, not all, but how some people who are risk-takers and innovators in the context of their work also seem to take a lot of risks in their personal life and some of the consequences that can bring. Then we discuss some of the most transformative technologies that are now emerging, such as novel approaches to developing clean energy, as well as AI or artificial intelligence. With respect to AI, Mark shares his views as to why AI is likely to greatly improve human experience.\n",
      "----------------------------------------------------------------------------------------------------\n",
      "----------------------------------------------------------------------------------------------------\n",
      "Initial:\n",
      "Score: 0.023951224982738495\n",
      "Title: Mark Zuckerberg & Dr. Priscilla Chan: Curing All Human Diseases & the Future of Health & Technology\n",
      "Content: So that way it's not, you know, we built, you know, one of the AIs is like a chef and they can help you kind of come up with things that you could cook and can help you cook them. There's like a couple of people that are interested in different types of fitness that can help you kind of plan out your workouts or help with recovery or different things like that. There are people, there's an AI that's focused on like DIY crafts. There's someone who's a travel expert that can help you make travel plans or give you ideas.\n",
      "\n",
      "Multi:\n",
      "Score: 0.8095238095238095\n",
      "Title: Mark Zuckerberg & Dr. Priscilla Chan: Curing All Human Diseases & the Future of Health & Technology\n",
      "Content: And the neat thing about the sort of inflection point where we're at in AI is that I can't look at this data and make sense of it. There's just too much of it. And biology is complex. Human bodies are complex. We need this much information. But the use of large language models can help us actually look at that data and gain insights, look at what trends are consistent with health and what trends are unsuspected.\n",
      "----------------------------------------------------------------------------------------------------\n",
      "----------------------------------------------------------------------------------------------------\n",
      "Initial:\n",
      "Score: 0.014688615687191486\n",
      "Title: Dr. E.J. Chichilnisky: How the Brain Works, Curing Blindness & How to Navigate a Career Path\n",
      "Content: And with that understanding, he explains how that can be applied to engineer specific robotic AI and machine learning devices that can allow human brains not only to see once again in the blind, but also to perceive things that typical human brains can't, and indeed for memory to be enhanced and for cognition to be enhanced. This is the direction that neuroscience is going. And in the course of today's discussion, we have the opportunity to learn from the world expert in these topics, where the science is now and where it is headed.\n",
      "\n",
      "Multi:\n",
      "Score: 0.5222222222222221\n",
      "Title: Marc Andreessen: How Risk Taking, Innovation & Artificial Intelligence Transform Human Experience\n",
      "Content: The big one is we should use AI to build defenses against all the bad things. And so And so for example, there's a concern AI is gonna make it easier for bad people to build pathogens, right? Design pathogens in labs, which, you know, bad people, bad scientists can do today, but this is gonna make it easier to do. Well, obviously we should have the equivalent of an operation warp speed operating, you know, in perpetuity anyway, right? But then we should use AI to build much better bio defenses, right?\n",
      "----------------------------------------------------------------------------------------------------\n",
      "----------------------------------------------------------------------------------------------------\n",
      "Initial:\n",
      "Score: 0.011859896592795849\n",
      "Title: Dr. Charles Zuker: The Biology of Taste Perception & Sugar Craving | Huberman Lab Podcast #81\n",
      "Content: Now, I think understanding the circuits is giving us important insights and how ultimately, hopefully, we can improve human health and make a meaningful difference. Now, it's very easy to try to, you know, connect the dots, A to B, B to C, C to D. And I think there's a lot more complexity to it. But I do think that the lessons that are emerging out of understanding how the circuits operate can ultimately inform how we deal with our diets in a way that we avoid what we're facing now, you know, as a society.\n",
      "\n",
      "Multi:\n",
      "Score: 0.5166666666666666\n",
      "Title: Marc Andreessen: How Risk Taking, Innovation & Artificial Intelligence Transform Human Experience\n",
      "Content: I'm going to wake up and I'm going to be strapped to the bed and my organs are going to be pulled out of me. The robots are going to be in my bank account, they're going to kill all my children, and dystopia for most. Clearly, that's not the way it's going to go. If you believe that machines can augment human intelligence, and human intelligence is a good thing. So tell us what AI is and where you think it can take us, both good and bad. Yeah.\n",
      "----------------------------------------------------------------------------------------------------\n",
      "----------------------------------------------------------------------------------------------------\n",
      "Initial:\n",
      "Score: 0.008828641846776009\n",
      "Title: Marc Andreessen: How Risk Taking, Innovation & Artificial Intelligence Transform Human Experience\n",
      "Content: And we have the ability now to build much better AI powered tools to deal with all those things. I also love the idea of the AI physicians. You know, getting decent healthcare in this country is so difficult, even for people who have means or insurance. I mean, the number of phone calls and waits that you have to go through to get a referral to see a specialist, I mean, it's absurd. I mean, the process is absurd. I mean, it makes one partially or frankly ill just to go through the process of having to do all that.\n",
      "\n",
      "Multi:\n",
      "Score: 0.5111111111111111\n",
      "Title: Dr. Alia Crum: Science of Mindsets for Health & Performance | Huberman Lab Podcast #56\n",
      "Content: So this kind of mind-body work was baked into me from an early age. And I think what I've done recently is to try to understand it scientifically and more importantly, to figure out how can we do better with this, right? How can we, you know, we're all talking about AI taking over the world and technology this and personalized medicine that. And it's like we have done so little, relatively so little with the human resource, our human brains, that the potential for which is so great. And we've done almost nothing. Take the placebo effect.\n",
      "----------------------------------------------------------------------------------------------------\n",
      "----------------------------------------------------------------------------------------------------\n",
      "Initial:\n",
      "Score: 0.0076182931661605835\n",
      "Title: Dr. Kay Tye: The Biology of Social Interactions and Emotions\n",
      "Content: I mean, there are efforts to make machine learning do it and to do it through AI, but there's a lot to be gained from having actual humans do this that those technologies don't quite yet approximate. So we'll provide a link to some of those projects. But listen, Kay, Dr.\n",
      "\n",
      "Multi:\n",
      "Score: 0.4107142857142857\n",
      "Title: Marc Andreessen: How Risk Taking, Innovation & Artificial Intelligence Transform Human Experience\n",
      "Content: And we have the ability now to build much better AI powered tools to deal with all those things. I also love the idea of the AI physicians. You know, getting decent healthcare in this country is so difficult, even for people who have means or insurance. I mean, the number of phone calls and waits that you have to go through to get a referral to see a specialist, I mean, it's absurd. I mean, the process is absurd. I mean, it makes one partially or frankly ill just to go through the process of having to do all that.\n",
      "----------------------------------------------------------------------------------------------------\n",
      "----------------------------------------------------------------------------------------------------\n",
      "Initial:\n",
      "Score: 0.004993425216525793\n",
      "Title: Marc Andreessen: How Risk Taking, Innovation & Artificial Intelligence Transform Human Experience\n",
      "Content: The big one is we should use AI to build defenses against all the bad things. And so And so for example, there's a concern AI is gonna make it easier for bad people to build pathogens, right? Design pathogens in labs, which, you know, bad people, bad scientists can do today, but this is gonna make it easier to do. Well, obviously we should have the equivalent of an operation warp speed operating, you know, in perpetuity anyway, right? But then we should use AI to build much better bio defenses, right?\n",
      "\n",
      "Multi:\n",
      "Score: 0.2\n",
      "Title: Dr. Matthew MacDougall: Neuralink & Technologies to Enhance Human Brains | Huberman Lab Podcast\n",
      "Content: Put simply, what is the role for AI and machine learning in the type of work that you're doing? That's a great question. I think it goes both ways. Basically, what you're doing is taking a very crude software intelligence, I would say not exactly a full-blown AI, but some well-designed software that can adapt to changes in firing of the brain. And you're coupling it with another form of intelligence, a human intelligence, and you're allowing the two to learn each other. So undoubtedly the human that has a Neuralink device will get better at using it over time.\n",
      "----------------------------------------------------------------------------------------------------\n",
      "----------------------------------------------------------------------------------------------------\n",
      "Initial:\n",
      "Score: 0.00401582196354866\n",
      "Title: Marc Andreessen: How Risk Taking, Innovation & Artificial Intelligence Transform Human Experience\n",
      "Content: So you're definitely going to get... So there's three reasons AIs have started to work. One of them is just simply larger data sets, larger amounts of data. So specifically, the reason why objects and images are now... The reason machines are now better than humans at recognizing objects, images, or recognizing faces is because modern facial recognition AIs are trained across all photos on the internet of people. Billions and billions and billions of photos, right? An unlimited number of photos of people on the internet.\n",
      "\n",
      "Multi:\n",
      "Score: 0.16666666666666666\n",
      "Title: Dr. Alia Crum: Science of Mindsets for Health & Performance | Huberman Lab Podcast #56\n",
      "Content: If you have a stress-enhancing mindset, the motivation changes, right? Then the motivation is how do I utilize the stress to realize the enhancing outcomes? What can we do here, right, to learn from this experience to make us stronger, fitter, have better science and treatments for the future, deepen my relationships with others, improve my priorities and so forth. So the motivation changes. The affect around it changes. It doesn't make it easy to deal with.\n",
      "----------------------------------------------------------------------------------------------------\n",
      "----------------------------------------------------------------------------------------------------\n"
     ]
    }
   ],
   "source": [
    "for t in list(zip(reranked_initial, reranked_multi)):\n",
    "    print(f\"Initial:\\nScore: {t[0]['cross_score']}\\nTitle: {t[0]['title']}\\nContent: {t[0]['content']}\\n\")\n",
    "    print(f\"Multi:\\nScore: {t[1]['reranked_score']}\\nTitle: {t[1]['title']}\\nContent: {t[1]['content']}\")\n",
    "    print('-'*100)\n",
    "    print('-'*100)"
   ]
  },
  {
   "cell_type": "markdown",
   "id": "5e500aa5-f47d-4f21-b385-0d7d9a1088b5",
   "metadata": {},
   "source": [
    "### Stage 3 - Submit Context to LLM"
   ]
  },
  {
   "cell_type": "code",
   "execution_count": 110,
   "id": "971d1a1a-71e6-4afe-af8e-27e449a3e95d",
   "metadata": {},
   "outputs": [],
   "source": [
    "for d in reranked_multi:\n",
    "    d['short_description'] = d['short_description'].split('\\n\\n')[0]\n",
    "for d in reranked_initial:\n",
    "    d['short_description'] = d['short_description'].split('\\n\\n')[0]"
   ]
  },
  {
   "cell_type": "code",
   "execution_count": 111,
   "id": "830afc7d-c9ce-46e8-9f63-4ed6ea3488cd",
   "metadata": {},
   "outputs": [
    {
     "data": {
      "text/plain": [
       "10"
      ]
     },
     "execution_count": 111,
     "metadata": {},
     "output_type": "execute_result"
    }
   ],
   "source": [
    "len(reranked_initial)"
   ]
  },
  {
   "cell_type": "code",
   "execution_count": 112,
   "id": "e57f67aa-9d8f-4bdb-8e4c-8e97a0a6f25b",
   "metadata": {},
   "outputs": [],
   "source": [
    "initial_assist_message = generate_prompt_series(initial_query, reranked_initial[:5], summary_key='short_description')"
   ]
  },
  {
   "cell_type": "code",
   "execution_count": 116,
   "id": "cf9995ac-e3b4-4d82-85bd-f60491939b25",
   "metadata": {},
   "outputs": [
    {
     "name": "stdout",
     "output_type": "stream",
     "text": [
      "Advancements in AI can improve human health by serving as personalized coaches and guides for making decisions about health, relationships, finances, and more. AI technologies, as discussed in the transcripts, are aiming to enhance the human experience at every level. These advancements may include AI assisting with personalized health decisions, suggesting workout plans, aiding in recovery strategies, providing travel ideas, and recommending dietary choices. By utilizing AI in these ways, individuals can potentially optimize their health outcomes, receive tailored recommendations, and have access to support systems that cater to their specific needs and preferences. Alger-\n",
      "\n"
     ]
    }
   ],
   "source": [
    "initial_response = llm.chat_completion(system_message=huberman_system_prompt, \n",
    "                               assistant_message=initial_assist_message,\n",
    "                               temperature=1.25,\n",
    "                               raw_response=False)\n",
    "print(initial_response)"
   ]
  },
  {
   "cell_type": "code",
   "execution_count": 117,
   "id": "a925ba4b-6a4f-4290-80c1-368045a3dafe",
   "metadata": {},
   "outputs": [],
   "source": [
    "multi_assist_message = generate_prompt_series(initial_query, reranked_multi[:5], summary_key='short_description')"
   ]
  },
  {
   "cell_type": "code",
   "execution_count": 118,
   "id": "ae17ff9c-0048-479b-8adb-6ace57f690e7",
   "metadata": {},
   "outputs": [
    {
     "name": "stdout",
     "output_type": "stream",
     "text": [
      "Advancements in AI can significantly improve human health by serving as personalized coaches and guides for decision-making in areas such as health, psychology, relationships, and finances. AI assistants are likely to provide highly informed health and psychological advice, as well as assist individuals in making daily decisions. With the use of large language models, AI can help analyze complex biological data, gain insights, and identify trends related to health, thus potentially transforming the understanding and management of various health conditions. Additionally, AI can be utilized to build defenses against the creation of harmful pathogens, contributing to bolstering biosecurity measures.\n"
     ]
    }
   ],
   "source": [
    "multi_response = llm.chat_completion(system_message=huberman_system_prompt, \n",
    "                               assistant_message=multi_assist_message,\n",
    "                               temperature=1.25,\n",
    "                               raw_response=False)\n",
    "print(multi_response)"
   ]
  },
  {
   "cell_type": "code",
   "execution_count": null,
   "id": "97d49ba9-68ce-4750-84bd-379afef065c3",
   "metadata": {},
   "outputs": [],
   "source": []
  }
 ],
 "metadata": {
  "kernelspec": {
   "display_name": "openai",
   "language": "python",
   "name": "openai"
  },
  "language_info": {
   "codemirror_mode": {
    "name": "ipython",
    "version": 3
   },
   "file_extension": ".py",
   "mimetype": "text/x-python",
   "name": "python",
   "nbconvert_exporter": "python",
   "pygments_lexer": "ipython3",
   "version": "3.10.13"
  }
 },
 "nbformat": 4,
 "nbformat_minor": 5
}
