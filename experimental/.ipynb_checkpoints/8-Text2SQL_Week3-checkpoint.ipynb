{
 "cells": [
  {
   "cell_type": "code",
   "execution_count": 197,
   "id": "2e41dcee-d917-4c19-ad96-749646e94d63",
   "metadata": {},
   "outputs": [],
   "source": [
    "import sqlite3\n",
    "import sys\n",
    "sys.path.append('../../')\n",
    "from src.preprocessor.preprocessing import FileIO\n",
    "from src.llm.llm_interface import LLM\n",
    "from src.llm.llm_utils import load_azure_openai\n",
    "\n",
    "from dotenv import load_dotenv, find_dotenv\n",
    "_ = load_dotenv(find_dotenv(), override=True)"
   ]
  },
  {
   "cell_type": "code",
   "execution_count": 198,
   "id": "c4dc4a8c-102a-434a-832d-0996fa5d41ab",
   "metadata": {},
   "outputs": [],
   "source": [
    "llm = load_azure_openai()"
   ]
  },
  {
   "cell_type": "code",
   "execution_count": 195,
   "id": "1a42c272-9535-482c-9558-0897dda36e43",
   "metadata": {},
   "outputs": [],
   "source": [
    "file = 'sqlite3.db'\n",
    "data = FileIO.load_json('../../data/huberman_labs.json')"
   ]
  },
  {
   "cell_type": "code",
   "execution_count": 208,
   "id": "48151422-545f-4a79-bcfa-e55729b2a82d",
   "metadata": {},
   "outputs": [],
   "source": [
    "data_dir = '../../data/'\n",
    "data = []\n",
    "names = ['guests', 'titles', 'summaries', 'view_counts']\n",
    "for name in names:\n",
    "    data.append(tuple(FileIO.load_json(f'{data_dir}{name}.json')))"
   ]
  },
  {
   "cell_type": "code",
   "execution_count": 216,
   "id": "f3564eac-738a-495f-b809-d4ebf929f274",
   "metadata": {},
   "outputs": [
    {
     "name": "stderr",
     "output_type": "stream",
     "text": [
      "Bad pipe message: %s [b'(>kz\\xcbr\\xe7\\xf7[\\x13\\xe3\\\\M\\x9a}4T\\x15 \\x12_87\\xd6b\\xbd\\xd1t\\x8e\\xa5\\x1a\\x87\\xbdn\\x9c38\\xbb\\xc6\\x8e\\x8a\\x16\\x9e\\\\;\\x1a\\xe31\\x151\\xae\\x00\\x08\\x13\\x02\\x13\\x03\\x13\\x01\\x00\\xff\\x01\\x00\\x00\\x8f\\x00\\x00\\x00\\x0e\\x00\\x0c\\x00\\x00\\t127.0.0.1\\x00\\x0b\\x00\\x04\\x03\\x00\\x01\\x02\\x00\\n\\x00\\x0c\\x00\\n\\x00', b'\\x17\\x00\\x1e\\x00\\x19\\x00\\x18\\x00#\\x00\\x00\\x00\\x16\\x00\\x00\\x00\\x17\\x00\\x00\\x00\\r\\x00\\x1e\\x00\\x1c\\x04\\x03\\x05']\n",
      "Bad pipe message: %s [b'\\x03\\x08']\n",
      "Bad pipe message: %s [b'\\x08\\x08\\t\\x08\\n\\x08']\n",
      "Bad pipe message: %s [b'\\x04\\x08\\x05\\x08\\x06\\x04\\x01\\x05\\x01\\x06']\n",
      "Bad pipe message: %s [b'']\n",
      "Bad pipe message: %s [b\"\\x03\\x02\\x03\\x04\\x00-\\x00\\x02\\x01\\x01\\x003\\x00&\\x00$\\x00\\x1d\\x00 \\xbd\\xe5\\xa2\\x18B^x '\\xce\\x87U\\x10\\xa6\\xaa\\x06a@N6HY\"]\n",
      "Bad pipe message: %s [b\"\\xf0\\xa8\\xf5W@\\x1duq0\\xc98F\\xcb@\\xbb\\xabk?\\x00\\x00|\\xc0,\\xc00\\x00\\xa3\\x00\\x9f\\xcc\\xa9\\xcc\\xa8\\xcc\\xaa\\xc0\\xaf\\xc0\\xad\\xc0\\xa3\\xc0\\x9f\\xc0]\\xc0a\\xc0W\\xc0S\\xc0+\\xc0/\\x00\\xa2\\x00\\x9e\\xc0\\xae\\xc0\\xac\\xc0\\xa2\\xc0\\x9e\\xc0\\\\\\xc0`\\xc0V\\xc0R\\xc0$\\xc0(\\x00k\\x00j\\xc0#\\xc0'\\x00g\\x00@\\xc0\\n\\xc0\\x14\\x009\\x008\\xc0\\t\\xc0\\x13\\x003\\x002\\x00\\x9d\\xc0\\xa1\\xc0\\x9d\\xc0Q\\x00\\x9c\\xc0\\xa0\\xc0\\x9c\\xc0P\\x00=\\x00<\\x005\\x00/\\x00\\x9a\\x00\\x99\\xc0\\x07\\xc0\\x11\\x00\\x96\\x00\\x05\\x00\\xff\\x01\\x00\\x00j\\x00\\x00\\x00\\x0e\\x00\\x0c\\x00\\x00\\t127.0.0.1\\x00\\x0b\\x00\\x04\\x03\\x00\\x01\\x02\\x00\\n\\x00\\x0c\\x00\\n\\x00\\x1d\\x00\\x17\\x00\\x1e\\x00\\x19\\x00\\x18\\x00#\\x00\\x00\\x00\\x16\\x00\\x00\\x00\\x17\\x00\\x00\\x00\\r\\x000\\x00.\\x04\\x03\\x05\\x03\\x06\\x03\\x08\\x07\\x08\\x08\\x08\\t\\x08\\n\\x08\\x0b\\x08\\x04\\x08\\x05\\x08\\x06\"]\n",
      "Bad pipe message: %s [b'\\x05\\x01\\x06', b'', b'\\x03\\x03']\n",
      "Bad pipe message: %s [b'']\n",
      "Bad pipe message: %s [b'', b'\\x02']\n",
      "Bad pipe message: %s [b'\\x05\\x02\\x06']\n",
      "Bad pipe message: %s [b'g[WsX9\\x84>h<\\x9e\\xa0;1,\\xaf\\x0b\\x91\\x00\\x00>\\xc0\\x14\\xc0\\n\\x009\\x008\\x007\\x006\\xc0\\x0f\\xc0\\x05\\x005\\xc0\\x13\\xc0\\t\\x003\\x002\\x001\\x000\\xc0\\x0e\\xc0\\x04\\x00/\\x00\\x9a\\x00\\x99\\x00\\x98\\x00\\x97\\x00\\x96\\x00\\x07\\xc0\\x11\\xc0\\x07\\xc0\\x0c\\xc0\\x02\\x00\\x05\\x00\\x04\\x00\\xff\\x02\\x01\\x00\\x00C\\x00\\x00\\x00\\x0e\\x00\\x0c\\x00\\x00\\t127.0.0.1\\x00\\x0b\\x00\\x04\\x03\\x00\\x01\\x02\\x00\\n\\x00']\n",
      "Bad pipe message: %s [b'\\x1a\\x00\\x17\\x00\\x19\\x00\\x1c\\x00\\x1b\\x00\\x18\\x00\\x1a\\x00\\x16\\x00\\x0e\\x00\\r\\x00\\x0b\\x00\\x0c\\x00\\t\\x00\\n']\n",
      "Bad pipe message: %s [b'\\x7f\\xcb\\xcb~x\\xbag\\xc5\\xb1=H\\xd2\\x87\\xa3\\xaf\\x97h\\x04\\x00\\x00\\xa2\\xc0\\x14\\xc0\\n\\x009\\x008\\x007\\x006\\x00\\x88\\x00\\x87\\x00\\x86\\x00']\n",
      "Bad pipe message: %s [b'\\x19\\x00:\\x00\\x89\\xc0\\x0f\\xc0\\x05\\x005\\x00\\x84\\xc0\\x13\\xc0\\t\\x003\\x002\\x001\\x000\\x00\\x9a\\x00\\x99\\x00\\x98\\x00\\x97\\x00E\\x00D\\x00C\\x00B\\xc0\\x18\\x004\\x00\\x9b\\x00F\\xc0\\x0e\\xc0\\x04\\x00/\\x00\\x96\\x00A\\x00\\x07\\xc0\\x11\\xc0\\x07\\xc0\\x16\\x00\\x18\\xc0\\x0c\\xc0\\x02\\x00\\x05\\x00\\x04\\xc0\\x12\\xc0\\x08\\x00\\x16\\x00\\x13\\x00\\x10\\x00\\r\\xc0\\x17\\x00\\x1b\\xc0\\r\\xc0\\x03\\x00\\n\\x00\\x15\\x00\\x12\\x00\\x0f\\x00\\x0c\\x00\\x1a\\x00\\t\\x00\\x14\\x00\\x11\\x00\\x19\\x00\\x08\\x00\\x06\\x00\\x17\\x00\\x03\\xc0\\x10\\xc0\\x06\\xc0\\x15\\xc0']\n",
      "Bad pipe message: %s [b'\\x01\\x00\\x02\\x00\\x01\\x00\\xff\\x02\\x01\\x00']\n",
      "Bad pipe message: %s [b\"s\\x97\\xcb\\xbawv\\xe3H-\\xfb\\x01\\xf2\\xc0\\xb7\\xafz\\xe4\\x18\\x00\\x00\\x86\\xc00\\xc0,\\xc0(\\xc0$\\xc0\\x14\\xc0\\n\\x00\\xa5\\x00\\xa3\\x00\\xa1\\x00\\x9f\\x00k\\x00j\\x00i\\x00h\\x009\\x008\\x007\\x006\\xc02\\xc0.\\xc0*\\xc0&\\xc0\\x0f\\xc0\\x05\\x00\\x9d\\x00=\\x005\\xc0/\\xc0+\\xc0'\\xc0#\\xc0\\x13\\xc0\\t\\x00\\xa4\\x00\\xa2\\x00\\xa0\\x00\\x9e\\x00g\\x00@\\x00?\\x00>\\x003\\x002\\x001\\x00\"]\n",
      "Bad pipe message: %s [b'1\\xc0-\\xc0)\\xc0%\\xc0\\x0e\\xc0\\x04\\x00\\x9c\\x00<\\x00/\\x00\\x9a\\x00\\x99\\x00\\x98\\x00\\x97\\x00\\x96\\x00\\x07\\xc0\\x11\\xc0\\x07\\xc0\\x0c\\xc0\\x02\\x00\\x05\\x00\\x04\\x00\\xff\\x02\\x01\\x00\\x00']\n",
      "Bad pipe message: %s [b'\\x00\\x00\\x0e\\x00\\x0c\\x00\\x00\\t127.0.0.1\\x00\\x0b\\x00\\x04\\x03\\x00\\x01\\x02\\x00\\n\\x00\\x1c\\x00\\x1a\\x00\\x17\\x00\\x19\\x00\\x1c\\x00\\x1b\\x00\\x18\\x00\\x1a\\x00\\x16\\x00\\x0e\\x00\\r\\x00\\x0b\\x00\\x0c\\x00\\t\\x00\\n\\x00#\\x00\\x00\\x00\\r\\x00 \\x00\\x1e\\x06\\x01\\x06\\x02\\x06\\x03\\x05\\x01\\x05\\x02\\x05\\x03\\x04\\x01\\x04\\x02\\x04\\x03\\x03\\x01\\x03\\x02\\x03\\x03\\x02\\x01\\x02\\x02\\x02\\x03\\x00\\x0f\\x00\\x01\\x01']\n",
      "Bad pipe message: %s [b'\\x81`\\xacF\\xc8\\xe0\\xc7-\\xa3\\x18\\xb5\\x0f\\xa9\\xe4c\\xfd\\xdd:\\x00\\x00', b\"0\\xc0,\\xc0(\\xc0$\\xc0\\x14\\xc0\\n\\x00\\xa5\\x00\\xa3\\x00\\xa1\\x00\\x9f\\x00k\\x00j\\x00i\\x00h\\x009\\x008\\x007\\x006\\x00\\x88\\x00\\x87\\x00\\x86\\x00\\x85\\xc0\\x19\\x00\\xa7\\x00m\\x00:\\x00\\x89\\xc02\\xc0.\\xc0*\\xc0&\\xc0\\x0f\\xc0\\x05\\x00\\x9d\\x00=\\x005\\x00\\x84\\xc0/\\xc0+\\xc0'\\xc0#\\xc0\\x13\\xc0\\t\\x00\\xa4\\x00\\xa2\\x00\\xa0\\x00\\x9e\\x00g\\x00@\\x00?\\x00>\\x003\\x002\\x001\\x000\\x00\\x9a\\x00\\x99\\x00\\x98\\x00\\x97\\x00E\\x00D\\x00C\\x00B\\xc0\\x18\\x00\\xa6\\x00l\\x004\\x00\\x9b\\x00F\\xc01\\xc0-\\xc0)\\xc0%\\xc0\\x0e\\xc0\\x04\\x00\\x9c\\x00<\\x00/\\x00\\x96\\x00A\\x00\\x07\\xc0\\x11\\xc0\\x07\\xc0\\x16\\x00\\x18\\xc0\\x0c\\xc0\\x02\\x00\\x05\\x00\\x04\\xc0\\x12\\xc0\\x08\\x00\\x16\\x00\\x13\\x00\\x10\\x00\\r\\xc0\\x17\\x00\\x1b\\xc0\\r\\xc0\\x03\\x00\\n\\x00\\x15\\x00\\x12\\x00\\x0f\\x00\\x0c\\x00\\x1a\\x00\\t\\x00\\x14\\x00\\x11\\x00\\x19\\x00\\x08\\x00\\x06\\x00\\x17\\x00\\x03\\xc0\\x10\\xc0\\x06\\xc0\\x15\\xc0\\x0b\\xc0\\x01\\x00;\\x00\\x02\\x00\\x01\\x00\\xff\"]\n"
     ]
    }
   ],
   "source": [
    "guests, titles, summaries, view_counts = [*data]"
   ]
  },
  {
   "cell_type": "code",
   "execution_count": 3,
   "id": "68653e06-fef3-4af6-8bf2-84925a8ace38",
   "metadata": {},
   "outputs": [],
   "source": [
    "conn= sqlite3.connect(file)"
   ]
  },
  {
   "cell_type": "code",
   "execution_count": 5,
   "id": "90d84fdf-5209-4cb3-92bf-d83ceb8631db",
   "metadata": {},
   "outputs": [],
   "source": [
    "cursor = conn.cursor()"
   ]
  },
  {
   "cell_type": "code",
   "execution_count": 6,
   "id": "c2b1c8a3-df75-4754-9827-38e9dbd4df46",
   "metadata": {},
   "outputs": [],
   "source": [
    "table_schema = \"\"\"\n",
    "CREATE TABLE IF NOT EXISTS huberman (\n",
    "    id INTEGER PRIMARY KEY,\n",
    "    guests TEXT NOT NULL,\n",
    "    titles TEXT NOT NULL,\n",
    "    summaries TEXT NOT NULL,\n",
    "    view_counts INTEGER NOT NULL\n",
    ");\n",
    "\"\"\""
   ]
  },
  {
   "cell_type": "code",
   "execution_count": 7,
   "id": "0e6a879a-bffa-4dc3-9369-5d7d4c1918f9",
   "metadata": {},
   "outputs": [
    {
     "data": {
      "text/plain": [
       "<sqlite3.Cursor at 0x7faa2a9456c0>"
      ]
     },
     "execution_count": 7,
     "metadata": {},
     "output_type": "execute_result"
    }
   ],
   "source": [
    "cursor.execute(table_schema)"
   ]
  },
  {
   "cell_type": "code",
   "execution_count": 8,
   "id": "37bc07c4-b30c-406f-8505-2e74918ab99a",
   "metadata": {},
   "outputs": [
    {
     "data": {
      "text/plain": [
       "<sqlite3.Cursor at 0x7faa2a9456c0>"
      ]
     },
     "execution_count": 8,
     "metadata": {},
     "output_type": "execute_result"
    }
   ],
   "source": [
    "cursor.execute('SELECT * from huberman;')"
   ]
  },
  {
   "cell_type": "code",
   "execution_count": 9,
   "id": "a9d74baf-e766-4717-9e58-15134abc776d",
   "metadata": {},
   "outputs": [],
   "source": [
    "result = cursor.fetchall()"
   ]
  },
  {
   "cell_type": "code",
   "execution_count": 10,
   "id": "a29cb554-33a4-42c9-96fd-8e03a2b2dfc0",
   "metadata": {},
   "outputs": [
    {
     "data": {
      "text/plain": [
       "[]"
      ]
     },
     "execution_count": 10,
     "metadata": {},
     "output_type": "execute_result"
    }
   ],
   "source": [
    "result"
   ]
  },
  {
   "cell_type": "code",
   "execution_count": 12,
   "id": "5f5b1a83-0fe2-468b-a1e8-0810ef6cd6a1",
   "metadata": {},
   "outputs": [],
   "source": []
  },
  {
   "cell_type": "code",
   "execution_count": 32,
   "id": "026d1d09-a711-4b77-a65f-432fc4b26e9a",
   "metadata": {},
   "outputs": [],
   "source": [
    "def insert_rows(guests, titles, summaries, counts): \n",
    "    connection = sqlite3.connect(file)\n",
    "    cursor = connection.cursor()\n",
    "    for guest, title, summary, count in zip(guests, titles, summaries, counts):\n",
    "        insert_query =  f\"\"\"\n",
    "                        INSERT INTO huberman (guests, titles, summaries, view_counts)\n",
    "                        VALUES (?,?,?,?);\n",
    "                        \"\"\"\n",
    "        cursor.execute(insert_query, (guest, title, summary, count))\n",
    "    connection.commit()\n",
    "    cursor.close()\n",
    "    connection.close()"
   ]
  },
  {
   "cell_type": "code",
   "execution_count": 33,
   "id": "5175d843-5b61-4c71-9c43-2eb65cbe7e20",
   "metadata": {},
   "outputs": [],
   "source": [
    "insert_rows(guests, titles, summaries, counts)"
   ]
  },
  {
   "cell_type": "code",
   "execution_count": 77,
   "id": "5826b329-e723-4d7f-8fb7-cbdf86854652",
   "metadata": {},
   "outputs": [],
   "source": [
    "def get_cursor():\n",
    "    conn = sqlite3.connect(file)\n",
    "    cursor = conn.cursor()\n",
    "    return cursor, conn"
   ]
  },
  {
   "cell_type": "code",
   "execution_count": 171,
   "id": "ed35b66c-bc6f-49be-8540-e7715cfefaae",
   "metadata": {},
   "outputs": [],
   "source": [
    "def get_response(command: str):\n",
    "    cursor, conn = get_cursor()\n",
    "    cursor.execute(command)\n",
    "    answer = cursor.fetchall()\n",
    "    cursor.close()\n",
    "    conn.close()\n",
    "    return answer"
   ]
  },
  {
   "cell_type": "code",
   "execution_count": 73,
   "id": "8162cf93-0d53-450f-a5d1-a2e72df6d261",
   "metadata": {},
   "outputs": [],
   "source": [
    "c = get_cursor()"
   ]
  },
  {
   "cell_type": "code",
   "execution_count": 36,
   "id": "d9bf9394-ede9-44b8-919e-0c60cea61e7d",
   "metadata": {},
   "outputs": [
    {
     "data": {
      "text/plain": [
       "<sqlite3.Cursor at 0x7faa04477840>"
      ]
     },
     "execution_count": 36,
     "metadata": {},
     "output_type": "execute_result"
    }
   ],
   "source": [
    "c.execute('SELECT * FROM huberman;')"
   ]
  },
  {
   "cell_type": "code",
   "execution_count": 37,
   "id": "fe092487-c80b-4de7-9606-1f90416108a7",
   "metadata": {},
   "outputs": [],
   "source": [
    "result = c.fetchall()"
   ]
  },
  {
   "cell_type": "code",
   "execution_count": 46,
   "id": "f808991c-6813-43d5-8334-2f11499562b2",
   "metadata": {},
   "outputs": [],
   "source": [
    "system_message = \"\"\"\n",
    "Your main function is to generate flawless SQL queries from plain text language, that will enable a user \n",
    "to query a SQLite3 database.  There is one table called huberman in the database with four columns labeled:\n",
    "1. guests\n",
    "2. titles\n",
    "3. summaries\n",
    "4. view_counts\n",
    "\"\"\""
   ]
  },
  {
   "cell_type": "code",
   "execution_count": 65,
   "id": "ebf361c7-80e8-4997-b57f-372d39cb1df3",
   "metadata": {},
   "outputs": [],
   "source": [
    "base_user_message = \"\"\"\n",
    "Convert the plain text query into a SQL query that can answer questions about the data contained in the huberman table. \n",
    "Output your response in JSON format, do not include any newlines, and return only the SQL command nothing else.\n",
    "--------------\n",
    "QUERY: {query}\n",
    "--------------\n",
    "SQL:\n",
    "\"\"\""
   ]
  },
  {
   "cell_type": "code",
   "execution_count": 94,
   "id": "2a6b14dd-d283-4e00-941a-49e08379b63f",
   "metadata": {},
   "outputs": [],
   "source": [
    "response_system_message = \"\"\"\n",
    "You excel at answering questions from a multitude of information sources.  Specifically you know how to translate SQL-generated answers into actionable insights\n",
    "\"\"\""
   ]
  },
  {
   "cell_type": "code",
   "execution_count": 174,
   "id": "abd5517b-d693-4cde-b1ba-11142ece0085",
   "metadata": {},
   "outputs": [],
   "source": [
    "base_response_user_message = \"\"\"\n",
    "You will be given a user question and a response to that query pulled from a SQL database.  \n",
    "Use the information from the response to answer the original query.  Answer the question in an objective tone, and do not make any reference to the SQL database.\n",
    "If the information in the answer is presented in a list, ensure that you return your output in the same order, do not mix up the original ordering. \n",
    "If a specific piece of text information is requested such as a guest name or show title, use the LIKE operator and % wildcard character as appropriate to address the user information need.\n",
    "If the response does not answer the question, then either state that you do not know the answer, or answer the question based on prior knowledge.\n",
    "----------------\n",
    "USER QUERY: {query}\n",
    "----------------\n",
    "ANSWER FROM SQL DATABASE: {sql_answer}\n",
    "----------------\n",
    "OUTPUT: \n",
    "\"\"\""
   ]
  },
  {
   "cell_type": "code",
   "execution_count": 183,
   "id": "26fff1b0-f72c-40b6-b984-9554d8ca90a1",
   "metadata": {},
   "outputs": [],
   "source": [
    "query = 'Return show titles that discuss muscle hypertrophy with over 500K views'\n",
    "user_message = base_user_message.format(query=query)\n",
    "response = llm.chat_completion(system_message, user_message)\n",
    "answer = get_response(response)\n",
    "post_user_message = base_response_user_message.format(query=query, sql_answer=answer)\n",
    "post_response = llm.chat_completion(response_system_message, post_user_message)"
   ]
  },
  {
   "cell_type": "code",
   "execution_count": 184,
   "id": "e1214daf-50cb-4e20-ba39-e7e186050145",
   "metadata": {},
   "outputs": [
    {
     "name": "stdout",
     "output_type": "stream",
     "text": [
      "SELECT titles \n",
      "FROM huberman \n",
      "WHERE summaries LIKE '%muscle hypertrophy%' \n",
      "AND view_counts > 500000;\n",
      "[('Dr. Andy Galpin: How to Assess & Improve All Aspects of Your Fitness | Huberman Lab Guest Series',), ('Science of Muscle Growth, Increasing Strength & Muscular Recovery',)]\n",
      "The show titles that discuss muscle hypertrophy with over 500K views are:\n",
      "1. Dr. Andy Galpin: How to Assess & Improve All Aspects of Your Fitness | Huberman Lab Guest Series\n",
      "2. Science of Muscle Growth, Increasing Strength & Muscular Recovery\n"
     ]
    }
   ],
   "source": [
    "print(response)\n",
    "print(answer)\n",
    "print(post_response)"
   ]
  },
  {
   "cell_type": "code",
   "execution_count": 129,
   "id": "16896232-bd98-4189-97cc-081a31f9d985",
   "metadata": {},
   "outputs": [
    {
     "name": "stdout",
     "output_type": "stream",
     "text": [
      "SELECT titles \n",
      "FROM huberman \n",
      "WHERE summaries LIKE '%mental health%' \n",
      "AND view_counts > 1000000\n"
     ]
    }
   ],
   "source": [
    "print(response)"
   ]
  },
  {
   "cell_type": "code",
   "execution_count": 130,
   "id": "3001b0fa-da81-4a14-806c-97826de25f1f",
   "metadata": {},
   "outputs": [],
   "source": [
    "conn=sqlite3.connect(file)\n",
    "cur = conn.cursor()"
   ]
  },
  {
   "cell_type": "code",
   "execution_count": 158,
   "id": "c21c4e8e-db6b-48b4-90c2-e639c23aecc1",
   "metadata": {},
   "outputs": [
    {
     "data": {
      "text/plain": [
       "<sqlite3.Cursor at 0x7faa0011b5c0>"
      ]
     },
     "execution_count": 158,
     "metadata": {},
     "output_type": "execute_result"
    }
   ],
   "source": [
    "cur.execute(\"SELECT titles FROM huberman WHERE summaries LIKE '%mental health%' AND view_counts > 100000\")"
   ]
  },
  {
   "cell_type": "code",
   "execution_count": 159,
   "id": "488974cd-2329-4b00-88e4-923d5350fb8f",
   "metadata": {},
   "outputs": [
    {
     "data": {
      "text/plain": [
       "[('LIVE EVENT Q&A: Dr. Andrew Huberman Question & Answer in Melbourne, AU',),\n",
       " ('How Placebo Effects Work to Change Our Biology & Psychology',),\n",
       " ('How to Improve Oral Health & Its Critical Role in Brain & Body Health',),\n",
       " ('Dr. Kay Tye: The Biology of Social Interactions and Emotions',),\n",
       " ('Journal Club with Dr. Peter Attia | Effects of Light & Dark on Mental Health & Treatments for Cancer',),\n",
       " ('LIVE EVENT Q&A: Dr. Andrew Huberman Question & Answer in Toronto, ON',),\n",
       " ('AMA #12: Thoughts on Longevity Supplements (Resveratrol, NR, NMN, Etc.) & How to Improve Memory',),\n",
       " ('Mental Health Toolkit: Tools to Bolster Your Mood & Mental Health',),\n",
       " ('Mark Zuckerberg & Dr. Priscilla Chan: Curing All Human Diseases & the Future of Health & Technology',),\n",
       " ('Dr. Paul Conti: Tools and Protocols for Mental Health | Huberman Lab Guest Series',),\n",
       " ('Dr. Paul Conti: How to Improve Your Mental Health | Huberman Lab Guest Series',),\n",
       " ('Dr. Paul Conti: How to Understand & Assess Your Mental Health | Huberman Lab Guest Series',),\n",
       " ('Ketamine: Benefits and Risks for Depression, PTSD & Neuroplasticity | Huberman Lab Podcast',),\n",
       " ('Tim Ferriss: How to Learn Better & Create Your Best Future | Huberman Lab Podcast',),\n",
       " ('AMA #7: Cold Exposure, Maximizing REM Sleep & My Next Scientific Studies',),\n",
       " ('Dr. Robin Carhart-Harris: The Science of Psychedelics for Mental Health | Huberman Lab Podcast',),\n",
       " ('How Psilocybin Can Rewire Our Brain, Its Therapeutic Benefits & Its Risks | Huberman Lab Podcast',),\n",
       " ('Leverage Dopamine to Overcome Procrastination & Optimize Effort | Huberman Lab Podcast',),\n",
       " ('Dr. Satchin Panda: Intermittent Fasting to Improve Health, Cognition & Longevity | Huberman Lab',),\n",
       " ('How to Breathe Correctly for Optimal Health, Mood, Learning & Performance | Huberman Lab Podcast',),\n",
       " ('Dr Lex Fridman: Navigating Conflict, Finding Purpose & Maintaining Drive | Huberman Lab Podcast #100',),\n",
       " ('Dr. Chris Palmer: Diet & Nutrition for Mental Health | Huberman Lab Podcast #99',),\n",
       " ('Dr. David Anderson: The Biology of Aggression, Mating, & Arousal | Huberman Lab Podcast #89',),\n",
       " ('Dr. Kyle Gillett: How to Optimize Your Hormones for Health & Vitality | Huberman Lab Podcast #67',),\n",
       " ('Using Deliberate Cold Exposure for Health and Performance | Huberman Lab Podcast #66',),\n",
       " ('Maximizing Productivity, Physical & Mental Health with Daily Tools | Huberman Lab Podcast #28',)]"
      ]
     },
     "execution_count": 159,
     "metadata": {},
     "output_type": "execute_result"
    }
   ],
   "source": [
    "new_answer = cur.fetchall()\n",
    "new_answer"
   ]
  },
  {
   "cell_type": "code",
   "execution_count": 161,
   "id": "caf0663a-7b9c-4753-9a70-1d89143d8604",
   "metadata": {},
   "outputs": [
    {
     "name": "stdout",
     "output_type": "stream",
     "text": [
      "Based on the information provided, the show titles that discussed mental health and had over 100K views are as follows:\n",
      "\n",
      "1. LIVE EVENT Q&A: Dr. Andrew Huberman Question & Answer in Melbourne, AU\n",
      "2. How Placebo Effects Work to Change Our Biology & Psychology\n",
      "3. How to Improve Oral Health & Its Critical Role in Brain & Body Health\n",
      "4. Dr. Kay Tye: The Biology of Social Interactions and Emotions\n",
      "5. Journal Club with Dr. Peter Attia | Effects of Light & Dark on Mental Health & Treatments for Cancer\n",
      "6. LIVE EVENT Q&A: Dr. Andrew Huberman Question & Answer in Toronto, ON\n",
      "7. AMA #12: Thoughts on Longevity Supplements (Resveratrol, NR, NMN, Etc.) & How to Improve Memory\n",
      "8. Mental Health Toolkit: Tools to Bolster Your Mood & Mental Health\n",
      "9. Mark Zuckerberg & Dr. Priscilla Chan: Curing All Human Diseases & the Future of Health & Technology\n",
      "10. Dr. Paul Conti: Tools and Protocols for Mental Health | Huberman Lab Guest Series\n",
      "11. Dr. Paul Conti: How to Improve Your Mental Health | Huberman Lab Guest Series\n",
      "12. Dr. Paul Conti: How to Understand & Assess Your Mental Health | Huberman Lab Guest Series\n",
      "13. Ketamine: Benefits and Risks for Depression, PTSD & Neuroplasticity | Huberman Lab Podcast\n",
      "14. Tim Ferriss: How to Learn Better & Create Your Best Future | Huberman Lab Podcast\n",
      "15. AMA #7: Cold Exposure, Maximizing REM Sleep & My Next Scientific Studies\n",
      "16. Dr. Robin Carhart-Harris: The Science of Psychedelics for Mental Health | Huberman Lab Podcast\n",
      "17. How Psilocybin Can Rewire Our Brain, Its Therapeutic Benefits & Its Risks | Huberman Lab Podcast\n",
      "18. Leverage Dopamine to Overcome Procrastination & Optimize Effort | Huberman Lab Podcast\n",
      "19. Dr. Satchin Panda: Intermittent Fasting to Improve Health, Cognition & Longevity | Huberman Lab\n",
      "20. How to Breathe Correctly for Optimal Health, Mood, Learning & Performance | Huberman Lab Podcast\n",
      "21. Dr Lex Fridman: Navigating Conflict, Finding Purpose & Maintaining Drive | Huberman Lab Podcast #100\n",
      "22. Dr. Chris Palmer: Diet & Nutrition for Mental Health | Huberman Lab Podcast #99\n",
      "23. Dr. David Anderson: The Biology of Aggression, Mating, & Arousal | Huberman Lab Podcast #89\n",
      "24. Dr. Kyle Gillett: How to Optimize Your Hormones for Health & Vitality | Huberman Lab Podcast #67\n",
      "25. Using Deliberate Cold Exposure for Health and Performance | Huberman Lab Podcast #66\n",
      "26. Maximizing Productivity, Physical & Mental Health with Daily Tools | Huberman Lab Podcast #28\n"
     ]
    }
   ],
   "source": [
    "post_user_message = base_response_user_message.format(query=query, sql_answer=new_answer)\n",
    "post_response = llm.chat_completion(response_system_message, post_user_message, max_tokens=1500)\n",
    "print(post_response)"
   ]
  },
  {
   "cell_type": "code",
   "execution_count": null,
   "id": "f2e32dc6-de64-4f9e-b145-f7563fb4e978",
   "metadata": {},
   "outputs": [],
   "source": []
  }
 ],
 "metadata": {
  "kernelspec": {
   "display_name": "openai",
   "language": "python",
   "name": "openai"
  },
  "language_info": {
   "codemirror_mode": {
    "name": "ipython",
    "version": 3
   },
   "file_extension": ".py",
   "mimetype": "text/x-python",
   "name": "python",
   "nbconvert_exporter": "python",
   "pygments_lexer": "ipython3",
   "version": "3.10.13"
  }
 },
 "nbformat": 4,
 "nbformat_minor": 5
}
