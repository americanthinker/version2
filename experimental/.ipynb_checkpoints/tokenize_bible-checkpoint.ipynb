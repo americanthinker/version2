{
 "cells": [
  {
   "cell_type": "code",
   "execution_count": 22,
   "id": "0aba7f4d-068c-4812-8799-4099ccbc8556",
   "metadata": {},
   "outputs": [],
   "source": [
    "import pandas as pd\n",
    "import tiktoken"
   ]
  },
  {
   "cell_type": "code",
   "execution_count": 33,
   "id": "1f7ae23e-c7a7-4c59-9dab-5cd1a03c8c55",
   "metadata": {},
   "outputs": [],
   "source": [
    "path = '/home/elastic/notebooks/data/bible/kjv_bible.txt'\n",
    "encoder = tiktoken.get_encoding('cl100k_base')"
   ]
  },
  {
   "cell_type": "code",
   "execution_count": 34,
   "id": "b1fd3759-1f75-418d-817e-ac2744386f1b",
   "metadata": {},
   "outputs": [],
   "source": [
    "df = pd.read_csv(path, delimiter='\\t', usecols=[1], skiprows=2, header=None)"
   ]
  },
  {
   "cell_type": "code",
   "execution_count": 35,
   "id": "b1816b78-9fb2-4ebf-aff2-812db25de44b",
   "metadata": {},
   "outputs": [
    {
     "data": {
      "text/html": [
       "<div>\n",
       "<style scoped>\n",
       "    .dataframe tbody tr th:only-of-type {\n",
       "        vertical-align: middle;\n",
       "    }\n",
       "\n",
       "    .dataframe tbody tr th {\n",
       "        vertical-align: top;\n",
       "    }\n",
       "\n",
       "    .dataframe thead th {\n",
       "        text-align: right;\n",
       "    }\n",
       "</style>\n",
       "<table border=\"1\" class=\"dataframe\">\n",
       "  <thead>\n",
       "    <tr style=\"text-align: right;\">\n",
       "      <th></th>\n",
       "      <th>1</th>\n",
       "    </tr>\n",
       "  </thead>\n",
       "  <tbody>\n",
       "    <tr>\n",
       "      <th>0</th>\n",
       "      <td>In the beginning God created the heaven and th...</td>\n",
       "    </tr>\n",
       "    <tr>\n",
       "      <th>1</th>\n",
       "      <td>And the earth was without form, and void; and ...</td>\n",
       "    </tr>\n",
       "    <tr>\n",
       "      <th>2</th>\n",
       "      <td>And God said, Let there be light: and there wa...</td>\n",
       "    </tr>\n",
       "    <tr>\n",
       "      <th>3</th>\n",
       "      <td>And God saw the light, that [it was] good: and...</td>\n",
       "    </tr>\n",
       "    <tr>\n",
       "      <th>4</th>\n",
       "      <td>And God called the light Day, and the darkness...</td>\n",
       "    </tr>\n",
       "    <tr>\n",
       "      <th>...</th>\n",
       "      <td>...</td>\n",
       "    </tr>\n",
       "    <tr>\n",
       "      <th>31097</th>\n",
       "      <td>And the Spirit and the bride say, Come. And le...</td>\n",
       "    </tr>\n",
       "    <tr>\n",
       "      <th>31098</th>\n",
       "      <td>For I testify unto every man that heareth the ...</td>\n",
       "    </tr>\n",
       "    <tr>\n",
       "      <th>31099</th>\n",
       "      <td>And if any man shall take away from the words ...</td>\n",
       "    </tr>\n",
       "    <tr>\n",
       "      <th>31100</th>\n",
       "      <td>He which testifieth these things saith, Surely...</td>\n",
       "    </tr>\n",
       "    <tr>\n",
       "      <th>31101</th>\n",
       "      <td>The grace of our Lord Jesus Christ [be] with y...</td>\n",
       "    </tr>\n",
       "  </tbody>\n",
       "</table>\n",
       "<p>31102 rows × 1 columns</p>\n",
       "</div>"
      ],
      "text/plain": [
       "                                                       1\n",
       "0      In the beginning God created the heaven and th...\n",
       "1      And the earth was without form, and void; and ...\n",
       "2      And God said, Let there be light: and there wa...\n",
       "3      And God saw the light, that [it was] good: and...\n",
       "4      And God called the light Day, and the darkness...\n",
       "...                                                  ...\n",
       "31097  And the Spirit and the bride say, Come. And le...\n",
       "31098  For I testify unto every man that heareth the ...\n",
       "31099  And if any man shall take away from the words ...\n",
       "31100  He which testifieth these things saith, Surely...\n",
       "31101  The grace of our Lord Jesus Christ [be] with y...\n",
       "\n",
       "[31102 rows x 1 columns]"
      ]
     },
     "execution_count": 35,
     "metadata": {},
     "output_type": "execute_result"
    }
   ],
   "source": [
    "df"
   ]
  },
  {
   "cell_type": "code",
   "execution_count": 36,
   "id": "2bed26a4-e053-45f8-b9e8-927c918d409e",
   "metadata": {},
   "outputs": [],
   "source": [
    "text = df[1].values.tolist()"
   ]
  },
  {
   "cell_type": "code",
   "execution_count": 37,
   "id": "87489003-c538-4b58-99f7-73d80de53515",
   "metadata": {},
   "outputs": [],
   "source": [
    "full_text = ' '.join(text)"
   ]
  },
  {
   "cell_type": "code",
   "execution_count": 38,
   "id": "9f3d6857-9535-4338-8c5c-f61059036208",
   "metadata": {},
   "outputs": [
    {
     "data": {
      "text/plain": [
       "4186382"
      ]
     },
     "execution_count": 38,
     "metadata": {},
     "output_type": "execute_result"
    }
   ],
   "source": [
    "len(full_text)"
   ]
  },
  {
   "cell_type": "code",
   "execution_count": 39,
   "id": "4c73a8e2-ab0a-4a57-acc0-2380dba2c321",
   "metadata": {},
   "outputs": [
    {
     "data": {
      "text/plain": [
       "1038772"
      ]
     },
     "execution_count": 39,
     "metadata": {},
     "output_type": "execute_result"
    }
   ],
   "source": [
    "len(encoder.encode(full_text))"
   ]
  },
  {
   "cell_type": "markdown",
   "id": "e14082b5-451b-426a-8ee4-13a892e1f602",
   "metadata": {},
   "source": [
    "#### Approximately 1 million tokens in the bible (without chapter/verse headings)"
   ]
  }
 ],
 "metadata": {
  "kernelspec": {
   "display_name": "vsa",
   "language": "python",
   "name": "vsa"
  },
  "language_info": {
   "codemirror_mode": {
    "name": "ipython",
    "version": 3
   },
   "file_extension": ".py",
   "mimetype": "text/x-python",
   "name": "python",
   "nbconvert_exporter": "python",
   "pygments_lexer": "ipython3",
   "version": "3.10.0"
  }
 },
 "nbformat": 4,
 "nbformat_minor": 5
}
