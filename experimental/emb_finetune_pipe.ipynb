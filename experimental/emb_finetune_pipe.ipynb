{
 "cells": [
  {
   "cell_type": "code",
   "execution_count": 1,
   "id": "208b6f8b-09bb-4e2c-bf8b-a5410ceffebc",
   "metadata": {},
   "outputs": [
    {
     "name": "stdout",
     "output_type": "stream",
     "text": [
      "The autoreload extension is already loaded. To reload it, use:\n",
      "  %reload_ext autoreload\n"
     ]
    }
   ],
   "source": [
    "%load_ext autoreload\n",
    "%autoreload 2\n",
    "\n",
    "#load from local .env file\n",
    "from dotenv import load_dotenv, find_dotenv\n",
    "load_dotenv(find_dotenv(), override=True)\n",
    "\n",
    "import sys\n",
    "sys.path.append('../../')\n",
    "\n",
    "#standard libraries\n",
    "import json\n",
    "import os\n",
    "import time\n",
    "from typing import List\n",
    "from math import ceil\n",
    "\n",
    "#external libraries\n",
    "import pandas as pd\n",
    "import numpy as np\n",
    "from rich import print\n",
    "from torch import cuda\n",
    "from tqdm import tqdm\n",
    "import tiktoken # bad ass tokenizer library for use with OpenAI LLMs \n",
    "from llama_index.text_splitter import SentenceSplitter #one of the best on the market\n",
    "from sentence_transformers import SentenceTransformer\n",
    "\n",
    "#external files\n",
    "from src.preprocessor.preprocessing import FileIO\n",
    "from src.evaluation.retrieval_evaluation import execute_evaluation\n",
    "from src.database.weaviate_interface_v4 import WeaviateWCS, WeaviateIndexer\n",
    "from src.database.database_utils import get_weaviate_client\n",
    "from src.database.properties_template import properties\n",
    "from src.pipelines.pipeline import (chunk_data, create_vectors, join_docs, \n",
    "                                    create_dataset, groupby_episode, create_parent_chunks,\n",
    "                                    convert_raw_data)\n",
    "from torch import cuda \n",
    "from torch.utils.data import DataLoader\n",
    "from sentence_transformers import SentenceTransformer, losses, InputExample, models"
   ]
  },
  {
   "cell_type": "code",
   "execution_count": 2,
   "id": "9547e07e-36fa-4f4e-8023-aa3b6d120e95",
   "metadata": {},
   "outputs": [],
   "source": [
    "def load_pretrained_model(pretrained_model_name: str='sentence-transformers/all-MiniLM-L6-v2'):\n",
    "    '''\n",
    "    Loads sentence transformer modules and returns a pretrained \n",
    "    model for finetuning. \n",
    "    '''\n",
    "    word_embedding_model = models.Transformer(pretrained_model_name)\n",
    "    pooling_model = models.Pooling(word_embedding_model.get_word_embedding_dimension())\n",
    "    model = SentenceTransformer(modules=[word_embedding_model, pooling_model])\n",
    "    return model"
   ]
  },
  {
   "cell_type": "code",
   "execution_count": 3,
   "id": "18faeaa1-8c33-4357-9ebb-7213e5cde9cc",
   "metadata": {},
   "outputs": [],
   "source": [
    "def load_data(data_path: str='../../answer_key/data/qa_triplets.json',\n",
    "              triplets: bool=True):\n",
    "    '''\n",
    "    Loads data from disk and returns a Pytorch Dataloader.\n",
    "    '''\n",
    "    data = FileIO.load_json(data_path)\n",
    "    if triplets:\n",
    "        train_examples = [InputExample(texts=[sample['anchor'],\n",
    "                                              sample['positive'],\n",
    "                                              sample['hard_negative']\n",
    "                                     ]) for sample in data]\n",
    "    else:\n",
    "        train_examples = [InputExample(texts=[sample['anchor'],\n",
    "                                              sample['positive']\n",
    "                                             ]) for sample in data]\n",
    "    train_dataloader = DataLoader(train_examples, shuffle=True, batch_size=32)\n",
    "    return train_dataloader"
   ]
  },
  {
   "cell_type": "code",
   "execution_count": 4,
   "id": "5388af5d-6a70-4139-bbaa-be216f808ee0",
   "metadata": {},
   "outputs": [],
   "source": [
    "def train_model(epochs: int, model, dataloader, loss_fx=losses.MultipleNegativesRankingLoss):\n",
    "    train_loss = loss_fx(model=model)\n",
    "    warmup_steps = int(len(dataloader) * epochs * 0.1)\n",
    "    model.fit(train_objectives=[(dataloader, train_loss)],\n",
    "              epochs=epochs,\n",
    "              warmup_steps=warmup_steps)\n",
    "    return model"
   ]
  },
  {
   "cell_type": "code",
   "execution_count": 5,
   "id": "738b8879-aed4-44f4-abaf-a4b919344874",
   "metadata": {},
   "outputs": [],
   "source": [
    "def train_pipe(pretrained_model_name: str, epochs: int, triplets: bool):\n",
    "    pretrained_model = load_pretrained_model(pretrained_model_name)\n",
    "    dataloader = load_data(triplets=triplets)\n",
    "    fine_tuned_model = train_model(epochs, pretrained_model, dataloader)\n",
    "    return fine_tuned_model"
   ]
  },
  {
   "cell_type": "code",
   "execution_count": 110,
   "id": "77f9946c-f958-4aa1-8b49-b3c9c3139b7f",
   "metadata": {},
   "outputs": [
    {
     "data": {
      "application/vnd.jupyter.widget-view+json": {
       "model_id": "dbe89b6a18a94f55869444818404ac44",
       "version_major": 2,
       "version_minor": 0
      },
      "text/plain": [
       "Epoch:   0%|          | 0/2 [00:00<?, ?it/s]"
      ]
     },
     "metadata": {},
     "output_type": "display_data"
    },
    {
     "data": {
      "application/vnd.jupyter.widget-view+json": {
       "model_id": "7980fbf8b4014760b6f6bc807d0eae4f",
       "version_major": 2,
       "version_minor": 0
      },
      "text/plain": [
       "Iteration:   0%|          | 0/16 [00:00<?, ?it/s]"
      ]
     },
     "metadata": {},
     "output_type": "display_data"
    },
    {
     "data": {
      "application/vnd.jupyter.widget-view+json": {
       "model_id": "672c6d7015f44933a4c60cd2058cbe11",
       "version_major": 2,
       "version_minor": 0
      },
      "text/plain": [
       "Iteration:   0%|          | 0/16 [00:00<?, ?it/s]"
      ]
     },
     "metadata": {},
     "output_type": "display_data"
    }
   ],
   "source": [
    "pretrained_model = 'BAAI/bge-small-en-v1.5'\n",
    "ft_model = train_pipe(pretrained_model, 2, False)"
   ]
  },
  {
   "cell_type": "code",
   "execution_count": 111,
   "id": "46602274-45c0-49a9-82c1-4ce900e26779",
   "metadata": {},
   "outputs": [],
   "source": [
    "def save_model(model, model_path: str, model_name: str):\n",
    "    model.save(path=model_path, model_name=model_name)\n",
    "    return model_path"
   ]
  },
  {
   "cell_type": "code",
   "execution_count": 112,
   "id": "73d450ef-9de9-479d-a1da-027e802a9800",
   "metadata": {},
   "outputs": [],
   "source": [
    "model_path = save_model(ft_model, '../../models/bge-small-finetuned-256-couplets-2', 'bge-small-finetuned-256-couplets-2')"
   ]
  },
  {
   "cell_type": "code",
   "execution_count": 113,
   "id": "f043e8c6-0428-40c3-aa8e-67e2279fc278",
   "metadata": {},
   "outputs": [
    {
     "data": {
      "text/plain": [
       "'../../models/bge-small-finetuned-256-couplets-2'"
      ]
     },
     "execution_count": 113,
     "metadata": {},
     "output_type": "execute_result"
    }
   ],
   "source": [
    "model_path"
   ]
  },
  {
   "cell_type": "markdown",
   "id": "c2707da2-956c-4400-b055-cacd674eed00",
   "metadata": {},
   "source": [
    "### Set Constants"
   ]
  },
  {
   "cell_type": "code",
   "execution_count": 114,
   "id": "18d55858-ced2-4096-90b5-bdff32504592",
   "metadata": {},
   "outputs": [],
   "source": [
    "chunk_size = 256"
   ]
  },
  {
   "cell_type": "code",
   "execution_count": 115,
   "id": "cebae82b-5c16-43d8-9314-e8d8f30f9879",
   "metadata": {},
   "outputs": [],
   "source": [
    "def build_index_dataset(model_path: str, \n",
    "                        chunk_size: int,\n",
    "                        finetuned: bool=True,\n",
    "                        outpath: str='../../answer_key/data/'):\n",
    "    '''\n",
    "    Creates dataset using model_path and then indexes on Weaviate.\n",
    "    '''\n",
    "    model_ext = os.path.split(model_path)[1]\n",
    "    model = SentenceTransformer(model_path, device='cuda:0')\n",
    "    encoding = tiktoken.get_encoding(encoding_name='cl100k_base')\n",
    "    splitter = SentenceSplitter(chunk_overlap=0, chunk_size=chunk_size, tokenizer=encoding.encode)\n",
    "    data = FileIO.load_json('../../data/huberman_labs.json')\n",
    "    outpath = os.path.join(outpath, model_ext)\n",
    "    docs = create_dataset(data, model, splitter, file_outpath_prefix=outpath, overwrite_existing=True)\n",
    "    client = get_weaviate_client(model_name_or_path=model_path)\n",
    "    # model_run = 'finetuned' if finetuned else 'baseline' _{model_run}_{chunk_size}\n",
    "    collection_name = f'Huberman_{model_ext}'.replace('-', '_').replace('.','')\n",
    "    indexer = WeaviateIndexer(client)\n",
    "    indexer.create_collection(collection_name, \n",
    "                              properties, \n",
    "                              description='Full index of 193 Huberman Labs episodes as of April 5, 2024')\n",
    "    batch = indexer.batch_index_data(docs, collection_name, properties=properties)\n",
    "    return collection_name, client"
   ]
  },
  {
   "cell_type": "markdown",
   "id": "274457c0-b4a6-49e0-8743-ef02da5264ee",
   "metadata": {},
   "source": [
    "### Create + Index Dataset"
   ]
  },
  {
   "cell_type": "code",
   "execution_count": 116,
   "id": "1e0bfe06-ef60-4708-adbd-c0afbd654ec3",
   "metadata": {},
   "outputs": [
    {
     "data": {
      "text/html": [
       "<pre style=\"white-space:pre;overflow-x:auto;line-height:normal;font-family:Menlo,'DejaVu Sans Mono',consolas,'Courier New',monospace\">Creating dataset using chunk_size: <span style=\"color: #008080; text-decoration-color: #008080; font-weight: bold\">256</span>\n",
       "</pre>\n"
      ],
      "text/plain": [
       "Creating dataset using chunk_size: \u001b[1;36m256\u001b[0m\n"
      ]
     },
     "metadata": {},
     "output_type": "display_data"
    },
    {
     "data": {
      "application/vnd.jupyter.widget-view+json": {
       "model_id": "8133ccd89fab4a70825f67814fcd2f59",
       "version_major": 2,
       "version_minor": 0
      },
      "text/plain": [
       "CHUNKING:   0%|          | 0/193 [00:00<?, ?it/s]"
      ]
     },
     "metadata": {},
     "output_type": "display_data"
    },
    {
     "data": {
      "application/vnd.jupyter.widget-view+json": {
       "model_id": "8849f3ac8d07417eb8ff44f7e59aa1b3",
       "version_major": 2,
       "version_minor": 0
      },
      "text/plain": [
       "VECTORS:   0%|          | 0/193 [00:00<?, ?it/s]"
      ]
     },
     "metadata": {},
     "output_type": "display_data"
    },
    {
     "name": "stderr",
     "output_type": "stream",
     "text": [
      "\u001b[32m2024-05-13 13:36:55.555\u001b[0m | \u001b[1mINFO    \u001b[0m | \u001b[36msrc.preprocessor.preprocessing\u001b[0m:\u001b[36msave_as_parquet\u001b[0m:\u001b[36m42\u001b[0m - \u001b[1mDataFrame saved as parquet file here: ../../answer_key/data/bge-small-finetuned-256-couplets-2-256.parquet\u001b[0m\n"
     ]
    },
    {
     "data": {
      "text/html": [
       "<pre style=\"white-space:pre;overflow-x:auto;line-height:normal;font-family:Menlo,'DejaVu Sans Mono',consolas,'Courier New',monospace\">Total Time to process dataset of chunk_size <span style=\"font-weight: bold\">(</span><span style=\"color: #008080; text-decoration-color: #008080; font-weight: bold\">256</span><span style=\"font-weight: bold\">)</span>: <span style=\"color: #008080; text-decoration-color: #008080; font-weight: bold\">1.2</span> minutes\n",
       "</pre>\n"
      ],
      "text/plain": [
       "Total Time to process dataset of chunk_size \u001b[1m(\u001b[0m\u001b[1;36m256\u001b[0m\u001b[1m)\u001b[0m: \u001b[1;36m1.2\u001b[0m minutes\n"
      ]
     },
     "metadata": {},
     "output_type": "display_data"
    },
    {
     "name": "stdout",
     "output_type": "stream",
     "text": [
      "Collection \"Huberman_bge_small_finetuned_256_couplets_2\" created\n"
     ]
    },
    {
     "name": "stderr",
     "output_type": "stream",
     "text": [
      "100%|██████████████████████████████████████████████████████████████████████████████████████████████████████████████████████| 23905/23905 [00:33<00:00, 703.21it/s]\n"
     ]
    },
    {
     "name": "stdout",
     "output_type": "stream",
     "text": [
      "Processing finished in 1.15 minutes.\n",
      "Batch job completed with zero errors.\n"
     ]
    },
    {
     "name": "stderr",
     "output_type": "stream",
     "text": [
      "/tmp/ipykernel_2545542/3062980037.py:1: ResourceWarning: unclosed <ssl.SSLSocket fd=100, family=AddressFamily.AF_INET, type=SocketKind.SOCK_STREAM, proto=6, laddr=('10.18.0.6', 36316), raddr=('34.149.137.116', 443)>\n",
      "  collection_name, client = build_index_dataset(model_path, chunk_size=256, finetuned=True)\n",
      "ResourceWarning: Enable tracemalloc to get the object allocation traceback\n"
     ]
    }
   ],
   "source": [
    "collection_name, client = build_index_dataset(model_path, chunk_size=256, finetuned=True)"
   ]
  },
  {
   "cell_type": "markdown",
   "id": "7ae9ac06-1d2c-45dc-9c92-ba35e43eee32",
   "metadata": {},
   "source": [
    "### Measure Retrieval performance"
   ]
  },
  {
   "cell_type": "code",
   "execution_count": 117,
   "id": "038f2042-9aa4-49e5-883d-48c13cc50b56",
   "metadata": {},
   "outputs": [
    {
     "data": {
      "text/plain": [
       "'Huberman_bge_small_finetuned_256_couplets_2'"
      ]
     },
     "execution_count": 117,
     "metadata": {},
     "output_type": "execute_result"
    }
   ],
   "source": [
    "golden_path = '../../data/golden_datasets/golden_256.json'\n",
    "goldens = FileIO.load_json(golden_path)\n",
    "collection_name"
   ]
  },
  {
   "cell_type": "code",
   "execution_count": 131,
   "id": "fe982f6d-2b66-421e-a4e7-41e1b0f45f52",
   "metadata": {},
   "outputs": [],
   "source": [
    "model_path = '../../models/bge-small-finetuned-256-2/'\n",
    "client = get_weaviate_client(model_name_or_path=model_path)\n",
    "collection_name = 'Huberman_bge_small_finetuned_256_2'"
   ]
  },
  {
   "cell_type": "code",
   "execution_count": 134,
   "id": "e53f9cd8-e1d0-4e91-a179-ada6f812ea50",
   "metadata": {},
   "outputs": [
    {
     "name": "stderr",
     "output_type": "stream",
     "text": [
      "Queries: 100%|██████████████████████████████████████████████████████████████████████████████████████████████████████████████████| 100/100 [00:10<00:00,  9.13it/s]\n"
     ]
    },
    {
     "data": {
      "text/html": [
       "<pre style=\"white-space:pre;overflow-x:auto;line-height:normal;font-family:Menlo,'DejaVu Sans Mono',consolas,'Courier New',monospace\">Total Processing Time: <span style=\"color: #008080; text-decoration-color: #008080; font-weight: bold\">0.18</span> minutes\n",
       "</pre>\n"
      ],
      "text/plain": [
       "Total Processing Time: \u001b[1;36m0.18\u001b[0m minutes\n"
      ]
     },
     "metadata": {},
     "output_type": "display_data"
    }
   ],
   "source": [
    "test = execute_evaluation(goldens, collection_name, client, reranker=None, retrieve_limit=5, chunk_size=256, search_type=['vector'])"
   ]
  },
  {
   "cell_type": "code",
   "execution_count": 136,
   "id": "66829338-e38f-4e37-9303-885d1f47a829",
   "metadata": {},
   "outputs": [
    {
     "data": {
      "text/plain": [
       "{'n': 5,\n",
       " 'top_k': 5,\n",
       " 'alpha': 0.5,\n",
       " 'Retriever': '../../models/bge-small-finetuned-256-2/',\n",
       " 'Ranker': 'None',\n",
       " 'chunk_size': 256,\n",
       " 'query_props': ['content'],\n",
       " 'total_misses': 14,\n",
       " 'total_questions': 100,\n",
       " 'vector_hit_rate': 0.86,\n",
       " 'vector_mrr': 0.69}"
      ]
     },
     "execution_count": 136,
     "metadata": {},
     "output_type": "execute_result"
    }
   ],
   "source": [
    "test"
   ]
  },
  {
   "cell_type": "code",
   "execution_count": 127,
   "id": "678b5009-cad4-4cd9-9451-9f947343fc18",
   "metadata": {},
   "outputs": [
    {
     "data": {
      "text/plain": [
       "{'n': 3,\n",
       " 'top_k': 5,\n",
       " 'alpha': 0.5,\n",
       " 'Retriever': '../../models/bge-small-finetuned-256-couplets-2',\n",
       " 'Ranker': 'None',\n",
       " 'chunk_size': 256,\n",
       " 'query_props': ['content'],\n",
       " 'total_misses': 22,\n",
       " 'total_questions': 100,\n",
       " 'vector_hit_rate': 0.78,\n",
       " 'vector_mrr': 0.68}"
      ]
     },
     "execution_count": 127,
     "metadata": {},
     "output_type": "execute_result"
    }
   ],
   "source": [
    "bge_small_finetuned_couplets_2"
   ]
  },
  {
   "cell_type": "code",
   "execution_count": 108,
   "id": "1ea64ac6-d6c3-4c4b-a5a2-14872f0826ce",
   "metadata": {
    "collapsed": true,
    "jupyter": {
     "outputs_hidden": true
    }
   },
   "outputs": [
    {
     "data": {
      "text/plain": [
       "{'n': 5,\n",
       " 'top_k': 5,\n",
       " 'alpha': 0.5,\n",
       " 'Retriever': '../../models/bge-small-finetuned-256-1',\n",
       " 'Ranker': 'None',\n",
       " 'chunk_size': 256,\n",
       " 'query_props': ['content'],\n",
       " 'total_misses': 17,\n",
       " 'total_questions': 100,\n",
       " 'vector_hit_rate': 0.83,\n",
       " 'vector_mrr': 0.66}"
      ]
     },
     "execution_count": 108,
     "metadata": {},
     "output_type": "execute_result"
    }
   ],
   "source": [
    "bge_small_finetuned_1"
   ]
  },
  {
   "cell_type": "code",
   "execution_count": 98,
   "id": "f01fb808-49bd-4ff1-9b95-03b098d02225",
   "metadata": {
    "collapsed": true,
    "jupyter": {
     "outputs_hidden": true
    }
   },
   "outputs": [
    {
     "data": {
      "text/plain": [
       "{'n': 5,\n",
       " 'top_k': 5,\n",
       " 'alpha': 0.5,\n",
       " 'Retriever': '../../models/bge-small-finetuned-256-2',\n",
       " 'Ranker': 'None',\n",
       " 'chunk_size': 256,\n",
       " 'query_props': ['content'],\n",
       " 'total_misses': 14,\n",
       " 'total_questions': 100,\n",
       " 'vector_hit_rate': 0.86,\n",
       " 'vector_mrr': 0.69}"
      ]
     },
     "execution_count": 98,
     "metadata": {},
     "output_type": "execute_result"
    }
   ],
   "source": [
    "bge_small_finetuned_2"
   ]
  },
  {
   "cell_type": "code",
   "execution_count": 129,
   "id": "15c0c136-77ae-4ad9-9d87-e1451b5e5904",
   "metadata": {},
   "outputs": [
    {
     "data": {
      "text/plain": [
       "{'n': 5,\n",
       " 'top_k': 5,\n",
       " 'alpha': 0.5,\n",
       " 'Retriever': '../../models/bge-small-finetuned-256-couplets',\n",
       " 'Ranker': 'None',\n",
       " 'chunk_size': 256,\n",
       " 'query_props': ['content'],\n",
       " 'total_misses': 15,\n",
       " 'total_questions': 100,\n",
       " 'vector_hit_rate': 0.85,\n",
       " 'vector_mrr': 0.69}"
      ]
     },
     "execution_count": 129,
     "metadata": {},
     "output_type": "execute_result"
    }
   ],
   "source": [
    "bge_small_couplets"
   ]
  },
  {
   "cell_type": "code",
   "execution_count": 50,
   "id": "ed7e4028-4abb-4295-8864-f703de0f6767",
   "metadata": {
    "collapsed": true,
    "jupyter": {
     "outputs_hidden": true
    }
   },
   "outputs": [
    {
     "data": {
      "text/plain": [
       "{'n': 5,\n",
       " 'top_k': 5,\n",
       " 'alpha': 0.5,\n",
       " 'Retriever': '../../models/bge-small-finetuned-256',\n",
       " 'Ranker': 'None',\n",
       " 'chunk_size': 256,\n",
       " 'query_props': ['content'],\n",
       " 'total_misses': 17,\n",
       " 'total_questions': 100,\n",
       " 'vector_hit_rate': 0.83,\n",
       " 'vector_mrr': 0.66}"
      ]
     },
     "execution_count": 50,
     "metadata": {},
     "output_type": "execute_result"
    }
   ],
   "source": [
    "bge_small_fintuned_4"
   ]
  },
  {
   "cell_type": "code",
   "execution_count": 38,
   "id": "53719f2d-0726-4c6c-b991-f38e512518e0",
   "metadata": {
    "collapsed": true,
    "jupyter": {
     "outputs_hidden": true
    }
   },
   "outputs": [
    {
     "data": {
      "text/plain": [
       "{'n': 5,\n",
       " 'top_k': 5,\n",
       " 'alpha': 0.5,\n",
       " 'Retriever': 'BAAI/bge-small-en-v1.5',\n",
       " 'Ranker': 'None',\n",
       " 'chunk_size': 256,\n",
       " 'query_props': ['content'],\n",
       " 'total_misses': 18,\n",
       " 'total_questions': 100,\n",
       " 'vector_hit_rate': 0.82,\n",
       " 'vector_mrr': 0.62}"
      ]
     },
     "execution_count": 38,
     "metadata": {},
     "output_type": "execute_result"
    }
   ],
   "source": [
    "bge_small_baseline"
   ]
  },
  {
   "cell_type": "code",
   "execution_count": 123,
   "id": "ffcf8c20-b974-403c-ada3-c424675b2138",
   "metadata": {},
   "outputs": [],
   "source": [
    "ft= {'n': 5, 'top_k': 5, 'alpha': 0.5, 'Retriever': '../../models/minilm-finetuned-256/', 'Ranker': 'None', 'chunk_size': 256, 'query_props': ['content'], 'total_misses': 19, 'total_questions': 100, 'vector_hit_rate': 0.81, 'vector_mrr': 0.66}"
   ]
  },
  {
   "cell_type": "code",
   "execution_count": 124,
   "id": "d13e035b-a3c8-4e52-948c-9d5df108abb3",
   "metadata": {},
   "outputs": [],
   "source": [
    "baseline = {'n': 5, 'top_k': 5, 'alpha': 0.5, 'Retriever': 'sentence-transformers/all-MiniLM-L6-v2', 'Ranker': 'None', 'chunk_size': 256, 'query_props': ['content'], 'total_misses': 29, 'total_questions': 100, 'vector_hit_rate': 0.71, 'vector_mrr': 0.59}"
   ]
  },
  {
   "cell_type": "code",
   "execution_count": 125,
   "id": "f99cbfbd-d4ae-4122-bd86-1694ceea968a",
   "metadata": {},
   "outputs": [
    {
     "data": {
      "text/plain": [
       "{'n': 5,\n",
       " 'top_k': 5,\n",
       " 'alpha': 0.5,\n",
       " 'Retriever': 'sentence-transformers/all-MiniLM-L6-v2',\n",
       " 'Ranker': 'None',\n",
       " 'chunk_size': 256,\n",
       " 'query_props': ['content'],\n",
       " 'total_misses': 29,\n",
       " 'total_questions': 100,\n",
       " 'vector_hit_rate': 0.71,\n",
       " 'vector_mrr': 0.59}"
      ]
     },
     "execution_count": 125,
     "metadata": {},
     "output_type": "execute_result"
    }
   ],
   "source": [
    "baseline"
   ]
  },
  {
   "cell_type": "code",
   "execution_count": null,
   "id": "ba064c53-d6e1-449f-be3c-4fac766256ea",
   "metadata": {},
   "outputs": [],
   "source": []
  }
 ],
 "metadata": {
  "kernelspec": {
   "display_name": "vsa",
   "language": "python",
   "name": "vsa"
  },
  "language_info": {
   "codemirror_mode": {
    "name": "ipython",
    "version": 3
   },
   "file_extension": ".py",
   "mimetype": "text/x-python",
   "name": "python",
   "nbconvert_exporter": "python",
   "pygments_lexer": "ipython3",
   "version": "3.10.0"
  }
 },
 "nbformat": 4,
 "nbformat_minor": 5
}
