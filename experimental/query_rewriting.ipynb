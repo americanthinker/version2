{
 "cells": [
  {
   "cell_type": "code",
   "execution_count": 6,
   "id": "b44dbef6-1b12-47bb-9627-ad6e10c991b4",
   "metadata": {},
   "outputs": [
    {
     "name": "stderr",
     "output_type": "stream",
     "text": [
      "2024-04-23 15:48:52.764 WARNING streamlit.runtime.caching.cache_data_api: No runtime found, using MemoryCacheStorageManager\n",
      "2024-04-23 15:48:52.766 WARNING streamlit.runtime.caching.cache_data_api: No runtime found, using MemoryCacheStorageManager\n"
     ]
    },
    {
     "name": "stdout",
     "output_type": "stream",
     "text": [
      "The autoreload extension is already loaded. To reload it, use:\n",
      "  %reload_ext autoreload\n"
     ]
    }
   ],
   "source": [
    "%load_ext autoreload\n",
    "%autoreload 2\n",
    "\n",
    "from warnings import filterwarnings\n",
    "filterwarnings('ignore')\n",
    "\n",
    "#load from local .env file\n",
    "from dotenv import load_dotenv, find_dotenv\n",
    "load_dotenv(find_dotenv(), override=True)\n",
    "\n",
    "import sys\n",
    "sys.path.append('../../')\n",
    "\n",
    "#standard libraries\n",
    "import json\n",
    "import os\n",
    "import time\n",
    "import re\n",
    "\n",
    "#external files\n",
    "from src.preprocessor.preprocessing import FileIO\n",
    "from src.database.weaviate_interface_v4 import WeaviateWCS\n",
    "from src.database.database_utils import get_weaviate_client\n",
    "from src.llm.llm_interface import LLM\n",
    "from src.llm.prompt_templates import huberman_system_message\n",
    "from app_features import generate_prompt_series\n",
    "\n",
    "from concurrent.futures import ThreadPoolExecutor, as_completed\n",
    "from src.reranker import ReRanker"
   ]
  },
  {
   "cell_type": "markdown",
   "id": "9b82f67f-bf64-47d7-b587-13b7b1579242",
   "metadata": {},
   "source": [
    "### Set Constants"
   ]
  },
  {
   "cell_type": "code",
   "execution_count": 82,
   "id": "c4e20088-d7d8-4df6-b83a-7442b5904fad",
   "metadata": {},
   "outputs": [],
   "source": [
    "client = get_weaviate_client()\n",
    "\n",
    "collection_name = 'Huberman_minilm_128'\n",
    "llm = LLM('gpt-3.5-turbo')\n",
    "reranker = ReRanker()\n",
    "initial_query = 'Why would comeone get a homosysteine blood draw'"
   ]
  },
  {
   "cell_type": "code",
   "execution_count": 83,
   "id": "2dfb7315-4862-443b-bbcd-cb8a06f7ac7f",
   "metadata": {},
   "outputs": [
    {
     "data": {
      "text/plain": [
       "['guest',\n",
       " 'title',\n",
       " 'summary',\n",
       " 'content',\n",
       " 'video_id',\n",
       " 'doc_id',\n",
       " 'episode_url',\n",
       " 'thumbnail_url']"
      ]
     },
     "execution_count": 83,
     "metadata": {},
     "output_type": "execute_result"
    }
   ],
   "source": [
    "client.return_properties"
   ]
  },
  {
   "cell_type": "markdown",
   "id": "f64a8a56-e46e-43dd-8874-302c76f9f7b8",
   "metadata": {},
   "source": [
    "#### Prompt Message"
   ]
  },
  {
   "cell_type": "code",
   "execution_count": 84,
   "id": "496d9314-18bb-42df-9042-481859e1b4e5",
   "metadata": {},
   "outputs": [
    {
     "name": "stdout",
     "output_type": "stream",
     "text": [
      "\n",
      "You are an AI language model assistant. Your task is to generate 3\n",
      "different versions of the user question to retrieve relevant documents from a vector \n",
      "database. By generating multiple perspectives on the user question, your goal is to help\n",
      "the user overcome some of the limitations of the distance-based similarity search. \n",
      "Provide these alternative questions separated by newlines.\n",
      "\n",
      "Original question: Why would comeone get a homosysteine blood draw\n",
      "\n"
     ]
    }
   ],
   "source": [
    "system_msg = \"\"\"\n",
    "You are an AI language model assistant. Your task is to generate {n}\n",
    "different versions of the user question to retrieve relevant documents from a vector \n",
    "database. By generating multiple perspectives on the user question, your goal is to help\n",
    "the user overcome some of the limitations of the distance-based similarity search. \n",
    "Provide these alternative questions separated by newlines.\\n\\nOriginal question: {question}\n",
    "\"\"\".format(n=3, question=initial_query)\n",
    "\n",
    "print(system_msg)"
   ]
  },
  {
   "cell_type": "markdown",
   "id": "6ab24885-c156-443c-9f1b-78d9d21e0638",
   "metadata": {},
   "source": [
    "### Stage - 1: Query Rewrite"
   ]
  },
  {
   "cell_type": "code",
   "execution_count": 85,
   "id": "4729d902-4ac8-4fdd-beb3-53da04e8c357",
   "metadata": {},
   "outputs": [],
   "source": [
    "response = llm.chat_completion(system_msg, temperature=1.0, raw_response=False)"
   ]
  },
  {
   "cell_type": "code",
   "execution_count": 86,
   "id": "fe1b2398-bfe9-49e4-8f27-47a0362d2451",
   "metadata": {},
   "outputs": [
    {
     "data": {
      "text/plain": [
       "['1. What are the reasons for someone to undergo a homocysteine blood test?',\n",
       " '2. What medical conditions or risk factors prompt individuals to have their homocysteine levels measured via a blood draw?',\n",
       " '3. In what situations is it advisable for individuals to get their homocysteine levels checked through a blood test?']"
      ]
     },
     "execution_count": 86,
     "metadata": {},
     "output_type": "execute_result"
    }
   ],
   "source": [
    "response.split('\\n')"
   ]
  },
  {
   "cell_type": "code",
   "execution_count": 87,
   "id": "cf054d51-e918-44e2-9348-32bf35f18aab",
   "metadata": {},
   "outputs": [
    {
     "data": {
      "text/plain": [
       "['What are the reasons for someone to undergo a homocysteine blood test?',\n",
       " 'What medical conditions or risk factors prompt individuals to have their homocysteine levels measured via a blood draw?',\n",
       " 'In what situations is it advisable for individuals to get their homocysteine levels checked through a blood test?',\n",
       " 'Why would comeone get a homosysteine blood draw']"
      ]
     },
     "execution_count": 87,
     "metadata": {},
     "output_type": "execute_result"
    }
   ],
   "source": [
    "#parse questions\n",
    "questions = [\n",
    "                re.sub(r\"^[-\\d]+[\\).\\s]\", \"\", question).strip() for question in response.split('\\n')\n",
    "            ]\n",
    "questions.append(initial_query)\n",
    "questions"
   ]
  },
  {
   "cell_type": "markdown",
   "id": "8baa866a-4d73-47ce-976b-30483bf942c0",
   "metadata": {},
   "source": [
    "### Stage - 2: Call N number of Retriever Calls"
   ]
  },
  {
   "cell_type": "code",
   "execution_count": 88,
   "id": "a1e696c1-30db-4ecc-b88a-844277868e87",
   "metadata": {},
   "outputs": [],
   "source": [
    "def multi_query(queries: list[str], \n",
    "                client: WeaviateWCS, \n",
    "                limit: int=3, \n",
    "                threaded: bool=False\n",
    "               ) -> list[dict]:\n",
    "    results = []\n",
    "    if threaded:\n",
    "        with ThreadPoolExecutor(max_workers=len(queries)) as executor:\n",
    "            futures = [executor.submit(client.hybrid_search, q, collection_name, limit=limit) for q in queries]\n",
    "            for future in as_completed(futures):\n",
    "                results.append(future.result())\n",
    "    else:\n",
    "        results = [client.hybrid_search(q, collection_name, limit=limit) for q in queries]\n",
    "    client._client.close()\n",
    "    return results"
   ]
  },
  {
   "cell_type": "code",
   "execution_count": 89,
   "id": "1823fbcb-0a69-47f0-b7c7-785ea170f298",
   "metadata": {},
   "outputs": [
    {
     "name": "stdout",
     "output_type": "stream",
     "text": [
      "CPU times: user 84.4 ms, sys: 640 µs, total: 85.1 ms\n",
      "Wall time: 1.14 s\n"
     ]
    }
   ],
   "source": [
    "%%time\n",
    "single_query_docs = client.hybrid_search(initial_query, collection_name, limit=200)\n",
    "docs = multi_query(questions, client, limit=100, threaded=False)"
   ]
  },
  {
   "cell_type": "markdown",
   "id": "ccd0bc36-8d5b-4c02-a887-9e53380cb2f0",
   "metadata": {},
   "source": [
    "### Stage 3 - Deduplicate Docs"
   ]
  },
  {
   "cell_type": "code",
   "execution_count": 90,
   "id": "d9c08e34-9412-4b8d-87c2-97a16d18c8bf",
   "metadata": {},
   "outputs": [],
   "source": [
    "def dedupe_docs(results: list[list[dict]]) -> list[dict]:\n",
    "    '''\n",
    "    Returns a list of unique documents sorted by \"Score\" value.\n",
    "    '''\n",
    "    results = [r for alist in results for r in alist]\n",
    "    unique_docs = {d['doc_id']:d for d in results}\n",
    "    # sorted_unique = sorted([v for k,v in unique_docs.items()], key=lambda x: x['score'], reverse=True)\n",
    "    unique_docs = [v for k,v in unique_docs.items()]\n",
    "    return unique_docs"
   ]
  },
  {
   "cell_type": "code",
   "execution_count": 91,
   "id": "512a015b-10e0-41a5-9fb5-52e696350d1b",
   "metadata": {},
   "outputs": [
    {
     "name": "stdout",
     "output_type": "stream",
     "text": [
      "Before: 400\n",
      "After: 280\n"
     ]
    }
   ],
   "source": [
    "print(f'Before: {len([r for alist in docs for r in alist])}')\n",
    "unique_docs = dedupe_docs(docs)\n",
    "print(f'After: {len(unique_docs)}')"
   ]
  },
  {
   "cell_type": "code",
   "execution_count": 92,
   "id": "1dee0695-4730-4f1e-91bd-60a773bb7ee4",
   "metadata": {},
   "outputs": [],
   "source": [
    "ranked = reranker.rerank(unique_docs, query=initial_query, top_k=5)\n",
    "single_ranked = reranker.rerank(single_query_docs, initial_query, top_k="
   ]
  },
  {
   "cell_type": "code",
   "execution_count": 103,
   "id": "b5fa62a2-f4dc-431c-b54b-a2ab41b07edb",
   "metadata": {},
   "outputs": [
    {
     "name": "stdout",
     "output_type": "stream",
     "text": [
      "CONTENT: So if somebody is already taking creatine and likes it in response to it, I'll raise my hand, such as myself, would adding betaine help or is it redundant with creatine? Only if their homocysteine is persistently elevated. And homocysteine is kind of like an inflammatory marker that can build up if you're not converting enough of it downstream. How would I know? Just a blood test. Or if you knew your MTHFR polymorphism, which is basically how you add methyl groups to many things in the body. Great.\n",
      "SCORE: 0.03956398367881775\n",
      "\n",
      "\n",
      "CONTENT: These people actually were willing to have blood draws taken while watching pornography, they had increases in testosterone that were very modest of about 10%. Whereas when people participated in sex, they actually did this study where people had blood draws and they had real sex with their partners and they had 70% increases in testosterone. So there are increases in testosterone that are quite significant during the physical act of sex and far less so during observing sex.\n",
      "SCORE: 0.0002630468807183206\n",
      "----------------------------------------------------------------------------------------------------\n",
      "----------------------------------------------------------------------------------------------------\n",
      "CONTENT: Think of it as a allegory to how folate can build up. It's not methylfolate, but it builds up and it can increase levels of homocysteine. Or if you have too much vitamin B12, another water-soluble B vitamin, you can have too much methylmalonic acid or MMA. So depending on what your enzymatic conversion is to the active form of the enzyme, often it's just safer to take the active form of the enzyme. Very interesting.\n",
      "SCORE: 0.0018492864910513163\n",
      "\n",
      "\n",
      "CONTENT: Typically blood draw would be the best way to measure testosterone, but nonetheless, provided the appropriate methods are used, salivary testosterone can be a reasonable measure of testosterone. The different occupations that were looked at were, and here they just looked at men in this particular study, were ministers, salesmen, they didn't say what particular types of salesmen, firemen, professors of all things, physicians and NFL players. And what they discovered was that the testosterone levels were essentially in that order from low to highest. So minister, salesman, fireman, professor, physician, NFL player.\n",
      "SCORE: 0.00022776190598960966\n",
      "----------------------------------------------------------------------------------------------------\n",
      "----------------------------------------------------------------------------------------------------\n",
      "CONTENT: Typically blood draw would be the best way to measure testosterone, but nonetheless, provided the appropriate methods are used, salivary testosterone can be a reasonable measure of testosterone. The different occupations that were looked at were, and here they just looked at men in this particular study, were ministers, salesmen, they didn't say what particular types of salesmen, firemen, professors of all things, physicians and NFL players. And what they discovered was that the testosterone levels were essentially in that order from low to highest. So minister, salesman, fireman, professor, physician, NFL player.\n",
      "SCORE: 0.00022776190598960966\n",
      "\n",
      "\n",
      "CONTENT: Well, I suppose then from taking the perspective of somebody who thinks about fertility in terms of at least congruent with vitality and longevity, given that it's fairly non-invasive, it's an ultrasound or a blood draw for AMH or both, is there any reason why a woman would not want to get her follicle number assessed or her AMH levels assessed? Is there any reason why? Because I was shocked to learn that most women don't do this until they're hitting their late 30s or early 40s and they either haven't conceived or they suddenly decide that they want to conceive.\n",
      "SCORE: 0.00012406092719174922\n",
      "----------------------------------------------------------------------------------------------------\n",
      "----------------------------------------------------------------------------------------------------\n",
      "CONTENT: Well, I suppose then from taking the perspective of somebody who thinks about fertility in terms of at least congruent with vitality and longevity, given that it's fairly non-invasive, it's an ultrasound or a blood draw for AMH or both, is there any reason why a woman would not want to get her follicle number assessed or her AMH levels assessed? Is there any reason why? Because I was shocked to learn that most women don't do this until they're hitting their late 30s or early 40s and they either haven't conceived or they suddenly decide that they want to conceive.\n",
      "SCORE: 0.00012406092719174922\n",
      "\n",
      "\n",
      "CONTENT: In the meantime, this particular study is very interesting and worth highlighting because what they did was to essentially have people do the exact same protocol that we've been describing throughout today's episode, but they also included blood draws from the subjects in those experiments. And they collected that blood from subjects both before and after the writing episodes. In fact, they took the blood at 15 weeks prior to the study and again, six weeks into the study.\n",
      "SCORE: 8.596793486503884e-05\n",
      "----------------------------------------------------------------------------------------------------\n",
      "----------------------------------------------------------------------------------------------------\n",
      "CONTENT: You know, what about Theracumin? What about magnesium with L3 and A at the transporter? What about methylated vitamins that lower homocysteine? What about EPA and DHA? And we've gone through all of the literature on that stuff. And many of these things we still are recommending through a kind of basically like the potential benefits outweigh the potential costs. But the evidence is really unimpressive for most of those other interventions.\n",
      "SCORE: 6.084465712774545e-05\n",
      "\n",
      "\n",
      "CONTENT: So one is a blood draw measure of a hormone AMH. The other is a structural imaging measure of the antral follicles directly. Again, the typical trend is for the number of antral follicles to decline over time. So one might expect, for instance, that a woman in her 20s or 30s might have 20, 30, maybe even 40 antral follicles that are exiting the reserve each month. And again, that's the total across both ovaries. Again, these are just averages. These are going to be distributions.\n",
      "SCORE: 6.315477367024869e-05\n",
      "----------------------------------------------------------------------------------------------------\n",
      "----------------------------------------------------------------------------------------------------\n"
     ]
    }
   ],
   "source": [
    "for r, sr in zip(ranked, single_ranked):\n",
    "    print(f'CONTENT: {r[\"content\"]}')\n",
    "    print(f'SCORE: {r[\"cross_score\"]}')\n",
    "    print('\\n')\n",
    "    print(f'CONTENT: {sr[\"content\"]}')\n",
    "    print(f'SCORE: {sr[\"cross_score\"]}')\n",
    "    print('-'*100)\n",
    "    print('-'*100)"
   ]
  },
  {
   "cell_type": "markdown",
   "id": "2a3bfec6-a6e2-47f4-8587-063f999a1dd5",
   "metadata": {},
   "source": [
    "### Stage 4 - ReRank results"
   ]
  },
  {
   "cell_type": "code",
   "execution_count": 104,
   "id": "315199c1-f99b-4f50-9fa5-8cb796db67ca",
   "metadata": {},
   "outputs": [],
   "source": [
    "def reciprocal_rank_fusion(results: list[list[dict]], k=1, top_k: int=5):\n",
    "    \"\"\" Reciprocal_rank_fusion that takes multiple lists of ranked documents \n",
    "        and an optional parameter k used in the RRF formula \"\"\"\n",
    "    \n",
    "    # Initialize a dictionary to hold fused scores for each unique document\n",
    "    fused_scores = {}\n",
    "\n",
    "    # Iterate through each list of ranked documents\n",
    "    for doc_series in results:\n",
    "        # Iterate through each document in the list, with its rank (position in the list)\n",
    "        for rank, doc in enumerate(doc_series, start=1):\n",
    "            # Convert the document to a string format to use as a key (assumes documents can be serialized to JSON)\n",
    "            key = doc['doc_id']\n",
    "            # If the document is not yet in the fused_scores dictionary, add it with an initial score of 0\n",
    "            if key not in fused_scores:\n",
    "                fused_scores[key] = {'score':0,'doc':doc}\n",
    "            # Retrieve the current score of the document, if any\n",
    "            previous_score = fused_scores[key]['score']\n",
    "            # Update the score of the document using the RRF formula: 1 / (rank + k)\n",
    "            fused_scores[key]['score'] += 1 / (rank + k)\n",
    "    for k,v in fused_scores.items():\n",
    "        fused_scores[k]['doc']['reranked_score'] = fused_scores[k]['score']\n",
    "        \n",
    "    # Sort the documents based on their fused scores in descending order to get the final reranked results\n",
    "    reranked_results = [value['doc'] \n",
    "        for doc_id, value in sorted(fused_scores.items(), key=lambda x: x[1]['doc']['reranked_score'], reverse=True)\n",
    "    ]\n",
    "\n",
    "    # Return the reranked results as a list of tuples, each containing the document and its fused score\n",
    "    return reranked_results[:top_k]"
   ]
  },
  {
   "cell_type": "code",
   "execution_count": 105,
   "id": "5bf50865-a6ff-4a17-9ecf-4acb1553e373",
   "metadata": {},
   "outputs": [],
   "source": [
    "reranked_initial = reranker.rerank(single_query_docs, initial_query, top_k=10)\n",
    "reranked_multi = reciprocal_rank_fusion(docs, top_k=10)"
   ]
  },
  {
   "cell_type": "code",
   "execution_count": 106,
   "id": "c8c21e06-5879-4433-8652-5a104ae30712",
   "metadata": {},
   "outputs": [
    {
     "name": "stdout",
     "output_type": "stream",
     "text": [
      "Initial:\n",
      "Score: 0.0002630468807183206\n",
      "Title: The Science of How to Optimize Testosterone & Estrogen\n",
      "Content: These people actually were willing to have blood draws taken while watching pornography, they had increases in testosterone that were very modest of about 10%. Whereas when people participated in sex, they actually did this study where people had blood draws and they had real sex with their partners and they had 70% increases in testosterone. So there are increases in testosterone that are quite significant during the physical act of sex and far less so during observing sex.\n",
      "\n",
      "Multi:\n",
      "Score: 1.1666666666666665\n",
      "Title: Dr. Kyle Gillett: Tools for Hormone Optimization in Males | Huberman Lab Podcast 102\n",
      "Content: So if somebody is already taking creatine and likes it in response to it, I'll raise my hand, such as myself, would adding betaine help or is it redundant with creatine? Only if their homocysteine is persistently elevated. And homocysteine is kind of like an inflammatory marker that can build up if you're not converting enough of it downstream. How would I know? Just a blood test. Or if you knew your MTHFR polymorphism, which is basically how you add methyl groups to many things in the body. Great.\n",
      "----------------------------------------------------------------------------------------------------\n",
      "----------------------------------------------------------------------------------------------------\n",
      "Initial:\n",
      "Score: 0.00022776190598960966\n",
      "Title: Understanding & Controlling Aggression | Huberman Lab Podcast #71\n",
      "Content: Typically blood draw would be the best way to measure testosterone, but nonetheless, provided the appropriate methods are used, salivary testosterone can be a reasonable measure of testosterone. The different occupations that were looked at were, and here they just looked at men in this particular study, were ministers, salesmen, they didn't say what particular types of salesmen, firemen, professors of all things, physicians and NFL players. And what they discovered was that the testosterone levels were essentially in that order from low to highest. So minister, salesman, fireman, professor, physician, NFL player.\n",
      "\n",
      "Multi:\n",
      "Score: 0.6224747474747475\n",
      "Title: Understanding & Controlling Aggression | Huberman Lab Podcast #71\n",
      "Content: So basically this is a fairly long-term study exploring behavioral outcomes and psychological outcomes in week eight, 16 and 24. They also looked at things that you could only get through a blood draw. So things like hemoglobin, hematocrit, red blood cell count, white blood cell count, et cetera.\n",
      "----------------------------------------------------------------------------------------------------\n",
      "----------------------------------------------------------------------------------------------------\n",
      "Initial:\n",
      "Score: 0.00012406092719174922\n",
      "Title: Dr. Sara Gottfried: How to Optimize Female Hormone Health for Vitality & Longevity | Huberman Lab\n",
      "Content: Well, I suppose then from taking the perspective of somebody who thinks about fertility in terms of at least congruent with vitality and longevity, given that it's fairly non-invasive, it's an ultrasound or a blood draw for AMH or both, is there any reason why a woman would not want to get her follicle number assessed or her AMH levels assessed? Is there any reason why? Because I was shocked to learn that most women don't do this until they're hitting their late 30s or early 40s and they either haven't conceived or they suddenly decide that they want to conceive.\n",
      "\n",
      "Multi:\n",
      "Score: 0.5196078431372549\n",
      "Title: Dr. E.J. Chichilnisky: How the Brain Works, Curing Blindness & How to Navigate a Career Path\n",
      "Content: InsideTracker is a personalized nutrition platform that analyzes data from your blood and DNA to help you better understand your body and help you reach your health goals. Now, I've long been a believer in getting regular blood work done for the simple reason that many of the factors that impact our immediate and long-term health can only be addressed. That is, can only be measured with a quality blood test. Now, one issue with many blood tests out there is that you get information back about lipid levels, hormone levels, metabolic factors, et cetera, but you don't know what to do with that information.\n",
      "----------------------------------------------------------------------------------------------------\n",
      "----------------------------------------------------------------------------------------------------\n",
      "Initial:\n",
      "Score: 8.596793486503884e-05\n",
      "Title: A Science-Supported Journaling Protocol to Improve Mental & Physical Health\n",
      "Content: In the meantime, this particular study is very interesting and worth highlighting because what they did was to essentially have people do the exact same protocol that we've been describing throughout today's episode, but they also included blood draws from the subjects in those experiments. And they collected that blood from subjects both before and after the writing episodes. In fact, they took the blood at 15 weeks prior to the study and again, six weeks into the study.\n",
      "\n",
      "Multi:\n",
      "Score: 0.4035714285714286\n",
      "Title: Dr. Rhonda Patrick: Micronutrients for Health & Longevity | Huberman Lab Podcast #70\n",
      "Content: So basically, they also are more likely to get multiple sclerosis. This has all been done with Mendelian randomization. And so it really does hammer home the importance of measuring your vitamin D levels and being very proactive about that. I mean, you can get it done anywhere. Your doctor will do it. You ask them to do it, you know. So supplementation-wise, typically, if you don't have one of those SNPs, for the most part, taking 1,000 IUs of vitamin D will raise blood levels by around five nanograms per milliliter.\n",
      "----------------------------------------------------------------------------------------------------\n",
      "----------------------------------------------------------------------------------------------------\n",
      "Initial:\n",
      "Score: 6.315477367024869e-05\n",
      "Title: How to Optimize Fertility in Males & Females | Huberman Lab Podcast\n",
      "Content: So one is a blood draw measure of a hormone AMH. The other is a structural imaging measure of the antral follicles directly. Again, the typical trend is for the number of antral follicles to decline over time. So one might expect, for instance, that a woman in her 20s or 30s might have 20, 30, maybe even 40 antral follicles that are exiting the reserve each month. And again, that's the total across both ovaries. Again, these are just averages. These are going to be distributions.\n",
      "\n",
      "Multi:\n",
      "Score: 0.3933691756272401\n",
      "Title: Dr. Eddie Chang: The Science of Learning & Speaking Languages | Huberman Lab Podcast #95\n",
      "Content: I've long been a believer in getting regular blood work done for the simple reason that many of the factors that impact your immediate and long-term health can only be analyzed with a quality blood test. One problem with a lot of DNA tests and blood tests, however, is you get data back about levels of metabolic factors, levels of hormones, et cetera, but you don't know what to do with that information. InsideTracker makes interpreting your data and knowing what to do about it exceedingly easy.\n",
      "----------------------------------------------------------------------------------------------------\n",
      "----------------------------------------------------------------------------------------------------\n",
      "Initial:\n",
      "Score: 5.8649231505114585e-05\n",
      "Title: Dr. Natalie Crawford: Female Hormone Health, Fertility & Vitality\n",
      "Content: I'm glad you disagree. I mean, to me, it just seems nuts. Or ovaries, rather. I mean, the AMH is a blood draw. AMH is a blood test. It's a blood draw. One could opt to do the ultrasound as well, which is, of course, more invasive. But women who are seeing their OBGYN are probably familiar with pelvic exams. Yeah. I mean, it's a vaginal ultrasound, but it's not painful. Not painful. But different than a blood draw, just in full disclosure.\n",
      "\n",
      "Multi:\n",
      "Score: 0.37526427061310785\n",
      "Title: Dr. Peter Attia: Exercise, Nutrition, Hormones for Vitality & Longevity | Huberman Lab Podcast #85\n",
      "Content: Why we wouldn't want to know that in a 20 year old when it can contribute to a lot of the early atherosclerosis we see in people, it's leaving money on the table, in my opinion. The frequency with which you need to test really comes down to the state of interventions. I don't think it makes sense to just do blood tests for the sake of doing blood tests. There has to be kind of a reason. Is something changing? A blood test is for the most part, a static intervention. It's a look at a window in time.\n",
      "----------------------------------------------------------------------------------------------------\n",
      "----------------------------------------------------------------------------------------------------\n",
      "Initial:\n",
      "Score: 5.748147304984741e-05\n",
      "Title: Dr. Karen Parker: The Causes & Treatments for Autism\n",
      "Content: I mean, not that much more invasive and time-consuming than getting a needle into your vein for a blood draw, right? I mean, we think of it as it's technically a little bit more challenging. But there's CSF draws in humans all the time. Right. So in theory, this could map to a human study. And it did, which we'll talk about. Very cool. So we went out and we did this. I have this spectacular statistician who's, we spent a lot of time together. His name's Joe Garner.\n",
      "\n",
      "Multi:\n",
      "Score: 0.3472222222222222\n",
      "Title: How to Control Your Sense of Pain & Pleasure | Huberman Lab Podcast #32\n",
      "Content: I've long been a believer in getting regular blood work done for the simple reason that many, if not all of the factors that impact your immediate and long-term health can only be analyzed from a quality blood test. And nowadays with the advent of DNA tests, you can get further knowledge into the mechanisms that are going on in your body and how those mechanisms are changing as they relate to metabolism and hormones and other aspects that profoundly impact your wellbeing.\n",
      "----------------------------------------------------------------------------------------------------\n",
      "----------------------------------------------------------------------------------------------------\n",
      "Initial:\n",
      "Score: 5.148667696630582e-05\n",
      "Title: Dr. Matthew Walker: The Biology of Sleep & Your Unique Sleep Needs | Huberman Lab Guest Series\n",
      "Content: And that surface is almost acts like a snake charmer that it draws the warm blood from the core and it pushes it to the surface and you radiate the heat out. And as you radiate the heat out, your core body temperature plummets. So why would people be falling asleep sort of, you know, in an afternoon meeting when it starts to get a little warm? Well, in part, it's because the warmth of the room is starting to make the sort of face a little bit more rosy. It's drawing the blood out to the surface.\n",
      "\n",
      "Multi:\n",
      "Score: 0.3333333333333333\n",
      "Title: Dr. Natalie Crawford: Female Hormone Health, Fertility & Vitality\n",
      "Content: I'm glad you disagree. I mean, to me, it just seems nuts. Or ovaries, rather. I mean, the AMH is a blood draw. AMH is a blood test. It's a blood draw. One could opt to do the ultrasound as well, which is, of course, more invasive. But women who are seeing their OBGYN are probably familiar with pelvic exams. Yeah. I mean, it's a vaginal ultrasound, but it's not painful. Not painful. But different than a blood draw, just in full disclosure.\n",
      "----------------------------------------------------------------------------------------------------\n",
      "----------------------------------------------------------------------------------------------------\n",
      "Initial:\n",
      "Score: 4.0692524635232985e-05\n",
      "Title: How Placebo Effects Work to Change Our Biology & Psychology\n",
      "Content: And indeed, that's what they observed. When people received these injections and then their blood was drawn, growth hormone levels went up, cortisol levels went down. Now, the interesting part of the study is a separate day. Okay, so after the drug treatments, they come back and they are injected with saline, which has no specific biological effect. It's simply salt water, okay? They're injected with saline and they experience increases in growth hormone and decreases in cortisol, which on the face of it might seem like, wow, that's incredible.\n",
      "\n",
      "Multi:\n",
      "Score: 0.31036036036036035\n",
      "Title: Dr. Nolan Williams: Psychedelics & Neurostimulation for Brain Rewiring | Huberman Lab Podcast #93\n",
      "Content: I've long been a believer in getting regular blood work done for the simple reason that many of the factors that impact your immediate and long-term health can only be analyzed with a quality blood test. One problem with a lot of DNA tests and blood tests, however, is you get data back about levels of metabolic factors, levels of hormones, et cetera, but you don't know what to do with that information. InsideTracker makes interpreting your data and knowing what to do about it exceedingly easy.\n",
      "----------------------------------------------------------------------------------------------------\n",
      "----------------------------------------------------------------------------------------------------\n",
      "Initial:\n",
      "Score: 4.052916483487934e-05\n",
      "Title: Dr. Karen Parker: The Causes & Treatments for Autism\n",
      "Content: Is there any evidence for excessive urination in kids with autism? Which, if anyone's going, what? Why is he asking that? If you recall, vasopressin is also anti-diuretic hormone. I suppose the other question is, has anyone looked at levels of vasopressin in the urine of autistic kids versus non-autistic kids? Because it's acting peripherally. And you said blood draws don't reveal any differences in circulating blood. We know that urine is filtered blood. Fair enough. But seems at least worth the look-see.\n",
      "\n",
      "Multi:\n",
      "Score: 0.29023150762281197\n",
      "Title: The Science of How to Optimize Testosterone & Estrogen\n",
      "Content: And the question is always how much, and that's why I'm a proponent of getting blood work done, because that's how you know whether or not your androgen levels, as well as things like vitamin D levels, et cetera, are sufficiently high. So the takeaway from these studies, looking at what deficiencies cause in terms of deficits in testosterone and estrogen really point in the direction of make sure you're getting adequate zinc, magnesium, and D3 unless you want these steroid hormone levels to be reduced for whatever reason.\n",
      "----------------------------------------------------------------------------------------------------\n",
      "----------------------------------------------------------------------------------------------------\n"
     ]
    }
   ],
   "source": [
    "for t in list(zip(reranked_initial, reranked_multi)):\n",
    "    print(f\"Initial:\\nScore: {t[0]['cross_score']}\\nTitle: {t[0]['title']}\\nContent: {t[0]['content']}\\n\")\n",
    "    print(f\"Multi:\\nScore: {t[1]['reranked_score']}\\nTitle: {t[1]['title']}\\nContent: {t[1]['content']}\")\n",
    "    print('-'*100)\n",
    "    print('-'*100)"
   ]
  },
  {
   "cell_type": "markdown",
   "id": "5e500aa5-f47d-4f21-b385-0d7d9a1088b5",
   "metadata": {},
   "source": [
    "### Stage 3 - Submit Context to LLM"
   ]
  },
  {
   "cell_type": "code",
   "execution_count": 107,
   "id": "971d1a1a-71e6-4afe-af8e-27e449a3e95d",
   "metadata": {},
   "outputs": [],
   "source": [
    "for d in reranked_multi:\n",
    "    d['summary'] = d['summary'].split('\\n\\n')[0]\n",
    "for d in reranked_initial:\n",
    "    d['summary'] = d['summary'].split('\\n\\n')[0]"
   ]
  },
  {
   "cell_type": "code",
   "execution_count": 108,
   "id": "830afc7d-c9ce-46e8-9f63-4ed6ea3488cd",
   "metadata": {},
   "outputs": [
    {
     "data": {
      "text/plain": [
       "10"
      ]
     },
     "execution_count": 108,
     "metadata": {},
     "output_type": "execute_result"
    }
   ],
   "source": [
    "len(reranked_initial)"
   ]
  },
  {
   "cell_type": "code",
   "execution_count": 109,
   "id": "e57f67aa-9d8f-4bdb-8e4c-8e97a0a6f25b",
   "metadata": {},
   "outputs": [],
   "source": [
    "initial_assist_message = generate_prompt_series(initial_query, reranked_initial[:5], summary_key='summary')"
   ]
  },
  {
   "cell_type": "code",
   "execution_count": 112,
   "id": "cf9995ac-e3b4-4d82-85bd-f60491939b25",
   "metadata": {},
   "outputs": [
    {
     "name": "stdout",
     "output_type": "stream",
     "text": [
      "Someone may choose to get a homocysteine blood draw as a marker for cardiovascular health. Homocysteine is an amino acid that is linked to an increased risk of cardiovascular disease when found at high levels in the blood. Elevated homocysteine levels have been associated with increased risk of heart attacks, strokes, and other cardiovascular issues. Therefore, getting a homocysteine blood draw allows individuals and healthcare providers to assess this specific marker and potentially take preventive or corrective actions to lower homocysteine levels and reduce the risk of cardiovascular complications.\n"
     ]
    }
   ],
   "source": [
    "initial_response = llm.chat_completion(system_message=huberman_system_message, \n",
    "                               user_message=initial_assist_message,\n",
    "                               temperature=1.25,\n",
    "                               raw_response=False)\n",
    "print(initial_response)"
   ]
  },
  {
   "cell_type": "code",
   "execution_count": 113,
   "id": "a925ba4b-6a4f-4290-80c1-368045a3dafe",
   "metadata": {},
   "outputs": [],
   "source": [
    "multi_assist_message = generate_prompt_series(initial_query, reranked_multi[:5], summary_key='summary')"
   ]
  },
  {
   "cell_type": "code",
   "execution_count": 114,
   "id": "ae17ff9c-0048-479b-8adb-6ace57f690e7",
   "metadata": {},
   "outputs": [
    {
     "name": "stdout",
     "output_type": "stream",
     "text": [
      "Someone would get a homocysteine blood draw to monitor their homocysteine levels. Elevated homocysteine levels can be an inflammatory marker signaling potential issues with the conversion of homocysteine downstream in the body. By getting a homocysteine blood draw, individuals can assess if their levels are persistently elevated, which could indicate a need to address potential inflammatory markers through appropriate interventions or supplements like betaine if necessary, based on the guest's discussion in the given transcript.\n"
     ]
    },
    {
     "name": "stderr",
     "output_type": "stream",
     "text": [
      "Bad pipe message: %s [b'/t\\xfb(\\x11s\\x00;\\x19\\xbdC\\x1f-\\xc06\\xe2\\x90\\xcf\\x00\\x00\\xa6\\xc0,\\xc00\\x00\\xa3\\x00\\x9f\\xcc\\xa9\\xcc\\xa8\\xcc\\xaa\\xc0\\xaf\\xc0\\xad\\xc0\\xa3\\xc0\\x9f\\xc0]\\xc0a\\xc0W\\xc0S\\xc0+\\xc0/\\x00\\xa2\\x00\\x9e\\xc0\\xae\\xc0\\xac\\xc0\\xa2\\xc0\\x9e\\xc0\\\\\\xc0`\\xc0V\\xc0R']\n",
      "Bad pipe message: %s [b\"\\xc0(\\x00k\\x00j\\xc0s\\xc0w\\x00\\xc4\\x00\\xc3\\xc0#\\xc0'\\x00g\\x00@\\xc0r\\xc0v\\x00\\xbe\\x00\\xbd\\xc0\\n\\xc0\\x14\\x009\\x008\\x00\\x88\\x00\\x87\\xc0\\t\\xc0\\x13\\x003\\x002\\x00\\x9a\\x00\\x99\\x00E\\x00D\\xc0\\x07\\xc0\\x11\\xc0\\x08\\xc0\\x12\\x00\\x16\\x00\\x13\\x00\\x9d\\xc0\\xa1\\xc0\\x9d\\xc0Q\\x00\\x9c\\xc0\\xa0\\xc0\\x9c\\xc0P\\x00=\\x00\\xc0\\x00<\\x00\\xba\\x005\\x00\\x84\\x00/\\x00\\x96\\x00A\\x00\\x05\\x00\\n\\x00\\xff\\x01\\x00\\x00j\\x00\\x00\\x00\\x0e\\x00\\x0c\\x00\\x00\\t127.0.0.1\\x00\\x0b\\x00\\x04\\x03\\x00\\x01\\x02\\x00\\n\\x00\\x0c\\x00\\n\\x00\\x1d\\x00\\x17\\x00\\x1e\\x00\\x19\\x00\\x18\\x00#\\x00\\x00\\x00\\x16\\x00\\x00\\x00\\x17\\x00\\x00\\x00\\r\\x000\\x00.\\x04\\x03\\x05\\x03\\x06\\x03\\x08\\x07\\x08\\x08\\x08\\t\\x08\\n\\x08\\x0b\\x08\"]\n",
      "Bad pipe message: %s [b'\\x05\\x08\\x06']\n",
      "Bad pipe message: %s [b'\\x05\\x01\\x06', b'', b'\\x03\\x03']\n",
      "Bad pipe message: %s [b'']\n",
      "Bad pipe message: %s [b'', b'\\x02']\n",
      "Bad pipe message: %s [b'\\x05\\x02\\x06']\n",
      "Bad pipe message: %s [b'\\xc2\\xc2Sm=\\xa5:\\xf8\\x10\\x96-l`Dp\\xd8\\xfbk\\x00\\x00\\xa2\\xc0\\x14\\xc0\\n\\x009\\x008\\x007\\x006\\x00\\x88\\x00\\x87\\x00\\x86\\x00\\x85\\xc0\\x19\\x00:']\n",
      "Bad pipe message: %s [b'\\xb4N\\xe9i\"?\\x95\\xca\\x91\"\\x9e\\xb7Z\\x0f\\x14\\x05P\\xae\\x00\\x00>\\xc0\\x14\\xc0\\n\\x009\\x008\\x007\\x006\\xc0\\x0f\\xc0\\x05\\x005\\xc0\\x13\\xc0\\t\\x003\\x002\\x001\\x000\\xc0\\x0e\\xc0\\x04\\x00/\\x00\\x9a\\x00\\x99\\x00\\x98\\x00\\x97\\x00\\x96\\x00\\x07\\xc0\\x11\\xc0\\x07\\xc0\\x0c\\xc0\\x02\\x00\\x05\\x00\\x04\\x00\\xff\\x02\\x01\\x00\\x00C\\x00\\x00\\x00\\x0e\\x00\\x0c\\x00\\x00\\t127.0.0.1\\x00\\x0b\\x00\\x04\\x03\\x00\\x01\\x02\\x00\\n\\x00\\x1c\\x00\\x1a\\x00\\x17\\x00\\x19\\x00\\x1c\\x00\\x1b\\x00\\x18\\x00\\x1a\\x00\\x16\\x00\\x0e\\x00\\r\\x00\\x0b\\x00\\x0c\\x00\\t\\x00\\n\\x00']\n",
      "Bad pipe message: %s [b'\\x9e8\\xd5E']\n",
      "Bad pipe message: %s [b'\\x8dO5\\x13\\x88\\xde\\xf5\\x93[\\xa3\\xb5o\\x12m\\x1b\\x1f\\xbeG\\x00\\x00\\x86\\xc00\\xc0,\\xc0(\\xc0$\\xc0\\x14\\xc0\\n\\x00\\xa5\\x00\\xa3\\x00\\xa1\\x00\\x9f\\x00k\\x00j\\x00i\\x00h\\x009\\x008\\x007\\x006', b\"\\xc0.\\xc0*\\xc0&\\xc0\\x0f\\xc0\\x05\\x00\\x9d\\x00=\\x005\\xc0/\\xc0+\\xc0'\\xc0#\\xc0\\x13\\xc0\\t\\x00\\xa4\\x00\\xa2\\x00\\xa0\\x00\\x9e\\x00g\\x00@\\x00?\\x00>\\x003\\x002\\x001\\x000\\xc01\\xc0-\\xc0)\\xc0%\\xc0\\x0e\\xc0\\x04\\x00\\x9c\\x00<\\x00/\\x00\\x9a\\x00\\x99\\x00\\x98\\x00\\x97\\x00\\x96\\x00\\x07\\xc0\\x11\\xc0\\x07\\xc0\\x0c\\xc0\\x02\\x00\\x05\\x00\\x04\\x00\\xff\\x02\\x01\\x00\\x00g\\x00\\x00\\x00\\x0e\\x00\\x0c\\x00\\x00\\t127.0.0.1\\x00\\x0b\\x00\\x04\\x03\\x00\\x01\\x02\\x00\\n\\x00\\x1c\\x00\\x1a\\x00\\x17\\x00\\x19\\x00\\x1c\\x00\\x1b\\x00\\x18\\x00\\x1a\\x00\\x16\\x00\\x0e\\x00\\r\\x00\\x0b\\x00\\x0c\\x00\\t\\x00\\n\\x00#\\x00\\x00\\x00\\r\\x00 \\x00\\x1e\\x06\\x01\\x06\\x02\\x06\\x03\\x05\\x01\\x05\\x02\\x05\\x03\\x04\\x01\\x04\\x02\\x04\\x03\\x03\\x01\\x03\\x02\"]\n",
      "Bad pipe message: %s [b'\\x02\\x01', b'\\x02']\n",
      "Bad pipe message: %s [b'\\x0f\\x00']\n",
      "Bad pipe message: %s [b'&)\\x87\\xd9\"J\\x07~R\\x0b\\x01O\\xa8\\xd2u\\x9e\\xbb\\xe2\\x00\\x00\\xf4\\xc00\\xc0,\\xc0(\\xc0$\\xc0\\x14\\xc0\\n\\x00\\xa5\\x00\\xa3\\x00\\xa1\\x00\\x9f\\x00k\\x00j\\x00i\\x00h\\x009\\x008\\x007\\x006\\x00\\x88\\x00\\x87\\x00\\x86\\x00\\x85\\xc0\\x19\\x00\\xa7\\x00m\\x00:\\x00\\x89\\xc02\\xc0.\\xc0*\\xc0&\\xc0\\x0f\\xc0\\x05\\x00\\x9d\\x00=\\x005\\x00\\x84\\xc0/\\xc0+\\xc0\\'\\xc0#\\xc0\\x13\\xc0\\t\\x00\\xa4\\x00\\xa2\\x00\\xa0\\x00\\x9e\\x00g\\x00@\\x00?\\x00>\\x003\\x002\\x001\\x000\\x00\\x9a\\x00\\x99\\x00\\x98\\x00\\x97\\x00E\\x00D\\x00C\\x00B\\xc0\\x18\\x00\\xa6\\x00l\\x004\\x00\\x9b\\x00F\\xc01\\xc0-\\xc0)\\xc0%\\xc0\\x0e\\xc0\\x04\\x00\\x9c\\x00<\\x00']\n",
      "Bad pipe message: %s [b'\\x96\\x00A\\x00\\x07\\xc0\\x11\\xc0\\x07\\xc0\\x16\\x00\\x18\\xc0\\x0c\\xc0\\x02\\x00\\x05\\x00\\x04\\xc0\\x12\\xc0\\x08\\x00\\x16\\x00\\x13\\x00\\x10\\x00\\r\\xc0\\x17\\x00\\x1b\\xc0\\r\\xc0\\x03\\x00\\n\\x00\\x15\\x00']\n",
      "Bad pipe message: %s [b'\\x0f\\x00\\x0c\\x00\\x1a\\x00\\t\\x00\\x14\\x00\\x11\\x00\\x19\\x00\\x08\\x00\\x06']\n"
     ]
    }
   ],
   "source": [
    "multi_response = llm.chat_completion(system_message=huberman_system_message, \n",
    "                               user_message=multi_assist_message,\n",
    "                               temperature=1.25,\n",
    "                               raw_response=False)\n",
    "print(multi_response)"
   ]
  },
  {
   "cell_type": "code",
   "execution_count": null,
   "id": "97d49ba9-68ce-4750-84bd-379afef065c3",
   "metadata": {},
   "outputs": [],
   "source": []
  }
 ],
 "metadata": {
  "kernelspec": {
   "display_name": "openai",
   "language": "python",
   "name": "openai"
  },
  "language_info": {
   "codemirror_mode": {
    "name": "ipython",
    "version": 3
   },
   "file_extension": ".py",
   "mimetype": "text/x-python",
   "name": "python",
   "nbconvert_exporter": "python",
   "pygments_lexer": "ipython3",
   "version": "3.10.13"
  }
 },
 "nbformat": 4,
 "nbformat_minor": 5
}
