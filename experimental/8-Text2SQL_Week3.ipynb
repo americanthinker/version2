{
 "cells": [
  {
   "cell_type": "code",
   "execution_count": 1,
   "id": "2e41dcee-d917-4c19-ad96-749646e94d63",
   "metadata": {},
   "outputs": [],
   "source": [
    "import sqlite3\n",
    "import sys\n",
    "sys.path.append('../../')\n",
    "from src.preprocessor.preprocessing import FileIO\n",
    "from src.llm.llm_interface import LLM\n",
    "from src.llm.llm_utils import load_azure_openai\n",
    "\n",
    "from dotenv import load_dotenv, find_dotenv\n",
    "_ = load_dotenv(find_dotenv(), override=True)"
   ]
  },
  {
   "cell_type": "code",
   "execution_count": 2,
   "id": "c4dc4a8c-102a-434a-832d-0996fa5d41ab",
   "metadata": {},
   "outputs": [],
   "source": [
    "llm = load_azure_openai()"
   ]
  },
  {
   "cell_type": "markdown",
   "id": "608afc01-6b0a-4f6b-9402-071201984664",
   "metadata": {},
   "source": [
    "### Import Metadata"
   ]
  },
  {
   "cell_type": "code",
   "execution_count": 10,
   "id": "48151422-545f-4a79-bcfa-e55729b2a82d",
   "metadata": {},
   "outputs": [],
   "source": [
    "data_dir = '../../data/metadata/'\n",
    "data = []\n",
    "names = ['guests', 'titles', 'short_summaries', 'view_counts']\n",
    "for name in names:\n",
    "    data.append(tuple(FileIO.load_json(f'{data_dir}{name}.json')))"
   ]
  },
  {
   "cell_type": "markdown",
   "id": "f6d42979-8065-4a57-bacf-a7be10ff1fe7",
   "metadata": {},
   "source": [
    "### Create DB and Ingest Data"
   ]
  },
  {
   "cell_type": "code",
   "execution_count": 34,
   "id": "9f3a7f50-8fc8-4a5c-88b8-5fa6053746d9",
   "metadata": {},
   "outputs": [],
   "source": [
    "file = 'sqlite3.db'"
   ]
  },
  {
   "cell_type": "code",
   "execution_count": 35,
   "id": "68653e06-fef3-4af6-8bf2-84925a8ace38",
   "metadata": {},
   "outputs": [],
   "source": [
    "conn= sqlite3.connect(file)"
   ]
  },
  {
   "cell_type": "code",
   "execution_count": 36,
   "id": "90d84fdf-5209-4cb3-92bf-d83ceb8631db",
   "metadata": {},
   "outputs": [],
   "source": [
    "cursor = conn.cursor()"
   ]
  },
  {
   "cell_type": "markdown",
   "id": "de2bfb30-17fb-4057-bebd-638e1f327f86",
   "metadata": {},
   "source": [
    "#### Create basic table"
   ]
  },
  {
   "cell_type": "code",
   "execution_count": 37,
   "id": "c2b1c8a3-df75-4754-9827-38e9dbd4df46",
   "metadata": {},
   "outputs": [],
   "source": [
    "table_schema = \"\"\"\n",
    "CREATE TABLE IF NOT EXISTS huberman (\n",
    "    id INTEGER PRIMARY KEY,\n",
    "    guests TEXT NOT NULL,\n",
    "    titles TEXT NOT NULL,\n",
    "    summaries TEXT NOT NULL,\n",
    "    view_counts INTEGER NOT NULL\n",
    ");\n",
    "\"\"\""
   ]
  },
  {
   "cell_type": "code",
   "execution_count": 38,
   "id": "0e6a879a-bffa-4dc3-9369-5d7d4c1918f9",
   "metadata": {},
   "outputs": [],
   "source": [
    "_ = cursor.execute(table_schema)"
   ]
  },
  {
   "cell_type": "code",
   "execution_count": 39,
   "id": "37bc07c4-b30c-406f-8505-2e74918ab99a",
   "metadata": {},
   "outputs": [],
   "source": [
    "_ = cursor.execute('SELECT * from huberman;')"
   ]
  },
  {
   "cell_type": "code",
   "execution_count": 40,
   "id": "a9d74baf-e766-4717-9e58-15134abc776d",
   "metadata": {},
   "outputs": [
    {
     "name": "stdout",
     "output_type": "stream",
     "text": [
      "[]\n"
     ]
    }
   ],
   "source": [
    "#should be an empty list\n",
    "result = cursor.fetchall()\n",
    "print(result)"
   ]
  },
  {
   "cell_type": "markdown",
   "id": "d20863ea-67bf-4071-b983-3757100e03ab",
   "metadata": {},
   "source": [
    "### Insert Data into DB"
   ]
  },
  {
   "cell_type": "code",
   "execution_count": 51,
   "id": "026d1d09-a711-4b77-a65f-432fc4b26e9a",
   "metadata": {},
   "outputs": [],
   "source": [
    "def insert_rows(guests, titles, summaries, counts): \n",
    "    connection = sqlite3.connect(file)\n",
    "    cursor = connection.cursor()\n",
    "    for guest, title, summary, count in zip(guests, titles, summaries, counts):\n",
    "        insert_query =  f\"\"\"\n",
    "                        INSERT INTO huberman (guests, titles, summaries, view_counts)\n",
    "                        VALUES (?,?,?,?);\n",
    "                        \"\"\"\n",
    "        cursor.execute(insert_query, (guest, title, summary, count))\n",
    "    connection.commit()\n",
    "    cursor.close()\n",
    "    connection.close()"
   ]
  },
  {
   "cell_type": "code",
   "execution_count": 42,
   "id": "0f142d3b-61ea-4ead-9f42-0cae84dc8456",
   "metadata": {},
   "outputs": [],
   "source": [
    "def get_cursor():\n",
    "    conn = sqlite3.connect(file)\n",
    "    cursor = conn.cursor()\n",
    "    return cursor, conn"
   ]
  },
  {
   "cell_type": "code",
   "execution_count": 43,
   "id": "6485a48d-6a78-40ed-8ae6-8f4fc996710f",
   "metadata": {},
   "outputs": [],
   "source": [
    "def get_response(command: str):\n",
    "    cursor, conn = get_cursor()\n",
    "    cursor.execute(command)\n",
    "    answer = cursor.fetchall()\n",
    "    cursor.close()\n",
    "    conn.close()\n",
    "    return answer"
   ]
  },
  {
   "cell_type": "code",
   "execution_count": 44,
   "id": "14b85e85-df81-4fff-8c70-7eac8fb9a45c",
   "metadata": {},
   "outputs": [],
   "source": [
    "#from data import above\n",
    "guests, titles, summaries, view_counts = [*data]"
   ]
  },
  {
   "cell_type": "code",
   "execution_count": 53,
   "id": "5175d843-5b61-4c71-9c43-2eb65cbe7e20",
   "metadata": {},
   "outputs": [],
   "source": [
    "insert_rows(guests, titles, summaries, view_counts)"
   ]
  },
  {
   "cell_type": "code",
   "execution_count": 54,
   "id": "d9bf9394-ede9-44b8-919e-0c60cea61e7d",
   "metadata": {},
   "outputs": [],
   "source": [
    "command = 'SELECT * FROM huberman;'"
   ]
  },
  {
   "cell_type": "code",
   "execution_count": 57,
   "id": "1bb174f5-91d9-46a5-a613-a13d9351ab21",
   "metadata": {},
   "outputs": [],
   "source": [
    "result = get_response(command)"
   ]
  },
  {
   "cell_type": "markdown",
   "id": "b7ba5ee2-9dde-4873-830d-a492898a4373",
   "metadata": {},
   "source": [
    "#### Check results are what you expect"
   ]
  },
  {
   "cell_type": "code",
   "execution_count": 58,
   "id": "d3c03ab2-8ae4-4163-a859-6932637e0f4d",
   "metadata": {},
   "outputs": [
    {
     "name": "stdout",
     "output_type": "stream",
     "text": [
      "ID: 1\n",
      "Guest: Dr. Matthew Walker\n",
      "Title: Dr. Matthew Walker: The Biology of Sleep & Your Unique Sleep Needs | Huberman Lab Guest Series\n",
      "Summary: In the Huberman Lab podcast episode featuring Dr. Matthew Walker, the discussion centers on the biology of sleep and how it impacts mental and physical health. They delve into the different stages of sleep, including non-REM and REM sleep, and their unique roles in brain function, such as memory consolidation and emotional regulation. They also explore practical strategies for improving sleep quality, such as managing light exposure, temperature, and timing of activities. Dr. Walker introduces the QQRT (Quality, Quantity, Regularity, and Timing) formula for identifying individual sleep needs. The conversation highlights the detrimental effects of sleep deprivation on hormones, metabolism, and the risk of diseases like diabetes and Alzheimer's. They touch on the evolutionary importance of sleep, suggesting that its universal presence among species indicates a vital function for survival.\n",
      "View Count: 162689\n"
     ]
    }
   ],
   "source": [
    "id, guest, title, summary, view_count = [*result[0]]\n",
    "\n",
    "print(f'ID: {id}')\n",
    "print(f'Guest: {guest}')\n",
    "print(f'Title: {title}')\n",
    "print(f'Summary: {summary}')\n",
    "print(f'View Count: {view_count}')"
   ]
  },
  {
   "cell_type": "code",
   "execution_count": null,
   "id": "067d36e2-ec7b-443d-842e-c4bd966685ea",
   "metadata": {},
   "outputs": [],
   "source": []
  },
  {
   "cell_type": "code",
   "execution_count": 46,
   "id": "f808991c-6813-43d5-8334-2f11499562b2",
   "metadata": {},
   "outputs": [],
   "source": [
    "system_message = \"\"\"\n",
    "Your main function is to generate flawless SQL queries from plain text language, that will enable a user \n",
    "to query a SQLite3 database.  There is one table called huberman in the database with four columns labeled:\n",
    "1. guests\n",
    "2. titles\n",
    "3. summaries\n",
    "4. view_counts\n",
    "\"\"\""
   ]
  },
  {
   "cell_type": "code",
   "execution_count": 65,
   "id": "ebf361c7-80e8-4997-b57f-372d39cb1df3",
   "metadata": {},
   "outputs": [],
   "source": [
    "base_user_message = \"\"\"\n",
    "Convert the plain text query into a SQL query that can answer questions about the data contained in the huberman table. \n",
    "Output your response in JSON format, do not include any newlines, and return only the SQL command nothing else.\n",
    "--------------\n",
    "QUERY: {query}\n",
    "--------------\n",
    "SQL:\n",
    "\"\"\""
   ]
  },
  {
   "cell_type": "code",
   "execution_count": 94,
   "id": "2a6b14dd-d283-4e00-941a-49e08379b63f",
   "metadata": {},
   "outputs": [],
   "source": [
    "response_system_message = \"\"\"\n",
    "You excel at answering questions from a multitude of information sources.  Specifically you know how to translate SQL-generated answers into actionable insights\n",
    "\"\"\""
   ]
  },
  {
   "cell_type": "code",
   "execution_count": 174,
   "id": "abd5517b-d693-4cde-b1ba-11142ece0085",
   "metadata": {},
   "outputs": [],
   "source": [
    "base_response_user_message = \"\"\"\n",
    "You will be given a user question and a response to that query pulled from a SQL database.  \n",
    "Use the information from the response to answer the original query.  Answer the question in an objective tone, and do not make any reference to the SQL database.\n",
    "If the information in the answer is presented in a list, ensure that you return your output in the same order, do not mix up the original ordering. \n",
    "If a specific piece of text information is requested such as a guest name or show title, use the LIKE operator and % wildcard character as appropriate to address the user information need.\n",
    "If the response does not answer the question, then either state that you do not know the answer, or answer the question based on prior knowledge.\n",
    "----------------\n",
    "USER QUERY: {query}\n",
    "----------------\n",
    "ANSWER FROM SQL DATABASE: {sql_answer}\n",
    "----------------\n",
    "OUTPUT: \n",
    "\"\"\""
   ]
  },
  {
   "cell_type": "code",
   "execution_count": 183,
   "id": "26fff1b0-f72c-40b6-b984-9554d8ca90a1",
   "metadata": {},
   "outputs": [],
   "source": [
    "query = 'Return show titles that discuss muscle hypertrophy with over 500K views'\n",
    "user_message = base_user_message.format(query=query)\n",
    "response = llm.chat_completion(system_message, user_message)\n",
    "answer = get_response(response)\n",
    "post_user_message = base_response_user_message.format(query=query, sql_answer=answer)\n",
    "post_response = llm.chat_completion(response_system_message, post_user_message)"
   ]
  },
  {
   "cell_type": "code",
   "execution_count": 184,
   "id": "e1214daf-50cb-4e20-ba39-e7e186050145",
   "metadata": {},
   "outputs": [
    {
     "name": "stdout",
     "output_type": "stream",
     "text": [
      "SELECT titles \n",
      "FROM huberman \n",
      "WHERE summaries LIKE '%muscle hypertrophy%' \n",
      "AND view_counts > 500000;\n",
      "[('Dr. Andy Galpin: How to Assess & Improve All Aspects of Your Fitness | Huberman Lab Guest Series',), ('Science of Muscle Growth, Increasing Strength & Muscular Recovery',)]\n",
      "The show titles that discuss muscle hypertrophy with over 500K views are:\n",
      "1. Dr. Andy Galpin: How to Assess & Improve All Aspects of Your Fitness | Huberman Lab Guest Series\n",
      "2. Science of Muscle Growth, Increasing Strength & Muscular Recovery\n"
     ]
    }
   ],
   "source": [
    "print(response)\n",
    "print(answer)\n",
    "print(post_response)"
   ]
  },
  {
   "cell_type": "code",
   "execution_count": 129,
   "id": "16896232-bd98-4189-97cc-081a31f9d985",
   "metadata": {},
   "outputs": [
    {
     "name": "stdout",
     "output_type": "stream",
     "text": [
      "SELECT titles \n",
      "FROM huberman \n",
      "WHERE summaries LIKE '%mental health%' \n",
      "AND view_counts > 1000000\n"
     ]
    }
   ],
   "source": [
    "print(response)"
   ]
  },
  {
   "cell_type": "code",
   "execution_count": 130,
   "id": "3001b0fa-da81-4a14-806c-97826de25f1f",
   "metadata": {},
   "outputs": [],
   "source": [
    "conn=sqlite3.connect(file)\n",
    "cur = conn.cursor()"
   ]
  },
  {
   "cell_type": "code",
   "execution_count": 158,
   "id": "c21c4e8e-db6b-48b4-90c2-e639c23aecc1",
   "metadata": {},
   "outputs": [
    {
     "data": {
      "text/plain": [
       "<sqlite3.Cursor at 0x7faa0011b5c0>"
      ]
     },
     "execution_count": 158,
     "metadata": {},
     "output_type": "execute_result"
    }
   ],
   "source": [
    "cur.execute(\"SELECT titles FROM huberman WHERE summaries LIKE '%mental health%' AND view_counts > 100000\")"
   ]
  },
  {
   "cell_type": "code",
   "execution_count": 159,
   "id": "488974cd-2329-4b00-88e4-923d5350fb8f",
   "metadata": {},
   "outputs": [
    {
     "data": {
      "text/plain": [
       "[('LIVE EVENT Q&A: Dr. Andrew Huberman Question & Answer in Melbourne, AU',),\n",
       " ('How Placebo Effects Work to Change Our Biology & Psychology',),\n",
       " ('How to Improve Oral Health & Its Critical Role in Brain & Body Health',),\n",
       " ('Dr. Kay Tye: The Biology of Social Interactions and Emotions',),\n",
       " ('Journal Club with Dr. Peter Attia | Effects of Light & Dark on Mental Health & Treatments for Cancer',),\n",
       " ('LIVE EVENT Q&A: Dr. Andrew Huberman Question & Answer in Toronto, ON',),\n",
       " ('AMA #12: Thoughts on Longevity Supplements (Resveratrol, NR, NMN, Etc.) & How to Improve Memory',),\n",
       " ('Mental Health Toolkit: Tools to Bolster Your Mood & Mental Health',),\n",
       " ('Mark Zuckerberg & Dr. Priscilla Chan: Curing All Human Diseases & the Future of Health & Technology',),\n",
       " ('Dr. Paul Conti: Tools and Protocols for Mental Health | Huberman Lab Guest Series',),\n",
       " ('Dr. Paul Conti: How to Improve Your Mental Health | Huberman Lab Guest Series',),\n",
       " ('Dr. Paul Conti: How to Understand & Assess Your Mental Health | Huberman Lab Guest Series',),\n",
       " ('Ketamine: Benefits and Risks for Depression, PTSD & Neuroplasticity | Huberman Lab Podcast',),\n",
       " ('Tim Ferriss: How to Learn Better & Create Your Best Future | Huberman Lab Podcast',),\n",
       " ('AMA #7: Cold Exposure, Maximizing REM Sleep & My Next Scientific Studies',),\n",
       " ('Dr. Robin Carhart-Harris: The Science of Psychedelics for Mental Health | Huberman Lab Podcast',),\n",
       " ('How Psilocybin Can Rewire Our Brain, Its Therapeutic Benefits & Its Risks | Huberman Lab Podcast',),\n",
       " ('Leverage Dopamine to Overcome Procrastination & Optimize Effort | Huberman Lab Podcast',),\n",
       " ('Dr. Satchin Panda: Intermittent Fasting to Improve Health, Cognition & Longevity | Huberman Lab',),\n",
       " ('How to Breathe Correctly for Optimal Health, Mood, Learning & Performance | Huberman Lab Podcast',),\n",
       " ('Dr Lex Fridman: Navigating Conflict, Finding Purpose & Maintaining Drive | Huberman Lab Podcast #100',),\n",
       " ('Dr. Chris Palmer: Diet & Nutrition for Mental Health | Huberman Lab Podcast #99',),\n",
       " ('Dr. David Anderson: The Biology of Aggression, Mating, & Arousal | Huberman Lab Podcast #89',),\n",
       " ('Dr. Kyle Gillett: How to Optimize Your Hormones for Health & Vitality | Huberman Lab Podcast #67',),\n",
       " ('Using Deliberate Cold Exposure for Health and Performance | Huberman Lab Podcast #66',),\n",
       " ('Maximizing Productivity, Physical & Mental Health with Daily Tools | Huberman Lab Podcast #28',)]"
      ]
     },
     "execution_count": 159,
     "metadata": {},
     "output_type": "execute_result"
    }
   ],
   "source": [
    "new_answer = cur.fetchall()\n",
    "new_answer"
   ]
  },
  {
   "cell_type": "code",
   "execution_count": 161,
   "id": "caf0663a-7b9c-4753-9a70-1d89143d8604",
   "metadata": {},
   "outputs": [
    {
     "name": "stdout",
     "output_type": "stream",
     "text": [
      "Based on the information provided, the show titles that discussed mental health and had over 100K views are as follows:\n",
      "\n",
      "1. LIVE EVENT Q&A: Dr. Andrew Huberman Question & Answer in Melbourne, AU\n",
      "2. How Placebo Effects Work to Change Our Biology & Psychology\n",
      "3. How to Improve Oral Health & Its Critical Role in Brain & Body Health\n",
      "4. Dr. Kay Tye: The Biology of Social Interactions and Emotions\n",
      "5. Journal Club with Dr. Peter Attia | Effects of Light & Dark on Mental Health & Treatments for Cancer\n",
      "6. LIVE EVENT Q&A: Dr. Andrew Huberman Question & Answer in Toronto, ON\n",
      "7. AMA #12: Thoughts on Longevity Supplements (Resveratrol, NR, NMN, Etc.) & How to Improve Memory\n",
      "8. Mental Health Toolkit: Tools to Bolster Your Mood & Mental Health\n",
      "9. Mark Zuckerberg & Dr. Priscilla Chan: Curing All Human Diseases & the Future of Health & Technology\n",
      "10. Dr. Paul Conti: Tools and Protocols for Mental Health | Huberman Lab Guest Series\n",
      "11. Dr. Paul Conti: How to Improve Your Mental Health | Huberman Lab Guest Series\n",
      "12. Dr. Paul Conti: How to Understand & Assess Your Mental Health | Huberman Lab Guest Series\n",
      "13. Ketamine: Benefits and Risks for Depression, PTSD & Neuroplasticity | Huberman Lab Podcast\n",
      "14. Tim Ferriss: How to Learn Better & Create Your Best Future | Huberman Lab Podcast\n",
      "15. AMA #7: Cold Exposure, Maximizing REM Sleep & My Next Scientific Studies\n",
      "16. Dr. Robin Carhart-Harris: The Science of Psychedelics for Mental Health | Huberman Lab Podcast\n",
      "17. How Psilocybin Can Rewire Our Brain, Its Therapeutic Benefits & Its Risks | Huberman Lab Podcast\n",
      "18. Leverage Dopamine to Overcome Procrastination & Optimize Effort | Huberman Lab Podcast\n",
      "19. Dr. Satchin Panda: Intermittent Fasting to Improve Health, Cognition & Longevity | Huberman Lab\n",
      "20. How to Breathe Correctly for Optimal Health, Mood, Learning & Performance | Huberman Lab Podcast\n",
      "21. Dr Lex Fridman: Navigating Conflict, Finding Purpose & Maintaining Drive | Huberman Lab Podcast #100\n",
      "22. Dr. Chris Palmer: Diet & Nutrition for Mental Health | Huberman Lab Podcast #99\n",
      "23. Dr. David Anderson: The Biology of Aggression, Mating, & Arousal | Huberman Lab Podcast #89\n",
      "24. Dr. Kyle Gillett: How to Optimize Your Hormones for Health & Vitality | Huberman Lab Podcast #67\n",
      "25. Using Deliberate Cold Exposure for Health and Performance | Huberman Lab Podcast #66\n",
      "26. Maximizing Productivity, Physical & Mental Health with Daily Tools | Huberman Lab Podcast #28\n"
     ]
    }
   ],
   "source": [
    "post_user_message = base_response_user_message.format(query=query, sql_answer=new_answer)\n",
    "post_response = llm.chat_completion(response_system_message, post_user_message, max_tokens=1500)\n",
    "print(post_response)"
   ]
  },
  {
   "cell_type": "code",
   "execution_count": 62,
   "id": "f2e32dc6-de64-4f9e-b145-f7563fb4e978",
   "metadata": {},
   "outputs": [
    {
     "data": {
      "text/plain": [
       "type"
      ]
     },
     "execution_count": 62,
     "metadata": {},
     "output_type": "execute_result"
    }
   ],
   "source": [
    "object.__class__"
   ]
  },
  {
   "cell_type": "code",
   "execution_count": 64,
   "id": "bd0bc172-a327-4314-90b5-c4effbe16e98",
   "metadata": {},
   "outputs": [
    {
     "data": {
      "text/plain": [
       "['__class__',\n",
       " '__delattr__',\n",
       " '__dir__',\n",
       " '__doc__',\n",
       " '__eq__',\n",
       " '__format__',\n",
       " '__ge__',\n",
       " '__getattribute__',\n",
       " '__gt__',\n",
       " '__hash__',\n",
       " '__init__',\n",
       " '__init_subclass__',\n",
       " '__le__',\n",
       " '__lt__',\n",
       " '__ne__',\n",
       " '__new__',\n",
       " '__reduce__',\n",
       " '__reduce_ex__',\n",
       " '__repr__',\n",
       " '__setattr__',\n",
       " '__sizeof__',\n",
       " '__str__',\n",
       " '__subclasshook__']"
      ]
     },
     "execution_count": 64,
     "metadata": {},
     "output_type": "execute_result"
    }
   ],
   "source": [
    "dir(object)"
   ]
  },
  {
   "cell_type": "code",
   "execution_count": 65,
   "id": "2915274f-c5d5-424d-8874-880f7fcd0eef",
   "metadata": {},
   "outputs": [
    {
     "data": {
      "text/plain": [
       "mappingproxy({'__new__': <function object.__new__(*args, **kwargs)>,\n",
       "              '__repr__': <slot wrapper '__repr__' of 'object' objects>,\n",
       "              '__hash__': <slot wrapper '__hash__' of 'object' objects>,\n",
       "              '__str__': <slot wrapper '__str__' of 'object' objects>,\n",
       "              '__getattribute__': <slot wrapper '__getattribute__' of 'object' objects>,\n",
       "              '__setattr__': <slot wrapper '__setattr__' of 'object' objects>,\n",
       "              '__delattr__': <slot wrapper '__delattr__' of 'object' objects>,\n",
       "              '__lt__': <slot wrapper '__lt__' of 'object' objects>,\n",
       "              '__le__': <slot wrapper '__le__' of 'object' objects>,\n",
       "              '__eq__': <slot wrapper '__eq__' of 'object' objects>,\n",
       "              '__ne__': <slot wrapper '__ne__' of 'object' objects>,\n",
       "              '__gt__': <slot wrapper '__gt__' of 'object' objects>,\n",
       "              '__ge__': <slot wrapper '__ge__' of 'object' objects>,\n",
       "              '__init__': <slot wrapper '__init__' of 'object' objects>,\n",
       "              '__reduce_ex__': <method '__reduce_ex__' of 'object' objects>,\n",
       "              '__reduce__': <method '__reduce__' of 'object' objects>,\n",
       "              '__subclasshook__': <method '__subclasshook__' of 'object' objects>,\n",
       "              '__init_subclass__': <method '__init_subclass__' of 'object' objects>,\n",
       "              '__format__': <method '__format__' of 'object' objects>,\n",
       "              '__sizeof__': <method '__sizeof__' of 'object' objects>,\n",
       "              '__dir__': <method '__dir__' of 'object' objects>,\n",
       "              '__class__': <attribute '__class__' of 'object' objects>,\n",
       "              '__doc__': 'The base class of the class hierarchy.\\n\\nWhen called, it accepts no arguments and returns a new featureless\\ninstance that has no instance attributes and cannot be given any.\\n'})"
      ]
     },
     "execution_count": 65,
     "metadata": {},
     "output_type": "execute_result"
    },
    {
     "name": "stderr",
     "output_type": "stream",
     "text": [
      "Bad pipe message: %s [b\"\\x04\\x04G\\x98~\\xa6\\xd3U\\xb7\\x11\\x08\\xa1\\x90W\\xc8\\x04Gd \\xc9c\\x95\\xb1%eE\\xf9\\xde\\x967\\xe3=\\x94i\\x0b\\xb9\\xcfJ\\x90%\\xc7\\xff'\\xb3x\\xb3\\x91\\xfed\\xab\\xcf\\x00\\x08\\x13\\x02\\x13\\x03\\x13\\x01\\x00\\xff\\x01\\x00\\x00\\x8f\\x00\\x00\\x00\\x0e\\x00\\x0c\\x00\\x00\\t127.0.0.1\\x00\\x0b\\x00\\x04\\x03\\x00\\x01\\x02\\x00\\n\\x00\\x0c\\x00\\n\\x00\\x1d\\x00\\x17\\x00\\x1e\\x00\\x19\\x00\\x18\\x00#\\x00\\x00\\x00\\x16\\x00\\x00\\x00\\x17\\x00\\x00\\x00\\r\\x00\\x1e\\x00\\x1c\\x04\\x03\\x05\\x03\\x06\\x03\\x08\\x07\\x08\\x08\\x08\\t\\x08\\n\\x08\\x0b\\x08\\x04\\x08\\x05\\x08\\x06\\x04\\x01\\x05\\x01\\x06\\x01\\x00+\\x00\\x03\\x02\\x03\\x04\\x00-\\x00\\x02\\x01\\x01\\x003\\x00&\\x00$\"]\n",
      "Bad pipe message: %s [b'\\xbb\\x87\\x8c,\\x0f\\xb73z\\x17\\x9e\\x03\\x96\\x7f\\xd4\\x16\\xabVJ \\x1f{\\xe4\\x9fe', b'\\xd2~ %\\xfd\\xd2HI\\xf6\\x94\\xd9\\x10+\\xc2\\x9f\\x13\\xaa2D\\x18\\xdf\\xd6\\xf8\\x16\\x88\\x00\\x08\\x13\\x02\\x13\\x03\\x13\\x01\\x00\\xff\\x01\\x00\\x00\\x8f\\x00\\x00\\x00\\x0e\\x00\\x0c\\x00\\x00\\t127.0.0.1\\x00\\x0b\\x00\\x04\\x03\\x00\\x01\\x02\\x00\\n\\x00\\x0c\\x00\\n\\x00\\x1d\\x00\\x17\\x00\\x1e\\x00\\x19\\x00\\x18\\x00#\\x00\\x00\\x00\\x16\\x00\\x00\\x00\\x17\\x00\\x00\\x00\\r\\x00\\x1e\\x00\\x1c\\x04\\x03\\x05\\x03\\x06\\x03\\x08\\x07\\x08\\x08\\x08\\t\\x08\\n\\x08\\x0b\\x08\\x04\\x08\\x05\\x08\\x06\\x04\\x01\\x05\\x01\\x06\\x01\\x00+\\x00\\x03\\x02\\x03\\x04\\x00-\\x00\\x02\\x01\\x01\\x003\\x00&\\x00$\\x00\\x1d\\x00 |\\x9e_Y\\xd3\\xe8\\xe2\\x89\\x91']\n",
      "Bad pipe message: %s [b'f?\\xa95S\\x9aq\\xb6\\xf8=\\xc6\\xe7T\\x87&\\xfe\\x0e\\xb3\\x00\\x00\\xa6\\xc0,\\xc00\\x00\\xa3\\x00\\x9f\\xcc\\xa9\\xcc\\xa8\\xcc\\xaa\\xc0\\xaf\\xc0\\xad\\xc0\\xa3\\xc0\\x9f\\xc0]\\xc0a\\xc0W\\xc0S\\xc0', b\"/\\x00\\xa2\\x00\\x9e\\xc0\\xae\\xc0\\xac\\xc0\\xa2\\xc0\\x9e\\xc0\\\\\\xc0`\\xc0V\\xc0R\\xc0$\\xc0(\\x00k\\x00j\\xc0s\\xc0w\\x00\\xc4\\x00\\xc3\\xc0#\\xc0'\\x00\"]\n",
      "Bad pipe message: %s [b'@\\xc0r\\xc0v\\x00\\xbe\\x00\\xbd\\xc0\\n\\xc0\\x14\\x009\\x008\\x00\\x88\\x00\\x87\\xc0\\t\\xc0\\x13\\x003\\x002\\x00\\x9a\\x00\\x99\\x00E\\x00D\\xc0\\x07\\xc0\\x11\\xc0\\x08\\xc0\\x12\\x00\\x16\\x00\\x13\\x00\\x9d\\xc0\\xa1\\xc0\\x9d\\xc0Q\\x00\\x9c\\xc0\\xa0\\xc0\\x9c\\xc0P\\x00=\\x00\\xc0\\x00<\\x00\\xba\\x005\\x00\\x84\\x00/\\x00\\x96\\x00A\\x00\\x05\\x00\\n\\x00\\xff\\x01\\x00\\x00j\\x00\\x00\\x00\\x0e\\x00\\x0c\\x00\\x00\\t']\n",
      "Bad pipe message: %s [b'7.0.0.1\\x00\\x0b\\x00\\x04\\x03\\x00\\x01\\x02\\x00\\n\\x00\\x0c\\x00\\n\\x00\\x1d\\x00\\x17\\x00\\x1e\\x00\\x19\\x00\\x18\\x00#\\x00\\x00\\x00\\x16\\x00\\x00\\x00\\x17\\x00\\x00\\x00\\r\\x000\\x00']\n",
      "Bad pipe message: %s [b'\\x03\\x05\\x03\\x06\\x03\\x08\\x07\\x08\\x08\\x08\\t\\x08\\n\\x08\\x0b\\x08\\x04\\x08\\x05\\x08\\x06\\x04\\x01\\x05\\x01\\x06\\x01\\x03\\x03\\x02\\x03\\x03\\x01\\x02\\x01\\x03\\x02\\x02\\x02\\x04\\x02\\x05\\x02\\x06\\x02']\n",
      "Bad pipe message: %s [b'Oc!/\\x9dc\\xe6`m\\xa6y\\xeaJ\\xd3n\\xc4L\\xec\\x00\\x00>\\xc0\\x14\\xc0\\n\\x009\\x008\\x007\\x006\\xc0\\x0f\\xc0\\x05\\x005\\xc0\\x13\\xc0\\t\\x003\\x002\\x001\\x000\\xc0\\x0e\\xc0\\x04\\x00/\\x00\\x9a\\x00\\x99\\x00\\x98\\x00\\x97\\x00\\x96\\x00\\x07\\xc0\\x11\\xc0\\x07\\xc0\\x0c\\xc0\\x02\\x00\\x05\\x00\\x04\\x00\\xff\\x02\\x01\\x00\\x00C\\x00\\x00\\x00\\x0e\\x00\\x0c\\x00\\x00\\t127.0.0.1\\x00\\x0b\\x00\\x04\\x03\\x00\\x01\\x02\\x00\\n\\x00\\x1c\\x00\\x1a\\x00\\x17\\x00\\x19\\x00\\x1c\\x00\\x1b\\x00\\x18\\x00\\x1a\\x00\\x16\\x00\\x0e\\x00', b'\\x0b\\x00\\x0c\\x00\\t\\x00\\n\\x00#\\x00\\x00\\x00']\n",
      "Bad pipe message: %s [b'\\xcf\\t\\xe4(`\\xc8G\\xc0\\x0c\\xa6\\xf5X~\\x92\\xd9\\x9bW\\xbb\\x00\\x00\\xa2\\xc0\\x14\\xc0\\n\\x009\\x008\\x007\\x006\\x00\\x88\\x00\\x87\\x00\\x86\\x00\\x85\\xc0\\x19\\x00:']\n",
      "Bad pipe message: %s [b'8\\xbbxk\\xcf\\xca\\x9f\\x13\\xabj\\x9c\\xcc\\xa1\\xc3\\xb8\"^\\x83\\x00\\x00']\n",
      "Bad pipe message: %s [b'\\x14\\xc0\\n\\x009\\x008\\x007\\x006\\xc0\\x0f\\xc0\\x05\\x005\\xc0\\x13\\xc0\\t\\x003\\x002\\x001\\x000\\xc0\\x0e\\xc0\\x04\\x00/\\x00\\x9a\\x00\\x99\\x00\\x98\\x00\\x97\\x00\\x96\\x00\\x07\\xc0\\x11\\xc0\\x07\\xc0\\x0c\\xc0\\x02\\x00\\x05\\x00\\x04\\x00\\xff']\n",
      "Bad pipe message: %s [b'3c/\\xe05\\x96(+Nu\\xa1I\\t\\xd0\\xf4\\x07z&\\x00\\x00\\xa2\\xc0\\x14\\xc0\\n\\x009\\x008\\x007\\x006\\x00\\x88\\x00\\x87\\x00\\x86\\x00\\x85\\xc0\\x19\\x00:\\x00\\x89\\xc0\\x0f\\xc0\\x05\\x005\\x00\\x84\\xc0\\x13\\xc0\\t\\x003\\x002\\x001\\x000\\x00\\x9a\\x00\\x99\\x00\\x98\\x00\\x97\\x00E\\x00D\\x00C\\x00B\\xc0\\x18\\x004\\x00\\x9b\\x00F\\xc0\\x0e\\xc0\\x04\\x00/\\x00\\x96\\x00A\\x00\\x07\\xc0\\x11\\xc0\\x07\\xc0\\x16\\x00\\x18\\xc0\\x0c\\xc0\\x02\\x00\\x05\\x00\\x04\\xc0\\x12\\xc0\\x08\\x00\\x16\\x00\\x13\\x00\\x10\\x00\\r\\xc0\\x17\\x00\\x1b\\xc0\\r\\xc0\\x03\\x00\\n\\x00\\x15\\x00\\x12\\x00\\x0f\\x00\\x0c\\x00\\x1a\\x00\\t\\x00\\x14']\n",
      "Bad pipe message: %s [b\"\\xbf\\x99\\x86r\\xe0Rps,\\x95\\x1ed\\xbeI\\xd0\\x07\\xa9\\xef\\x00\\x00\\x86\\xc00\\xc0,\\xc0(\\xc0$\\xc0\\x14\\xc0\\n\\x00\\xa5\\x00\\xa3\\x00\\xa1\\x00\\x9f\\x00k\\x00j\\x00i\\x00h\\x009\\x008\\x007\\x006\\xc02\\xc0.\\xc0*\\xc0&\\xc0\\x0f\\xc0\\x05\\x00\\x9d\\x00=\\x005\\xc0/\\xc0+\\xc0'\\xc0#\\xc0\\x13\\xc0\\t\\x00\\xa4\\x00\\xa2\\x00\\xa0\\x00\\x9e\\x00g\\x00@\\x00?\\x00>\\x003\\x002\\x001\\x000\\xc01\\xc0-\\xc0)\\xc0%\\xc0\\x0e\\xc0\\x04\\x00\\x9c\\x00<\\x00/\\x00\\x9a\\x00\\x99\\x00\\x98\\x00\\x97\\x00\\x96\\x00\\x07\\xc0\\x11\\xc0\\x07\\xc0\\x0c\\xc0\\x02\\x00\\x05\\x00\\x04\\x00\\xff\\x02\\x01\\x00\\x00g\\x00\\x00\\x00\\x0e\\x00\\x0c\\x00\\x00\\t127.0.0.1\\x00\\x0b\\x00\\x04\\x03\\x00\\x01\\x02\\x00\\n\\x00\\x1c\\x00\\x1a\\x00\\x17\\x00\\x19\\x00\\x1c\\x00\\x1b\\x00\\x18\\x00\\x1a\\x00\\x16\\x00\\x0e\\x00\\r\\x00\\x0b\\x00\\x0c\\x00\\t\\x00\\n\\x00#\\x00\\x00\\x00\\r\\x00 \\x00\\x1e\\x06\\x01\\x06\\x02\\x06\\x03\\x05\\x01\\x05\\x02\\x05\\x03\\x04\\x01\\x04\\x02\\x04\\x03\", b'\\x03\\x02', b'\\x02\\x01', b'\\x02']\n",
      "Bad pipe message: %s [b'\\x0f\\x00']\n",
      "Bad pipe message: %s [b'\\xe1\\xbbI\\xe1\\xf4C\\x03\\xc3\\xcd\\xf8\\xc5R\"F\\x8b\\x0cyu\\x00\\x00\\xf4\\xc00\\xc0,\\xc0(\\xc0$\\xc0\\x14\\xc0\\n\\x00\\xa5\\x00\\xa3\\x00\\xa1\\x00\\x9f\\x00k\\x00j\\x00i\\x00h\\x009\\x008\\x007\\x006\\x00\\x88\\x00\\x87\\x00\\x86\\x00\\x85\\xc0\\x19']\n"
     ]
    }
   ],
   "source": [
    "vars(object)"
   ]
  },
  {
   "cell_type": "code",
   "execution_count": null,
   "id": "909c4cc1-4e0a-4e0b-934b-6a08d75ca155",
   "metadata": {},
   "outputs": [],
   "source": []
  }
 ],
 "metadata": {
  "kernelspec": {
   "display_name": "vsa",
   "language": "python",
   "name": "vsa"
  },
  "language_info": {
   "codemirror_mode": {
    "name": "ipython",
    "version": 3
   },
   "file_extension": ".py",
   "mimetype": "text/x-python",
   "name": "python",
   "nbconvert_exporter": "python",
   "pygments_lexer": "ipython3",
   "version": "3.10.0"
  }
 },
 "nbformat": 4,
 "nbformat_minor": 5
}
